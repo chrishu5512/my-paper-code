{
 "cells": [
  {
   "cell_type": "code",
   "execution_count": 1,
   "metadata": {},
   "outputs": [],
   "source": [
    "import os\n"
   ]
  },
  {
   "cell_type": "code",
   "execution_count": 2,
   "metadata": {},
   "outputs": [
    {
     "name": "stderr",
     "output_type": "stream",
     "text": [
      "Using TensorFlow backend.\n",
      "C:\\Users\\ASUS\\Anaconda3\\envs\\tensorflow-gpu\\lib\\site-packages\\tensorflow\\python\\framework\\dtypes.py:526: FutureWarning: Passing (type, 1) or '1type' as a synonym of type is deprecated; in a future version of numpy, it will be understood as (type, (1,)) / '(1,)type'.\n",
      "  _np_qint8 = np.dtype([(\"qint8\", np.int8, 1)])\n",
      "C:\\Users\\ASUS\\Anaconda3\\envs\\tensorflow-gpu\\lib\\site-packages\\tensorflow\\python\\framework\\dtypes.py:527: FutureWarning: Passing (type, 1) or '1type' as a synonym of type is deprecated; in a future version of numpy, it will be understood as (type, (1,)) / '(1,)type'.\n",
      "  _np_quint8 = np.dtype([(\"quint8\", np.uint8, 1)])\n",
      "C:\\Users\\ASUS\\Anaconda3\\envs\\tensorflow-gpu\\lib\\site-packages\\tensorflow\\python\\framework\\dtypes.py:528: FutureWarning: Passing (type, 1) or '1type' as a synonym of type is deprecated; in a future version of numpy, it will be understood as (type, (1,)) / '(1,)type'.\n",
      "  _np_qint16 = np.dtype([(\"qint16\", np.int16, 1)])\n",
      "C:\\Users\\ASUS\\Anaconda3\\envs\\tensorflow-gpu\\lib\\site-packages\\tensorflow\\python\\framework\\dtypes.py:529: FutureWarning: Passing (type, 1) or '1type' as a synonym of type is deprecated; in a future version of numpy, it will be understood as (type, (1,)) / '(1,)type'.\n",
      "  _np_quint16 = np.dtype([(\"quint16\", np.uint16, 1)])\n",
      "C:\\Users\\ASUS\\Anaconda3\\envs\\tensorflow-gpu\\lib\\site-packages\\tensorflow\\python\\framework\\dtypes.py:530: FutureWarning: Passing (type, 1) or '1type' as a synonym of type is deprecated; in a future version of numpy, it will be understood as (type, (1,)) / '(1,)type'.\n",
      "  _np_qint32 = np.dtype([(\"qint32\", np.int32, 1)])\n",
      "C:\\Users\\ASUS\\Anaconda3\\envs\\tensorflow-gpu\\lib\\site-packages\\tensorflow\\python\\framework\\dtypes.py:535: FutureWarning: Passing (type, 1) or '1type' as a synonym of type is deprecated; in a future version of numpy, it will be understood as (type, (1,)) / '(1,)type'.\n",
      "  np_resource = np.dtype([(\"resource\", np.ubyte, 1)])\n"
     ]
    }
   ],
   "source": [
    "from __future__ import print_function\n",
    "from keras import backend as K\n",
    "from keras.layers import Layer\n",
    "from keras import activations\n",
    "from keras import utils\n",
    "from keras.datasets import fashion_mnist\n",
    "from keras.datasets import mnist\n",
    "from keras.models import Model\n",
    "from keras.layers import *\n",
    "from keras.preprocessing.image import ImageDataGenerator\n",
    "import cv2"
   ]
  },
  {
   "cell_type": "code",
   "execution_count": 3,
   "metadata": {},
   "outputs": [],
   "source": [
    "from tensorflow.compat.v1 import ConfigProto\n",
    "from tensorflow.compat.v1 import InteractiveSession\n",
    "\n",
    "config = ConfigProto()\n",
    "config.gpu_options.allow_growth = True\n",
    "session = InteractiveSession(config=config)"
   ]
  },
  {
   "cell_type": "code",
   "execution_count": 4,
   "metadata": {},
   "outputs": [],
   "source": [
    "Vld_Splt= 0.0909\n",
    "batch_size = 200\n",
    "num_classes = 10\n",
    "epochs = 30"
   ]
  },
  {
   "cell_type": "code",
   "execution_count": 5,
   "metadata": {},
   "outputs": [],
   "source": [
    "(x_train, y_train), (x_test, y_test) = fashion_mnist.load_data()\n",
    "\n",
    "x_train = x_train.reshape(x_train.shape[0], x_train.shape[1], x_train.shape[2], 1)\\\n",
    "         .astype('float32')\n",
    "x_test = x_test.reshape(x_test.shape[0], x_test.shape[1], x_test.shape[2], 1).\\\n",
    "         astype('float32')\n",
    "x_train /= 255\n",
    "x_test /= 255\n",
    "y_train = utils.to_categorical(y_train, num_classes)\n",
    "y_test = utils.to_categorical(y_test, num_classes)"
   ]
  },
  {
   "cell_type": "code",
   "execution_count": 6,
   "metadata": {},
   "outputs": [
    {
     "name": "stdout",
     "output_type": "stream",
     "text": [
      "(60000, 10) \n",
      " (10000, 10) \n",
      " (60000, 28, 28, 1) \n",
      " (10000, 28, 28, 1)\n"
     ]
    }
   ],
   "source": [
    "print(y_train.shape, '\\n',y_test.shape,'\\n',\n",
    "      x_train.shape,'\\n', x_test.shape)"
   ]
  },
  {
   "cell_type": "code",
   "execution_count": 7,
   "metadata": {},
   "outputs": [],
   "source": [
    "# the squashing function.\n",
    "# we use 0.5 in stead of 1 in hinton's paper.\n",
    "# if 1, the norm of vector will be zoomed out.\n",
    "# if 0.5, the norm will be zoomed in while original norm is less than 0.5\n",
    "# and be zoomed out while original norm is greater than 0.5.\n",
    "def squash(x, axis=-1):\n",
    "    s_squared_norm = K.sum(K.square(x), axis, keepdims=True) + K.epsilon()\n",
    "    scale = K.sqrt(s_squared_norm) / (0.5 + s_squared_norm)\n",
    "    return scale * x\n",
    "\n",
    "\n",
    "# define our own softmax function instead of K.softmax\n",
    "# because K.softmax can not specify axis.\n",
    "def softmax(x, axis=-1):\n",
    "    ex = K.exp(x - K.max(x, axis=axis, keepdims=True))\n",
    "    return ex / K.sum(ex, axis=axis, keepdims=True)\n",
    "\n",
    "\n",
    "# define the margin loss like hinge loss\n",
    "def margin_loss(y_true, y_pred):\n",
    "    lamb, margin = 0.5, 0.1\n",
    "    return K.sum(y_true * K.square(K.relu(1 - margin - y_pred)) + lamb * (\n",
    "        1 - y_true) * K.square(K.relu(y_pred - margin)), axis=-1)\n",
    "\n",
    "\n",
    "class Capsule(Layer):\n",
    "    \"\"\"A Capsule Implement with Pure Keras\n",
    "    There are two vesions of Capsule.\n",
    "    One is like dense layer (for the fixed-shape input),\n",
    "    and the other is like timedistributed dense (for various length input).\n",
    "\n",
    "    The input shape of Capsule must be (batch_size,\n",
    "                                        input_num_capsule,\n",
    "                                        input_dim_capsule\n",
    "                                       )\n",
    "    and the output shape is (batch_size,\n",
    "                             num_capsule,\n",
    "                             dim_capsule\n",
    "                            )\n",
    "\n",
    "    Capsule Implement is from https://github.com/bojone/Capsule/\n",
    "    Capsule Paper: https://arxiv.org/abs/1710.09829\n",
    "    \"\"\"\n",
    "\n",
    "    def __init__(self,\n",
    "                 num_capsule,\n",
    "                 dim_capsule,\n",
    "                 routings=3,\n",
    "                 share_weights=True,\n",
    "                 activation='squash',\n",
    "                 **kwargs):\n",
    "        super(Capsule, self).__init__(**kwargs)\n",
    "        self.num_capsule = num_capsule\n",
    "        self.dim_capsule = dim_capsule\n",
    "        self.routings = routings\n",
    "        self.share_weights = share_weights\n",
    "        if activation == 'squash':\n",
    "            self.activation = squash\n",
    "        else:\n",
    "            self.activation = activations.get(activation)\n",
    "\n",
    "    def build(self, input_shape):\n",
    "        input_dim_capsule = input_shape[-1]\n",
    "        if self.share_weights:\n",
    "            self.kernel = self.add_weight(\n",
    "                name='capsule_kernel',\n",
    "                shape=(1, input_dim_capsule,\n",
    "                       self.num_capsule * self.dim_capsule),\n",
    "                initializer='glorot_uniform',\n",
    "                trainable=True)\n",
    "        else:\n",
    "            input_num_capsule = input_shape[-2]\n",
    "            self.kernel = self.add_weight(\n",
    "                name='capsule_kernel',\n",
    "                shape=(input_num_capsule, input_dim_capsule,\n",
    "                       self.num_capsule * self.dim_capsule),\n",
    "                initializer='glorot_uniform',\n",
    "                trainable=True)\n",
    "\n",
    "    def call(self, inputs):\n",
    "        \"\"\"Following the routing algorithm from Hinton's paper,\n",
    "        but replace b = b + <u,v> with b = <u,v>.\n",
    "\n",
    "        This change can improve the feature representation of Capsule.\n",
    "\n",
    "        However, you can replace\n",
    "            b = K.batch_dot(outputs, hat_inputs, [2, 3])\n",
    "        with\n",
    "            b += K.batch_dot(outputs, hat_inputs, [2, 3])\n",
    "        to realize a standard routing.\n",
    "        \"\"\"\n",
    "\n",
    "        if self.share_weights:\n",
    "            hat_inputs = K.conv1d(inputs, self.kernel)\n",
    "        else:\n",
    "            hat_inputs = K.local_conv1d(inputs, self.kernel, [1], [1])\n",
    "\n",
    "        batch_size = K.shape(inputs)[0]\n",
    "        input_num_capsule = K.shape(inputs)[1]\n",
    "        hat_inputs = K.reshape(hat_inputs,\n",
    "                               (batch_size, input_num_capsule,\n",
    "                                self.num_capsule, self.dim_capsule))\n",
    "        hat_inputs = K.permute_dimensions(hat_inputs, (0, 2, 1, 3))\n",
    "\n",
    "        b = K.zeros_like(hat_inputs[:, :, :, 0])\n",
    "        for i in range(self.routings):\n",
    "            c = softmax(b, 1)\n",
    "            o = self.activation(K.batch_dot(c, hat_inputs, [2, 2]))\n",
    "            if i < self.routings - 1:\n",
    "                b = K.batch_dot(o, hat_inputs, [2, 3])\n",
    "                if K.backend() == 'theano':\n",
    "                    o = K.sum(o, axis=1)\n",
    "\n",
    "        return o\n",
    "\n",
    "    def compute_output_shape(self, input_shape):\n",
    "        return (None, self.num_capsule, self.dim_capsule)"
   ]
  },
  {
   "cell_type": "code",
   "execution_count": 8,
   "metadata": {},
   "outputs": [
    {
     "name": "stdout",
     "output_type": "stream",
     "text": [
      "WARNING:tensorflow:From C:\\Users\\ASUS\\Anaconda3\\envs\\tensorflow-gpu\\lib\\site-packages\\tensorflow\\python\\framework\\op_def_library.py:263: colocate_with (from tensorflow.python.framework.ops) is deprecated and will be removed in a future version.\n",
      "Instructions for updating:\n",
      "Colocations handled automatically by placer.\n",
      "WARNING:tensorflow:From C:\\Users\\ASUS\\Anaconda3\\envs\\tensorflow-gpu\\lib\\site-packages\\keras\\backend\\tensorflow_backend.py:3445: calling dropout (from tensorflow.python.ops.nn_ops) with keep_prob is deprecated and will be removed in a future version.\n",
      "Instructions for updating:\n",
      "Please use `rate` instead of `keep_prob`. Rate should be set to `rate = 1 - keep_prob`.\n",
      "_________________________________________________________________\n",
      "Layer (type)                 Output Shape              Param #   \n",
      "=================================================================\n",
      "input_1 (InputLayer)         (None, 28, 28, 1)         0         \n",
      "_________________________________________________________________\n",
      "conv2d_1 (Conv2D)            (None, 20, 20, 240)       19680     \n",
      "_________________________________________________________________\n",
      "dropout_1 (Dropout)          (None, 20, 20, 240)       0         \n",
      "_________________________________________________________________\n",
      "reshape_1 (Reshape)          (None, 400, 240)          0         \n",
      "_________________________________________________________________\n",
      "capsule_1 (Capsule)          (None, 10, 16)            38400     \n",
      "_________________________________________________________________\n",
      "lambda_1 (Lambda)            (None, 10)                0         \n",
      "=================================================================\n",
      "Total params: 58,080\n",
      "Trainable params: 58,080\n",
      "Non-trainable params: 0\n",
      "_________________________________________________________________\n"
     ]
    }
   ],
   "source": [
    "\"\"\"one-CONV-LAYERS-THICK\"\"\"\n",
    "input_image = Input(shape=(x_train.shape[1], x_train.shape[2], x_train.shape[3]))\n",
    "x_0 = Conv2D(filters= 240, kernel_size= 9, activation='relu', \n",
    "             padding= 'valid')(input_image)\n",
    "x_0= Dropout(0.1)(x_0)\n",
    "\n",
    "\n",
    "\"\"\"now we reshape it as (batch_size, input_num_capsule, input_dim_capsule)\n",
    "then connect a Capsule layer.\n",
    "\n",
    "the output of final model is the lengths of 10 Capsule, whose dim=16.\n",
    "\n",
    "the length of Capsule is the proba,\n",
    "so the problem becomes a 10 two-classification problem.\n",
    "\"\"\"\n",
    "\n",
    "x_0 = Reshape((-1, 240))(x_0)\n",
    "capsule_0 = Capsule(num_classes, 16, 3, True)(x_0)\n",
    "output_0 = Lambda(lambda z: K.sqrt(K.sum(K.square(z), 2)))(capsule_0)\n",
    "model_0 = Model(inputs= input_image, outputs= output_0)\n",
    "\n",
    "# we use a margin loss\n",
    "model_0.compile(loss =margin_loss, optimizer='adam', metrics=['accuracy'])\n",
    "model_0.summary()\n",
    "\n",
    "# we can compare the performance with or without data augmentation\n",
    "data_augmentation = False"
   ]
  },
  {
   "cell_type": "code",
   "execution_count": 9,
   "metadata": {},
   "outputs": [
    {
     "name": "stdout",
     "output_type": "stream",
     "text": [
      "_________________________________________________________________\n",
      "Layer (type)                 Output Shape              Param #   \n",
      "=================================================================\n",
      "input_2 (InputLayer)         (None, 28, 28, 1)         0         \n",
      "_________________________________________________________________\n",
      "conv2d_2 (Conv2D)            (None, 20, 20, 10)        820       \n",
      "_________________________________________________________________\n",
      "dropout_2 (Dropout)          (None, 20, 20, 10)        0         \n",
      "_________________________________________________________________\n",
      "conv2d_3 (Conv2D)            (None, 12, 12, 52)        42172     \n",
      "_________________________________________________________________\n",
      "dropout_3 (Dropout)          (None, 12, 12, 52)        0         \n",
      "_________________________________________________________________\n",
      "reshape_2 (Reshape)          (None, 144, 52)           0         \n",
      "_________________________________________________________________\n",
      "capsule_2 (Capsule)          (None, 10, 16)            8320      \n",
      "_________________________________________________________________\n",
      "lambda_2 (Lambda)            (None, 10)                0         \n",
      "=================================================================\n",
      "Total params: 51,312\n",
      "Trainable params: 51,312\n",
      "Non-trainable params: 0\n",
      "_________________________________________________________________\n"
     ]
    }
   ],
   "source": [
    "\"\"\"two-CONV-LAYERS-THICK\"\"\"\n",
    "input_image = Input(shape=(x_train.shape[1], x_train.shape[2], x_train.shape[3]))\n",
    "x_1 = Conv2D(filters= 10, kernel_size= 9, activation='relu', \n",
    "             padding= 'valid')(input_image)\n",
    "x_1= Dropout(0.1)(x_1)\n",
    "x_1 = Conv2D(filters= 52, kernel_size= 9, activation='relu',\n",
    "             strides= 1)(x_1)\n",
    "x_1 = Dropout(0.1)(x_1)\n",
    "\n",
    "\n",
    "\"\"\"now we reshape it as (batch_size, input_num_capsule, input_dim_capsule)\n",
    "then connect a Capsule layer.\n",
    "\n",
    "the output of final model is the lengths of 10 Capsule, whose dim=16.\n",
    "\n",
    "the length of Capsule is the proba,\n",
    "so the problem becomes a 10 two-classification problem.\n",
    "\"\"\"\n",
    "\n",
    "x_1 = Reshape((-1, 52))(x_1)\n",
    "capsule_1 = Capsule(num_classes, 16, 3, True)(x_1)\n",
    "output_1 = Lambda(lambda z: K.sqrt(K.sum(K.square(z), 2)))(capsule_1)\n",
    "model_1= Model(inputs= input_image, outputs= output_1)\n",
    "\n",
    "# we use a margin loss\n",
    "model_1.compile(loss =margin_loss, optimizer='adam', metrics=['accuracy'])\n",
    "model_1.summary()\n",
    "\n",
    "# we can compare the performance with or without data augmentation\n",
    "data_augmentation = False"
   ]
  },
  {
   "cell_type": "code",
   "execution_count": 10,
   "metadata": {},
   "outputs": [
    {
     "name": "stdout",
     "output_type": "stream",
     "text": [
      "_________________________________________________________________\n",
      "Layer (type)                 Output Shape              Param #   \n",
      "=================================================================\n",
      "input_3 (InputLayer)         (None, 28, 28, 1)         0         \n",
      "_________________________________________________________________\n",
      "conv2d_4 (Conv2D)            (None, 20, 20, 10)        820       \n",
      "_________________________________________________________________\n",
      "dropout_4 (Dropout)          (None, 20, 20, 10)        0         \n",
      "_________________________________________________________________\n",
      "conv2d_5 (Conv2D)            (None, 12, 12, 20)        16220     \n",
      "_________________________________________________________________\n",
      "dropout_5 (Dropout)          (None, 12, 12, 20)        0         \n",
      "_________________________________________________________________\n",
      "conv2d_6 (Conv2D)            (None, 4, 4, 22)          35662     \n",
      "_________________________________________________________________\n",
      "dropout_6 (Dropout)          (None, 4, 4, 22)          0         \n",
      "_________________________________________________________________\n",
      "reshape_3 (Reshape)          (None, 16, 22)            0         \n",
      "_________________________________________________________________\n",
      "capsule_3 (Capsule)          (None, 10, 16)            3520      \n",
      "_________________________________________________________________\n",
      "lambda_3 (Lambda)            (None, 10)                0         \n",
      "=================================================================\n",
      "Total params: 56,222\n",
      "Trainable params: 56,222\n",
      "Non-trainable params: 0\n",
      "_________________________________________________________________\n"
     ]
    }
   ],
   "source": [
    "\"\"\"three-CONV-LAYERS-THICK\"\"\"\n",
    "input_image = Input(shape=(x_train.shape[1], x_train.shape[2], x_train.shape[3]))\n",
    "x_2 = Conv2D(filters=10, kernel_size= 9, activation='relu', \n",
    "             padding= 'valid')(input_image)\n",
    "x_2= Dropout(0.1)(x_2)\n",
    "x_2 = Conv2D(filters= 20 , kernel_size= 9, activation='relu',\n",
    "             strides= 1)(x_2)\n",
    "x_2 = Dropout(0.1)(x_2)\n",
    "x_2 = Conv2D(filters= 22, kernel_size= 9, activation='relu',\n",
    "             strides= 1)(x_2)\n",
    "x_2 = Dropout(0.1)(x_2)\n",
    "\n",
    "\n",
    "\"\"\"now we reshape it as (batch_size, input_num_capsule, input_dim_capsule)\n",
    "then connect a Capsule layer.\n",
    "\n",
    "the output of final model is the lengths of 10 Capsule, whose dim=16.\n",
    "\n",
    "the length of Capsule is the proba,\n",
    "so the problem becomes a 10 two-classification problem.\n",
    "\"\"\"\n",
    "\n",
    "x_2 = Reshape((-1, 22))(x_2)\n",
    "capsule_2 = Capsule(num_classes, 16, 3, True)(x_2)\n",
    "output_2 = Lambda(lambda z: K.sqrt(K.sum(K.square(z), 2)))(capsule_2)\n",
    "model_2= Model(inputs= input_image, outputs= output_2)\n",
    "\n",
    "# we use a margin loss\n",
    "model_2.compile(loss =margin_loss, optimizer='adam', metrics=['accuracy'])\n",
    "model_2.summary()\n",
    "\n",
    "# we can compare the performance with or without data augmentation\n",
    "data_augmentation = False"
   ]
  },
  {
   "cell_type": "code",
   "execution_count": 11,
   "metadata": {},
   "outputs": [
    {
     "name": "stdout",
     "output_type": "stream",
     "text": [
      "_________________________________________________________________\n",
      "Layer (type)                 Output Shape              Param #   \n",
      "=================================================================\n",
      "input_4 (InputLayer)         (None, 28, 28, 1)         0         \n",
      "_________________________________________________________________\n",
      "conv2d_7 (Conv2D)            (None, 28, 28, 10)        820       \n",
      "_________________________________________________________________\n",
      "dropout_7 (Dropout)          (None, 28, 28, 10)        0         \n",
      "_________________________________________________________________\n",
      "conv2d_8 (Conv2D)            (None, 20, 20, 15)        12165     \n",
      "_________________________________________________________________\n",
      "dropout_8 (Dropout)          (None, 20, 20, 15)        0         \n",
      "_________________________________________________________________\n",
      "conv2d_9 (Conv2D)            (None, 12, 12, 15)        18240     \n",
      "_________________________________________________________________\n",
      "dropout_9 (Dropout)          (None, 12, 12, 15)        0         \n",
      "_________________________________________________________________\n",
      "conv2d_10 (Conv2D)           (None, 4, 4, 21)          25536     \n",
      "_________________________________________________________________\n",
      "dropout_10 (Dropout)         (None, 4, 4, 21)          0         \n",
      "_________________________________________________________________\n",
      "reshape_4 (Reshape)          (None, 16, 21)            0         \n",
      "_________________________________________________________________\n",
      "capsule_4 (Capsule)          (None, 10, 16)            3360      \n",
      "_________________________________________________________________\n",
      "lambda_4 (Lambda)            (None, 10)                0         \n",
      "=================================================================\n",
      "Total params: 60,121\n",
      "Trainable params: 60,121\n",
      "Non-trainable params: 0\n",
      "_________________________________________________________________\n"
     ]
    }
   ],
   "source": [
    "\"\"\"four-CONV-LAYERS-THICK\"\"\"\n",
    "input_image = Input(shape=(x_train.shape[1], x_train.shape[2], x_train.shape[3]))\n",
    "x_3 = Conv2D(filters= 10, kernel_size= 9, activation='relu', \n",
    "              padding= 'same')(input_image)\n",
    "x_3= Dropout(0.1)(x_3)\n",
    "x_3 = Conv2D(filters= 15 ,kernel_size= 9, activation='relu',\n",
    "             strides= 1)(x_3)\n",
    "x_3 = Dropout(0.1)(x_3)\n",
    "x_3 = Conv2D(filters= 15, kernel_size= 9, activation='relu',\n",
    "             strides= 1)(x_3)\n",
    "x_3= Dropout(0.1)(x_3)\n",
    "x_3 = Conv2D(filters= 21,kernel_size= 9, activation='relu',\n",
    "             strides= 1)(x_3)\n",
    "x_3= Dropout(0.1)(x_3)\n",
    "\n",
    "\n",
    "\"\"\"now we reshape it as (batch_size, input_num_capsule, input_dim_capsule)\n",
    "then connect a Capsule layer.\n",
    "\n",
    "the output of final model is the lengths of 10 Capsule, whose dim=16.\n",
    "\n",
    "the length of Capsule is the proba,\n",
    "so the problem becomes a 10 two-classification problem.\n",
    "\"\"\"\n",
    "\n",
    "x_3 = Reshape((-1, 21))(x_3)\n",
    "capsule_3 = Capsule(num_classes, 16, 3, True)(x_3)\n",
    "output_3 = Lambda(lambda z: K.sqrt(K.sum(K.square(z), 2)))(capsule_3)\n",
    "model_3= Model(inputs= input_image, outputs= output_3)\n",
    "\n",
    "# we use a margin loss\n",
    "model_3.compile(loss =margin_loss, optimizer='adam', metrics=['accuracy'])\n",
    "model_3.summary()\n",
    "\n",
    "# we can compare the performance with or without data augmentation\n",
    "data_augmentation = False"
   ]
  },
  {
   "cell_type": "code",
   "execution_count": 12,
   "metadata": {},
   "outputs": [
    {
     "name": "stdout",
     "output_type": "stream",
     "text": [
      "_________________________________________________________________\n",
      "Layer (type)                 Output Shape              Param #   \n",
      "=================================================================\n",
      "conv2d_11 (Conv2D)           (None, 20, 20, 5)         410       \n",
      "_________________________________________________________________\n",
      "max_pooling2d_1 (MaxPooling2 (None, 10, 10, 5)         0         \n",
      "_________________________________________________________________\n",
      "conv2d_12 (Conv2D)           (None, 10, 10, 20)        8120      \n",
      "_________________________________________________________________\n",
      "dropout_11 (Dropout)         (None, 10, 10, 20)        0         \n",
      "_________________________________________________________________\n",
      "max_pooling2d_2 (MaxPooling2 (None, 5, 5, 20)          0         \n",
      "_________________________________________________________________\n",
      "flatten_1 (Flatten)          (None, 500)               0         \n",
      "_________________________________________________________________\n",
      "dropout_12 (Dropout)         (None, 500)               0         \n",
      "_________________________________________________________________\n",
      "dense_1 (Dense)              (None, 256)               128256    \n",
      "_________________________________________________________________\n",
      "dense_2 (Dense)              (None, 10)                2570      \n",
      "=================================================================\n",
      "Total params: 139,356\n",
      "Trainable params: 139,356\n",
      "Non-trainable params: 0\n",
      "_________________________________________________________________\n",
      "None\n"
     ]
    }
   ],
   "source": [
    "\"\"\"CNN-3-CONV-LAYERS\"\"\"\n",
    "from keras.models import Sequential\n",
    "from keras.layers import Dense, Dropout, Activation, Flatten, Conv2D, MaxPooling2D, \\\n",
    "                         ZeroPadding2D\n",
    "\n",
    "model_4= Sequential()\n",
    "model_4.add(Conv2D(filters= 5, kernel_size= (9, 9), padding= 'valid', \n",
    "                   input_shape=(x_train.shape[1], x_train.shape[2], x_train.shape[3]), \n",
    "                   activation='relu'))\n",
    "model_4.add(MaxPooling2D(pool_size=(2,2)))\n",
    "model_4.add(Conv2D(filters= 20, kernel_size= (9, 9), \n",
    "                    padding='same', activation='relu'))\n",
    "model_4.add(Dropout(0.4))\n",
    "model_4.add(MaxPooling2D(pool_size=(2,2)))\n",
    "\n",
    "model_4.add(Flatten())\n",
    "model_4.add(Dropout(0.6))\n",
    "model_4.add(Dense(256, activation='relu'))\n",
    "model_4.add(Dense(num_classes, activation='softmax'))\n",
    "print(model_4.summary())"
   ]
  },
  {
   "cell_type": "code",
   "execution_count": 13,
   "metadata": {},
   "outputs": [
    {
     "name": "stdout",
     "output_type": "stream",
     "text": [
      "Not using data augmentation.\n",
      "WARNING:tensorflow:From C:\\Users\\ASUS\\Anaconda3\\envs\\tensorflow-gpu\\lib\\site-packages\\tensorflow\\python\\ops\\math_ops.py:3066: to_int32 (from tensorflow.python.ops.math_ops) is deprecated and will be removed in a future version.\n",
      "Instructions for updating:\n",
      "Use tf.cast instead.\n",
      "WARNING:tensorflow:From C:\\Users\\ASUS\\Anaconda3\\envs\\tensorflow-gpu\\lib\\site-packages\\tensorflow\\python\\ops\\math_grad.py:102: div (from tensorflow.python.ops.math_ops) is deprecated and will be removed in a future version.\n",
      "Instructions for updating:\n",
      "Deprecated in favor of operator or tf.math.divide.\n",
      "Train on 54546 samples, validate on 5454 samples\n",
      "Epoch 1/30\n",
      "54546/54546 [==============================] - 14s 248us/step - loss: 0.2903 - acc: 0.6801 - val_loss: 0.1745 - val_acc: 0.7743\n",
      "Epoch 2/30\n",
      "54546/54546 [==============================] - 11s 205us/step - loss: 0.1652 - acc: 0.7855 - val_loss: 0.1520 - val_acc: 0.8031\n",
      "Epoch 3/30\n",
      "54546/54546 [==============================] - 11s 201us/step - loss: 0.1502 - acc: 0.8072 - val_loss: 0.1430 - val_acc: 0.8163\n",
      "Epoch 4/30\n",
      "54546/54546 [==============================] - 11s 205us/step - loss: 0.1427 - acc: 0.8166 - val_loss: 0.1359 - val_acc: 0.8225\n",
      "Epoch 5/30\n",
      "54546/54546 [==============================] - 11s 205us/step - loss: 0.1384 - acc: 0.8239 - val_loss: 0.1331 - val_acc: 0.8311\n",
      "Epoch 6/30\n",
      "54546/54546 [==============================] - 11s 204us/step - loss: 0.1331 - acc: 0.8295 - val_loss: 0.1348 - val_acc: 0.8286\n",
      "Epoch 7/30\n",
      "54546/54546 [==============================] - 11s 207us/step - loss: 0.1299 - acc: 0.8338 - val_loss: 0.1260 - val_acc: 0.8293\n",
      "Epoch 8/30\n",
      "54546/54546 [==============================] - 11s 205us/step - loss: 0.1271 - acc: 0.8371 - val_loss: 0.1223 - val_acc: 0.8377\n",
      "Epoch 9/30\n",
      "54546/54546 [==============================] - 11s 203us/step - loss: 0.1242 - acc: 0.8414 - val_loss: 0.1226 - val_acc: 0.8410\n",
      "Epoch 10/30\n",
      "54546/54546 [==============================] - 11s 203us/step - loss: 0.1219 - acc: 0.8445 - val_loss: 0.1208 - val_acc: 0.8427\n",
      "Epoch 11/30\n",
      "54546/54546 [==============================] - 12s 223us/step - loss: 0.1199 - acc: 0.8463 - val_loss: 0.1207 - val_acc: 0.8460\n",
      "Epoch 12/30\n",
      "54546/54546 [==============================] - 11s 207us/step - loss: 0.1183 - acc: 0.8486 - val_loss: 0.1201 - val_acc: 0.8480\n",
      "Epoch 13/30\n",
      "54546/54546 [==============================] - 11s 205us/step - loss: 0.1178 - acc: 0.8503 - val_loss: 0.1219 - val_acc: 0.8416\n",
      "Epoch 14/30\n",
      "54546/54546 [==============================] - 11s 204us/step - loss: 0.1163 - acc: 0.8525 - val_loss: 0.1191 - val_acc: 0.8456\n",
      "Epoch 15/30\n",
      "54546/54546 [==============================] - 11s 202us/step - loss: 0.1136 - acc: 0.8551 - val_loss: 0.1124 - val_acc: 0.8542\n",
      "Epoch 16/30\n",
      "54546/54546 [==============================] - 11s 202us/step - loss: 0.1130 - acc: 0.8560 - val_loss: 0.1125 - val_acc: 0.8553\n",
      "Epoch 17/30\n",
      "54546/54546 [==============================] - 11s 206us/step - loss: 0.1125 - acc: 0.8567 - val_loss: 0.1138 - val_acc: 0.8537\n",
      "Epoch 18/30\n",
      "54546/54546 [==============================] - 11s 204us/step - loss: 0.1115 - acc: 0.8586 - val_loss: 0.1114 - val_acc: 0.8544\n",
      "Epoch 19/30\n",
      "54546/54546 [==============================] - 11s 205us/step - loss: 0.1090 - acc: 0.8620 - val_loss: 0.1101 - val_acc: 0.8603\n",
      "Epoch 20/30\n",
      "54546/54546 [==============================] - 11s 204us/step - loss: 0.1091 - acc: 0.8628 - val_loss: 0.1096 - val_acc: 0.8605\n",
      "Epoch 21/30\n",
      "54546/54546 [==============================] - 11s 209us/step - loss: 0.1087 - acc: 0.8619 - val_loss: 0.1127 - val_acc: 0.8634\n",
      "Epoch 22/30\n",
      "54546/54546 [==============================] - 11s 205us/step - loss: 0.1068 - acc: 0.8649 - val_loss: 0.1063 - val_acc: 0.8647\n",
      "Epoch 23/30\n",
      "54546/54546 [==============================] - 11s 209us/step - loss: 0.1059 - acc: 0.8666 - val_loss: 0.1088 - val_acc: 0.8625\n",
      "Epoch 24/30\n",
      "54546/54546 [==============================] - 11s 204us/step - loss: 0.1060 - acc: 0.8666 - val_loss: 0.1045 - val_acc: 0.8674\n",
      "Epoch 25/30\n",
      "54546/54546 [==============================] - 11s 203us/step - loss: 0.1040 - acc: 0.8707 - val_loss: 0.1034 - val_acc: 0.8678\n",
      "Epoch 26/30\n",
      "54546/54546 [==============================] - 11s 203us/step - loss: 0.1036 - acc: 0.8710 - val_loss: 0.1028 - val_acc: 0.8674\n",
      "Epoch 27/30\n",
      "54546/54546 [==============================] - 11s 203us/step - loss: 0.1035 - acc: 0.8710 - val_loss: 0.1065 - val_acc: 0.8678\n",
      "Epoch 28/30\n",
      "54546/54546 [==============================] - 11s 203us/step - loss: 0.1025 - acc: 0.8722 - val_loss: 0.1031 - val_acc: 0.8656\n",
      "Epoch 29/30\n",
      "54546/54546 [==============================] - 11s 204us/step - loss: 0.1023 - acc: 0.8725 - val_loss: 0.1053 - val_acc: 0.8700\n",
      "Epoch 30/30\n",
      "54546/54546 [==============================] - 11s 204us/step - loss: 0.1015 - acc: 0.8741 - val_loss: 0.1017 - val_acc: 0.8691\n"
     ]
    }
   ],
   "source": [
    "\"\"\"one-CONV-LAYERS-THICK\"\"\"\n",
    "if not data_augmentation:\n",
    "    print('Not using data augmentation.')\n",
    "    train_history_0= model_0.fit(\n",
    "        x_train,\n",
    "        y_train,\n",
    "        batch_size=batch_size,\n",
    "        epochs=epochs,\n",
    "        validation_split= Vld_Splt,\n",
    "        shuffle=True)\n",
    "else:\n",
    "    print('Using real-time data augmentation.')\n",
    "    # This will do preprocessing and realtime data augmentation:\n",
    "    datagen = ImageDataGenerator(\n",
    "        featurewise_center=False,  # set input mean to 0 over the dataset\n",
    "        samplewise_center=False,  # set each sample mean to 0\n",
    "        featurewise_std_normalization=False,  # divide inputs by dataset std\n",
    "        samplewise_std_normalization=False,  # divide each input by its std\n",
    "        zca_whitening=False,  # apply ZCA whitening\n",
    "        zca_epsilon=1e-06,  # epsilon for ZCA whitening\n",
    "        rotation_range=0,  # randomly rotate images in 0 to 180 degrees\n",
    "        width_shift_range=0.1,  # randomly shift images horizontally\n",
    "        height_shift_range=0.1,  # randomly shift images vertically\n",
    "        shear_range=0.,  # set range for random shear\n",
    "        zoom_range=0.,  # set range for random zoom\n",
    "        channel_shift_range=0.,  # set range for random channel shifts\n",
    "        # set mode for filling points outside the input boundaries\n",
    "        fill_mode='nearest',\n",
    "        cval=0.,  # value used for fill_mode = \"constant\"\n",
    "        horizontal_flip=True,  # randomly flip images\n",
    "        vertical_flip=False,  # randomly flip images\n",
    "        # set rescaling factor (applied before any other transformation)\n",
    "        rescale=None,\n",
    "        # set function that will be applied on each input\n",
    "        preprocessing_function=None,\n",
    "        # image data format, either \"channels_first\" or \"channels_last\"\n",
    "        data_format=None,\n",
    "        # fraction of images reserved for validation (strictly between 0 and 1)\n",
    "        validation_split=0.0)\n",
    "\n",
    "    # Compute quantities required for feature-wise normalization\n",
    "    # (std, mean, and principal components if ZCA whitening is applied).\n",
    "    datagen.fit(x_train)\n",
    "\n",
    "    # Fit the model on the batches generated by datagen.flow().\n",
    "    train_history_0= model_0.fit_generator(\n",
    "        datagen.flow(x_train, y_train, batch_size=batch_size),\n",
    "        epochs= epochs,\n",
    "        validation_split= Vld_Splt,\n",
    "        steps_per_epoch= int(x_train.shape[0]/ batch_size),\n",
    "        workers=4)"
   ]
  },
  {
   "cell_type": "code",
   "execution_count": 14,
   "metadata": {},
   "outputs": [
    {
     "name": "stdout",
     "output_type": "stream",
     "text": [
      "Not using data augmentation.\n",
      "Train on 54546 samples, validate on 5454 samples\n",
      "Epoch 1/30\n",
      "54546/54546 [==============================] - 5s 93us/step - loss: 0.2733 - acc: 0.6629 - val_loss: 0.1615 - val_acc: 0.7770\n",
      "Epoch 2/30\n",
      "54546/54546 [==============================] - 5s 86us/step - loss: 0.1521 - acc: 0.7849 - val_loss: 0.1352 - val_acc: 0.8126\n",
      "Epoch 3/30\n",
      "54546/54546 [==============================] - 5s 84us/step - loss: 0.1330 - acc: 0.8174 - val_loss: 0.1205 - val_acc: 0.8333\n",
      "Epoch 4/30\n",
      "54546/54546 [==============================] - 5s 84us/step - loss: 0.1218 - acc: 0.8375 - val_loss: 0.1145 - val_acc: 0.8486\n",
      "Epoch 5/30\n",
      "54546/54546 [==============================] - 5s 86us/step - loss: 0.1139 - acc: 0.8492 - val_loss: 0.1135 - val_acc: 0.8531\n",
      "Epoch 6/30\n",
      "54546/54546 [==============================] - 5s 84us/step - loss: 0.1091 - acc: 0.8563 - val_loss: 0.1039 - val_acc: 0.8623\n",
      "Epoch 7/30\n",
      "54546/54546 [==============================] - 5s 84us/step - loss: 0.1052 - acc: 0.8603 - val_loss: 0.0994 - val_acc: 0.8685\n",
      "Epoch 8/30\n",
      "54546/54546 [==============================] - 5s 85us/step - loss: 0.1018 - acc: 0.8652 - val_loss: 0.1006 - val_acc: 0.8691\n",
      "Epoch 9/30\n",
      "54546/54546 [==============================] - 5s 85us/step - loss: 0.0999 - acc: 0.8682 - val_loss: 0.0987 - val_acc: 0.8726\n",
      "Epoch 10/30\n",
      "54546/54546 [==============================] - 5s 90us/step - loss: 0.0973 - acc: 0.8719 - val_loss: 0.0970 - val_acc: 0.8718\n",
      "Epoch 11/30\n",
      "54546/54546 [==============================] - 5s 90us/step - loss: 0.0953 - acc: 0.8741 - val_loss: 0.0926 - val_acc: 0.8779\n",
      "Epoch 12/30\n",
      "54546/54546 [==============================] - 5s 88us/step - loss: 0.0936 - acc: 0.8775 - val_loss: 0.0923 - val_acc: 0.8786\n",
      "Epoch 13/30\n",
      "54546/54546 [==============================] - 5s 87us/step - loss: 0.0917 - acc: 0.8810 - val_loss: 0.0901 - val_acc: 0.8819\n",
      "Epoch 14/30\n",
      "54546/54546 [==============================] - 5s 85us/step - loss: 0.0901 - acc: 0.8829 - val_loss: 0.0902 - val_acc: 0.8836\n",
      "Epoch 15/30\n",
      "54546/54546 [==============================] - 5s 87us/step - loss: 0.0886 - acc: 0.8854 - val_loss: 0.0874 - val_acc: 0.8850\n",
      "Epoch 16/30\n",
      "54546/54546 [==============================] - 5s 92us/step - loss: 0.0877 - acc: 0.8866 - val_loss: 0.0871 - val_acc: 0.8882\n",
      "Epoch 17/30\n",
      "54546/54546 [==============================] - 5s 95us/step - loss: 0.0857 - acc: 0.8894 - val_loss: 0.0862 - val_acc: 0.8889\n",
      "Epoch 18/30\n",
      "54546/54546 [==============================] - 5s 92us/step - loss: 0.0853 - acc: 0.8898 - val_loss: 0.0854 - val_acc: 0.8885\n",
      "Epoch 19/30\n",
      "54546/54546 [==============================] - 5s 89us/step - loss: 0.0832 - acc: 0.8934 - val_loss: 0.0855 - val_acc: 0.8865\n",
      "Epoch 20/30\n",
      "54546/54546 [==============================] - 5s 86us/step - loss: 0.0825 - acc: 0.8938 - val_loss: 0.0849 - val_acc: 0.8893\n",
      "Epoch 21/30\n",
      "54546/54546 [==============================] - 5s 88us/step - loss: 0.0815 - acc: 0.8956 - val_loss: 0.0818 - val_acc: 0.8949\n",
      "Epoch 22/30\n",
      "54546/54546 [==============================] - 5s 92us/step - loss: 0.0809 - acc: 0.8968 - val_loss: 0.0828 - val_acc: 0.8902\n",
      "Epoch 23/30\n",
      "54546/54546 [==============================] - 5s 92us/step - loss: 0.0796 - acc: 0.8996 - val_loss: 0.0842 - val_acc: 0.8904\n",
      "Epoch 24/30\n",
      "54546/54546 [==============================] - 5s 89us/step - loss: 0.0781 - acc: 0.9013 - val_loss: 0.0822 - val_acc: 0.8911\n",
      "Epoch 25/30\n",
      "54546/54546 [==============================] - 5s 90us/step - loss: 0.0777 - acc: 0.9008 - val_loss: 0.0815 - val_acc: 0.8973\n",
      "Epoch 26/30\n",
      "54546/54546 [==============================] - 5s 89us/step - loss: 0.0764 - acc: 0.9030 - val_loss: 0.0819 - val_acc: 0.8955\n",
      "Epoch 27/30\n",
      "54546/54546 [==============================] - 5s 89us/step - loss: 0.0754 - acc: 0.9047 - val_loss: 0.0801 - val_acc: 0.8937\n",
      "Epoch 28/30\n",
      "54546/54546 [==============================] - 5s 88us/step - loss: 0.0756 - acc: 0.9049 - val_loss: 0.0789 - val_acc: 0.8979\n",
      "Epoch 29/30\n",
      "54546/54546 [==============================] - 5s 89us/step - loss: 0.0739 - acc: 0.9069 - val_loss: 0.0820 - val_acc: 0.8918\n",
      "Epoch 30/30\n",
      "54546/54546 [==============================] - 5s 88us/step - loss: 0.0732 - acc: 0.9082 - val_loss: 0.0774 - val_acc: 0.8992\n"
     ]
    }
   ],
   "source": [
    "\"\"\"two-CONV-LAYERS-THICK\"\"\"\n",
    "if not data_augmentation:\n",
    "    print('Not using data augmentation.')\n",
    "    train_history_1= model_1.fit(\n",
    "        x_train,\n",
    "        y_train,\n",
    "        batch_size=batch_size,\n",
    "        epochs=epochs,\n",
    "        validation_split= Vld_Splt,\n",
    "        shuffle=True)\n",
    "else:\n",
    "    print('Using real-time data augmentation.')\n",
    "    # This will do preprocessing and realtime data augmentation:\n",
    "    datagen = ImageDataGenerator(\n",
    "        featurewise_center=False,  # set input mean to 0 over the dataset\n",
    "        samplewise_center=False,  # set each sample mean to 0\n",
    "        featurewise_std_normalization=False,  # divide inputs by dataset std\n",
    "        samplewise_std_normalization=False,  # divide each input by its std\n",
    "        zca_whitening=False,  # apply ZCA whitening\n",
    "        zca_epsilon=1e-06,  # epsilon for ZCA whitening\n",
    "        rotation_range=0,  # randomly rotate images in 0 to 180 degrees\n",
    "        width_shift_range=0.1,  # randomly shift images horizontally\n",
    "        height_shift_range=0.1,  # randomly shift images vertically\n",
    "        shear_range=0.,  # set range for random shear\n",
    "        zoom_range=0.,  # set range for random zoom\n",
    "        channel_shift_range=0.,  # set range for random channel shifts\n",
    "        # set mode for filling points outside the input boundaries\n",
    "        fill_mode='nearest',\n",
    "        cval=0.,  # value used for fill_mode = \"constant\"\n",
    "        horizontal_flip=True,  # randomly flip images\n",
    "        vertical_flip=False,  # randomly flip images\n",
    "        # set rescaling factor (applied before any other transformation)\n",
    "        rescale=None,\n",
    "        # set function that will be applied on each input\n",
    "        preprocessing_function=None,\n",
    "        # image data format, either \"channels_first\" or \"channels_last\"\n",
    "        data_format=None,\n",
    "        # fraction of images reserved for validation (strictly between 0 and 1)\n",
    "        validation_split=0.0)\n",
    "\n",
    "    # Compute quantities required for feature-wise normalization\n",
    "    # (std, mean, and principal components if ZCA whitening is applied).\n",
    "    datagen.fit(x_train)\n",
    "\n",
    "    # Fit the model on the batches generated by datagen.flow().\n",
    "    train_history_1= model_1.fit_generator(\n",
    "        datagen.flow(x_train, y_train, batch_size=batch_size),\n",
    "        epochs= epochs,\n",
    "        validation_split= Vld_Splt,\n",
    "        steps_per_epoch= int(x_train.shape[0]/ batch_size),\n",
    "        workers=4)"
   ]
  },
  {
   "cell_type": "code",
   "execution_count": 15,
   "metadata": {},
   "outputs": [
    {
     "name": "stdout",
     "output_type": "stream",
     "text": [
      "Not using data augmentation.\n",
      "Train on 54546 samples, validate on 5454 samples\n",
      "Epoch 1/30\n",
      "54546/54546 [==============================] - 4s 77us/step - loss: 0.2911 - acc: 0.6121 - val_loss: 0.1502 - val_acc: 0.7831\n",
      "Epoch 2/30\n",
      "54546/54546 [==============================] - 4s 67us/step - loss: 0.1406 - acc: 0.7988 - val_loss: 0.1248 - val_acc: 0.8192\n",
      "Epoch 3/30\n",
      "54546/54546 [==============================] - 4s 67us/step - loss: 0.1196 - acc: 0.8331 - val_loss: 0.1077 - val_acc: 0.8484\n",
      "Epoch 4/30\n",
      "54546/54546 [==============================] - 4s 65us/step - loss: 0.1056 - acc: 0.8544 - val_loss: 0.0989 - val_acc: 0.8638\n",
      "Epoch 5/30\n",
      "54546/54546 [==============================] - 4s 66us/step - loss: 0.0985 - acc: 0.8651 - val_loss: 0.0930 - val_acc: 0.8687\n",
      "Epoch 6/30\n",
      "54546/54546 [==============================] - 4s 68us/step - loss: 0.0927 - acc: 0.8717 - val_loss: 0.0891 - val_acc: 0.8729\n",
      "Epoch 7/30\n",
      "54546/54546 [==============================] - 4s 65us/step - loss: 0.0879 - acc: 0.8797 - val_loss: 0.0872 - val_acc: 0.8768\n",
      "Epoch 8/30\n",
      "54546/54546 [==============================] - 4s 72us/step - loss: 0.0857 - acc: 0.8833 - val_loss: 0.0837 - val_acc: 0.8828\n",
      "Epoch 9/30\n",
      "54546/54546 [==============================] - 4s 70us/step - loss: 0.0818 - acc: 0.8887 - val_loss: 0.0827 - val_acc: 0.8858\n",
      "Epoch 10/30\n",
      "54546/54546 [==============================] - 4s 66us/step - loss: 0.0810 - acc: 0.8891 - val_loss: 0.0828 - val_acc: 0.8816\n",
      "Epoch 11/30\n",
      "54546/54546 [==============================] - 4s 64us/step - loss: 0.0784 - acc: 0.8931 - val_loss: 0.0829 - val_acc: 0.8827\n",
      "Epoch 12/30\n",
      "54546/54546 [==============================] - 4s 77us/step - loss: 0.0761 - acc: 0.8963 - val_loss: 0.0792 - val_acc: 0.8902\n",
      "Epoch 13/30\n",
      "54546/54546 [==============================] - 4s 70us/step - loss: 0.0745 - acc: 0.8985 - val_loss: 0.0825 - val_acc: 0.8872\n",
      "Epoch 14/30\n",
      "54546/54546 [==============================] - 4s 74us/step - loss: 0.0732 - acc: 0.9002 - val_loss: 0.0769 - val_acc: 0.8937\n",
      "Epoch 15/30\n",
      "54546/54546 [==============================] - 4s 68us/step - loss: 0.0713 - acc: 0.9031 - val_loss: 0.0750 - val_acc: 0.8968\n",
      "Epoch 16/30\n",
      "54546/54546 [==============================] - 4s 66us/step - loss: 0.0703 - acc: 0.9047 - val_loss: 0.0746 - val_acc: 0.8940\n",
      "Epoch 17/30\n",
      "54546/54546 [==============================] - 4s 65us/step - loss: 0.0696 - acc: 0.9055 - val_loss: 0.0739 - val_acc: 0.8984\n",
      "Epoch 18/30\n",
      "54546/54546 [==============================] - 3s 63us/step - loss: 0.0681 - acc: 0.9068 - val_loss: 0.0739 - val_acc: 0.8959\n",
      "Epoch 19/30\n",
      "54546/54546 [==============================] - 4s 65us/step - loss: 0.0667 - acc: 0.9089 - val_loss: 0.0737 - val_acc: 0.8962\n",
      "Epoch 20/30\n",
      "54546/54546 [==============================] - 3s 64us/step - loss: 0.0654 - acc: 0.9116 - val_loss: 0.0771 - val_acc: 0.8920\n",
      "Epoch 21/30\n",
      "54546/54546 [==============================] - 4s 69us/step - loss: 0.0643 - acc: 0.9135 - val_loss: 0.0726 - val_acc: 0.8986\n",
      "Epoch 22/30\n",
      "54546/54546 [==============================] - 4s 69us/step - loss: 0.0643 - acc: 0.9134 - val_loss: 0.0738 - val_acc: 0.8960\n",
      "Epoch 23/30\n",
      "54546/54546 [==============================] - 3s 64us/step - loss: 0.0631 - acc: 0.9155 - val_loss: 0.0721 - val_acc: 0.9010\n",
      "Epoch 24/30\n",
      "54546/54546 [==============================] - 4s 69us/step - loss: 0.0625 - acc: 0.9160 - val_loss: 0.0747 - val_acc: 0.8981\n",
      "Epoch 25/30\n",
      "54546/54546 [==============================] - 4s 66us/step - loss: 0.0620 - acc: 0.9174 - val_loss: 0.0714 - val_acc: 0.8992\n",
      "Epoch 26/30\n",
      "54546/54546 [==============================] - 4s 66us/step - loss: 0.0606 - acc: 0.9194 - val_loss: 0.0723 - val_acc: 0.8948\n",
      "Epoch 27/30\n",
      "54546/54546 [==============================] - 4s 69us/step - loss: 0.0601 - acc: 0.9195 - val_loss: 0.0737 - val_acc: 0.8960\n",
      "Epoch 28/30\n",
      "54546/54546 [==============================] - 4s 66us/step - loss: 0.0597 - acc: 0.9211 - val_loss: 0.0732 - val_acc: 0.8964\n",
      "Epoch 29/30\n",
      "54546/54546 [==============================] - 4s 68us/step - loss: 0.0585 - acc: 0.9220 - val_loss: 0.0724 - val_acc: 0.8990\n",
      "Epoch 30/30\n",
      "54546/54546 [==============================] - 4s 68us/step - loss: 0.0584 - acc: 0.9231 - val_loss: 0.0715 - val_acc: 0.8984\n"
     ]
    }
   ],
   "source": [
    "\"\"\"three-CONV-LAYERS-THICK\"\"\"\n",
    "if not data_augmentation:\n",
    "    print('Not using data augmentation.')\n",
    "    train_history_2= model_2.fit(\n",
    "        x_train,\n",
    "        y_train,\n",
    "        batch_size=batch_size,\n",
    "        epochs=epochs,\n",
    "        validation_split= Vld_Splt,\n",
    "        shuffle=True)\n",
    "else:\n",
    "    print('Using real-time data augmentation.')\n",
    "    # This will do preprocessing and realtime data augmentation:\n",
    "    datagen = ImageDataGenerator(\n",
    "        featurewise_center=False,  # set input mean to 0 over the dataset\n",
    "        samplewise_center=False,  # set each sample mean to 0\n",
    "        featurewise_std_normalization=False,  # divide inputs by dataset std\n",
    "        samplewise_std_normalization=False,  # divide each input by its std\n",
    "        zca_whitening=False,  # apply ZCA whitening\n",
    "        zca_epsilon=1e-06,  # epsilon for ZCA whitening\n",
    "        rotation_range=0,  # randomly rotate images in 0 to 180 degrees\n",
    "        width_shift_range=0.1,  # randomly shift images horizontally\n",
    "        height_shift_range=0.1,  # randomly shift images vertically\n",
    "        shear_range=0.,  # set range for random shear\n",
    "        zoom_range=0.,  # set range for random zoom\n",
    "        channel_shift_range=0.,  # set range for random channel shifts\n",
    "        # set mode for filling points outside the input boundaries\n",
    "        fill_mode='nearest',\n",
    "        cval=0.,  # value used for fill_mode = \"constant\"\n",
    "        horizontal_flip=True,  # randomly flip images\n",
    "        vertical_flip=False,  # randomly flip images\n",
    "        # set rescaling factor (applied before any other transformation)\n",
    "        rescale=None,\n",
    "        # set function that will be applied on each input\n",
    "        preprocessing_function=None,\n",
    "        # image data format, either \"channels_first\" or \"channels_last\"\n",
    "        data_format=None,\n",
    "        # fraction of images reserved for validation (strictly between 0 and 1)\n",
    "        validation_split=0.0)\n",
    "\n",
    "    # Compute quantities required for feature-wise normalization\n",
    "    # (std, mean, and principal components if ZCA whitening is applied).\n",
    "    datagen.fit(x_train)\n",
    "\n",
    "    # Fit the model on the batches generated by datagen.flow().\n",
    "    train_history_2= model_2.fit_generator(\n",
    "        datagen.flow(x_train, y_train, batch_size=batch_size),\n",
    "        epochs= epochs,\n",
    "        validation_split= Vld_Splt,\n",
    "        steps_per_epoch= int(x_train.shape[0]/ batch_size),\n",
    "        workers=4)"
   ]
  },
  {
   "cell_type": "code",
   "execution_count": 16,
   "metadata": {},
   "outputs": [
    {
     "name": "stdout",
     "output_type": "stream",
     "text": [
      "Not using data augmentation.\n",
      "Train on 54546 samples, validate on 5454 samples\n",
      "Epoch 1/30\n",
      "54546/54546 [==============================] - 6s 105us/step - loss: 0.2654 - acc: 0.6445 - val_loss: 0.1366 - val_acc: 0.8071\n",
      "Epoch 2/30\n",
      "54546/54546 [==============================] - 5s 85us/step - loss: 0.1245 - acc: 0.8293 - val_loss: 0.1084 - val_acc: 0.8465\n",
      "Epoch 3/30\n",
      "54546/54546 [==============================] - 5s 84us/step - loss: 0.1039 - acc: 0.8580 - val_loss: 0.0936 - val_acc: 0.8676\n",
      "Epoch 4/30\n",
      "54546/54546 [==============================] - 4s 82us/step - loss: 0.0925 - acc: 0.8722 - val_loss: 0.0857 - val_acc: 0.8742\n",
      "Epoch 5/30\n",
      "54546/54546 [==============================] - 5s 84us/step - loss: 0.0861 - acc: 0.8813 - val_loss: 0.0836 - val_acc: 0.8806\n",
      "Epoch 6/30\n",
      "54546/54546 [==============================] - 5s 85us/step - loss: 0.0825 - acc: 0.8868 - val_loss: 0.0793 - val_acc: 0.8854\n",
      "Epoch 7/30\n",
      "54546/54546 [==============================] - 5s 84us/step - loss: 0.0791 - acc: 0.8920 - val_loss: 0.0772 - val_acc: 0.8911\n",
      "Epoch 8/30\n",
      "54546/54546 [==============================] - 4s 81us/step - loss: 0.0762 - acc: 0.8955 - val_loss: 0.0727 - val_acc: 0.8960\n",
      "Epoch 9/30\n",
      "54546/54546 [==============================] - 5s 86us/step - loss: 0.0751 - acc: 0.8959 - val_loss: 0.0748 - val_acc: 0.8927\n",
      "Epoch 10/30\n",
      "54546/54546 [==============================] - 5s 85us/step - loss: 0.0722 - acc: 0.8998 - val_loss: 0.0758 - val_acc: 0.8926\n",
      "Epoch 11/30\n",
      "54546/54546 [==============================] - 5s 83us/step - loss: 0.0713 - acc: 0.9017 - val_loss: 0.0753 - val_acc: 0.8909\n",
      "Epoch 12/30\n",
      "54546/54546 [==============================] - 5s 83us/step - loss: 0.0704 - acc: 0.9034 - val_loss: 0.0722 - val_acc: 0.8982\n",
      "Epoch 13/30\n",
      "54546/54546 [==============================] - 5s 90us/step - loss: 0.0682 - acc: 0.9062 - val_loss: 0.0752 - val_acc: 0.8907\n",
      "Epoch 14/30\n",
      "54546/54546 [==============================] - 5s 84us/step - loss: 0.0672 - acc: 0.9082 - val_loss: 0.0721 - val_acc: 0.8975\n",
      "Epoch 15/30\n",
      "54546/54546 [==============================] - 4s 82us/step - loss: 0.0655 - acc: 0.9108 - val_loss: 0.0683 - val_acc: 0.9043\n",
      "Epoch 16/30\n",
      "54546/54546 [==============================] - 4s 82us/step - loss: 0.0648 - acc: 0.9108 - val_loss: 0.0727 - val_acc: 0.8992\n",
      "Epoch 17/30\n",
      "54546/54546 [==============================] - 5s 84us/step - loss: 0.0639 - acc: 0.9126 - val_loss: 0.0712 - val_acc: 0.9003\n",
      "Epoch 18/30\n",
      "54546/54546 [==============================] - 5s 86us/step - loss: 0.0635 - acc: 0.9128 - val_loss: 0.0665 - val_acc: 0.9050\n",
      "Epoch 19/30\n",
      "54546/54546 [==============================] - 5s 90us/step - loss: 0.0623 - acc: 0.9148 - val_loss: 0.0697 - val_acc: 0.9023\n",
      "Epoch 20/30\n",
      "54546/54546 [==============================] - 5s 84us/step - loss: 0.0616 - acc: 0.9158 - val_loss: 0.0651 - val_acc: 0.9096\n",
      "Epoch 21/30\n",
      "54546/54546 [==============================] - 5s 87us/step - loss: 0.0607 - acc: 0.9170 - val_loss: 0.0656 - val_acc: 0.9083\n",
      "Epoch 22/30\n",
      "54546/54546 [==============================] - 5s 86us/step - loss: 0.0598 - acc: 0.9188 - val_loss: 0.0676 - val_acc: 0.9041\n",
      "Epoch 23/30\n",
      "54546/54546 [==============================] - 5s 85us/step - loss: 0.0589 - acc: 0.9186 - val_loss: 0.0653 - val_acc: 0.9092\n",
      "Epoch 24/30\n",
      "54546/54546 [==============================] - 5s 88us/step - loss: 0.0583 - acc: 0.9212 - val_loss: 0.0671 - val_acc: 0.9072\n",
      "Epoch 25/30\n",
      "54546/54546 [==============================] - 5s 86us/step - loss: 0.0578 - acc: 0.9208 - val_loss: 0.0628 - val_acc: 0.9118\n",
      "Epoch 26/30\n",
      "54546/54546 [==============================] - 12s 213us/step - loss: 0.0574 - acc: 0.9227 - val_loss: 0.0644 - val_acc: 0.9089\n",
      "Epoch 27/30\n",
      "54546/54546 [==============================] - 5s 84us/step - loss: 0.0569 - acc: 0.9226 - val_loss: 0.0655 - val_acc: 0.9080\n",
      "Epoch 28/30\n",
      "54546/54546 [==============================] - 5s 88us/step - loss: 0.0551 - acc: 0.9262 - val_loss: 0.0671 - val_acc: 0.9037\n",
      "Epoch 29/30\n",
      "54546/54546 [==============================] - 5s 88us/step - loss: 0.0546 - acc: 0.9267 - val_loss: 0.0640 - val_acc: 0.9116\n",
      "Epoch 30/30\n",
      "54546/54546 [==============================] - 5s 92us/step - loss: 0.0548 - acc: 0.9252 - val_loss: 0.0652 - val_acc: 0.9085\n"
     ]
    }
   ],
   "source": [
    "\"\"\"four-CONV-LAYERS-THICK\"\"\"\n",
    "if not data_augmentation:\n",
    "    print('Not using data augmentation.')\n",
    "    train_history_3= model_3.fit(\n",
    "        x_train,\n",
    "        y_train,\n",
    "        batch_size=batch_size,\n",
    "        epochs=epochs,\n",
    "        validation_split= Vld_Splt,\n",
    "        shuffle=True)\n",
    "else:\n",
    "    print('Using real-time data augmentation.')\n",
    "    # This will do preprocessing and realtime data augmentation:\n",
    "    datagen = ImageDataGenerator(\n",
    "        featurewise_center=False,  # set input mean to 0 over the dataset\n",
    "        samplewise_center=False,  # set each sample mean to 0\n",
    "        featurewise_std_normalization=False,  # divide inputs by dataset std\n",
    "        samplewise_std_normalization=False,  # divide each input by its std\n",
    "        zca_whitening=False,  # apply ZCA whitening\n",
    "        zca_epsilon=1e-06,  # epsilon for ZCA whitening\n",
    "        rotation_range=0,  # randomly rotate images in 0 to 180 degrees\n",
    "        width_shift_range=0.1,  # randomly shift images horizontally\n",
    "        height_shift_range=0.1,  # randomly shift images vertically\n",
    "        shear_range=0.,  # set range for random shear\n",
    "        zoom_range=0.,  # set range for random zoom\n",
    "        channel_shift_range=0.,  # set range for random channel shifts\n",
    "        # set mode for filling points outside the input boundaries\n",
    "        fill_mode='nearest',\n",
    "        cval=0.,  # value used for fill_mode = \"constant\"\n",
    "        horizontal_flip=True,  # randomly flip images\n",
    "        vertical_flip=False,  # randomly flip images\n",
    "        # set rescaling factor (applied before any other transformation)\n",
    "        rescale=None,\n",
    "        # set function that will be applied on each input\n",
    "        preprocessing_function=None,\n",
    "        # image data format, either \"channels_first\" or \"channels_last\"\n",
    "        data_format=None,\n",
    "        # fraction of images reserved for validation (strictly between 0 and 1)\n",
    "        validation_split=0.0)\n",
    "\n",
    "    # Compute quantities required for feature-wise normalization\n",
    "    # (std, mean, and principal components if ZCA whitening is applied).\n",
    "    datagen.fit(x_train)\n",
    "\n",
    "    # Fit the model on the batches generated by datagen.flow().\n",
    "    train_history_3= model_3.fit_generator(\n",
    "        datagen.flow(x_train, y_train, batch_size=batch_size),\n",
    "        epochs= epochs,\n",
    "        validation_split= Vld_Splt,\n",
    "        steps_per_epoch= int(x_train.shape[0]/ batch_size),\n",
    "        workers=4)"
   ]
  },
  {
   "cell_type": "code",
   "execution_count": 17,
   "metadata": {},
   "outputs": [
    {
     "name": "stdout",
     "output_type": "stream",
     "text": [
      "Train on 54546 samples, validate on 5454 samples\n",
      "Epoch 1/30\n",
      "54546/54546 [==============================] - 3s 50us/step - loss: 0.7974 - acc: 0.7060 - val_loss: 0.5438 - val_acc: 0.7979\n",
      "Epoch 2/30\n",
      "54546/54546 [==============================] - 2s 38us/step - loss: 0.5563 - acc: 0.7946 - val_loss: 0.4773 - val_acc: 0.8398\n",
      "Epoch 3/30\n",
      "54546/54546 [==============================] - 2s 41us/step - loss: 0.5008 - acc: 0.8163 - val_loss: 0.4325 - val_acc: 0.8498\n",
      "Epoch 4/30\n",
      "54546/54546 [==============================] - 2s 41us/step - loss: 0.4681 - acc: 0.8296 - val_loss: 0.3990 - val_acc: 0.8581\n",
      "Epoch 5/30\n",
      "54546/54546 [==============================] - 2s 40us/step - loss: 0.4438 - acc: 0.8369 - val_loss: 0.3842 - val_acc: 0.8663\n",
      "Epoch 6/30\n",
      "54546/54546 [==============================] - 2s 41us/step - loss: 0.4257 - acc: 0.8436 - val_loss: 0.3721 - val_acc: 0.8660\n",
      "Epoch 7/30\n",
      "54546/54546 [==============================] - 2s 43us/step - loss: 0.4115 - acc: 0.8502 - val_loss: 0.3589 - val_acc: 0.8713\n",
      "Epoch 8/30\n",
      "54546/54546 [==============================] - 2s 41us/step - loss: 0.3977 - acc: 0.8527 - val_loss: 0.3493 - val_acc: 0.8737\n",
      "Epoch 9/30\n",
      "54546/54546 [==============================] - 2s 40us/step - loss: 0.3897 - acc: 0.8561 - val_loss: 0.3428 - val_acc: 0.8711\n",
      "Epoch 10/30\n",
      "54546/54546 [==============================] - 2s 40us/step - loss: 0.3774 - acc: 0.8612 - val_loss: 0.3530 - val_acc: 0.8770\n",
      "Epoch 11/30\n",
      "54546/54546 [==============================] - 2s 43us/step - loss: 0.3737 - acc: 0.8625 - val_loss: 0.3374 - val_acc: 0.8784\n",
      "Epoch 12/30\n",
      "54546/54546 [==============================] - 2s 40us/step - loss: 0.3619 - acc: 0.8664 - val_loss: 0.3339 - val_acc: 0.8761\n",
      "Epoch 13/30\n",
      "54546/54546 [==============================] - 2s 38us/step - loss: 0.3611 - acc: 0.8663 - val_loss: 0.3230 - val_acc: 0.8834\n",
      "Epoch 14/30\n",
      "54546/54546 [==============================] - 2s 42us/step - loss: 0.3580 - acc: 0.8678 - val_loss: 0.3218 - val_acc: 0.8847\n",
      "Epoch 15/30\n",
      "54546/54546 [==============================] - 2s 40us/step - loss: 0.3496 - acc: 0.8707 - val_loss: 0.3142 - val_acc: 0.8845\n",
      "Epoch 16/30\n",
      "54546/54546 [==============================] - 2s 39us/step - loss: 0.3431 - acc: 0.8725 - val_loss: 0.3128 - val_acc: 0.8847\n",
      "Epoch 17/30\n",
      "54546/54546 [==============================] - 2s 37us/step - loss: 0.3396 - acc: 0.8735 - val_loss: 0.3186 - val_acc: 0.8867\n",
      "Epoch 18/30\n",
      "54546/54546 [==============================] - 2s 38us/step - loss: 0.3367 - acc: 0.8740 - val_loss: 0.3080 - val_acc: 0.8878\n",
      "Epoch 19/30\n",
      "54546/54546 [==============================] - 2s 40us/step - loss: 0.3356 - acc: 0.8740 - val_loss: 0.3151 - val_acc: 0.8863\n",
      "Epoch 20/30\n",
      "54546/54546 [==============================] - 2s 40us/step - loss: 0.3326 - acc: 0.8770 - val_loss: 0.3006 - val_acc: 0.8915\n",
      "Epoch 21/30\n",
      "54546/54546 [==============================] - 2s 37us/step - loss: 0.3313 - acc: 0.8760 - val_loss: 0.3061 - val_acc: 0.8933\n",
      "Epoch 22/30\n",
      "54546/54546 [==============================] - 2s 39us/step - loss: 0.3255 - acc: 0.8792 - val_loss: 0.3151 - val_acc: 0.8902\n",
      "Epoch 23/30\n",
      "54546/54546 [==============================] - 2s 41us/step - loss: 0.3224 - acc: 0.8786 - val_loss: 0.2966 - val_acc: 0.8894\n",
      "Epoch 24/30\n",
      "54546/54546 [==============================] - 2s 40us/step - loss: 0.3200 - acc: 0.8824 - val_loss: 0.2939 - val_acc: 0.8926\n",
      "Epoch 25/30\n",
      "54546/54546 [==============================] - 2s 41us/step - loss: 0.3161 - acc: 0.8823 - val_loss: 0.2996 - val_acc: 0.8918\n",
      "Epoch 26/30\n",
      "54546/54546 [==============================] - 2s 36us/step - loss: 0.3143 - acc: 0.8826 - val_loss: 0.2898 - val_acc: 0.8931\n",
      "Epoch 27/30\n",
      "54546/54546 [==============================] - 2s 39us/step - loss: 0.3133 - acc: 0.8836 - val_loss: 0.3043 - val_acc: 0.8946\n",
      "Epoch 28/30\n",
      "54546/54546 [==============================] - 2s 38us/step - loss: 0.3117 - acc: 0.8832 - val_loss: 0.2942 - val_acc: 0.8944\n",
      "Epoch 29/30\n",
      "54546/54546 [==============================] - 2s 36us/step - loss: 0.3092 - acc: 0.8847 - val_loss: 0.2855 - val_acc: 0.8951\n",
      "Epoch 30/30\n",
      "54546/54546 [==============================] - 2s 40us/step - loss: 0.3072 - acc: 0.8840 - val_loss: 0.2857 - val_acc: 0.8962\n"
     ]
    }
   ],
   "source": [
    "\"\"\"CNN-3-CONV-LAYERS\"\"\"\n",
    "model_4.compile(loss='categorical_crossentropy',\n",
    "              optimizer='adam', metrics=['accuracy'])\n",
    "train_history_4= model_4.fit(x= x_train, y= y_train, validation_split= Vld_Splt,\n",
    "                         epochs= epochs, batch_size= batch_size, verbose=1)"
   ]
  },
  {
   "cell_type": "code",
   "execution_count": 18,
   "metadata": {},
   "outputs": [
    {
     "name": "stdout",
     "output_type": "stream",
     "text": [
      "10000/10000 [==============================] - 1s 104us/step\n"
     ]
    },
    {
     "data": {
      "text/plain": [
       "0.8669"
      ]
     },
     "execution_count": 18,
     "metadata": {},
     "output_type": "execute_result"
    }
   ],
   "source": [
    "\"\"\"one-CONV-LAYERS-THICK\"\"\"\n",
    "scores_0= model_0.evaluate(x_test, y_test)\n",
    "scores_0[1]"
   ]
  },
  {
   "cell_type": "code",
   "execution_count": 19,
   "metadata": {},
   "outputs": [
    {
     "name": "stdout",
     "output_type": "stream",
     "text": [
      "10000/10000 [==============================] - 1s 83us/step\n"
     ]
    },
    {
     "data": {
      "text/plain": [
       "0.8922"
      ]
     },
     "execution_count": 19,
     "metadata": {},
     "output_type": "execute_result"
    }
   ],
   "source": [
    "\"\"\"two-CONV-LAYERS-THICK\"\"\"\n",
    "scores_1= model_1.evaluate(x_test, y_test)\n",
    "scores_1[1]"
   ]
  },
  {
   "cell_type": "code",
   "execution_count": 20,
   "metadata": {},
   "outputs": [
    {
     "name": "stdout",
     "output_type": "stream",
     "text": [
      "10000/10000 [==============================] - 1s 84us/step\n"
     ]
    },
    {
     "data": {
      "text/plain": [
       "0.897"
      ]
     },
     "execution_count": 20,
     "metadata": {},
     "output_type": "execute_result"
    }
   ],
   "source": [
    "\"\"\"three-CONV-LAYERS-THICK\"\"\"\n",
    "scores_2= model_2.evaluate(x_test, y_test)\n",
    "scores_2[1]"
   ]
  },
  {
   "cell_type": "code",
   "execution_count": 21,
   "metadata": {},
   "outputs": [
    {
     "name": "stdout",
     "output_type": "stream",
     "text": [
      "10000/10000 [==============================] - 1s 84us/step\n"
     ]
    },
    {
     "data": {
      "text/plain": [
       "0.9048"
      ]
     },
     "execution_count": 21,
     "metadata": {},
     "output_type": "execute_result"
    }
   ],
   "source": [
    "\"\"\"four-CONV-LAYERS-THICK\"\"\"\n",
    "scores_3= model_3.evaluate(x_test, y_test)\n",
    "scores_3[1]"
   ]
  },
  {
   "cell_type": "code",
   "execution_count": 22,
   "metadata": {},
   "outputs": [
    {
     "name": "stdout",
     "output_type": "stream",
     "text": [
      "10000/10000 [==============================] - 1s 68us/step\n"
     ]
    },
    {
     "data": {
      "text/plain": [
       "0.8955"
      ]
     },
     "execution_count": 22,
     "metadata": {},
     "output_type": "execute_result"
    }
   ],
   "source": [
    "\"\"\"CNN\"\"\"\n",
    "scores_4= model_4.evaluate(x_test, y_test)\n",
    "scores_4[1]"
   ]
  },
  {
   "cell_type": "code",
   "execution_count": 23,
   "metadata": {},
   "outputs": [],
   "source": [
    "import matplotlib.pyplot as plt\n",
    "def show_train_history(train_history, train, validation):\n",
    "    plt.plot(train_history.history[train])\n",
    "    plt.plot(train_history.history[validation])\n",
    "    plt.title('Train History')\n",
    "    plt.ylabel(train)\n",
    "    plt.xlabel('Epoch')\n",
    "    plt.legend(['train', 'validation'], loc='best')\n",
    "    plt.show()"
   ]
  },
  {
   "cell_type": "code",
   "execution_count": 24,
   "metadata": {},
   "outputs": [
    {
     "data": {
      "image/png": "[encoded data removed]",
      "text/plain": [
       "<Figure size 432x288 with 1 Axes>"
      ]
     },
     "metadata": {
      "needs_background": "light"
     },
     "output_type": "display_data"
    }
   ],
   "source": [
    "show_train_history(train_history_0, 'acc', 'val_acc')"
   ]
  },
  {
   "cell_type": "code",
   "execution_count": 25,
   "metadata": {},
   "outputs": [
    {
     "data": {
      "image/png": "[encoded data removed]",
      "text/plain": [
       "<Figure size 432x288 with 1 Axes>"
      ]
     },
     "metadata": {
      "needs_background": "light"
     },
     "output_type": "display_data"
    }
   ],
   "source": [
    "show_train_history(train_history_1, 'acc', 'val_acc')"
   ]
  },
  {
   "cell_type": "code",
   "execution_count": 26,
   "metadata": {},
   "outputs": [
    {
     "data": {
      "image/png": "[encoded data removed]",
      "text/plain": [
       "<Figure size 432x288 with 1 Axes>"
      ]
     },
     "metadata": {
      "needs_background": "light"
     },
     "output_type": "display_data"
    }
   ],
   "source": [
    "show_train_history(train_history_2, 'acc', 'val_acc')"
   ]
  },
  {
   "cell_type": "code",
   "execution_count": 27,
   "metadata": {},
   "outputs": [
    {
     "data": {
      "image/png": "[encoded data removed]",
      "text/plain": [
       "<Figure size 432x288 with 1 Axes>"
      ]
     },
     "metadata": {
      "needs_background": "light"
     },
     "output_type": "display_data"
    }
   ],
   "source": [
    "show_train_history(train_history_3, 'acc', 'val_acc')"
   ]
  },
  {
   "cell_type": "code",
   "execution_count": 28,
   "metadata": {},
   "outputs": [
    {
     "data": {
      "image/png": "[encoded data removed]",
      "text/plain": [
       "<Figure size 432x288 with 1 Axes>"
      ]
     },
     "metadata": {
      "needs_background": "light"
     },
     "output_type": "display_data"
    }
   ],
   "source": [
    "show_train_history(train_history_4, 'acc', 'val_acc')"
   ]
  },
  {
   "cell_type": "code",
   "execution_count": 29,
   "metadata": {},
   "outputs": [],
   "source": [
    "# show_train_history(train_history_5, 'acc', 'val_acc')"
   ]
  },
  {
   "cell_type": "code",
   "execution_count": 30,
   "metadata": {},
   "outputs": [],
   "source": [
    "# show_train_history(train_history_6, 'acc', 'val_acc')"
   ]
  },
  {
   "cell_type": "code",
   "execution_count": 31,
   "metadata": {},
   "outputs": [
    {
     "data": {
      "image/png": "[encoded data removed]",
      "text/plain": [
       "<Figure size 432x288 with 1 Axes>"
      ]
     },
     "metadata": {
      "needs_background": "light"
     },
     "output_type": "display_data"
    }
   ],
   "source": [
    "plt.plot(train_history_0.history['val_acc'], 'r-')\n",
    "plt.plot(train_history_1.history['val_acc'], 'b--')\n",
    "plt.plot(train_history_2.history['val_acc'], 'k.')\n",
    "plt.plot(train_history_3.history['val_acc'], 'b-')\n",
    "plt.plot(train_history_4.history['val_acc'], 'h-')\n",
    "# plt.plot(train_history_5.history['val_acc'], 'c-')\n",
    "# plt.plot(train_history_6.history['val_acc'], 'g*-')\n",
    "# plt.plot(train_history_7.history['val_acc'], 'k-.')\n",
    "plt.title('Training on fasion_MNIST')\n",
    "plt.ylabel('Validation Accuracy')\n",
    "plt.xlabel('Epoch')\n",
    "plt.legend(['CapsNet: 1-conv','CapsNet: 2-conv','CapsNet: 3-conv','CapsNet: 4-conv','CNN-2CONV'], loc='best')\n",
    "plt.show()"
   ]
  },
  {
   "cell_type": "code",
   "execution_count": null,
   "metadata": {},
   "outputs": [],
   "source": []
  }
 ],
 "metadata": {
  "kernelspec": {
   "display_name": "Python 3",
   "language": "python",
   "name": "python3"
  },
  "language_info": {
   "codemirror_mode": {
    "name": "ipython",
    "version": 3
   },
   "file_extension": ".py",
   "mimetype": "text/x-python",
   "name": "python",
   "nbconvert_exporter": "python",
   "pygments_lexer": "ipython3",
   "version": "3.6.10"
  }
 },
 "nbformat": 4,
 "nbformat_minor": 2
}
