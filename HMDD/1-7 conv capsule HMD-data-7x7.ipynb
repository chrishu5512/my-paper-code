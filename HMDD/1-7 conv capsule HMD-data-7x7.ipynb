{
 "cells": [
  {
   "cell_type": "code",
   "execution_count": 1,
   "metadata": {},
   "outputs": [],
   "source": [
    "import os\n"
   ]
  },
  {
   "cell_type": "code",
   "execution_count": 2,
   "metadata": {},
   "outputs": [
    {
     "name": "stderr",
     "output_type": "stream",
     "text": [
      "Using TensorFlow backend.\n",
      "C:\\Users\\ASUS\\Anaconda3\\envs\\tensorflow-gpu\\lib\\site-packages\\tensorflow\\python\\framework\\dtypes.py:526: FutureWarning: Passing (type, 1) or '1type' as a synonym of type is deprecated; in a future version of numpy, it will be understood as (type, (1,)) / '(1,)type'.\n",
      "  _np_qint8 = np.dtype([(\"qint8\", np.int8, 1)])\n",
      "C:\\Users\\ASUS\\Anaconda3\\envs\\tensorflow-gpu\\lib\\site-packages\\tensorflow\\python\\framework\\dtypes.py:527: FutureWarning: Passing (type, 1) or '1type' as a synonym of type is deprecated; in a future version of numpy, it will be understood as (type, (1,)) / '(1,)type'.\n",
      "  _np_quint8 = np.dtype([(\"quint8\", np.uint8, 1)])\n",
      "C:\\Users\\ASUS\\Anaconda3\\envs\\tensorflow-gpu\\lib\\site-packages\\tensorflow\\python\\framework\\dtypes.py:528: FutureWarning: Passing (type, 1) or '1type' as a synonym of type is deprecated; in a future version of numpy, it will be understood as (type, (1,)) / '(1,)type'.\n",
      "  _np_qint16 = np.dtype([(\"qint16\", np.int16, 1)])\n",
      "C:\\Users\\ASUS\\Anaconda3\\envs\\tensorflow-gpu\\lib\\site-packages\\tensorflow\\python\\framework\\dtypes.py:529: FutureWarning: Passing (type, 1) or '1type' as a synonym of type is deprecated; in a future version of numpy, it will be understood as (type, (1,)) / '(1,)type'.\n",
      "  _np_quint16 = np.dtype([(\"quint16\", np.uint16, 1)])\n",
      "C:\\Users\\ASUS\\Anaconda3\\envs\\tensorflow-gpu\\lib\\site-packages\\tensorflow\\python\\framework\\dtypes.py:530: FutureWarning: Passing (type, 1) or '1type' as a synonym of type is deprecated; in a future version of numpy, it will be understood as (type, (1,)) / '(1,)type'.\n",
      "  _np_qint32 = np.dtype([(\"qint32\", np.int32, 1)])\n",
      "C:\\Users\\ASUS\\Anaconda3\\envs\\tensorflow-gpu\\lib\\site-packages\\tensorflow\\python\\framework\\dtypes.py:535: FutureWarning: Passing (type, 1) or '1type' as a synonym of type is deprecated; in a future version of numpy, it will be understood as (type, (1,)) / '(1,)type'.\n",
      "  np_resource = np.dtype([(\"resource\", np.ubyte, 1)])\n"
     ]
    }
   ],
   "source": [
    "from __future__ import print_function\n",
    "from keras import backend as K\n",
    "from keras.layers import Layer\n",
    "from keras import activations\n",
    "from keras import utils\n",
    "from keras.datasets import fashion_mnist\n",
    "from keras.datasets import mnist\n",
    "from keras.models import Model\n",
    "from keras.layers import *\n",
    "from keras.preprocessing.image import ImageDataGenerator\n",
    "import cv2"
   ]
  },
  {
   "cell_type": "code",
   "execution_count": 3,
   "metadata": {},
   "outputs": [],
   "source": [
    "from tensorflow.compat.v1 import ConfigProto\n",
    "from tensorflow.compat.v1 import InteractiveSession\n",
    "\n",
    "config = ConfigProto()\n",
    "config.gpu_options.allow_growth = True\n",
    "session = InteractiveSession(config=config)"
   ]
  },
  {
   "cell_type": "code",
   "execution_count": 4,
   "metadata": {},
   "outputs": [],
   "source": [
    "Vld_Splt= 0.0909\n",
    "batch_size = 200\n",
    "num_classes = 10\n",
    "epochs = 30"
   ]
  },
  {
   "cell_type": "code",
   "execution_count": 5,
   "metadata": {},
   "outputs": [],
   "source": [
    "from keras.utils import np_utils\n",
    "\n",
    "'''LOAD DATA'''\n",
    "Dir= 'C:/pythonwork/MHDD/'\n",
    "x_train= np.load(Dir+'HMDD_Train_X.npy')\n",
    "y_train=np.load(Dir+'HMDD_Train_Y.npy')\n",
    "x_test=np.load(Dir+'HMDD_Test_X.npy')\n",
    "y_test=np.load(Dir+'HMDD_Test_Y.npy')\n",
    "\n",
    "'''PRE-PROCESSING'''\n",
    "x_train = x_train.reshape(-1, 28, 28, 1).astype('float32') / 255.\n",
    "x_test = x_test.reshape(-1, 28, 28, 1).astype('float32') / 255.\n",
    "# n_Vld= int(np.floor(Vld_Splt* x_train.shape[0]))  # Num. of validation data"
   ]
  },
  {
   "cell_type": "code",
   "execution_count": 6,
   "metadata": {},
   "outputs": [
    {
     "name": "stdout",
     "output_type": "stream",
     "text": [
      " (60000, 28, 28, 1) \n",
      " (60000, 10) \n",
      " (10000, 28, 28, 1) \n",
      " (10000, 10) \n",
      "\n"
     ]
    }
   ],
   "source": [
    "print('', x_train.shape,'\\n',y_train.shape,'\\n',x_test.shape,'\\n',y_test.shape,'\\n')"
   ]
  },
  {
   "cell_type": "code",
   "execution_count": 7,
   "metadata": {},
   "outputs": [],
   "source": [
    "# the squashing function.\n",
    "# we use 0.5 in stead of 1 in hinton's paper.\n",
    "# if 1, the norm of vector will be zoomed out.\n",
    "# if 0.5, the norm will be zoomed in while original norm is less than 0.5\n",
    "# and be zoomed out while original norm is greater than 0.5.\n",
    "def squash(x, axis=-1):\n",
    "    s_squared_norm = K.sum(K.square(x), axis, keepdims=True) + K.epsilon()\n",
    "    scale = K.sqrt(s_squared_norm) / (0.5 + s_squared_norm)\n",
    "    return scale * x\n",
    "\n",
    "\n",
    "# define our own softmax function instead of K.softmax\n",
    "# because K.softmax can not specify axis.\n",
    "def softmax(x, axis=-1):\n",
    "    ex = K.exp(x - K.max(x, axis=axis, keepdims=True))\n",
    "    return ex / K.sum(ex, axis=axis, keepdims=True)\n",
    "\n",
    "\n",
    "# define the margin loss like hinge loss\n",
    "def margin_loss(y_true, y_pred):\n",
    "    lamb, margin = 0.5, 0.1\n",
    "    return K.sum(y_true * K.square(K.relu(1 - margin - y_pred)) + lamb * (\n",
    "        1 - y_true) * K.square(K.relu(y_pred - margin)), axis=-1)\n",
    "\n",
    "\n",
    "class Capsule(Layer):\n",
    "    \"\"\"A Capsule Implement with Pure Keras\n",
    "    There are two vesions of Capsule.\n",
    "    One is like dense layer (for the fixed-shape input),\n",
    "    and the other is like timedistributed dense (for various length input).\n",
    "\n",
    "    The input shape of Capsule must be (batch_size,\n",
    "                                        input_num_capsule,\n",
    "                                        input_dim_capsule\n",
    "                                       )\n",
    "    and the output shape is (batch_size,\n",
    "                             num_capsule,\n",
    "                             dim_capsule\n",
    "                            )\n",
    "\n",
    "    Capsule Implement is from https://github.com/bojone/Capsule/\n",
    "    Capsule Paper: https://arxiv.org/abs/1710.09829\n",
    "    \"\"\"\n",
    "\n",
    "    def __init__(self,\n",
    "                 num_capsule,\n",
    "                 dim_capsule,\n",
    "                 routings=3,\n",
    "                 share_weights=True,\n",
    "                 activation='squash',\n",
    "                 **kwargs):\n",
    "        super(Capsule, self).__init__(**kwargs)\n",
    "        self.num_capsule = num_capsule\n",
    "        self.dim_capsule = dim_capsule\n",
    "        self.routings = routings\n",
    "        self.share_weights = share_weights\n",
    "        if activation == 'squash':\n",
    "            self.activation = squash\n",
    "        else:\n",
    "            self.activation = activations.get(activation)\n",
    "\n",
    "    def build(self, input_shape):\n",
    "        input_dim_capsule = input_shape[-1]\n",
    "        if self.share_weights:\n",
    "            self.kernel = self.add_weight(\n",
    "                name='capsule_kernel',\n",
    "                shape=(1, input_dim_capsule,\n",
    "                       self.num_capsule * self.dim_capsule),\n",
    "                initializer='glorot_uniform',\n",
    "                trainable=True)\n",
    "        else:\n",
    "            input_num_capsule = input_shape[-2]\n",
    "            self.kernel = self.add_weight(\n",
    "                name='capsule_kernel',\n",
    "                shape=(input_num_capsule, input_dim_capsule,\n",
    "                       self.num_capsule * self.dim_capsule),\n",
    "                initializer='glorot_uniform',\n",
    "                trainable=True)\n",
    "\n",
    "    def call(self, inputs):\n",
    "        \"\"\"Following the routing algorithm from Hinton's paper,\n",
    "        but replace b = b + <u,v> with b = <u,v>.\n",
    "\n",
    "        This change can improve the feature representation of Capsule.\n",
    "\n",
    "        However, you can replace\n",
    "            b = K.batch_dot(outputs, hat_inputs, [2, 3])\n",
    "        with\n",
    "            b += K.batch_dot(outputs, hat_inputs, [2, 3])\n",
    "        to realize a standard routing.\n",
    "        \"\"\"\n",
    "\n",
    "        if self.share_weights:\n",
    "            hat_inputs = K.conv1d(inputs, self.kernel)\n",
    "        else:\n",
    "            hat_inputs = K.local_conv1d(inputs, self.kernel, [1], [1])\n",
    "\n",
    "        batch_size = K.shape(inputs)[0]\n",
    "        input_num_capsule = K.shape(inputs)[1]\n",
    "        hat_inputs = K.reshape(hat_inputs,\n",
    "                               (batch_size, input_num_capsule,\n",
    "                                self.num_capsule, self.dim_capsule))\n",
    "        hat_inputs = K.permute_dimensions(hat_inputs, (0, 2, 1, 3))\n",
    "\n",
    "        b = K.zeros_like(hat_inputs[:, :, :, 0])\n",
    "        for i in range(self.routings):\n",
    "            c = softmax(b, 1)\n",
    "            o = self.activation(K.batch_dot(c, hat_inputs, [2, 2]))\n",
    "            if i < self.routings - 1:\n",
    "                b = K.batch_dot(o, hat_inputs, [2, 3])\n",
    "                if K.backend() == 'theano':\n",
    "                    o = K.sum(o, axis=1)\n",
    "\n",
    "        return o\n",
    "\n",
    "    def compute_output_shape(self, input_shape):\n",
    "        return (None, self.num_capsule, self.dim_capsule)"
   ]
  },
  {
   "cell_type": "code",
   "execution_count": 8,
   "metadata": {},
   "outputs": [
    {
     "name": "stdout",
     "output_type": "stream",
     "text": [
      "WARNING:tensorflow:From C:\\Users\\ASUS\\Anaconda3\\envs\\tensorflow-gpu\\lib\\site-packages\\tensorflow\\python\\framework\\op_def_library.py:263: colocate_with (from tensorflow.python.framework.ops) is deprecated and will be removed in a future version.\n",
      "Instructions for updating:\n",
      "Colocations handled automatically by placer.\n",
      "WARNING:tensorflow:From C:\\Users\\ASUS\\Anaconda3\\envs\\tensorflow-gpu\\lib\\site-packages\\keras\\backend\\tensorflow_backend.py:3445: calling dropout (from tensorflow.python.ops.nn_ops) with keep_prob is deprecated and will be removed in a future version.\n",
      "Instructions for updating:\n",
      "Please use `rate` instead of `keep_prob`. Rate should be set to `rate = 1 - keep_prob`.\n",
      "_________________________________________________________________\n",
      "Layer (type)                 Output Shape              Param #   \n",
      "=================================================================\n",
      "input_1 (InputLayer)         (None, 28, 28, 1)         0         \n",
      "_________________________________________________________________\n",
      "conv2d_1 (Conv2D)            (None, 22, 22, 250)       12500     \n",
      "_________________________________________________________________\n",
      "dropout_1 (Dropout)          (None, 22, 22, 250)       0         \n",
      "_________________________________________________________________\n",
      "reshape_1 (Reshape)          (None, 484, 250)          0         \n",
      "_________________________________________________________________\n",
      "capsule_1 (Capsule)          (None, 10, 16)            40000     \n",
      "_________________________________________________________________\n",
      "lambda_1 (Lambda)            (None, 10)                0         \n",
      "=================================================================\n",
      "Total params: 52,500\n",
      "Trainable params: 52,500\n",
      "Non-trainable params: 0\n",
      "_________________________________________________________________\n"
     ]
    }
   ],
   "source": [
    "\"\"\"one-CONV-LAYERS-THICK\"\"\"\n",
    "input_image = Input(shape=(x_train.shape[1], x_train.shape[2], x_train.shape[3]))\n",
    "x_0 = Conv2D(filters= 250, kernel_size= 7, activation='relu', \n",
    "             padding= 'valid')(input_image)\n",
    "x_0= Dropout(0.1)(x_0)\n",
    "\n",
    "\n",
    "\"\"\"now we reshape it as (batch_size, input_num_capsule, input_dim_capsule)\n",
    "then connect a Capsule layer.\n",
    "\n",
    "the output of final model is the lengths of 10 Capsule, whose dim=16.\n",
    "\n",
    "the length of Capsule is the proba,\n",
    "so the problem becomes a 10 two-classification problem.\n",
    "\"\"\"\n",
    "\n",
    "x_0 = Reshape((-1, 250))(x_0)\n",
    "capsule_0 = Capsule(num_classes, 16, 3, True)(x_0)\n",
    "output_0 = Lambda(lambda z: K.sqrt(K.sum(K.square(z), 2)))(capsule_0)\n",
    "model_0 = Model(inputs= input_image, outputs= output_0)\n",
    "\n",
    "# we use a margin loss\n",
    "model_0.compile(loss =margin_loss, optimizer='adam', metrics=['accuracy'])\n",
    "model_0.summary()\n",
    "\n",
    "# we can compare the performance with or without data augmentation\n",
    "data_augmentation = False"
   ]
  },
  {
   "cell_type": "code",
   "execution_count": 9,
   "metadata": {},
   "outputs": [
    {
     "name": "stdout",
     "output_type": "stream",
     "text": [
      "_________________________________________________________________\n",
      "Layer (type)                 Output Shape              Param #   \n",
      "=================================================================\n",
      "input_2 (InputLayer)         (None, 28, 28, 1)         0         \n",
      "_________________________________________________________________\n",
      "conv2d_2 (Conv2D)            (None, 22, 22, 15)        750       \n",
      "_________________________________________________________________\n",
      "dropout_2 (Dropout)          (None, 22, 22, 15)        0         \n",
      "_________________________________________________________________\n",
      "conv2d_3 (Conv2D)            (None, 16, 16, 60)        44160     \n",
      "_________________________________________________________________\n",
      "dropout_3 (Dropout)          (None, 16, 16, 60)        0         \n",
      "_________________________________________________________________\n",
      "reshape_2 (Reshape)          (None, 256, 60)           0         \n",
      "_________________________________________________________________\n",
      "capsule_2 (Capsule)          (None, 10, 16)            9600      \n",
      "_________________________________________________________________\n",
      "lambda_2 (Lambda)            (None, 10)                0         \n",
      "=================================================================\n",
      "Total params: 54,510\n",
      "Trainable params: 54,510\n",
      "Non-trainable params: 0\n",
      "_________________________________________________________________\n"
     ]
    }
   ],
   "source": [
    "\"\"\"two-CONV-LAYERS-THICK\"\"\"\n",
    "input_image = Input(shape=(x_train.shape[1], x_train.shape[2], x_train.shape[3]))\n",
    "x_1 = Conv2D(filters= 15, kernel_size= 7, activation='relu', \n",
    "             padding= 'valid')(input_image)\n",
    "x_1= Dropout(0.1)(x_1)\n",
    "x_1 = Conv2D(filters= 60, kernel_size= 7, activation='relu',\n",
    "             strides= 1)(x_1)\n",
    "x_1 = Dropout(0.1)(x_1)\n",
    "\n",
    "\n",
    "\"\"\"now we reshape it as (batch_size, input_num_capsule, input_dim_capsule)\n",
    "then connect a Capsule layer.\n",
    "\n",
    "the output of final model is the lengths of 10 Capsule, whose dim=16.\n",
    "\n",
    "the length of Capsule is the proba,\n",
    "so the problem becomes a 10 two-classification problem.\n",
    "\"\"\"\n",
    "\n",
    "x_1 = Reshape((-1, 60))(x_1)\n",
    "capsule_1 = Capsule(num_classes, 16, 3, True)(x_1)\n",
    "output_1 = Lambda(lambda z: K.sqrt(K.sum(K.square(z), 2)))(capsule_1)\n",
    "model_1= Model(inputs= input_image, outputs= output_1)\n",
    "\n",
    "# we use a margin loss\n",
    "model_1.compile(loss =margin_loss, optimizer='adam', metrics=['accuracy'])\n",
    "model_1.summary()\n",
    "\n",
    "# we can compare the performance with or without data augmentation\n",
    "data_augmentation = False"
   ]
  },
  {
   "cell_type": "code",
   "execution_count": 54,
   "metadata": {},
   "outputs": [
    {
     "name": "stdout",
     "output_type": "stream",
     "text": [
      "_________________________________________________________________\n",
      "Layer (type)                 Output Shape              Param #   \n",
      "=================================================================\n",
      "input_12 (InputLayer)        (None, 28, 28, 1)         0         \n",
      "_________________________________________________________________\n",
      "conv2d_39 (Conv2D)           (None, 22, 22, 15)        750       \n",
      "_________________________________________________________________\n",
      "dropout_39 (Dropout)         (None, 22, 22, 15)        0         \n",
      "_________________________________________________________________\n",
      "conv2d_40 (Conv2D)           (None, 16, 16, 25)        18400     \n",
      "_________________________________________________________________\n",
      "dropout_40 (Dropout)         (None, 16, 16, 25)        0         \n",
      "_________________________________________________________________\n",
      "conv2d_41 (Conv2D)           (None, 10, 10, 25)        30650     \n",
      "_________________________________________________________________\n",
      "dropout_41 (Dropout)         (None, 10, 10, 25)        0         \n",
      "_________________________________________________________________\n",
      "reshape_12 (Reshape)         (None, 100, 25)           0         \n",
      "_________________________________________________________________\n",
      "capsule_11 (Capsule)         (None, 10, 16)            4000      \n",
      "_________________________________________________________________\n",
      "lambda_11 (Lambda)           (None, 10)                0         \n",
      "=================================================================\n",
      "Total params: 53,800\n",
      "Trainable params: 53,800\n",
      "Non-trainable params: 0\n",
      "_________________________________________________________________\n"
     ]
    }
   ],
   "source": [
    "\"\"\"three-CONV-LAYERS-THICK\"\"\"\n",
    "input_image = Input(shape=(x_train.shape[1], x_train.shape[2], x_train.shape[3]))\n",
    "x_2 = Conv2D(filters= 15, kernel_size= 7, activation='relu', \n",
    "             padding= 'valid')(input_image)\n",
    "x_2= Dropout(0.1)(x_2)\n",
    "x_2 = Conv2D(filters= 25, kernel_size= 7, activation='relu',\n",
    "             strides= 1)(x_2)\n",
    "x_2 = Dropout(0.1)(x_2)\n",
    "x_2 = Conv2D(filters= 25, kernel_size= 7, activation='relu',\n",
    "             strides= 1)(x_2)\n",
    "x_2 = Dropout(0.1)(x_2)\n",
    "\n",
    "\n",
    "\"\"\"now we reshape it as (batch_size, input_num_capsule, input_dim_capsule)\n",
    "then connect a Capsule layer.\n",
    "\n",
    "the output of final model is the lengths of 10 Capsule, whose dim=16.\n",
    "\n",
    "the length of Capsule is the proba,\n",
    "so the problem becomes a 10 two-classification problem.\n",
    "\"\"\"\n",
    "\n",
    "x_2 = Reshape((-1, 25))(x_2)\n",
    "capsule_2 = Capsule(num_classes, 16, 3, True)(x_2)\n",
    "output_2 = Lambda(lambda z: K.sqrt(K.sum(K.square(z), 2)))(capsule_2)\n",
    "model_2= Model(inputs= input_image, outputs= output_2)\n",
    "\n",
    "# we use a margin loss\n",
    "model_2.compile(loss =margin_loss, optimizer='adam', metrics=['accuracy'])\n",
    "model_2.summary()\n",
    "\n",
    "# we can compare the performance with or without data augmentation\n",
    "data_augmentation = False"
   ]
  },
  {
   "cell_type": "code",
   "execution_count": 56,
   "metadata": {},
   "outputs": [
    {
     "name": "stdout",
     "output_type": "stream",
     "text": [
      "_________________________________________________________________\n",
      "Layer (type)                 Output Shape              Param #   \n",
      "=================================================================\n",
      "input_14 (InputLayer)        (None, 28, 28, 1)         0         \n",
      "_________________________________________________________________\n",
      "conv2d_46 (Conv2D)           (None, 22, 22, 15)        750       \n",
      "_________________________________________________________________\n",
      "dropout_46 (Dropout)         (None, 22, 22, 15)        0         \n",
      "_________________________________________________________________\n",
      "conv2d_47 (Conv2D)           (None, 16, 16, 18)        13248     \n",
      "_________________________________________________________________\n",
      "dropout_47 (Dropout)         (None, 16, 16, 18)        0         \n",
      "_________________________________________________________________\n",
      "conv2d_48 (Conv2D)           (None, 10, 10, 20)        17660     \n",
      "_________________________________________________________________\n",
      "dropout_48 (Dropout)         (None, 10, 10, 20)        0         \n",
      "_________________________________________________________________\n",
      "conv2d_49 (Conv2D)           (None, 4, 4, 25)          24525     \n",
      "_________________________________________________________________\n",
      "dropout_49 (Dropout)         (None, 4, 4, 25)          0         \n",
      "_________________________________________________________________\n",
      "reshape_14 (Reshape)         (None, 16, 25)            0         \n",
      "_________________________________________________________________\n",
      "capsule_13 (Capsule)         (None, 10, 16)            4000      \n",
      "_________________________________________________________________\n",
      "lambda_13 (Lambda)           (None, 10)                0         \n",
      "=================================================================\n",
      "Total params: 60,183\n",
      "Trainable params: 60,183\n",
      "Non-trainable params: 0\n",
      "_________________________________________________________________\n"
     ]
    }
   ],
   "source": [
    "\"\"\"four-CONV-LAYERS-THICK\"\"\"\n",
    "input_image = Input(shape=(x_train.shape[1], x_train.shape[2], x_train.shape[3]))\n",
    "x_3 = Conv2D(filters= 15, kernel_size= 7, activation='relu', \n",
    "             padding= 'valid')(input_image)\n",
    "x_3= Dropout(0.1)(x_3)\n",
    "x_3 = Conv2D(filters= 18 ,kernel_size= 7, activation='relu',\n",
    "             strides= 1)(x_3)\n",
    "x_3 = Dropout(0.1)(x_3)\n",
    "x_3 = Conv2D(filters= 20, kernel_size= 7, activation='relu',\n",
    "             strides= 1)(x_3)\n",
    "x_3= Dropout(0.1)(x_3)\n",
    "x_3 = Conv2D(filters= 25,kernel_size= 7, activation='relu',\n",
    "             strides= 1)(x_3)\n",
    "x_3= Dropout(0.1)(x_3)\n",
    "\n",
    "\n",
    "\"\"\"now we reshape it as (batch_size, input_num_capsule, input_dim_capsule)\n",
    "then connect a Capsule layer.\n",
    "\n",
    "the output of final model is the lengths of 10 Capsule, whose dim=16.\n",
    "\n",
    "the length of Capsule is the proba,\n",
    "so the problem becomes a 10 two-classification problem.\n",
    "\"\"\"\n",
    "\n",
    "x_3 = Reshape((-1, 25))(x_3)\n",
    "capsule_3 = Capsule(num_classes, 16, 3, True)(x_3)\n",
    "output_3 = Lambda(lambda z: K.sqrt(K.sum(K.square(z), 2)))(capsule_3)\n",
    "model_3= Model(inputs= input_image, outputs= output_3)\n",
    "\n",
    "# we use a margin loss\n",
    "model_3.compile(loss =margin_loss, optimizer='adam', metrics=['accuracy'])\n",
    "model_3.summary()\n",
    "\n",
    "# we can compare the performance with or without data augmentation\n",
    "data_augmentation = False"
   ]
  },
  {
   "cell_type": "code",
   "execution_count": 12,
   "metadata": {},
   "outputs": [
    {
     "name": "stdout",
     "output_type": "stream",
     "text": [
      "_________________________________________________________________\n",
      "Layer (type)                 Output Shape              Param #   \n",
      "=================================================================\n",
      "conv2d_11 (Conv2D)           (None, 28, 28, 5)         250       \n",
      "_________________________________________________________________\n",
      "max_pooling2d_1 (MaxPooling2 (None, 14, 14, 5)         0         \n",
      "_________________________________________________________________\n",
      "conv2d_12 (Conv2D)           (None, 14, 14, 10)        2460      \n",
      "_________________________________________________________________\n",
      "dropout_11 (Dropout)         (None, 14, 14, 10)        0         \n",
      "_________________________________________________________________\n",
      "max_pooling2d_2 (MaxPooling2 (None, 7, 7, 10)          0         \n",
      "_________________________________________________________________\n",
      "flatten_1 (Flatten)          (None, 490)               0         \n",
      "_________________________________________________________________\n",
      "dropout_12 (Dropout)         (None, 490)               0         \n",
      "_________________________________________________________________\n",
      "dense_1 (Dense)              (None, 256)               125696    \n",
      "_________________________________________________________________\n",
      "dense_2 (Dense)              (None, 10)                2570      \n",
      "=================================================================\n",
      "Total params: 130,976\n",
      "Trainable params: 130,976\n",
      "Non-trainable params: 0\n",
      "_________________________________________________________________\n",
      "None\n"
     ]
    }
   ],
   "source": [
    "\"\"\"CNN-3-CONV-LAYERS\"\"\"\n",
    "from keras.models import Sequential\n",
    "from keras.layers import Dense, Dropout, Activation, Flatten, Conv2D, MaxPooling2D, \\\n",
    "                         ZeroPadding2D\n",
    "\n",
    "model_4= Sequential()\n",
    "model_4.add(Conv2D(filters= 5, kernel_size= (7, 7), padding= 'same', \n",
    "                   input_shape=(x_train.shape[1], x_train.shape[2], x_train.shape[3]), \n",
    "                   activation='relu'))\n",
    "model_4.add(MaxPooling2D(pool_size=(2,2)))\n",
    "model_4.add(Conv2D(filters= 10, kernel_size= (7, 7), \n",
    "                    padding= 'same', activation='relu'))\n",
    "model_4.add(Dropout(0.4))\n",
    "model_4.add(MaxPooling2D(pool_size=(2,2)))\n",
    "\n",
    "model_4.add(Flatten())\n",
    "model_4.add(Dropout(0.5))\n",
    "model_4.add(Dense(256, activation='relu'))\n",
    "model_4.add(Dense(num_classes, activation='softmax'))\n",
    "print(model_4.summary())"
   ]
  },
  {
   "cell_type": "code",
   "execution_count": 13,
   "metadata": {},
   "outputs": [
    {
     "name": "stdout",
     "output_type": "stream",
     "text": [
      "Not using data augmentation.\n",
      "WARNING:tensorflow:From C:\\Users\\ASUS\\Anaconda3\\envs\\tensorflow-gpu\\lib\\site-packages\\tensorflow\\python\\ops\\math_ops.py:3066: to_int32 (from tensorflow.python.ops.math_ops) is deprecated and will be removed in a future version.\n",
      "Instructions for updating:\n",
      "Use tf.cast instead.\n",
      "WARNING:tensorflow:From C:\\Users\\ASUS\\Anaconda3\\envs\\tensorflow-gpu\\lib\\site-packages\\tensorflow\\python\\ops\\math_grad.py:102: div (from tensorflow.python.ops.math_ops) is deprecated and will be removed in a future version.\n",
      "Instructions for updating:\n",
      "Deprecated in favor of operator or tf.math.divide.\n",
      "Train on 54546 samples, validate on 5454 samples\n",
      "Epoch 1/30\n",
      "54546/54546 [==============================] - 17s 305us/step - loss: 0.3759 - acc: 0.5755 - val_loss: 0.2710 - val_acc: 0.7539\n",
      "Epoch 2/30\n",
      "54546/54546 [==============================] - 14s 262us/step - loss: 0.2548 - acc: 0.7517 - val_loss: 0.2259 - val_acc: 0.7888\n",
      "Epoch 3/30\n",
      "54546/54546 [==============================] - 14s 263us/step - loss: 0.2220 - acc: 0.7895 - val_loss: 0.1988 - val_acc: 0.8289\n",
      "Epoch 4/30\n",
      "54546/54546 [==============================] - 14s 263us/step - loss: 0.2044 - acc: 0.8095 - val_loss: 0.1933 - val_acc: 0.8355\n",
      "Epoch 5/30\n",
      "54546/54546 [==============================] - 14s 262us/step - loss: 0.1920 - acc: 0.8231 - val_loss: 0.1709 - val_acc: 0.8517\n",
      "Epoch 6/30\n",
      "54546/54546 [==============================] - 14s 263us/step - loss: 0.1817 - acc: 0.8360 - val_loss: 0.1661 - val_acc: 0.8605\n",
      "Epoch 7/30\n",
      "54546/54546 [==============================] - 14s 263us/step - loss: 0.1767 - acc: 0.8404 - val_loss: 0.1604 - val_acc: 0.8619\n",
      "Epoch 8/30\n",
      "54546/54546 [==============================] - 14s 263us/step - loss: 0.1709 - acc: 0.8472 - val_loss: 0.1591 - val_acc: 0.8596\n",
      "Epoch 9/30\n",
      "54546/54546 [==============================] - 14s 262us/step - loss: 0.1668 - acc: 0.8510 - val_loss: 0.1537 - val_acc: 0.8783\n",
      "Epoch 10/30\n",
      "54546/54546 [==============================] - 15s 267us/step - loss: 0.1629 - acc: 0.8557 - val_loss: 0.1609 - val_acc: 0.8630\n",
      "Epoch 11/30\n",
      "54546/54546 [==============================] - 15s 267us/step - loss: 0.1591 - acc: 0.8601 - val_loss: 0.1439 - val_acc: 0.8838\n",
      "Epoch 12/30\n",
      "54546/54546 [==============================] - 15s 268us/step - loss: 0.1555 - acc: 0.8653 - val_loss: 0.1447 - val_acc: 0.8794\n",
      "Epoch 13/30\n",
      "54546/54546 [==============================] - 14s 264us/step - loss: 0.1557 - acc: 0.8640 - val_loss: 0.1571 - val_acc: 0.8687\n",
      "Epoch 14/30\n",
      "54546/54546 [==============================] - 15s 266us/step - loss: 0.1530 - acc: 0.8666 - val_loss: 0.1365 - val_acc: 0.8865\n",
      "Epoch 15/30\n",
      "54546/54546 [==============================] - 14s 265us/step - loss: 0.1499 - acc: 0.8720 - val_loss: 0.1406 - val_acc: 0.8849\n",
      "Epoch 16/30\n",
      "54546/54546 [==============================] - 14s 262us/step - loss: 0.1481 - acc: 0.8734 - val_loss: 0.1424 - val_acc: 0.8792\n",
      "Epoch 17/30\n",
      "54546/54546 [==============================] - 14s 261us/step - loss: 0.1451 - acc: 0.8778 - val_loss: 0.1341 - val_acc: 0.8931\n",
      "Epoch 18/30\n",
      "54546/54546 [==============================] - 14s 261us/step - loss: 0.1425 - acc: 0.8800 - val_loss: 0.1344 - val_acc: 0.8944\n",
      "Epoch 19/30\n",
      "54546/54546 [==============================] - 14s 261us/step - loss: 0.1422 - acc: 0.8809 - val_loss: 0.1346 - val_acc: 0.8904\n",
      "Epoch 20/30\n",
      "54546/54546 [==============================] - 14s 260us/step - loss: 0.1402 - acc: 0.8825 - val_loss: 0.1283 - val_acc: 0.8975\n",
      "Epoch 21/30\n",
      "54546/54546 [==============================] - 14s 261us/step - loss: 0.1385 - acc: 0.8852 - val_loss: 0.1325 - val_acc: 0.8982\n",
      "Epoch 22/30\n",
      "54546/54546 [==============================] - 14s 263us/step - loss: 0.1380 - acc: 0.8866 - val_loss: 0.1284 - val_acc: 0.8977\n",
      "Epoch 23/30\n",
      "54546/54546 [==============================] - 14s 261us/step - loss: 0.1373 - acc: 0.8867 - val_loss: 0.1321 - val_acc: 0.8913\n",
      "Epoch 24/30\n",
      "54546/54546 [==============================] - 14s 262us/step - loss: 0.1354 - acc: 0.8884 - val_loss: 0.1266 - val_acc: 0.9017\n",
      "Epoch 25/30\n",
      "54546/54546 [==============================] - 14s 261us/step - loss: 0.1342 - acc: 0.8923 - val_loss: 0.1260 - val_acc: 0.9041\n",
      "Epoch 26/30\n",
      "54546/54546 [==============================] - 14s 262us/step - loss: 0.1338 - acc: 0.8934 - val_loss: 0.1275 - val_acc: 0.8971\n",
      "Epoch 27/30\n",
      "54546/54546 [==============================] - 14s 261us/step - loss: 0.1323 - acc: 0.8923 - val_loss: 0.1259 - val_acc: 0.9019\n",
      "Epoch 28/30\n",
      "54546/54546 [==============================] - 15s 269us/step - loss: 0.1317 - acc: 0.8940 - val_loss: 0.1272 - val_acc: 0.9087\n",
      "Epoch 29/30\n",
      "54546/54546 [==============================] - 15s 270us/step - loss: 0.1309 - acc: 0.8954 - val_loss: 0.1215 - val_acc: 0.9111\n",
      "Epoch 30/30\n",
      "54546/54546 [==============================] - 15s 268us/step - loss: 0.1291 - acc: 0.8966 - val_loss: 0.1176 - val_acc: 0.9091\n"
     ]
    }
   ],
   "source": [
    "\"\"\"one-CONV-LAYERS-THICK\"\"\"\n",
    "if not data_augmentation:\n",
    "    print('Not using data augmentation.')\n",
    "    train_history_0= model_0.fit(\n",
    "        x_train,\n",
    "        y_train,\n",
    "        batch_size=batch_size,\n",
    "        epochs=epochs,\n",
    "        validation_split= Vld_Splt,\n",
    "        shuffle=True)\n",
    "else:\n",
    "    print('Using real-time data augmentation.')\n",
    "    # This will do preprocessing and realtime data augmentation:\n",
    "    datagen = ImageDataGenerator(\n",
    "        featurewise_center=False,  # set input mean to 0 over the dataset\n",
    "        samplewise_center=False,  # set each sample mean to 0\n",
    "        featurewise_std_normalization=False,  # divide inputs by dataset std\n",
    "        samplewise_std_normalization=False,  # divide each input by its std\n",
    "        zca_whitening=False,  # apply ZCA whitening\n",
    "        zca_epsilon=1e-06,  # epsilon for ZCA whitening\n",
    "        rotation_range=0,  # randomly rotate images in 0 to 180 degrees\n",
    "        width_shift_range=0.1,  # randomly shift images horizontally\n",
    "        height_shift_range=0.1,  # randomly shift images vertically\n",
    "        shear_range=0.,  # set range for random shear\n",
    "        zoom_range=0.,  # set range for random zoom\n",
    "        channel_shift_range=0.,  # set range for random channel shifts\n",
    "        # set mode for filling points outside the input boundaries\n",
    "        fill_mode='nearest',\n",
    "        cval=0.,  # value used for fill_mode = \"constant\"\n",
    "        horizontal_flip=True,  # randomly flip images\n",
    "        vertical_flip=False,  # randomly flip images\n",
    "        # set rescaling factor (applied before any other transformation)\n",
    "        rescale=None,\n",
    "        # set function that will be applied on each input\n",
    "        preprocessing_function=None,\n",
    "        # image data format, either \"channels_first\" or \"channels_last\"\n",
    "        data_format=None,\n",
    "        # fraction of images reserved for validation (strictly between 0 and 1)\n",
    "        validation_split=0.0)\n",
    "\n",
    "    # Compute quantities required for feature-wise normalization\n",
    "    # (std, mean, and principal components if ZCA whitening is applied).\n",
    "    datagen.fit(x_train)\n",
    "\n",
    "    # Fit the model on the batches generated by datagen.flow().\n",
    "    train_history_0= model_0.fit_generator(\n",
    "        datagen.flow(x_train, y_train, batch_size=batch_size),\n",
    "        epochs= epochs,\n",
    "        validation_split= Vld_Splt,\n",
    "        steps_per_epoch= int(x_train.shape[0]/ batch_size),\n",
    "        workers=4)"
   ]
  },
  {
   "cell_type": "code",
   "execution_count": 14,
   "metadata": {},
   "outputs": [
    {
     "name": "stdout",
     "output_type": "stream",
     "text": [
      "Not using data augmentation.\n",
      "Train on 54546 samples, validate on 5454 samples\n",
      "Epoch 1/30\n",
      "54546/54546 [==============================] - 7s 129us/step - loss: 0.4057 - acc: 0.4751 - val_loss: 0.2659 - val_acc: 0.7208\n",
      "Epoch 2/30\n",
      "54546/54546 [==============================] - 6s 118us/step - loss: 0.2303 - acc: 0.7597 - val_loss: 0.1908 - val_acc: 0.8135\n",
      "Epoch 3/30\n",
      "54546/54546 [==============================] - 6s 115us/step - loss: 0.1856 - acc: 0.8107 - val_loss: 0.1626 - val_acc: 0.8506\n",
      "Epoch 4/30\n",
      "54546/54546 [==============================] - 6s 116us/step - loss: 0.1634 - acc: 0.8351 - val_loss: 0.1445 - val_acc: 0.8619\n",
      "Epoch 5/30\n",
      "54546/54546 [==============================] - 6s 115us/step - loss: 0.1430 - acc: 0.8591 - val_loss: 0.1248 - val_acc: 0.8788\n",
      "Epoch 6/30\n",
      "54546/54546 [==============================] - 6s 116us/step - loss: 0.1272 - acc: 0.8738 - val_loss: 0.1127 - val_acc: 0.8938\n",
      "Epoch 7/30\n",
      "54546/54546 [==============================] - 6s 115us/step - loss: 0.1164 - acc: 0.8871 - val_loss: 0.1004 - val_acc: 0.9081\n",
      "Epoch 8/30\n",
      "54546/54546 [==============================] - 6s 115us/step - loss: 0.1082 - acc: 0.8961 - val_loss: 0.0980 - val_acc: 0.9052\n",
      "Epoch 9/30\n",
      "54546/54546 [==============================] - 6s 116us/step - loss: 0.1027 - acc: 0.9007 - val_loss: 0.0940 - val_acc: 0.9103\n",
      "Epoch 10/30\n",
      "54546/54546 [==============================] - 6s 116us/step - loss: 0.0991 - acc: 0.9062 - val_loss: 0.0887 - val_acc: 0.9142\n",
      "Epoch 11/30\n",
      "54546/54546 [==============================] - 6s 117us/step - loss: 0.0941 - acc: 0.9114 - val_loss: 0.0858 - val_acc: 0.9158\n",
      "Epoch 12/30\n",
      "54546/54546 [==============================] - 6s 116us/step - loss: 0.0911 - acc: 0.9144 - val_loss: 0.0855 - val_acc: 0.9179\n",
      "Epoch 13/30\n",
      "54546/54546 [==============================] - 6s 116us/step - loss: 0.0880 - acc: 0.9172 - val_loss: 0.0818 - val_acc: 0.9268\n",
      "Epoch 14/30\n",
      "54546/54546 [==============================] - 6s 116us/step - loss: 0.0858 - acc: 0.9195 - val_loss: 0.0808 - val_acc: 0.9190\n",
      "Epoch 15/30\n",
      "54546/54546 [==============================] - 6s 116us/step - loss: 0.0830 - acc: 0.9238 - val_loss: 0.0784 - val_acc: 0.9235\n",
      "Epoch 16/30\n",
      "54546/54546 [==============================] - 6s 116us/step - loss: 0.0808 - acc: 0.9255 - val_loss: 0.0742 - val_acc: 0.9309\n",
      "Epoch 17/30\n",
      "54546/54546 [==============================] - 6s 116us/step - loss: 0.0795 - acc: 0.9280 - val_loss: 0.0742 - val_acc: 0.9318\n",
      "Epoch 18/30\n",
      "54546/54546 [==============================] - 6s 115us/step - loss: 0.0773 - acc: 0.9307 - val_loss: 0.0750 - val_acc: 0.9294\n",
      "Epoch 19/30\n",
      "54546/54546 [==============================] - 6s 116us/step - loss: 0.0758 - acc: 0.9318 - val_loss: 0.0694 - val_acc: 0.9367\n",
      "Epoch 20/30\n",
      "54546/54546 [==============================] - 6s 116us/step - loss: 0.0743 - acc: 0.9335 - val_loss: 0.0715 - val_acc: 0.9342\n",
      "Epoch 21/30\n",
      "54546/54546 [==============================] - 6s 116us/step - loss: 0.0727 - acc: 0.9360 - val_loss: 0.0686 - val_acc: 0.9404\n",
      "Epoch 22/30\n",
      "54546/54546 [==============================] - 6s 116us/step - loss: 0.0708 - acc: 0.9392 - val_loss: 0.0664 - val_acc: 0.9402\n",
      "Epoch 23/30\n",
      "54546/54546 [==============================] - 6s 116us/step - loss: 0.0704 - acc: 0.9380 - val_loss: 0.0676 - val_acc: 0.9393\n",
      "Epoch 24/30\n",
      "54546/54546 [==============================] - 6s 116us/step - loss: 0.0693 - acc: 0.9403 - val_loss: 0.0685 - val_acc: 0.9377\n",
      "Epoch 25/30\n",
      "54546/54546 [==============================] - 6s 115us/step - loss: 0.0677 - acc: 0.9419 - val_loss: 0.0663 - val_acc: 0.9364\n",
      "Epoch 26/30\n",
      "54546/54546 [==============================] - 6s 115us/step - loss: 0.0668 - acc: 0.9425 - val_loss: 0.0665 - val_acc: 0.9384\n",
      "Epoch 27/30\n",
      "54546/54546 [==============================] - 6s 116us/step - loss: 0.0666 - acc: 0.9433 - val_loss: 0.0646 - val_acc: 0.9439\n",
      "Epoch 28/30\n",
      "54546/54546 [==============================] - 6s 115us/step - loss: 0.0651 - acc: 0.9447 - val_loss: 0.0657 - val_acc: 0.9411\n",
      "Epoch 29/30\n",
      "54546/54546 [==============================] - 6s 116us/step - loss: 0.0651 - acc: 0.9442 - val_loss: 0.0650 - val_acc: 0.9439\n",
      "Epoch 30/30\n",
      "54546/54546 [==============================] - 6s 116us/step - loss: 0.0636 - acc: 0.9470 - val_loss: 0.0653 - val_acc: 0.9437\n"
     ]
    }
   ],
   "source": [
    "\"\"\"two-CONV-LAYERS-THICK\"\"\"\n",
    "if not data_augmentation:\n",
    "    print('Not using data augmentation.')\n",
    "    train_history_1= model_1.fit(\n",
    "        x_train,\n",
    "        y_train,\n",
    "        batch_size=batch_size,\n",
    "        epochs=epochs,\n",
    "        validation_split= Vld_Splt,\n",
    "        shuffle=True)\n",
    "else:\n",
    "    print('Using real-time data augmentation.')\n",
    "    # This will do preprocessing and realtime data augmentation:\n",
    "    datagen = ImageDataGenerator(\n",
    "        featurewise_center=False,  # set input mean to 0 over the dataset\n",
    "        samplewise_center=False,  # set each sample mean to 0\n",
    "        featurewise_std_normalization=False,  # divide inputs by dataset std\n",
    "        samplewise_std_normalization=False,  # divide each input by its std\n",
    "        zca_whitening=False,  # apply ZCA whitening\n",
    "        zca_epsilon=1e-06,  # epsilon for ZCA whitening\n",
    "        rotation_range=0,  # randomly rotate images in 0 to 180 degrees\n",
    "        width_shift_range=0.1,  # randomly shift images horizontally\n",
    "        height_shift_range=0.1,  # randomly shift images vertically\n",
    "        shear_range=0.,  # set range for random shear\n",
    "        zoom_range=0.,  # set range for random zoom\n",
    "        channel_shift_range=0.,  # set range for random channel shifts\n",
    "        # set mode for filling points outside the input boundaries\n",
    "        fill_mode='nearest',\n",
    "        cval=0.,  # value used for fill_mode = \"constant\"\n",
    "        horizontal_flip=True,  # randomly flip images\n",
    "        vertical_flip=False,  # randomly flip images\n",
    "        # set rescaling factor (applied before any other transformation)\n",
    "        rescale=None,\n",
    "        # set function that will be applied on each input\n",
    "        preprocessing_function=None,\n",
    "        # image data format, either \"channels_first\" or \"channels_last\"\n",
    "        data_format=None,\n",
    "        # fraction of images reserved for validation (strictly between 0 and 1)\n",
    "        validation_split=0.0)\n",
    "\n",
    "    # Compute quantities required for feature-wise normalization\n",
    "    # (std, mean, and principal components if ZCA whitening is applied).\n",
    "    datagen.fit(x_train)\n",
    "\n",
    "    # Fit the model on the batches generated by datagen.flow().\n",
    "    train_history_1= model_1.fit_generator(\n",
    "        datagen.flow(x_train, y_train, batch_size=batch_size),\n",
    "        epochs= epochs,\n",
    "        validation_split= Vld_Splt,\n",
    "        steps_per_epoch= int(x_train.shape[0]/ batch_size),\n",
    "        workers=4)"
   ]
  },
  {
   "cell_type": "code",
   "execution_count": 57,
   "metadata": {},
   "outputs": [
    {
     "name": "stdout",
     "output_type": "stream",
     "text": [
      "Not using data augmentation.\n",
      "Train on 54546 samples, validate on 5454 samples\n",
      "Epoch 1/30\n",
      "54546/54546 [==============================] - 6s 113us/step - loss: 0.3642 - acc: 0.5114 - val_loss: 0.2376 - val_acc: 0.7275\n",
      "Epoch 2/30\n",
      "54546/54546 [==============================] - 5s 86us/step - loss: 0.1989 - acc: 0.7848 - val_loss: 0.1475 - val_acc: 0.8480\n",
      "Epoch 3/30\n",
      "54546/54546 [==============================] - 5s 85us/step - loss: 0.1390 - acc: 0.8543 - val_loss: 0.1118 - val_acc: 0.8845\n",
      "Epoch 4/30\n",
      "54546/54546 [==============================] - 5s 88us/step - loss: 0.1121 - acc: 0.8803 - val_loss: 0.0958 - val_acc: 0.9021\n",
      "Epoch 5/30\n",
      "54546/54546 [==============================] - 5s 93us/step - loss: 0.0974 - acc: 0.8964 - val_loss: 0.0862 - val_acc: 0.9096\n",
      "Epoch 6/30\n",
      "54546/54546 [==============================] - 5s 94us/step - loss: 0.0885 - acc: 0.9064 - val_loss: 0.0777 - val_acc: 0.9147\n",
      "Epoch 7/30\n",
      "54546/54546 [==============================] - 5s 95us/step - loss: 0.0811 - acc: 0.9151 - val_loss: 0.0734 - val_acc: 0.9217\n",
      "Epoch 8/30\n",
      "54546/54546 [==============================] - 5s 84us/step - loss: 0.0750 - acc: 0.9218 - val_loss: 0.0672 - val_acc: 0.9320\n",
      "Epoch 9/30\n",
      "54546/54546 [==============================] - 5s 83us/step - loss: 0.0692 - acc: 0.9282 - val_loss: 0.0685 - val_acc: 0.9314\n",
      "Epoch 10/30\n",
      "54546/54546 [==============================] - 5s 86us/step - loss: 0.0648 - acc: 0.9338 - val_loss: 0.0593 - val_acc: 0.9400\n",
      "Epoch 11/30\n",
      "54546/54546 [==============================] - 5s 84us/step - loss: 0.0615 - acc: 0.9372 - val_loss: 0.0548 - val_acc: 0.9443\n",
      "Epoch 12/30\n",
      "54546/54546 [==============================] - 5s 84us/step - loss: 0.0583 - acc: 0.9404 - val_loss: 0.0577 - val_acc: 0.9399\n",
      "Epoch 13/30\n",
      "54546/54546 [==============================] - 5s 84us/step - loss: 0.0564 - acc: 0.9444 - val_loss: 0.0528 - val_acc: 0.9474\n",
      "Epoch 14/30\n",
      "54546/54546 [==============================] - 5s 84us/step - loss: 0.0542 - acc: 0.9470 - val_loss: 0.0529 - val_acc: 0.9454\n",
      "Epoch 15/30\n",
      "54546/54546 [==============================] - 5s 84us/step - loss: 0.0524 - acc: 0.9484 - val_loss: 0.0535 - val_acc: 0.9498\n",
      "Epoch 16/30\n",
      "54546/54546 [==============================] - 5s 84us/step - loss: 0.0509 - acc: 0.9510 - val_loss: 0.0517 - val_acc: 0.9492 loss: 0.0509 - acc:\n",
      "Epoch 17/30\n",
      "54546/54546 [==============================] - 5s 83us/step - loss: 0.0499 - acc: 0.9519 - val_loss: 0.0497 - val_acc: 0.9477\n",
      "Epoch 18/30\n",
      "54546/54546 [==============================] - 5s 83us/step - loss: 0.0483 - acc: 0.9538 - val_loss: 0.0525 - val_acc: 0.9463\n",
      "Epoch 19/30\n",
      "54546/54546 [==============================] - 5s 83us/step - loss: 0.0474 - acc: 0.9550 - val_loss: 0.0483 - val_acc: 0.9468\n",
      "Epoch 20/30\n",
      "54546/54546 [==============================] - 5s 85us/step - loss: 0.0462 - acc: 0.9556 - val_loss: 0.0449 - val_acc: 0.9562\n",
      "Epoch 21/30\n",
      "54546/54546 [==============================] - 5s 84us/step - loss: 0.0451 - acc: 0.9575 - val_loss: 0.0451 - val_acc: 0.9551\n",
      "Epoch 22/30\n",
      "54546/54546 [==============================] - 5s 83us/step - loss: 0.0441 - acc: 0.9580 - val_loss: 0.0479 - val_acc: 0.9512\n",
      "Epoch 23/30\n",
      "54546/54546 [==============================] - 5s 84us/step - loss: 0.0435 - acc: 0.9588 - val_loss: 0.0464 - val_acc: 0.9514\n",
      "Epoch 24/30\n",
      "54546/54546 [==============================] - 5s 83us/step - loss: 0.0425 - acc: 0.9610 - val_loss: 0.0504 - val_acc: 0.9454\n",
      "Epoch 25/30\n",
      "54546/54546 [==============================] - 5s 83us/step - loss: 0.0422 - acc: 0.9610 - val_loss: 0.0467 - val_acc: 0.9529\n",
      "Epoch 26/30\n",
      "54546/54546 [==============================] - 5s 83us/step - loss: 0.0414 - acc: 0.9616 - val_loss: 0.0454 - val_acc: 0.9551\n",
      "Epoch 27/30\n",
      "54546/54546 [==============================] - 4s 82us/step - loss: 0.0405 - acc: 0.9632 - val_loss: 0.0455 - val_acc: 0.9531\n",
      "Epoch 28/30\n",
      "54546/54546 [==============================] - 5s 84us/step - loss: 0.0401 - acc: 0.9640 - val_loss: 0.0464 - val_acc: 0.9521\n",
      "Epoch 29/30\n",
      "54546/54546 [==============================] - 5s 83us/step - loss: 0.0395 - acc: 0.9643 - val_loss: 0.0419 - val_acc: 0.9573\n",
      "Epoch 30/30\n",
      "54546/54546 [==============================] - 5s 85us/step - loss: 0.0387 - acc: 0.9650 - val_loss: 0.0442 - val_acc: 0.9558\n"
     ]
    }
   ],
   "source": [
    "\"\"\"three-CONV-LAYERS-THICK\"\"\"\n",
    "if not data_augmentation:\n",
    "    print('Not using data augmentation.')\n",
    "    train_history_2= model_2.fit(\n",
    "        x_train,\n",
    "        y_train,\n",
    "        batch_size=batch_size,\n",
    "        epochs=epochs,\n",
    "        validation_split= Vld_Splt,\n",
    "        shuffle=True)\n",
    "else:\n",
    "    print('Using real-time data augmentation.')\n",
    "    # This will do preprocessing and realtime data augmentation:\n",
    "    datagen = ImageDataGenerator(\n",
    "        featurewise_center=False,  # set input mean to 0 over the dataset\n",
    "        samplewise_center=False,  # set each sample mean to 0\n",
    "        featurewise_std_normalization=False,  # divide inputs by dataset std\n",
    "        samplewise_std_normalization=False,  # divide each input by its std\n",
    "        zca_whitening=False,  # apply ZCA whitening\n",
    "        zca_epsilon=1e-06,  # epsilon for ZCA whitening\n",
    "        rotation_range=0,  # randomly rotate images in 0 to 180 degrees\n",
    "        width_shift_range=0.1,  # randomly shift images horizontally\n",
    "        height_shift_range=0.1,  # randomly shift images vertically\n",
    "        shear_range=0.,  # set range for random shear\n",
    "        zoom_range=0.,  # set range for random zoom\n",
    "        channel_shift_range=0.,  # set range for random channel shifts\n",
    "        # set mode for filling points outside the input boundaries\n",
    "        fill_mode='nearest',\n",
    "        cval=0.,  # value used for fill_mode = \"constant\"\n",
    "        horizontal_flip=True,  # randomly flip images\n",
    "        vertical_flip=False,  # randomly flip images\n",
    "        # set rescaling factor (applied before any other transformation)\n",
    "        rescale=None,\n",
    "        # set function that will be applied on each input\n",
    "        preprocessing_function=None,\n",
    "        # image data format, either \"channels_first\" or \"channels_last\"\n",
    "        data_format=None,\n",
    "        # fraction of images reserved for validation (strictly between 0 and 1)\n",
    "        validation_split=0.0)\n",
    "\n",
    "    # Compute quantities required for feature-wise normalization\n",
    "    # (std, mean, and principal components if ZCA whitening is applied).\n",
    "    datagen.fit(x_train)\n",
    "\n",
    "    # Fit the model on the batches generated by datagen.flow().\n",
    "    train_history_2= model_2.fit_generator(\n",
    "        datagen.flow(x_train, y_train, batch_size=batch_size),\n",
    "        epochs= epochs,\n",
    "        validation_split= Vld_Splt,\n",
    "        steps_per_epoch= int(x_train.shape[0]/ batch_size),\n",
    "        workers=4)"
   ]
  },
  {
   "cell_type": "code",
   "execution_count": 58,
   "metadata": {},
   "outputs": [
    {
     "name": "stdout",
     "output_type": "stream",
     "text": [
      "Not using data augmentation.\n",
      "Train on 54546 samples, validate on 5454 samples\n",
      "Epoch 1/30\n",
      "54546/54546 [==============================] - 5s 94us/step - loss: 0.3436 - acc: 0.5350 - val_loss: 0.1892 - val_acc: 0.7772\n",
      "Epoch 2/30\n",
      "54546/54546 [==============================] - 4s 70us/step - loss: 0.1588 - acc: 0.8129 - val_loss: 0.1159 - val_acc: 0.8629\n",
      "Epoch 3/30\n",
      "54546/54546 [==============================] - 4s 71us/step - loss: 0.1109 - acc: 0.8674 - val_loss: 0.0860 - val_acc: 0.8940\n",
      "Epoch 4/30\n",
      "54546/54546 [==============================] - 4s 70us/step - loss: 0.0906 - acc: 0.8897 - val_loss: 0.0790 - val_acc: 0.9025\n",
      "Epoch 5/30\n",
      "54546/54546 [==============================] - 4s 71us/step - loss: 0.0789 - acc: 0.9034 - val_loss: 0.0684 - val_acc: 0.9168\n",
      "Epoch 6/30\n",
      "54546/54546 [==============================] - 4s 74us/step - loss: 0.0721 - acc: 0.9119 - val_loss: 0.0606 - val_acc: 0.9234\n",
      "Epoch 7/30\n",
      "54546/54546 [==============================] - 4s 78us/step - loss: 0.0656 - acc: 0.9200 - val_loss: 0.0570 - val_acc: 0.9274oss: 0.0662 - ac\n",
      "Epoch 8/30\n",
      "54546/54546 [==============================] - 5s 84us/step - loss: 0.0612 - acc: 0.9258 - val_loss: 0.0545 - val_acc: 0.9320\n",
      "Epoch 9/30\n",
      "54546/54546 [==============================] - 4s 81us/step - loss: 0.0581 - acc: 0.9291 - val_loss: 0.0513 - val_acc: 0.9356\n",
      "Epoch 10/30\n",
      "54546/54546 [==============================] - 4s 73us/step - loss: 0.0548 - acc: 0.9331 - val_loss: 0.0488 - val_acc: 0.9367\n",
      "Epoch 11/30\n",
      "54546/54546 [==============================] - 4s 72us/step - loss: 0.0541 - acc: 0.9340 - val_loss: 0.0467 - val_acc: 0.9446\n",
      "Epoch 12/30\n",
      "54546/54546 [==============================] - 4s 77us/step - loss: 0.0509 - acc: 0.9379 - val_loss: 0.0506 - val_acc: 0.9364\n",
      "Epoch 13/30\n",
      "54546/54546 [==============================] - 4s 74us/step - loss: 0.0488 - acc: 0.9411 - val_loss: 0.0440 - val_acc: 0.9444\n",
      "Epoch 14/30\n",
      "54546/54546 [==============================] - 5s 90us/step - loss: 0.0478 - acc: 0.9419 - val_loss: 0.0459 - val_acc: 0.9367\n",
      "Epoch 15/30\n",
      "54546/54546 [==============================] - 4s 75us/step - loss: 0.0457 - acc: 0.9446 - val_loss: 0.0423 - val_acc: 0.9472\n",
      "Epoch 16/30\n",
      "54546/54546 [==============================] - 4s 76us/step - loss: 0.0442 - acc: 0.9462 - val_loss: 0.0491 - val_acc: 0.9384\n",
      "Epoch 17/30\n",
      "54546/54546 [==============================] - 4s 73us/step - loss: 0.0428 - acc: 0.9485 - val_loss: 0.0416 - val_acc: 0.9457\n",
      "Epoch 18/30\n",
      "54546/54546 [==============================] - 5s 87us/step - loss: 0.0430 - acc: 0.9482 - val_loss: 0.0453 - val_acc: 0.9432\n",
      "Epoch 19/30\n",
      "54546/54546 [==============================] - 4s 76us/step - loss: 0.0413 - acc: 0.9500 - val_loss: 0.0434 - val_acc: 0.9455\n",
      "Epoch 20/30\n",
      "54546/54546 [==============================] - 4s 74us/step - loss: 0.0399 - acc: 0.9519 - val_loss: 0.0397 - val_acc: 0.9488\n",
      "Epoch 21/30\n",
      "54546/54546 [==============================] - 4s 69us/step - loss: 0.0388 - acc: 0.9536 - val_loss: 0.0451 - val_acc: 0.9435\n",
      "Epoch 22/30\n",
      "54546/54546 [==============================] - 4s 69us/step - loss: 0.0389 - acc: 0.9533 - val_loss: 0.0416 - val_acc: 0.9474\n",
      "Epoch 23/30\n",
      "54546/54546 [==============================] - 4s 70us/step - loss: 0.0375 - acc: 0.9554 - val_loss: 0.0384 - val_acc: 0.9510\n",
      "Epoch 24/30\n",
      "54546/54546 [==============================] - 4s 67us/step - loss: 0.0365 - acc: 0.9563 - val_loss: 0.0399 - val_acc: 0.9461\n",
      "Epoch 25/30\n",
      "54546/54546 [==============================] - 5s 83us/step - loss: 0.0360 - acc: 0.9573 - val_loss: 0.0382 - val_acc: 0.9520\n",
      "Epoch 26/30\n",
      "54546/54546 [==============================] - 4s 75us/step - loss: 0.0348 - acc: 0.9583 - val_loss: 0.0407 - val_acc: 0.9487\n",
      "Epoch 27/30\n",
      "54546/54546 [==============================] - 4s 74us/step - loss: 0.0343 - acc: 0.9594 - val_loss: 0.0369 - val_acc: 0.9532\n",
      "Epoch 28/30\n",
      "54546/54546 [==============================] - 5s 89us/step - loss: 0.0324 - acc: 0.9626 - val_loss: 0.0389 - val_acc: 0.9499\n",
      "Epoch 29/30\n",
      "54546/54546 [==============================] - 4s 79us/step - loss: 0.0340 - acc: 0.9597 - val_loss: 0.0388 - val_acc: 0.9505\n",
      "Epoch 30/30\n",
      "54546/54546 [==============================] - 4s 74us/step - loss: 0.0328 - acc: 0.9613 - val_loss: 0.0379 - val_acc: 0.9547\n"
     ]
    }
   ],
   "source": [
    "\"\"\"four-CONV-LAYERS-THICK\"\"\"\n",
    "if not data_augmentation:\n",
    "    print('Not using data augmentation.')\n",
    "    train_history_3= model_3.fit(\n",
    "        x_train,\n",
    "        y_train,\n",
    "        batch_size=batch_size,\n",
    "        epochs=epochs,\n",
    "        validation_split= Vld_Splt,\n",
    "        shuffle=True)\n",
    "else:\n",
    "    print('Using real-time data augmentation.')\n",
    "    # This will do preprocessing and realtime data augmentation:\n",
    "    datagen = ImageDataGenerator(\n",
    "        featurewise_center=False,  # set input mean to 0 over the dataset\n",
    "        samplewise_center=False,  # set each sample mean to 0\n",
    "        featurewise_std_normalization=False,  # divide inputs by dataset std\n",
    "        samplewise_std_normalization=False,  # divide each input by its std\n",
    "        zca_whitening=False,  # apply ZCA whitening\n",
    "        zca_epsilon=1e-06,  # epsilon for ZCA whitening\n",
    "        rotation_range=0,  # randomly rotate images in 0 to 180 degrees\n",
    "        width_shift_range=0.1,  # randomly shift images horizontally\n",
    "        height_shift_range=0.1,  # randomly shift images vertically\n",
    "        shear_range=0.,  # set range for random shear\n",
    "        zoom_range=0.,  # set range for random zoom\n",
    "        channel_shift_range=0.,  # set range for random channel shifts\n",
    "        # set mode for filling points outside the input boundaries\n",
    "        fill_mode='nearest',\n",
    "        cval=0.,  # value used for fill_mode = \"constant\"\n",
    "        horizontal_flip=True,  # randomly flip images\n",
    "        vertical_flip=False,  # randomly flip images\n",
    "        # set rescaling factor (applied before any other transformation)\n",
    "        rescale=None,\n",
    "        # set function that will be applied on each input\n",
    "        preprocessing_function=None,\n",
    "        # image data format, either \"channels_first\" or \"channels_last\"\n",
    "        data_format=None,\n",
    "        # fraction of images reserved for validation (strictly between 0 and 1)\n",
    "        validation_split=0.0)\n",
    "\n",
    "    # Compute quantities required for feature-wise normalization\n",
    "    # (std, mean, and principal components if ZCA whitening is applied).\n",
    "    datagen.fit(x_train)\n",
    "\n",
    "    # Fit the model on the batches generated by datagen.flow().\n",
    "    train_history_3= model_3.fit_generator(\n",
    "        datagen.flow(x_train, y_train, batch_size=batch_size),\n",
    "        epochs= epochs,\n",
    "        validation_split= Vld_Splt,\n",
    "        steps_per_epoch= int(x_train.shape[0]/ batch_size),\n",
    "        workers=4)"
   ]
  },
  {
   "cell_type": "code",
   "execution_count": 17,
   "metadata": {},
   "outputs": [
    {
     "name": "stdout",
     "output_type": "stream",
     "text": [
      "Train on 54546 samples, validate on 5454 samples\n",
      "Epoch 1/30\n",
      "54546/54546 [==============================] - 3s 47us/step - loss: 1.2822 - acc: 0.5606 - val_loss: 0.7776 - val_acc: 0.7851\n",
      "Epoch 2/30\n",
      "54546/54546 [==============================] - 2s 37us/step - loss: 0.7962 - acc: 0.7385 - val_loss: 0.6057 - val_acc: 0.8416\n",
      "Epoch 3/30\n",
      "54546/54546 [==============================] - 2s 36us/step - loss: 0.6606 - acc: 0.7813 - val_loss: 0.5178 - val_acc: 0.8612\n",
      "Epoch 4/30\n",
      "54546/54546 [==============================] - 2s 36us/step - loss: 0.5746 - acc: 0.8110 - val_loss: 0.4372 - val_acc: 0.8808\n",
      "Epoch 5/30\n",
      "54546/54546 [==============================] - 2s 36us/step - loss: 0.5276 - acc: 0.8241 - val_loss: 0.3977 - val_acc: 0.8937\n",
      "Epoch 6/30\n",
      "54546/54546 [==============================] - 2s 36us/step - loss: 0.4783 - acc: 0.8383 - val_loss: 0.3649 - val_acc: 0.8982\n",
      "Epoch 7/30\n",
      "54546/54546 [==============================] - 2s 36us/step - loss: 0.4445 - acc: 0.8517 - val_loss: 0.3509 - val_acc: 0.9050\n",
      "Epoch 8/30\n",
      "54546/54546 [==============================] - 2s 36us/step - loss: 0.4208 - acc: 0.8571 - val_loss: 0.3214 - val_acc: 0.9124\n",
      "Epoch 9/30\n",
      "54546/54546 [==============================] - 2s 36us/step - loss: 0.3978 - acc: 0.8666 - val_loss: 0.2982 - val_acc: 0.9186\n",
      "Epoch 10/30\n",
      "54546/54546 [==============================] - 2s 36us/step - loss: 0.3812 - acc: 0.8708 - val_loss: 0.2814 - val_acc: 0.9239\n",
      "Epoch 11/30\n",
      "54546/54546 [==============================] - 2s 36us/step - loss: 0.3701 - acc: 0.8738 - val_loss: 0.2883 - val_acc: 0.9206\n",
      "Epoch 12/30\n",
      "54546/54546 [==============================] - 2s 35us/step - loss: 0.3563 - acc: 0.8807 - val_loss: 0.2683 - val_acc: 0.9234\n",
      "Epoch 13/30\n",
      "54546/54546 [==============================] - 2s 36us/step - loss: 0.3421 - acc: 0.8849 - val_loss: 0.2596 - val_acc: 0.9320\n",
      "Epoch 14/30\n",
      "54546/54546 [==============================] - 2s 35us/step - loss: 0.3385 - acc: 0.8856 - val_loss: 0.2539 - val_acc: 0.9336\n",
      "Epoch 15/30\n",
      "54546/54546 [==============================] - 2s 38us/step - loss: 0.3246 - acc: 0.8909 - val_loss: 0.2498 - val_acc: 0.9327\n",
      "Epoch 16/30\n",
      "54546/54546 [==============================] - 2s 37us/step - loss: 0.3166 - acc: 0.8923 - val_loss: 0.2322 - val_acc: 0.9347\n",
      "Epoch 17/30\n",
      "54546/54546 [==============================] - 2s 36us/step - loss: 0.3086 - acc: 0.8953 - val_loss: 0.2270 - val_acc: 0.9375\n",
      "Epoch 18/30\n",
      "54546/54546 [==============================] - 2s 36us/step - loss: 0.3045 - acc: 0.8966 - val_loss: 0.2300 - val_acc: 0.9391\n",
      "Epoch 19/30\n",
      "54546/54546 [==============================] - 2s 36us/step - loss: 0.2994 - acc: 0.8990 - val_loss: 0.2317 - val_acc: 0.9371\n",
      "Epoch 20/30\n",
      "54546/54546 [==============================] - 2s 36us/step - loss: 0.2959 - acc: 0.9003 - val_loss: 0.2222 - val_acc: 0.9388\n",
      "Epoch 21/30\n",
      "54546/54546 [==============================] - 2s 35us/step - loss: 0.2901 - acc: 0.9004 - val_loss: 0.2182 - val_acc: 0.9388\n",
      "Epoch 22/30\n",
      "54546/54546 [==============================] - 2s 36us/step - loss: 0.2838 - acc: 0.9041 - val_loss: 0.2113 - val_acc: 0.9448\n",
      "Epoch 23/30\n",
      "54546/54546 [==============================] - 2s 36us/step - loss: 0.2789 - acc: 0.9060 - val_loss: 0.2104 - val_acc: 0.9408\n",
      "Epoch 24/30\n",
      "54546/54546 [==============================] - 2s 36us/step - loss: 0.2747 - acc: 0.9061 - val_loss: 0.2059 - val_acc: 0.9428\n",
      "Epoch 25/30\n",
      "54546/54546 [==============================] - 2s 36us/step - loss: 0.2686 - acc: 0.9080 - val_loss: 0.2109 - val_acc: 0.9402\n",
      "Epoch 26/30\n",
      "54546/54546 [==============================] - 2s 35us/step - loss: 0.2623 - acc: 0.9107 - val_loss: 0.2048 - val_acc: 0.9411\n",
      "Epoch 27/30\n",
      "54546/54546 [==============================] - 2s 35us/step - loss: 0.2622 - acc: 0.9096 - val_loss: 0.2030 - val_acc: 0.9413\n",
      "Epoch 28/30\n",
      "54546/54546 [==============================] - 2s 36us/step - loss: 0.2595 - acc: 0.9111 - val_loss: 0.2064 - val_acc: 0.9424\n",
      "Epoch 29/30\n",
      "54546/54546 [==============================] - 2s 36us/step - loss: 0.2525 - acc: 0.9151 - val_loss: 0.2026 - val_acc: 0.9430\n",
      "Epoch 30/30\n",
      "54546/54546 [==============================] - 2s 36us/step - loss: 0.2488 - acc: 0.9154 - val_loss: 0.1947 - val_acc: 0.9452\n"
     ]
    }
   ],
   "source": [
    "\"\"\"CNN-3-CONV-LAYERS\"\"\"\n",
    "model_4.compile(loss='categorical_crossentropy',\n",
    "              optimizer='adam', metrics=['accuracy'])\n",
    "train_history_4= model_4.fit(x= x_train, y= y_train, validation_split= Vld_Splt,\n",
    "                         epochs= epochs, batch_size= batch_size, verbose=1)"
   ]
  },
  {
   "cell_type": "code",
   "execution_count": 59,
   "metadata": {},
   "outputs": [
    {
     "name": "stdout",
     "output_type": "stream",
     "text": [
      "10000/10000 [==============================] - 1s 105us/step\n"
     ]
    },
    {
     "data": {
      "text/plain": [
       "0.9005"
      ]
     },
     "execution_count": 59,
     "metadata": {},
     "output_type": "execute_result"
    }
   ],
   "source": [
    "\"\"\"one-CONV-LAYERS-THICK\"\"\"\n",
    "scores_0= model_0.evaluate(x_test, y_test)\n",
    "scores_0[1]"
   ]
  },
  {
   "cell_type": "code",
   "execution_count": 60,
   "metadata": {},
   "outputs": [
    {
     "name": "stdout",
     "output_type": "stream",
     "text": [
      "10000/10000 [==============================] - 1s 79us/step\n"
     ]
    },
    {
     "data": {
      "text/plain": [
       "0.9359"
      ]
     },
     "execution_count": 60,
     "metadata": {},
     "output_type": "execute_result"
    }
   ],
   "source": [
    "\"\"\"two-CONV-LAYERS-THICK\"\"\"\n",
    "scores_1= model_1.evaluate(x_test, y_test)\n",
    "scores_1[1]"
   ]
  },
  {
   "cell_type": "code",
   "execution_count": 61,
   "metadata": {},
   "outputs": [
    {
     "name": "stdout",
     "output_type": "stream",
     "text": [
      "10000/10000 [==============================] - 1s 81us/step\n"
     ]
    },
    {
     "data": {
      "text/plain": [
       "0.9508"
      ]
     },
     "execution_count": 61,
     "metadata": {},
     "output_type": "execute_result"
    }
   ],
   "source": [
    "\"\"\"three-CONV-LAYERS-THICK\"\"\"\n",
    "scores_2= model_2.evaluate(x_test, y_test)\n",
    "scores_2[1]"
   ]
  },
  {
   "cell_type": "code",
   "execution_count": 62,
   "metadata": {},
   "outputs": [
    {
     "name": "stdout",
     "output_type": "stream",
     "text": [
      "10000/10000 [==============================] - 1s 91us/step\n"
     ]
    },
    {
     "data": {
      "text/plain": [
       "0.9518"
      ]
     },
     "execution_count": 62,
     "metadata": {},
     "output_type": "execute_result"
    }
   ],
   "source": [
    "\"\"\"four-CONV-LAYERS-THICK\"\"\"\n",
    "scores_3= model_3.evaluate(x_test, y_test)\n",
    "scores_3[1]"
   ]
  },
  {
   "cell_type": "code",
   "execution_count": 63,
   "metadata": {},
   "outputs": [
    {
     "name": "stdout",
     "output_type": "stream",
     "text": [
      "10000/10000 [==============================] - 1s 66us/step\n"
     ]
    },
    {
     "data": {
      "text/plain": [
       "0.9386"
      ]
     },
     "execution_count": 63,
     "metadata": {},
     "output_type": "execute_result"
    }
   ],
   "source": [
    "\"\"\"CNN\"\"\"\n",
    "scores_4= model_4.evaluate(x_test, y_test)\n",
    "scores_4[1]"
   ]
  },
  {
   "cell_type": "code",
   "execution_count": 64,
   "metadata": {},
   "outputs": [],
   "source": [
    "import matplotlib.pyplot as plt\n",
    "def show_train_history(train_history, train, validation):\n",
    "    plt.plot(train_history.history[train])\n",
    "    plt.plot(train_history.history[validation])\n",
    "    plt.title('Train History')\n",
    "    plt.ylabel(train)\n",
    "    plt.xlabel('Epoch')\n",
    "    plt.legend(['train', 'validation'], loc='best')\n",
    "    plt.show()"
   ]
  },
  {
   "cell_type": "code",
   "execution_count": 65,
   "metadata": {},
   "outputs": [
    {
     "data": {
      "image/png": "[encoded data removed]",
      "text/plain": [
       "<Figure size 432x288 with 1 Axes>"
      ]
     },
     "metadata": {
      "needs_background": "light"
     },
     "output_type": "display_data"
    }
   ],
   "source": [
    "show_train_history(train_history_0, 'acc', 'val_acc')"
   ]
  },
  {
   "cell_type": "code",
   "execution_count": 66,
   "metadata": {},
   "outputs": [
    {
     "data": {
      "image/png": "[encoded data removed]",
      "text/plain": [
       "<Figure size 432x288 with 1 Axes>"
      ]
     },
     "metadata": {
      "needs_background": "light"
     },
     "output_type": "display_data"
    }
   ],
   "source": [
    "show_train_history(train_history_1, 'acc', 'val_acc')"
   ]
  },
  {
   "cell_type": "code",
   "execution_count": 67,
   "metadata": {},
   "outputs": [
    {
     "data": {
      "image/png": "[encoded data removed]",
      "text/plain": [
       "<Figure size 432x288 with 1 Axes>"
      ]
     },
     "metadata": {
      "needs_background": "light"
     },
     "output_type": "display_data"
    }
   ],
   "source": [
    "show_train_history(train_history_2, 'acc', 'val_acc')"
   ]
  },
  {
   "cell_type": "code",
   "execution_count": 68,
   "metadata": {},
   "outputs": [
    {
     "data": {
      "image/png": "[encoded data removed]",
      "text/plain": [
       "<Figure size 432x288 with 1 Axes>"
      ]
     },
     "metadata": {
      "needs_background": "light"
     },
     "output_type": "display_data"
    }
   ],
   "source": [
    "show_train_history(train_history_3, 'acc', 'val_acc')"
   ]
  },
  {
   "cell_type": "code",
   "execution_count": 69,
   "metadata": {},
   "outputs": [
    {
     "data": {
      "image/png": "[encoded data removed]",
      "text/plain": [
       "<Figure size 432x288 with 1 Axes>"
      ]
     },
     "metadata": {
      "needs_background": "light"
     },
     "output_type": "display_data"
    }
   ],
   "source": [
    "show_train_history(train_history_4, 'acc', 'val_acc')"
   ]
  },
  {
   "cell_type": "code",
   "execution_count": 70,
   "metadata": {},
   "outputs": [],
   "source": [
    "# show_train_history(train_history_5, 'acc', 'val_acc')"
   ]
  },
  {
   "cell_type": "code",
   "execution_count": 71,
   "metadata": {},
   "outputs": [],
   "source": [
    "# show_train_history(train_history_6, 'acc', 'val_acc')"
   ]
  },
  {
   "cell_type": "code",
   "execution_count": 72,
   "metadata": {},
   "outputs": [
    {
     "data": {
      "image/png": "[encoded data removed]",
      "text/plain": [
       "<Figure size 432x288 with 1 Axes>"
      ]
     },
     "metadata": {
      "needs_background": "light"
     },
     "output_type": "display_data"
    }
   ],
   "source": [
    "plt.plot(train_history_0.history['val_acc'], 'r-')\n",
    "plt.plot(train_history_1.history['val_acc'], 'b--')\n",
    "plt.plot(train_history_2.history['val_acc'], 'k.')\n",
    "plt.plot(train_history_3.history['val_acc'], 'b-')\n",
    "plt.plot(train_history_4.history['val_acc'], 'h-')\n",
    "# plt.plot(train_history_5.history['val_acc'], 'c-')\n",
    "# plt.plot(train_history_6.history['val_acc'], 'g*-')\n",
    "# plt.plot(train_history_7.history['val_acc'], 'k-.')\n",
    "plt.title('Training on HMD')\n",
    "plt.ylabel('Validation Accuracy')\n",
    "plt.xlabel('Epoch')\n",
    "plt.legend(['CapsNet: 1-conv','CapsNet: 2-conv','CapsNet: 3-conv','CapsNet: 4-conv','CNN-2CONV'], loc='best')\n",
    "plt.show()"
   ]
  },
  {
   "cell_type": "code",
   "execution_count": null,
   "metadata": {},
   "outputs": [],
   "source": []
  },
  {
   "cell_type": "code",
   "execution_count": null,
   "metadata": {},
   "outputs": [],
   "source": []
  },
  {
   "cell_type": "code",
   "execution_count": null,
   "metadata": {},
   "outputs": [],
   "source": []
  }
 ],
 "metadata": {
  "kernelspec": {
   "display_name": "Python 3",
   "language": "python",
   "name": "python3"
  },
  "language_info": {
   "codemirror_mode": {
    "name": "ipython",
    "version": 3
   },
   "file_extension": ".py",
   "mimetype": "text/x-python",
   "name": "python",
   "nbconvert_exporter": "python",
   "pygments_lexer": "ipython3",
   "version": "3.6.10"
  }
 },
 "nbformat": 4,
 "nbformat_minor": 2
}
