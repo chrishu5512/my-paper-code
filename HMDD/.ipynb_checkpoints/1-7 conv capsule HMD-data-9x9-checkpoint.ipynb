{
 "cells": [
  {
   "cell_type": "code",
   "execution_count": 1,
   "metadata": {},
   "outputs": [],
   "source": [
    "import os\n"
   ]
  },
  {
   "cell_type": "code",
   "execution_count": 2,
   "metadata": {},
   "outputs": [
    {
     "name": "stderr",
     "output_type": "stream",
     "text": [
      "Using TensorFlow backend.\n",
      "C:\\Users\\ASUS\\Anaconda3\\envs\\tensorflow-gpu\\lib\\site-packages\\tensorflow\\python\\framework\\dtypes.py:526: FutureWarning: Passing (type, 1) or '1type' as a synonym of type is deprecated; in a future version of numpy, it will be understood as (type, (1,)) / '(1,)type'.\n",
      "  _np_qint8 = np.dtype([(\"qint8\", np.int8, 1)])\n",
      "C:\\Users\\ASUS\\Anaconda3\\envs\\tensorflow-gpu\\lib\\site-packages\\tensorflow\\python\\framework\\dtypes.py:527: FutureWarning: Passing (type, 1) or '1type' as a synonym of type is deprecated; in a future version of numpy, it will be understood as (type, (1,)) / '(1,)type'.\n",
      "  _np_quint8 = np.dtype([(\"quint8\", np.uint8, 1)])\n",
      "C:\\Users\\ASUS\\Anaconda3\\envs\\tensorflow-gpu\\lib\\site-packages\\tensorflow\\python\\framework\\dtypes.py:528: FutureWarning: Passing (type, 1) or '1type' as a synonym of type is deprecated; in a future version of numpy, it will be understood as (type, (1,)) / '(1,)type'.\n",
      "  _np_qint16 = np.dtype([(\"qint16\", np.int16, 1)])\n",
      "C:\\Users\\ASUS\\Anaconda3\\envs\\tensorflow-gpu\\lib\\site-packages\\tensorflow\\python\\framework\\dtypes.py:529: FutureWarning: Passing (type, 1) or '1type' as a synonym of type is deprecated; in a future version of numpy, it will be understood as (type, (1,)) / '(1,)type'.\n",
      "  _np_quint16 = np.dtype([(\"quint16\", np.uint16, 1)])\n",
      "C:\\Users\\ASUS\\Anaconda3\\envs\\tensorflow-gpu\\lib\\site-packages\\tensorflow\\python\\framework\\dtypes.py:530: FutureWarning: Passing (type, 1) or '1type' as a synonym of type is deprecated; in a future version of numpy, it will be understood as (type, (1,)) / '(1,)type'.\n",
      "  _np_qint32 = np.dtype([(\"qint32\", np.int32, 1)])\n",
      "C:\\Users\\ASUS\\Anaconda3\\envs\\tensorflow-gpu\\lib\\site-packages\\tensorflow\\python\\framework\\dtypes.py:535: FutureWarning: Passing (type, 1) or '1type' as a synonym of type is deprecated; in a future version of numpy, it will be understood as (type, (1,)) / '(1,)type'.\n",
      "  np_resource = np.dtype([(\"resource\", np.ubyte, 1)])\n"
     ]
    }
   ],
   "source": [
    "from __future__ import print_function\n",
    "from keras import backend as K\n",
    "from keras.layers import Layer\n",
    "from keras import activations\n",
    "from keras import utils\n",
    "from keras.datasets import fashion_mnist\n",
    "from keras.datasets import mnist\n",
    "from keras.models import Model\n",
    "from keras.layers import *\n",
    "from keras.preprocessing.image import ImageDataGenerator\n",
    "import cv2"
   ]
  },
  {
   "cell_type": "code",
   "execution_count": 3,
   "metadata": {},
   "outputs": [],
   "source": [
    "from tensorflow.compat.v1 import ConfigProto\n",
    "from tensorflow.compat.v1 import InteractiveSession\n",
    "\n",
    "config = ConfigProto()\n",
    "config.gpu_options.allow_growth = True\n",
    "session = InteractiveSession(config=config)"
   ]
  },
  {
   "cell_type": "code",
   "execution_count": 4,
   "metadata": {},
   "outputs": [],
   "source": [
    "Vld_Splt= 0.0909\n",
    "batch_size = 200\n",
    "num_classes = 10\n",
    "epochs = 30"
   ]
  },
  {
   "cell_type": "code",
   "execution_count": 5,
   "metadata": {},
   "outputs": [],
   "source": [
    "from keras.utils import np_utils\n",
    "\n",
    "'''LOAD DATA'''\n",
    "Dir= 'C:/pythonwork/MHDD/'\n",
    "x_train= np.load(Dir+'HMDD_Train_X.npy')\n",
    "y_train=np.load(Dir+'HMDD_Train_Y.npy')\n",
    "x_test=np.load(Dir+'HMDD_Test_X.npy')\n",
    "y_test=np.load(Dir+'HMDD_Test_Y.npy')\n",
    "\n",
    "'''PRE-PROCESSING'''\n",
    "x_train = x_train.reshape(-1, 28, 28, 1).astype('float32') / 255.\n",
    "x_test = x_test.reshape(-1, 28, 28, 1).astype('float32') / 255.\n",
    "# n_Vld= int(np.floor(Vld_Splt* x_train.shape[0]))  # Num. of validation data"
   ]
  },
  {
   "cell_type": "code",
   "execution_count": 6,
   "metadata": {},
   "outputs": [
    {
     "name": "stdout",
     "output_type": "stream",
     "text": [
      " (60000, 28, 28, 1) \n",
      " (60000, 10) \n",
      " (10000, 28, 28, 1) \n",
      " (10000, 10) \n",
      "\n"
     ]
    }
   ],
   "source": [
    "print('', x_train.shape,'\\n',y_train.shape,'\\n',x_test.shape,'\\n',y_test.shape,'\\n')"
   ]
  },
  {
   "cell_type": "code",
   "execution_count": 7,
   "metadata": {},
   "outputs": [],
   "source": [
    "# the squashing function.\n",
    "# we use 0.5 in stead of 1 in hinton's paper.\n",
    "# if 1, the norm of vector will be zoomed out.\n",
    "# if 0.5, the norm will be zoomed in while original norm is less than 0.5\n",
    "# and be zoomed out while original norm is greater than 0.5.\n",
    "def squash(x, axis=-1):\n",
    "    s_squared_norm = K.sum(K.square(x), axis, keepdims=True) + K.epsilon()\n",
    "    scale = K.sqrt(s_squared_norm) / (0.5 + s_squared_norm)\n",
    "    return scale * x\n",
    "\n",
    "\n",
    "# define our own softmax function instead of K.softmax\n",
    "# because K.softmax can not specify axis.\n",
    "def softmax(x, axis=-1):\n",
    "    ex = K.exp(x - K.max(x, axis=axis, keepdims=True))\n",
    "    return ex / K.sum(ex, axis=axis, keepdims=True)\n",
    "\n",
    "\n",
    "# define the margin loss like hinge loss\n",
    "def margin_loss(y_true, y_pred):\n",
    "    lamb, margin = 0.5, 0.1\n",
    "    return K.sum(y_true * K.square(K.relu(1 - margin - y_pred)) + lamb * (\n",
    "        1 - y_true) * K.square(K.relu(y_pred - margin)), axis=-1)\n",
    "\n",
    "\n",
    "class Capsule(Layer):\n",
    "    \"\"\"A Capsule Implement with Pure Keras\n",
    "    There are two vesions of Capsule.\n",
    "    One is like dense layer (for the fixed-shape input),\n",
    "    and the other is like timedistributed dense (for various length input).\n",
    "\n",
    "    The input shape of Capsule must be (batch_size,\n",
    "                                        input_num_capsule,\n",
    "                                        input_dim_capsule\n",
    "                                       )\n",
    "    and the output shape is (batch_size,\n",
    "                             num_capsule,\n",
    "                             dim_capsule\n",
    "                            )\n",
    "\n",
    "    Capsule Implement is from https://github.com/bojone/Capsule/\n",
    "    Capsule Paper: https://arxiv.org/abs/1710.09829\n",
    "    \"\"\"\n",
    "\n",
    "    def __init__(self,\n",
    "                 num_capsule,\n",
    "                 dim_capsule,\n",
    "                 routings=3,\n",
    "                 share_weights=True,\n",
    "                 activation='squash',\n",
    "                 **kwargs):\n",
    "        super(Capsule, self).__init__(**kwargs)\n",
    "        self.num_capsule = num_capsule\n",
    "        self.dim_capsule = dim_capsule\n",
    "        self.routings = routings\n",
    "        self.share_weights = share_weights\n",
    "        if activation == 'squash':\n",
    "            self.activation = squash\n",
    "        else:\n",
    "            self.activation = activations.get(activation)\n",
    "\n",
    "    def build(self, input_shape):\n",
    "        input_dim_capsule = input_shape[-1]\n",
    "        if self.share_weights:\n",
    "            self.kernel = self.add_weight(\n",
    "                name='capsule_kernel',\n",
    "                shape=(1, input_dim_capsule,\n",
    "                       self.num_capsule * self.dim_capsule),\n",
    "                initializer='glorot_uniform',\n",
    "                trainable=True)\n",
    "        else:\n",
    "            input_num_capsule = input_shape[-2]\n",
    "            self.kernel = self.add_weight(\n",
    "                name='capsule_kernel',\n",
    "                shape=(input_num_capsule, input_dim_capsule,\n",
    "                       self.num_capsule * self.dim_capsule),\n",
    "                initializer='glorot_uniform',\n",
    "                trainable=True)\n",
    "\n",
    "    def call(self, inputs):\n",
    "        \"\"\"Following the routing algorithm from Hinton's paper,\n",
    "        but replace b = b + <u,v> with b = <u,v>.\n",
    "\n",
    "        This change can improve the feature representation of Capsule.\n",
    "\n",
    "        However, you can replace\n",
    "            b = K.batch_dot(outputs, hat_inputs, [2, 3])\n",
    "        with\n",
    "            b += K.batch_dot(outputs, hat_inputs, [2, 3])\n",
    "        to realize a standard routing.\n",
    "        \"\"\"\n",
    "\n",
    "        if self.share_weights:\n",
    "            hat_inputs = K.conv1d(inputs, self.kernel)\n",
    "        else:\n",
    "            hat_inputs = K.local_conv1d(inputs, self.kernel, [1], [1])\n",
    "\n",
    "        batch_size = K.shape(inputs)[0]\n",
    "        input_num_capsule = K.shape(inputs)[1]\n",
    "        hat_inputs = K.reshape(hat_inputs,\n",
    "                               (batch_size, input_num_capsule,\n",
    "                                self.num_capsule, self.dim_capsule))\n",
    "        hat_inputs = K.permute_dimensions(hat_inputs, (0, 2, 1, 3))\n",
    "\n",
    "        b = K.zeros_like(hat_inputs[:, :, :, 0])\n",
    "        for i in range(self.routings):\n",
    "            c = softmax(b, 1)\n",
    "            o = self.activation(K.batch_dot(c, hat_inputs, [2, 2]))\n",
    "            if i < self.routings - 1:\n",
    "                b = K.batch_dot(o, hat_inputs, [2, 3])\n",
    "                if K.backend() == 'theano':\n",
    "                    o = K.sum(o, axis=1)\n",
    "\n",
    "        return o\n",
    "\n",
    "    def compute_output_shape(self, input_shape):\n",
    "        return (None, self.num_capsule, self.dim_capsule)"
   ]
  },
  {
   "cell_type": "code",
   "execution_count": 8,
   "metadata": {},
   "outputs": [
    {
     "name": "stdout",
     "output_type": "stream",
     "text": [
      "WARNING:tensorflow:From C:\\Users\\ASUS\\Anaconda3\\envs\\tensorflow-gpu\\lib\\site-packages\\tensorflow\\python\\framework\\op_def_library.py:263: colocate_with (from tensorflow.python.framework.ops) is deprecated and will be removed in a future version.\n",
      "Instructions for updating:\n",
      "Colocations handled automatically by placer.\n",
      "WARNING:tensorflow:From C:\\Users\\ASUS\\Anaconda3\\envs\\tensorflow-gpu\\lib\\site-packages\\keras\\backend\\tensorflow_backend.py:3445: calling dropout (from tensorflow.python.ops.nn_ops) with keep_prob is deprecated and will be removed in a future version.\n",
      "Instructions for updating:\n",
      "Please use `rate` instead of `keep_prob`. Rate should be set to `rate = 1 - keep_prob`.\n",
      "_________________________________________________________________\n",
      "Layer (type)                 Output Shape              Param #   \n",
      "=================================================================\n",
      "input_1 (InputLayer)         (None, 28, 28, 1)         0         \n",
      "_________________________________________________________________\n",
      "conv2d_1 (Conv2D)            (None, 20, 20, 210)       17220     \n",
      "_________________________________________________________________\n",
      "dropout_1 (Dropout)          (None, 20, 20, 210)       0         \n",
      "_________________________________________________________________\n",
      "reshape_1 (Reshape)          (None, 400, 210)          0         \n",
      "_________________________________________________________________\n",
      "capsule_1 (Capsule)          (None, 10, 16)            33600     \n",
      "_________________________________________________________________\n",
      "lambda_1 (Lambda)            (None, 10)                0         \n",
      "=================================================================\n",
      "Total params: 50,820\n",
      "Trainable params: 50,820\n",
      "Non-trainable params: 0\n",
      "_________________________________________________________________\n"
     ]
    }
   ],
   "source": [
    "\"\"\"one-CONV-LAYERS-THICK\"\"\"\n",
    "input_image = Input(shape=(x_train.shape[1], x_train.shape[2], x_train.shape[3]))\n",
    "x_0 = Conv2D(filters= 210, kernel_size= 9, activation='relu', \n",
    "             padding= 'valid')(input_image)\n",
    "x_0= Dropout(0.1)(x_0)\n",
    "\n",
    "\n",
    "\"\"\"now we reshape it as (batch_size, input_num_capsule, input_dim_capsule)\n",
    "then connect a Capsule layer.\n",
    "\n",
    "the output of final model is the lengths of 10 Capsule, whose dim=16.\n",
    "\n",
    "the length of Capsule is the proba,\n",
    "so the problem becomes a 10 two-classification problem.\n",
    "\"\"\"\n",
    "\n",
    "x_0 = Reshape((-1, 210))(x_0)\n",
    "capsule_0 = Capsule(num_classes, 16, 3, True)(x_0)\n",
    "output_0 = Lambda(lambda z: K.sqrt(K.sum(K.square(z), 2)))(capsule_0)\n",
    "model_0 = Model(inputs= input_image, outputs= output_0)\n",
    "\n",
    "# we use a margin loss\n",
    "model_0.compile(loss =margin_loss, optimizer='adam', metrics=['accuracy'])\n",
    "model_0.summary()\n",
    "\n",
    "# we can compare the performance with or without data augmentation\n",
    "data_augmentation = False"
   ]
  },
  {
   "cell_type": "code",
   "execution_count": 9,
   "metadata": {},
   "outputs": [
    {
     "name": "stdout",
     "output_type": "stream",
     "text": [
      "_________________________________________________________________\n",
      "Layer (type)                 Output Shape              Param #   \n",
      "=================================================================\n",
      "input_2 (InputLayer)         (None, 28, 28, 1)         0         \n",
      "_________________________________________________________________\n",
      "conv2d_2 (Conv2D)            (None, 20, 20, 10)        820       \n",
      "_________________________________________________________________\n",
      "dropout_2 (Dropout)          (None, 20, 20, 10)        0         \n",
      "_________________________________________________________________\n",
      "conv2d_3 (Conv2D)            (None, 12, 12, 53)        42983     \n",
      "_________________________________________________________________\n",
      "dropout_3 (Dropout)          (None, 12, 12, 53)        0         \n",
      "_________________________________________________________________\n",
      "reshape_2 (Reshape)          (None, 144, 53)           0         \n",
      "_________________________________________________________________\n",
      "capsule_2 (Capsule)          (None, 10, 16)            8480      \n",
      "_________________________________________________________________\n",
      "lambda_2 (Lambda)            (None, 10)                0         \n",
      "=================================================================\n",
      "Total params: 52,283\n",
      "Trainable params: 52,283\n",
      "Non-trainable params: 0\n",
      "_________________________________________________________________\n"
     ]
    }
   ],
   "source": [
    "\"\"\"two-CONV-LAYERS-THICK\"\"\"\n",
    "input_image = Input(shape=(x_train.shape[1], x_train.shape[2], x_train.shape[3]))\n",
    "x_1 = Conv2D(filters= 10, kernel_size= 9, activation='relu', \n",
    "             padding= 'valid')(input_image)\n",
    "x_1= Dropout(0.1)(x_1)\n",
    "x_1 = Conv2D(filters= 53, kernel_size= 9, activation='relu',\n",
    "             strides= 1)(x_1)\n",
    "x_1 = Dropout(0.1)(x_1)\n",
    "\n",
    "\n",
    "\"\"\"now we reshape it as (batch_size, input_num_capsule, input_dim_capsule)\n",
    "then connect a Capsule layer.\n",
    "\n",
    "the output of final model is the lengths of 10 Capsule, whose dim=16.\n",
    "\n",
    "the length of Capsule is the proba,\n",
    "so the problem becomes a 10 two-classification problem.\n",
    "\"\"\"\n",
    "\n",
    "x_1 = Reshape((-1, 53))(x_1)\n",
    "capsule_1 = Capsule(num_classes, 16, 3, True)(x_1)\n",
    "output_1 = Lambda(lambda z: K.sqrt(K.sum(K.square(z), 2)))(capsule_1)\n",
    "model_1= Model(inputs= input_image, outputs= output_1)\n",
    "\n",
    "# we use a margin loss\n",
    "model_1.compile(loss =margin_loss, optimizer='adam', metrics=['accuracy'])\n",
    "model_1.summary()\n",
    "\n",
    "# we can compare the performance with or without data augmentation\n",
    "data_augmentation = False"
   ]
  },
  {
   "cell_type": "code",
   "execution_count": 32,
   "metadata": {},
   "outputs": [
    {
     "name": "stdout",
     "output_type": "stream",
     "text": [
      "_________________________________________________________________\n",
      "Layer (type)                 Output Shape              Param #   \n",
      "=================================================================\n",
      "input_5 (InputLayer)         (None, 28, 28, 1)         0         \n",
      "_________________________________________________________________\n",
      "conv2d_13 (Conv2D)           (None, 20, 20, 10)        820       \n",
      "_________________________________________________________________\n",
      "dropout_13 (Dropout)         (None, 20, 20, 10)        0         \n",
      "_________________________________________________________________\n",
      "conv2d_14 (Conv2D)           (None, 12, 12, 20)        16220     \n",
      "_________________________________________________________________\n",
      "dropout_14 (Dropout)         (None, 12, 12, 20)        0         \n",
      "_________________________________________________________________\n",
      "conv2d_15 (Conv2D)           (None, 4, 4, 21)          34041     \n",
      "_________________________________________________________________\n",
      "dropout_15 (Dropout)         (None, 4, 4, 21)          0         \n",
      "_________________________________________________________________\n",
      "reshape_5 (Reshape)          (None, 16, 21)            0         \n",
      "_________________________________________________________________\n",
      "capsule_5 (Capsule)          (None, 10, 16)            3360      \n",
      "_________________________________________________________________\n",
      "lambda_5 (Lambda)            (None, 10)                0         \n",
      "=================================================================\n",
      "Total params: 54,441\n",
      "Trainable params: 54,441\n",
      "Non-trainable params: 0\n",
      "_________________________________________________________________\n"
     ]
    }
   ],
   "source": [
    "\"\"\"three-CONV-LAYERS-THICK\"\"\"\n",
    "input_image = Input(shape=(x_train.shape[1], x_train.shape[2], x_train.shape[3]))\n",
    "x_2 = Conv2D(filters=10, kernel_size= 9, activation='relu', \n",
    "             padding= 'valid')(input_image)\n",
    "x_2= Dropout(0.1)(x_2)\n",
    "x_2 = Conv2D(filters= 20 , kernel_size= 9, activation='relu',\n",
    "             strides= 1)(x_2)\n",
    "x_2 = Dropout(0.1)(x_2)\n",
    "x_2 = Conv2D(filters= 21, kernel_size= 9, activation='relu',\n",
    "             strides= 1)(x_2)\n",
    "x_2 = Dropout(0.1)(x_2)\n",
    "\n",
    "\n",
    "\"\"\"now we reshape it as (batch_size, input_num_capsule, input_dim_capsule)\n",
    "then connect a Capsule layer.\n",
    "\n",
    "the output of final model is the lengths of 10 Capsule, whose dim=16.\n",
    "\n",
    "the length of Capsule is the proba,\n",
    "so the problem becomes a 10 two-classification problem.\n",
    "\"\"\"\n",
    "\n",
    "x_2 = Reshape((-1, 21))(x_2)\n",
    "capsule_2 = Capsule(num_classes, 16, 3, True)(x_2)\n",
    "output_2 = Lambda(lambda z: K.sqrt(K.sum(K.square(z), 2)))(capsule_2)\n",
    "model_2= Model(inputs= input_image, outputs= output_2)\n",
    "\n",
    "# we use a margin loss\n",
    "model_2.compile(loss =margin_loss, optimizer='adam', metrics=['accuracy'])\n",
    "model_2.summary()\n",
    "\n",
    "# we can compare the performance with or without data augmentation\n",
    "data_augmentation = False"
   ]
  },
  {
   "cell_type": "code",
   "execution_count": 11,
   "metadata": {},
   "outputs": [
    {
     "name": "stdout",
     "output_type": "stream",
     "text": [
      "_________________________________________________________________\n",
      "Layer (type)                 Output Shape              Param #   \n",
      "=================================================================\n",
      "input_4 (InputLayer)         (None, 28, 28, 1)         0         \n",
      "_________________________________________________________________\n",
      "conv2d_7 (Conv2D)            (None, 28, 28, 10)        820       \n",
      "_________________________________________________________________\n",
      "dropout_7 (Dropout)          (None, 28, 28, 10)        0         \n",
      "_________________________________________________________________\n",
      "conv2d_8 (Conv2D)            (None, 20, 20, 12)        9732      \n",
      "_________________________________________________________________\n",
      "dropout_8 (Dropout)          (None, 20, 20, 12)        0         \n",
      "_________________________________________________________________\n",
      "conv2d_9 (Conv2D)            (None, 12, 12, 18)        17514     \n",
      "_________________________________________________________________\n",
      "dropout_9 (Dropout)          (None, 12, 12, 18)        0         \n",
      "_________________________________________________________________\n",
      "conv2d_10 (Conv2D)           (None, 4, 4, 20)          29180     \n",
      "_________________________________________________________________\n",
      "dropout_10 (Dropout)         (None, 4, 4, 20)          0         \n",
      "_________________________________________________________________\n",
      "reshape_4 (Reshape)          (None, 16, 20)            0         \n",
      "_________________________________________________________________\n",
      "capsule_4 (Capsule)          (None, 10, 16)            3200      \n",
      "_________________________________________________________________\n",
      "lambda_4 (Lambda)            (None, 10)                0         \n",
      "=================================================================\n",
      "Total params: 60,446\n",
      "Trainable params: 60,446\n",
      "Non-trainable params: 0\n",
      "_________________________________________________________________\n"
     ]
    }
   ],
   "source": [
    "\"\"\"four-CONV-LAYERS-THICK\"\"\"\n",
    "input_image = Input(shape=(x_train.shape[1], x_train.shape[2], x_train.shape[3]))\n",
    "x_3 = Conv2D(filters= 10, kernel_size= 9, activation='relu', \n",
    "              padding= 'same')(input_image)\n",
    "x_3= Dropout(0.1)(x_3)\n",
    "x_3 = Conv2D(filters= 12 ,kernel_size= 9, activation='relu',\n",
    "             strides= 1)(x_3)\n",
    "x_3 = Dropout(0.1)(x_3)\n",
    "x_3 = Conv2D(filters= 18, kernel_size= 9, activation='relu',\n",
    "             strides= 1)(x_3)\n",
    "x_3= Dropout(0.1)(x_3)\n",
    "x_3 = Conv2D(filters= 20,kernel_size= 9, activation='relu',\n",
    "             strides= 1)(x_3)\n",
    "x_3= Dropout(0.1)(x_3)\n",
    "\n",
    "\n",
    "\"\"\"now we reshape it as (batch_size, input_num_capsule, input_dim_capsule)\n",
    "then connect a Capsule layer.\n",
    "\n",
    "the output of final model is the lengths of 10 Capsule, whose dim=16.\n",
    "\n",
    "the length of Capsule is the proba,\n",
    "so the problem becomes a 10 two-classification problem.\n",
    "\"\"\"\n",
    "\n",
    "x_3 = Reshape((-1, 20))(x_3)\n",
    "capsule_3 = Capsule(num_classes, 16, 3, True)(x_3)\n",
    "output_3 = Lambda(lambda z: K.sqrt(K.sum(K.square(z), 2)))(capsule_3)\n",
    "model_3= Model(inputs= input_image, outputs= output_3)\n",
    "\n",
    "# we use a margin loss\n",
    "model_3.compile(loss =margin_loss, optimizer='adam', metrics=['accuracy'])\n",
    "model_3.summary()\n",
    "\n",
    "# we can compare the performance with or without data augmentation\n",
    "data_augmentation = False"
   ]
  },
  {
   "cell_type": "code",
   "execution_count": 12,
   "metadata": {},
   "outputs": [
    {
     "name": "stdout",
     "output_type": "stream",
     "text": [
      "_________________________________________________________________\n",
      "Layer (type)                 Output Shape              Param #   \n",
      "=================================================================\n",
      "conv2d_11 (Conv2D)           (None, 20, 20, 5)         410       \n",
      "_________________________________________________________________\n",
      "max_pooling2d_1 (MaxPooling2 (None, 10, 10, 5)         0         \n",
      "_________________________________________________________________\n",
      "conv2d_12 (Conv2D)           (None, 10, 10, 20)        8120      \n",
      "_________________________________________________________________\n",
      "dropout_11 (Dropout)         (None, 10, 10, 20)        0         \n",
      "_________________________________________________________________\n",
      "max_pooling2d_2 (MaxPooling2 (None, 5, 5, 20)          0         \n",
      "_________________________________________________________________\n",
      "flatten_1 (Flatten)          (None, 500)               0         \n",
      "_________________________________________________________________\n",
      "dropout_12 (Dropout)         (None, 500)               0         \n",
      "_________________________________________________________________\n",
      "dense_1 (Dense)              (None, 256)               128256    \n",
      "_________________________________________________________________\n",
      "dense_2 (Dense)              (None, 10)                2570      \n",
      "=================================================================\n",
      "Total params: 139,356\n",
      "Trainable params: 139,356\n",
      "Non-trainable params: 0\n",
      "_________________________________________________________________\n",
      "None\n"
     ]
    }
   ],
   "source": [
    "\"\"\"CNN-3-CONV-LAYERS\"\"\"\n",
    "from keras.models import Sequential\n",
    "from keras.layers import Dense, Dropout, Activation, Flatten, Conv2D, MaxPooling2D, \\\n",
    "                         ZeroPadding2D\n",
    "\n",
    "model_4= Sequential()\n",
    "model_4.add(Conv2D(filters= 5, kernel_size= (9, 9), padding= 'valid', \n",
    "                   input_shape=(x_train.shape[1], x_train.shape[2], x_train.shape[3]), \n",
    "                   activation='relu'))\n",
    "model_4.add(MaxPooling2D(pool_size=(2,2)))\n",
    "model_4.add(Conv2D(filters= 20, kernel_size= (9, 9), \n",
    "                    padding='same', activation='relu'))\n",
    "model_4.add(Dropout(0.4))\n",
    "model_4.add(MaxPooling2D(pool_size=(2,2)))\n",
    "\n",
    "model_4.add(Flatten())\n",
    "model_4.add(Dropout(0.6))\n",
    "model_4.add(Dense(256, activation='relu'))\n",
    "model_4.add(Dense(num_classes, activation='softmax'))\n",
    "print(model_4.summary())"
   ]
  },
  {
   "cell_type": "code",
   "execution_count": 13,
   "metadata": {},
   "outputs": [
    {
     "name": "stdout",
     "output_type": "stream",
     "text": [
      "Not using data augmentation.\n",
      "WARNING:tensorflow:From C:\\Users\\ASUS\\Anaconda3\\envs\\tensorflow-gpu\\lib\\site-packages\\tensorflow\\python\\ops\\math_ops.py:3066: to_int32 (from tensorflow.python.ops.math_ops) is deprecated and will be removed in a future version.\n",
      "Instructions for updating:\n",
      "Use tf.cast instead.\n",
      "WARNING:tensorflow:From C:\\Users\\ASUS\\Anaconda3\\envs\\tensorflow-gpu\\lib\\site-packages\\tensorflow\\python\\ops\\math_grad.py:102: div (from tensorflow.python.ops.math_ops) is deprecated and will be removed in a future version.\n",
      "Instructions for updating:\n",
      "Deprecated in favor of operator or tf.math.divide.\n",
      "Train on 54546 samples, validate on 5454 samples\n",
      "Epoch 1/30\n",
      "54546/54546 [==============================] - 13s 236us/step - loss: 0.3628 - acc: 0.5929 - val_loss: 0.2648 - val_acc: 0.7217\n",
      "Epoch 2/30\n",
      "54546/54546 [==============================] - 11s 205us/step - loss: 0.2428 - acc: 0.7513 - val_loss: 0.2090 - val_acc: 0.7912\n",
      "Epoch 3/30\n",
      "54546/54546 [==============================] - 11s 204us/step - loss: 0.2071 - acc: 0.7972 - val_loss: 0.1960 - val_acc: 0.8025\n",
      "Epoch 4/30\n",
      "54546/54546 [==============================] - 11s 201us/step - loss: 0.1883 - acc: 0.8187 - val_loss: 0.1702 - val_acc: 0.8544\n",
      "Epoch 5/30\n",
      "54546/54546 [==============================] - 11s 201us/step - loss: 0.1771 - acc: 0.8328 - val_loss: 0.1661 - val_acc: 0.8555\n",
      "Epoch 6/30\n",
      "54546/54546 [==============================] - 11s 201us/step - loss: 0.1687 - acc: 0.8434 - val_loss: 0.1599 - val_acc: 0.8599\n",
      "Epoch 7/30\n",
      "54546/54546 [==============================] - 11s 201us/step - loss: 0.1604 - acc: 0.8524 - val_loss: 0.1616 - val_acc: 0.8493\n",
      "Epoch 8/30\n",
      "54546/54546 [==============================] - 11s 202us/step - loss: 0.1556 - acc: 0.8584 - val_loss: 0.1411 - val_acc: 0.8794\n",
      "Epoch 9/30\n",
      "54546/54546 [==============================] - 11s 202us/step - loss: 0.1519 - acc: 0.8629 - val_loss: 0.1480 - val_acc: 0.8709\n",
      "Epoch 10/30\n",
      "54546/54546 [==============================] - 11s 202us/step - loss: 0.1467 - acc: 0.8684 - val_loss: 0.1366 - val_acc: 0.8808\n",
      "Epoch 11/30\n",
      "54546/54546 [==============================] - 11s 202us/step - loss: 0.1438 - acc: 0.8725 - val_loss: 0.1337 - val_acc: 0.8896\n",
      "Epoch 12/30\n",
      "54546/54546 [==============================] - 11s 202us/step - loss: 0.1430 - acc: 0.8743 - val_loss: 0.1350 - val_acc: 0.8860\n",
      "Epoch 13/30\n",
      "54546/54546 [==============================] - 11s 202us/step - loss: 0.1388 - acc: 0.8793 - val_loss: 0.1303 - val_acc: 0.8942\n",
      "Epoch 14/30\n",
      "54546/54546 [==============================] - 11s 202us/step - loss: 0.1359 - acc: 0.8825 - val_loss: 0.1283 - val_acc: 0.8913\n",
      "Epoch 15/30\n",
      "54546/54546 [==============================] - 11s 202us/step - loss: 0.1335 - acc: 0.8857 - val_loss: 0.1266 - val_acc: 0.9034\n",
      "Epoch 16/30\n",
      "54546/54546 [==============================] - 11s 205us/step - loss: 0.1319 - acc: 0.8872 - val_loss: 0.1249 - val_acc: 0.8927\n",
      "Epoch 17/30\n",
      "54546/54546 [==============================] - 11s 207us/step - loss: 0.1293 - acc: 0.8914 - val_loss: 0.1195 - val_acc: 0.8966\n",
      "Epoch 18/30\n",
      "54546/54546 [==============================] - 11s 208us/step - loss: 0.1282 - acc: 0.8922 - val_loss: 0.1182 - val_acc: 0.9010\n",
      "Epoch 19/30\n",
      "54546/54546 [==============================] - 11s 207us/step - loss: 0.1272 - acc: 0.8939 - val_loss: 0.1232 - val_acc: 0.9037\n",
      "Epoch 20/30\n",
      "54546/54546 [==============================] - 11s 205us/step - loss: 0.1261 - acc: 0.8945 - val_loss: 0.1184 - val_acc: 0.9080\n",
      "Epoch 21/30\n",
      "54546/54546 [==============================] - 11s 204us/step - loss: 0.1241 - acc: 0.8965 - val_loss: 0.1143 - val_acc: 0.9076\n",
      "Epoch 22/30\n",
      "54546/54546 [==============================] - 11s 205us/step - loss: 0.1225 - acc: 0.8982 - val_loss: 0.1153 - val_acc: 0.9039\n",
      "Epoch 23/30\n",
      "54546/54546 [==============================] - 11s 204us/step - loss: 0.1213 - acc: 0.8996 - val_loss: 0.1124 - val_acc: 0.9078\n",
      "Epoch 24/30\n",
      "54546/54546 [==============================] - 11s 206us/step - loss: 0.1195 - acc: 0.9027 - val_loss: 0.1182 - val_acc: 0.9028\n",
      "Epoch 25/30\n",
      "54546/54546 [==============================] - 11s 205us/step - loss: 0.1187 - acc: 0.9029 - val_loss: 0.1149 - val_acc: 0.9059\n",
      "Epoch 26/30\n",
      "54546/54546 [==============================] - 11s 205us/step - loss: 0.1182 - acc: 0.9036 - val_loss: 0.1112 - val_acc: 0.9059\n",
      "Epoch 27/30\n",
      "54546/54546 [==============================] - 11s 205us/step - loss: 0.1166 - acc: 0.9049 - val_loss: 0.1110 - val_acc: 0.9147\n",
      "Epoch 28/30\n",
      "54546/54546 [==============================] - 11s 204us/step - loss: 0.1159 - acc: 0.9062 - val_loss: 0.1088 - val_acc: 0.9096\n",
      "Epoch 29/30\n",
      "54546/54546 [==============================] - 11s 204us/step - loss: 0.1156 - acc: 0.9057 - val_loss: 0.1127 - val_acc: 0.9158\n",
      "Epoch 30/30\n",
      "54546/54546 [==============================] - 11s 206us/step - loss: 0.1149 - acc: 0.9074 - val_loss: 0.1128 - val_acc: 0.9098\n"
     ]
    }
   ],
   "source": [
    "\"\"\"one-CONV-LAYERS-THICK\"\"\"\n",
    "if not data_augmentation:\n",
    "    print('Not using data augmentation.')\n",
    "    train_history_0= model_0.fit(\n",
    "        x_train,\n",
    "        y_train,\n",
    "        batch_size=batch_size,\n",
    "        epochs=epochs,\n",
    "        validation_split= Vld_Splt,\n",
    "        shuffle=True)\n",
    "else:\n",
    "    print('Using real-time data augmentation.')\n",
    "    # This will do preprocessing and realtime data augmentation:\n",
    "    datagen = ImageDataGenerator(\n",
    "        featurewise_center=False,  # set input mean to 0 over the dataset\n",
    "        samplewise_center=False,  # set each sample mean to 0\n",
    "        featurewise_std_normalization=False,  # divide inputs by dataset std\n",
    "        samplewise_std_normalization=False,  # divide each input by its std\n",
    "        zca_whitening=False,  # apply ZCA whitening\n",
    "        zca_epsilon=1e-06,  # epsilon for ZCA whitening\n",
    "        rotation_range=0,  # randomly rotate images in 0 to 180 degrees\n",
    "        width_shift_range=0.1,  # randomly shift images horizontally\n",
    "        height_shift_range=0.1,  # randomly shift images vertically\n",
    "        shear_range=0.,  # set range for random shear\n",
    "        zoom_range=0.,  # set range for random zoom\n",
    "        channel_shift_range=0.,  # set range for random channel shifts\n",
    "        # set mode for filling points outside the input boundaries\n",
    "        fill_mode='nearest',\n",
    "        cval=0.,  # value used for fill_mode = \"constant\"\n",
    "        horizontal_flip=True,  # randomly flip images\n",
    "        vertical_flip=False,  # randomly flip images\n",
    "        # set rescaling factor (applied before any other transformation)\n",
    "        rescale=None,\n",
    "        # set function that will be applied on each input\n",
    "        preprocessing_function=None,\n",
    "        # image data format, either \"channels_first\" or \"channels_last\"\n",
    "        data_format=None,\n",
    "        # fraction of images reserved for validation (strictly between 0 and 1)\n",
    "        validation_split=0.0)\n",
    "\n",
    "    # Compute quantities required for feature-wise normalization\n",
    "    # (std, mean, and principal components if ZCA whitening is applied).\n",
    "    datagen.fit(x_train)\n",
    "\n",
    "    # Fit the model on the batches generated by datagen.flow().\n",
    "    train_history_0= model_0.fit_generator(\n",
    "        datagen.flow(x_train, y_train, batch_size=batch_size),\n",
    "        epochs= epochs,\n",
    "        validation_split= Vld_Splt,\n",
    "        steps_per_epoch= int(x_train.shape[0]/ batch_size),\n",
    "        workers=4)"
   ]
  },
  {
   "cell_type": "code",
   "execution_count": 14,
   "metadata": {},
   "outputs": [
    {
     "name": "stdout",
     "output_type": "stream",
     "text": [
      "Not using data augmentation.\n",
      "Train on 54546 samples, validate on 5454 samples\n",
      "Epoch 1/30\n",
      "54546/54546 [==============================] - 5s 98us/step - loss: 0.3949 - acc: 0.4844 - val_loss: 0.2607 - val_acc: 0.7217\n",
      "Epoch 2/30\n",
      "54546/54546 [==============================] - 5s 91us/step - loss: 0.2268 - acc: 0.7502 - val_loss: 0.1839 - val_acc: 0.8075\n",
      "Epoch 3/30\n",
      "54546/54546 [==============================] - 5s 86us/step - loss: 0.1816 - acc: 0.8022 - val_loss: 0.1556 - val_acc: 0.8423\n",
      "Epoch 4/30\n",
      "54546/54546 [==============================] - 5s 89us/step - loss: 0.1596 - acc: 0.8281 - val_loss: 0.1407 - val_acc: 0.8537\n",
      "Epoch 5/30\n",
      "54546/54546 [==============================] - 5s 88us/step - loss: 0.1462 - acc: 0.8450 - val_loss: 0.1325 - val_acc: 0.8684\n",
      "Epoch 6/30\n",
      "54546/54546 [==============================] - 5s 87us/step - loss: 0.1350 - acc: 0.8556 - val_loss: 0.1184 - val_acc: 0.8759\n",
      "Epoch 7/30\n",
      "54546/54546 [==============================] - 5s 86us/step - loss: 0.1270 - acc: 0.8652 - val_loss: 0.1112 - val_acc: 0.8801\n",
      "Epoch 8/30\n",
      "54546/54546 [==============================] - 5s 84us/step - loss: 0.1194 - acc: 0.8722 - val_loss: 0.1107 - val_acc: 0.8808\n",
      "Epoch 9/30\n",
      "54546/54546 [==============================] - 5s 86us/step - loss: 0.1138 - acc: 0.8787 - val_loss: 0.1022 - val_acc: 0.8955\n",
      "Epoch 10/30\n",
      "54546/54546 [==============================] - 5s 87us/step - loss: 0.1097 - acc: 0.8830 - val_loss: 0.0986 - val_acc: 0.8997\n",
      "Epoch 11/30\n",
      "54546/54546 [==============================] - 5s 89us/step - loss: 0.1061 - acc: 0.8873 - val_loss: 0.0962 - val_acc: 0.9006\n",
      "Epoch 12/30\n",
      "54546/54546 [==============================] - 5s 88us/step - loss: 0.1039 - acc: 0.8889 - val_loss: 0.0929 - val_acc: 0.9061\n",
      "Epoch 13/30\n",
      "54546/54546 [==============================] - 5s 91us/step - loss: 0.1001 - acc: 0.8943 - val_loss: 0.0896 - val_acc: 0.9072\n",
      "Epoch 14/30\n",
      "54546/54546 [==============================] - 5s 87us/step - loss: 0.0968 - acc: 0.8984 - val_loss: 0.0889 - val_acc: 0.9094\n",
      "Epoch 15/30\n",
      "54546/54546 [==============================] - 5s 88us/step - loss: 0.0934 - acc: 0.9029 - val_loss: 0.0901 - val_acc: 0.9065\n",
      "Epoch 16/30\n",
      "54546/54546 [==============================] - 5s 90us/step - loss: 0.0913 - acc: 0.9051 - val_loss: 0.0871 - val_acc: 0.9124\n",
      "Epoch 17/30\n",
      "54546/54546 [==============================] - 5s 100us/step - loss: 0.0887 - acc: 0.9084 - val_loss: 0.0825 - val_acc: 0.9118\n",
      "Epoch 18/30\n",
      "54546/54546 [==============================] - 5s 87us/step - loss: 0.0859 - acc: 0.9105 - val_loss: 0.0795 - val_acc: 0.9175\n",
      "Epoch 19/30\n",
      "54546/54546 [==============================] - 5s 85us/step - loss: 0.0840 - acc: 0.9140 - val_loss: 0.0798 - val_acc: 0.9147\n",
      "Epoch 20/30\n",
      "54546/54546 [==============================] - 5s 87us/step - loss: 0.0820 - acc: 0.9158 - val_loss: 0.0794 - val_acc: 0.9212\n",
      "Epoch 21/30\n",
      "54546/54546 [==============================] - 6s 106us/step - loss: 0.0804 - acc: 0.9184 - val_loss: 0.0782 - val_acc: 0.9235\n",
      "Epoch 22/30\n",
      "54546/54546 [==============================] - 6s 106us/step - loss: 0.0787 - acc: 0.9202 - val_loss: 0.0762 - val_acc: 0.9267\n",
      "Epoch 23/30\n",
      "54546/54546 [==============================] - 6s 109us/step - loss: 0.0761 - acc: 0.9229 - val_loss: 0.0717 - val_acc: 0.9290\n",
      "Epoch 24/30\n",
      "54546/54546 [==============================] - 5s 93us/step - loss: 0.0754 - acc: 0.9243 - val_loss: 0.0712 - val_acc: 0.9245\n",
      "Epoch 25/30\n",
      "54546/54546 [==============================] - 5s 90us/step - loss: 0.0735 - acc: 0.9257 - val_loss: 0.0689 - val_acc: 0.9307\n",
      "Epoch 26/30\n",
      "54546/54546 [==============================] - 5s 90us/step - loss: 0.0718 - acc: 0.9280 - val_loss: 0.0733 - val_acc: 0.9278\n",
      "Epoch 27/30\n",
      "54546/54546 [==============================] - 5s 96us/step - loss: 0.0706 - acc: 0.9310 - val_loss: 0.0731 - val_acc: 0.9289\n",
      "Epoch 28/30\n",
      "54546/54546 [==============================] - 5s 86us/step - loss: 0.0690 - acc: 0.9321 - val_loss: 0.0707 - val_acc: 0.9289\n",
      "Epoch 29/30\n",
      "54546/54546 [==============================] - 5s 92us/step - loss: 0.0682 - acc: 0.9340 - val_loss: 0.0722 - val_acc: 0.9270\n",
      "Epoch 30/30\n",
      "54546/54546 [==============================] - 5s 94us/step - loss: 0.0677 - acc: 0.9344 - val_loss: 0.0690 - val_acc: 0.9298\n"
     ]
    }
   ],
   "source": [
    "\"\"\"two-CONV-LAYERS-THICK\"\"\"\n",
    "if not data_augmentation:\n",
    "    print('Not using data augmentation.')\n",
    "    train_history_1= model_1.fit(\n",
    "        x_train,\n",
    "        y_train,\n",
    "        batch_size=batch_size,\n",
    "        epochs=epochs,\n",
    "        validation_split= Vld_Splt,\n",
    "        shuffle=True)\n",
    "else:\n",
    "    print('Using real-time data augmentation.')\n",
    "    # This will do preprocessing and realtime data augmentation:\n",
    "    datagen = ImageDataGenerator(\n",
    "        featurewise_center=False,  # set input mean to 0 over the dataset\n",
    "        samplewise_center=False,  # set each sample mean to 0\n",
    "        featurewise_std_normalization=False,  # divide inputs by dataset std\n",
    "        samplewise_std_normalization=False,  # divide each input by its std\n",
    "        zca_whitening=False,  # apply ZCA whitening\n",
    "        zca_epsilon=1e-06,  # epsilon for ZCA whitening\n",
    "        rotation_range=0,  # randomly rotate images in 0 to 180 degrees\n",
    "        width_shift_range=0.1,  # randomly shift images horizontally\n",
    "        height_shift_range=0.1,  # randomly shift images vertically\n",
    "        shear_range=0.,  # set range for random shear\n",
    "        zoom_range=0.,  # set range for random zoom\n",
    "        channel_shift_range=0.,  # set range for random channel shifts\n",
    "        # set mode for filling points outside the input boundaries\n",
    "        fill_mode='nearest',\n",
    "        cval=0.,  # value used for fill_mode = \"constant\"\n",
    "        horizontal_flip=True,  # randomly flip images\n",
    "        vertical_flip=False,  # randomly flip images\n",
    "        # set rescaling factor (applied before any other transformation)\n",
    "        rescale=None,\n",
    "        # set function that will be applied on each input\n",
    "        preprocessing_function=None,\n",
    "        # image data format, either \"channels_first\" or \"channels_last\"\n",
    "        data_format=None,\n",
    "        # fraction of images reserved for validation (strictly between 0 and 1)\n",
    "        validation_split=0.0)\n",
    "\n",
    "    # Compute quantities required for feature-wise normalization\n",
    "    # (std, mean, and principal components if ZCA whitening is applied).\n",
    "    datagen.fit(x_train)\n",
    "\n",
    "    # Fit the model on the batches generated by datagen.flow().\n",
    "    train_history_1= model_1.fit_generator(\n",
    "        datagen.flow(x_train, y_train, batch_size=batch_size),\n",
    "        epochs= epochs,\n",
    "        validation_split= Vld_Splt,\n",
    "        steps_per_epoch= int(x_train.shape[0]/ batch_size),\n",
    "        workers=4)"
   ]
  },
  {
   "cell_type": "code",
   "execution_count": 33,
   "metadata": {},
   "outputs": [
    {
     "name": "stdout",
     "output_type": "stream",
     "text": [
      "Not using data augmentation.\n",
      "Train on 54546 samples, validate on 5454 samples\n",
      "Epoch 1/30\n",
      "54546/54546 [==============================] - 4s 75us/step - loss: 0.3161 - acc: 0.5837 - val_loss: 0.1920 - val_acc: 0.7745\n",
      "Epoch 2/30\n",
      "54546/54546 [==============================] - 3s 61us/step - loss: 0.1731 - acc: 0.7939 - val_loss: 0.1384 - val_acc: 0.8365\n",
      "Epoch 3/30\n",
      "54546/54546 [==============================] - 3s 62us/step - loss: 0.1356 - acc: 0.8412 - val_loss: 0.1181 - val_acc: 0.8608\n",
      "Epoch 4/30\n",
      "54546/54546 [==============================] - 3s 60us/step - loss: 0.1192 - acc: 0.8609 - val_loss: 0.1087 - val_acc: 0.8665\n",
      "Epoch 5/30\n",
      "54546/54546 [==============================] - 4s 74us/step - loss: 0.1073 - acc: 0.8740 - val_loss: 0.0927 - val_acc: 0.8927\n",
      "Epoch 6/30\n",
      "54546/54546 [==============================] - 4s 69us/step - loss: 0.0977 - acc: 0.8867 - val_loss: 0.0908 - val_acc: 0.8948\n",
      "Epoch 7/30\n",
      "54546/54546 [==============================] - 4s 71us/step - loss: 0.0900 - acc: 0.8936 - val_loss: 0.0794 - val_acc: 0.9050\n",
      "Epoch 8/30\n",
      "54546/54546 [==============================] - 4s 71us/step - loss: 0.0858 - acc: 0.8998 - val_loss: 0.0784 - val_acc: 0.9048\n",
      "Epoch 9/30\n",
      "54546/54546 [==============================] - 4s 69us/step - loss: 0.0814 - acc: 0.9057 - val_loss: 0.0740 - val_acc: 0.9142\n",
      "Epoch 10/30\n",
      "54546/54546 [==============================] - 3s 63us/step - loss: 0.0780 - acc: 0.9086 - val_loss: 0.0757 - val_acc: 0.9103\n",
      "Epoch 11/30\n",
      "54546/54546 [==============================] - 4s 69us/step - loss: 0.0762 - acc: 0.9112 - val_loss: 0.0672 - val_acc: 0.9213\n",
      "Epoch 12/30\n",
      "54546/54546 [==============================] - 3s 61us/step - loss: 0.0710 - acc: 0.9165 - val_loss: 0.0641 - val_acc: 0.9215\n",
      "Epoch 13/30\n",
      "54546/54546 [==============================] - 4s 66us/step - loss: 0.0690 - acc: 0.9192 - val_loss: 0.0661 - val_acc: 0.9204\n",
      "Epoch 14/30\n",
      "54546/54546 [==============================] - 4s 77us/step - loss: 0.0676 - acc: 0.9209 - val_loss: 0.0592 - val_acc: 0.9290\n",
      "Epoch 15/30\n",
      "54546/54546 [==============================] - 3s 64us/step - loss: 0.0646 - acc: 0.9243 - val_loss: 0.0589 - val_acc: 0.9287\n",
      "Epoch 16/30\n",
      "54546/54546 [==============================] - 3s 58us/step - loss: 0.0630 - acc: 0.9281 - val_loss: 0.0622 - val_acc: 0.9230\n",
      "Epoch 17/30\n",
      "54546/54546 [==============================] - 3s 62us/step - loss: 0.0627 - acc: 0.9261 - val_loss: 0.0592 - val_acc: 0.9274\n",
      "Epoch 18/30\n",
      "54546/54546 [==============================] - 4s 67us/step - loss: 0.0603 - acc: 0.9306 - val_loss: 0.0609 - val_acc: 0.9272\n",
      "Epoch 19/30\n",
      "54546/54546 [==============================] - 4s 68us/step - loss: 0.0586 - acc: 0.9321 - val_loss: 0.0583 - val_acc: 0.9278\n",
      "Epoch 20/30\n",
      "54546/54546 [==============================] - 4s 67us/step - loss: 0.0581 - acc: 0.9327 - val_loss: 0.0557 - val_acc: 0.9320\n",
      "Epoch 21/30\n",
      "54546/54546 [==============================] - 3s 64us/step - loss: 0.0565 - acc: 0.9355 - val_loss: 0.0598 - val_acc: 0.9248\n",
      "Epoch 22/30\n",
      "54546/54546 [==============================] - 4s 64us/step - loss: 0.0554 - acc: 0.9365 - val_loss: 0.0535 - val_acc: 0.9338\n",
      "Epoch 23/30\n",
      "54546/54546 [==============================] - 4s 67us/step - loss: 0.0550 - acc: 0.9381 - val_loss: 0.0566 - val_acc: 0.9342\n",
      "Epoch 24/30\n",
      "54546/54546 [==============================] - 3s 62us/step - loss: 0.0553 - acc: 0.9360 - val_loss: 0.0555 - val_acc: 0.9331\n",
      "Epoch 25/30\n",
      "54546/54546 [==============================] - 3s 63us/step - loss: 0.0533 - acc: 0.9397 - val_loss: 0.0555 - val_acc: 0.9336\n",
      "Epoch 26/30\n",
      "54546/54546 [==============================] - 4s 71us/step - loss: 0.0533 - acc: 0.9388 - val_loss: 0.0640 - val_acc: 0.9235\n",
      "Epoch 27/30\n",
      "54546/54546 [==============================] - 4s 66us/step - loss: 0.0521 - acc: 0.9408 - val_loss: 0.0516 - val_acc: 0.9351\n",
      "Epoch 28/30\n",
      "54546/54546 [==============================] - 3s 58us/step - loss: 0.0516 - acc: 0.9413 - val_loss: 0.0502 - val_acc: 0.9397\n",
      "Epoch 29/30\n",
      "54546/54546 [==============================] - 3s 57us/step - loss: 0.0500 - acc: 0.9431 - val_loss: 0.0523 - val_acc: 0.9391\n",
      "Epoch 30/30\n",
      "54546/54546 [==============================] - 3s 63us/step - loss: 0.0502 - acc: 0.9438 - val_loss: 0.0523 - val_acc: 0.9369\n"
     ]
    }
   ],
   "source": [
    "\"\"\"three-CONV-LAYERS-THICK\"\"\"\n",
    "if not data_augmentation:\n",
    "    print('Not using data augmentation.')\n",
    "    train_history_2= model_2.fit(\n",
    "        x_train,\n",
    "        y_train,\n",
    "        batch_size=batch_size,\n",
    "        epochs=epochs,\n",
    "        validation_split= Vld_Splt,\n",
    "        shuffle=True)\n",
    "else:\n",
    "    print('Using real-time data augmentation.')\n",
    "    # This will do preprocessing and realtime data augmentation:\n",
    "    datagen = ImageDataGenerator(\n",
    "        featurewise_center=False,  # set input mean to 0 over the dataset\n",
    "        samplewise_center=False,  # set each sample mean to 0\n",
    "        featurewise_std_normalization=False,  # divide inputs by dataset std\n",
    "        samplewise_std_normalization=False,  # divide each input by its std\n",
    "        zca_whitening=False,  # apply ZCA whitening\n",
    "        zca_epsilon=1e-06,  # epsilon for ZCA whitening\n",
    "        rotation_range=0,  # randomly rotate images in 0 to 180 degrees\n",
    "        width_shift_range=0.1,  # randomly shift images horizontally\n",
    "        height_shift_range=0.1,  # randomly shift images vertically\n",
    "        shear_range=0.,  # set range for random shear\n",
    "        zoom_range=0.,  # set range for random zoom\n",
    "        channel_shift_range=0.,  # set range for random channel shifts\n",
    "        # set mode for filling points outside the input boundaries\n",
    "        fill_mode='nearest',\n",
    "        cval=0.,  # value used for fill_mode = \"constant\"\n",
    "        horizontal_flip=True,  # randomly flip images\n",
    "        vertical_flip=False,  # randomly flip images\n",
    "        # set rescaling factor (applied before any other transformation)\n",
    "        rescale=None,\n",
    "        # set function that will be applied on each input\n",
    "        preprocessing_function=None,\n",
    "        # image data format, either \"channels_first\" or \"channels_last\"\n",
    "        data_format=None,\n",
    "        # fraction of images reserved for validation (strictly between 0 and 1)\n",
    "        validation_split=0.0)\n",
    "\n",
    "    # Compute quantities required for feature-wise normalization\n",
    "    # (std, mean, and principal components if ZCA whitening is applied).\n",
    "    datagen.fit(x_train)\n",
    "\n",
    "    # Fit the model on the batches generated by datagen.flow().\n",
    "    train_history_2= model_2.fit_generator(\n",
    "        datagen.flow(x_train, y_train, batch_size=batch_size),\n",
    "        epochs= epochs,\n",
    "        validation_split= Vld_Splt,\n",
    "        steps_per_epoch= int(x_train.shape[0]/ batch_size),\n",
    "        workers=4)"
   ]
  },
  {
   "cell_type": "code",
   "execution_count": 16,
   "metadata": {},
   "outputs": [
    {
     "name": "stdout",
     "output_type": "stream",
     "text": [
      "Not using data augmentation.\n",
      "Train on 54546 samples, validate on 5454 samples\n",
      "Epoch 1/30\n",
      "54546/54546 [==============================] - 6s 102us/step - loss: 0.4821 - acc: 0.2835 - val_loss: 0.3132 - val_acc: 0.6080\n",
      "Epoch 2/30\n",
      "54546/54546 [==============================] - 4s 82us/step - loss: 0.2416 - acc: 0.7259 - val_loss: 0.1808 - val_acc: 0.8082\n",
      "Epoch 3/30\n",
      "54546/54546 [==============================] - 5s 83us/step - loss: 0.1663 - acc: 0.8225 - val_loss: 0.1319 - val_acc: 0.8608\n",
      "Epoch 4/30\n",
      "54546/54546 [==============================] - 4s 82us/step - loss: 0.1274 - acc: 0.8625 - val_loss: 0.0944 - val_acc: 0.8938\n",
      "Epoch 5/30\n",
      "54546/54546 [==============================] - 5s 83us/step - loss: 0.0993 - acc: 0.8862 - val_loss: 0.0804 - val_acc: 0.9006\n",
      "Epoch 6/30\n",
      "54546/54546 [==============================] - 4s 82us/step - loss: 0.0844 - acc: 0.9013 - val_loss: 0.0640 - val_acc: 0.9241\n",
      "Epoch 7/30\n",
      "54546/54546 [==============================] - 5s 85us/step - loss: 0.0741 - acc: 0.9118 - val_loss: 0.0596 - val_acc: 0.9274\n",
      "Epoch 8/30\n",
      "54546/54546 [==============================] - 5s 83us/step - loss: 0.0664 - acc: 0.9209 - val_loss: 0.0551 - val_acc: 0.9329\n",
      "Epoch 9/30\n",
      "54546/54546 [==============================] - 4s 82us/step - loss: 0.0619 - acc: 0.9251 - val_loss: 0.0529 - val_acc: 0.9362\n",
      "Epoch 10/30\n",
      "54546/54546 [==============================] - 4s 82us/step - loss: 0.0576 - acc: 0.9295 - val_loss: 0.0525 - val_acc: 0.9345\n",
      "Epoch 11/30\n",
      "54546/54546 [==============================] - 5s 83us/step - loss: 0.0540 - acc: 0.9344 - val_loss: 0.0488 - val_acc: 0.9389\n",
      "Epoch 12/30\n",
      "54546/54546 [==============================] - 4s 81us/step - loss: 0.0509 - acc: 0.9374 - val_loss: 0.0478 - val_acc: 0.9400\n",
      "Epoch 13/30\n",
      "54546/54546 [==============================] - 5s 85us/step - loss: 0.0495 - acc: 0.9390 - val_loss: 0.0436 - val_acc: 0.9448\n",
      "Epoch 14/30\n",
      "54546/54546 [==============================] - 5s 86us/step - loss: 0.0480 - acc: 0.9416 - val_loss: 0.0492 - val_acc: 0.9344\n",
      "Epoch 15/30\n",
      "54546/54546 [==============================] - 5s 91us/step - loss: 0.0459 - acc: 0.9438 - val_loss: 0.0455 - val_acc: 0.9448\n",
      "Epoch 16/30\n",
      "54546/54546 [==============================] - 5s 94us/step - loss: 0.0448 - acc: 0.9455 - val_loss: 0.0423 - val_acc: 0.9463\n",
      "Epoch 17/30\n",
      "54546/54546 [==============================] - 5s 94us/step - loss: 0.0443 - acc: 0.9462 - val_loss: 0.0439 - val_acc: 0.9435\n",
      "Epoch 18/30\n",
      "54546/54546 [==============================] - 5s 84us/step - loss: 0.0412 - acc: 0.9495 - val_loss: 0.0432 - val_acc: 0.9448\n",
      "Epoch 19/30\n",
      "54546/54546 [==============================] - 4s 82us/step - loss: 0.0394 - acc: 0.9523 - val_loss: 0.0419 - val_acc: 0.9461\n",
      "Epoch 20/30\n",
      "54546/54546 [==============================] - 4s 82us/step - loss: 0.0393 - acc: 0.9514 - val_loss: 0.0407 - val_acc: 0.9483\n",
      "Epoch 21/30\n",
      "54546/54546 [==============================] - 4s 82us/step - loss: 0.0382 - acc: 0.9534 - val_loss: 0.0399 - val_acc: 0.9494\n",
      "Epoch 22/30\n",
      "54546/54546 [==============================] - 5s 86us/step - loss: 0.0377 - acc: 0.9541 - val_loss: 0.0423 - val_acc: 0.9457\n",
      "Epoch 23/30\n",
      "54546/54546 [==============================] - 4s 82us/step - loss: 0.0362 - acc: 0.9558 - val_loss: 0.0382 - val_acc: 0.9512\n",
      "Epoch 24/30\n",
      "54546/54546 [==============================] - 4s 82us/step - loss: 0.0348 - acc: 0.9569 - val_loss: 0.0420 - val_acc: 0.9487\n",
      "Epoch 25/30\n",
      "54546/54546 [==============================] - 5s 85us/step - loss: 0.0341 - acc: 0.9591 - val_loss: 0.0418 - val_acc: 0.9505\n",
      "Epoch 26/30\n",
      "54546/54546 [==============================] - 4s 82us/step - loss: 0.0337 - acc: 0.9602 - val_loss: 0.0390 - val_acc: 0.9512\n",
      "Epoch 27/30\n",
      "54546/54546 [==============================] - 4s 82us/step - loss: 0.0335 - acc: 0.9601 - val_loss: 0.0362 - val_acc: 0.9580\n",
      "Epoch 28/30\n",
      "54546/54546 [==============================] - 5s 86us/step - loss: 0.0325 - acc: 0.9609 - val_loss: 0.0357 - val_acc: 0.9540\n",
      "Epoch 29/30\n",
      "54546/54546 [==============================] - 5s 90us/step - loss: 0.0322 - acc: 0.9613 - val_loss: 0.0413 - val_acc: 0.9492\n",
      "Epoch 30/30\n",
      "54546/54546 [==============================] - 5s 98us/step - loss: 0.0313 - acc: 0.9628 - val_loss: 0.0331 - val_acc: 0.9591\n"
     ]
    }
   ],
   "source": [
    "\"\"\"four-CONV-LAYERS-THICK\"\"\"\n",
    "if not data_augmentation:\n",
    "    print('Not using data augmentation.')\n",
    "    train_history_3= model_3.fit(\n",
    "        x_train,\n",
    "        y_train,\n",
    "        batch_size=batch_size,\n",
    "        epochs=epochs,\n",
    "        validation_split= Vld_Splt,\n",
    "        shuffle=True)\n",
    "else:\n",
    "    print('Using real-time data augmentation.')\n",
    "    # This will do preprocessing and realtime data augmentation:\n",
    "    datagen = ImageDataGenerator(\n",
    "        featurewise_center=False,  # set input mean to 0 over the dataset\n",
    "        samplewise_center=False,  # set each sample mean to 0\n",
    "        featurewise_std_normalization=False,  # divide inputs by dataset std\n",
    "        samplewise_std_normalization=False,  # divide each input by its std\n",
    "        zca_whitening=False,  # apply ZCA whitening\n",
    "        zca_epsilon=1e-06,  # epsilon for ZCA whitening\n",
    "        rotation_range=0,  # randomly rotate images in 0 to 180 degrees\n",
    "        width_shift_range=0.1,  # randomly shift images horizontally\n",
    "        height_shift_range=0.1,  # randomly shift images vertically\n",
    "        shear_range=0.,  # set range for random shear\n",
    "        zoom_range=0.,  # set range for random zoom\n",
    "        channel_shift_range=0.,  # set range for random channel shifts\n",
    "        # set mode for filling points outside the input boundaries\n",
    "        fill_mode='nearest',\n",
    "        cval=0.,  # value used for fill_mode = \"constant\"\n",
    "        horizontal_flip=True,  # randomly flip images\n",
    "        vertical_flip=False,  # randomly flip images\n",
    "        # set rescaling factor (applied before any other transformation)\n",
    "        rescale=None,\n",
    "        # set function that will be applied on each input\n",
    "        preprocessing_function=None,\n",
    "        # image data format, either \"channels_first\" or \"channels_last\"\n",
    "        data_format=None,\n",
    "        # fraction of images reserved for validation (strictly between 0 and 1)\n",
    "        validation_split=0.0)\n",
    "\n",
    "    # Compute quantities required for feature-wise normalization\n",
    "    # (std, mean, and principal components if ZCA whitening is applied).\n",
    "    datagen.fit(x_train)\n",
    "\n",
    "    # Fit the model on the batches generated by datagen.flow().\n",
    "    train_history_3= model_3.fit_generator(\n",
    "        datagen.flow(x_train, y_train, batch_size=batch_size),\n",
    "        epochs= epochs,\n",
    "        validation_split= Vld_Splt,\n",
    "        steps_per_epoch= int(x_train.shape[0]/ batch_size),\n",
    "        workers=4)"
   ]
  },
  {
   "cell_type": "code",
   "execution_count": 17,
   "metadata": {},
   "outputs": [
    {
     "name": "stdout",
     "output_type": "stream",
     "text": [
      "Train on 54546 samples, validate on 5454 samples\n",
      "Epoch 1/30\n",
      "54546/54546 [==============================] - 3s 58us/step - loss: 1.3001 - acc: 0.5409 - val_loss: 0.8395 - val_acc: 0.7646\n",
      "Epoch 2/30\n",
      "54546/54546 [==============================] - 2s 44us/step - loss: 0.8163 - acc: 0.7271 - val_loss: 0.7064 - val_acc: 0.7946\n",
      "Epoch 3/30\n",
      "54546/54546 [==============================] - 3s 46us/step - loss: 0.6780 - acc: 0.7757 - val_loss: 0.5328 - val_acc: 0.8403\n",
      "Epoch 4/30\n",
      "54546/54546 [==============================] - 2s 40us/step - loss: 0.6100 - acc: 0.7991 - val_loss: 0.4739 - val_acc: 0.8647\n",
      "Epoch 5/30\n",
      "54546/54546 [==============================] - 2s 39us/step - loss: 0.5626 - acc: 0.8134 - val_loss: 0.4358 - val_acc: 0.8726\n",
      "Epoch 6/30\n",
      "54546/54546 [==============================] - 2s 39us/step - loss: 0.5214 - acc: 0.8271 - val_loss: 0.3974 - val_acc: 0.8843\n",
      "Epoch 7/30\n",
      "54546/54546 [==============================] - 2s 41us/step - loss: 0.4974 - acc: 0.8363 - val_loss: 0.3779 - val_acc: 0.8937\n",
      "Epoch 8/30\n",
      "54546/54546 [==============================] - 3s 51us/step - loss: 0.4673 - acc: 0.8467 - val_loss: 0.3726 - val_acc: 0.8905\n",
      "Epoch 9/30\n",
      "54546/54546 [==============================] - 2s 45us/step - loss: 0.4491 - acc: 0.8501 - val_loss: 0.3637 - val_acc: 0.8898\n",
      "Epoch 10/30\n",
      "54546/54546 [==============================] - 2s 43us/step - loss: 0.4391 - acc: 0.8538 - val_loss: 0.3476 - val_acc: 0.8964\n",
      "Epoch 11/30\n",
      "54546/54546 [==============================] - 2s 40us/step - loss: 0.4239 - acc: 0.8607 - val_loss: 0.3299 - val_acc: 0.8977\n",
      "Epoch 12/30\n",
      "54546/54546 [==============================] - 2s 43us/step - loss: 0.4128 - acc: 0.8619 - val_loss: 0.3184 - val_acc: 0.9081\n",
      "Epoch 13/30\n",
      "54546/54546 [==============================] - 3s 47us/step - loss: 0.4052 - acc: 0.8648 - val_loss: 0.3169 - val_acc: 0.9083\n",
      "Epoch 14/30\n",
      "54546/54546 [==============================] - 2s 36us/step - loss: 0.3893 - acc: 0.8695 - val_loss: 0.2963 - val_acc: 0.9136\n",
      "Epoch 15/30\n",
      "54546/54546 [==============================] - 2s 35us/step - loss: 0.3812 - acc: 0.8715 - val_loss: 0.2968 - val_acc: 0.9136\n",
      "Epoch 16/30\n",
      "54546/54546 [==============================] - 2s 38us/step - loss: 0.3750 - acc: 0.8745 - val_loss: 0.3027 - val_acc: 0.9102\n",
      "Epoch 17/30\n",
      "54546/54546 [==============================] - 2s 35us/step - loss: 0.3697 - acc: 0.8765 - val_loss: 0.2799 - val_acc: 0.9146\n",
      "Epoch 18/30\n",
      "54546/54546 [==============================] - 2s 39us/step - loss: 0.3569 - acc: 0.8805 - val_loss: 0.2607 - val_acc: 0.9215\n",
      "Epoch 19/30\n",
      "54546/54546 [==============================] - 2s 41us/step - loss: 0.3585 - acc: 0.8797 - val_loss: 0.2650 - val_acc: 0.9199\n",
      "Epoch 20/30\n",
      "54546/54546 [==============================] - 2s 38us/step - loss: 0.3528 - acc: 0.8805 - val_loss: 0.2654 - val_acc: 0.9212\n",
      "Epoch 21/30\n",
      "54546/54546 [==============================] - 2s 38us/step - loss: 0.3477 - acc: 0.8828 - val_loss: 0.2661 - val_acc: 0.9237\n",
      "Epoch 22/30\n",
      "54546/54546 [==============================] - 2s 37us/step - loss: 0.3385 - acc: 0.8858 - val_loss: 0.2665 - val_acc: 0.9171\n",
      "Epoch 23/30\n",
      "54546/54546 [==============================] - 2s 38us/step - loss: 0.3375 - acc: 0.8868 - val_loss: 0.2540 - val_acc: 0.9285\n",
      "Epoch 24/30\n",
      "54546/54546 [==============================] - 2s 38us/step - loss: 0.3330 - acc: 0.8884 - val_loss: 0.2448 - val_acc: 0.9298\n",
      "Epoch 25/30\n",
      "54546/54546 [==============================] - 2s 41us/step - loss: 0.3320 - acc: 0.8879 - val_loss: 0.2551 - val_acc: 0.9267\n",
      "Epoch 26/30\n",
      "54546/54546 [==============================] - 3s 49us/step - loss: 0.3228 - acc: 0.8909 - val_loss: 0.2372 - val_acc: 0.9318\n",
      "Epoch 27/30\n",
      "54546/54546 [==============================] - 3s 46us/step - loss: 0.3206 - acc: 0.8920 - val_loss: 0.2393 - val_acc: 0.9353\n",
      "Epoch 28/30\n",
      "54546/54546 [==============================] - 2s 39us/step - loss: 0.3200 - acc: 0.8929 - val_loss: 0.2386 - val_acc: 0.9309\n",
      "Epoch 29/30\n",
      "54546/54546 [==============================] - 2s 37us/step - loss: 0.3130 - acc: 0.8958 - val_loss: 0.2397 - val_acc: 0.9327\n",
      "Epoch 30/30\n",
      "54546/54546 [==============================] - 2s 34us/step - loss: 0.3121 - acc: 0.8943 - val_loss: 0.2342 - val_acc: 0.9303\n"
     ]
    }
   ],
   "source": [
    "\"\"\"CNN-3-CONV-LAYERS\"\"\"\n",
    "model_4.compile(loss='categorical_crossentropy',\n",
    "              optimizer='adam', metrics=['accuracy'])\n",
    "train_history_4= model_4.fit(x= x_train, y= y_train, validation_split= Vld_Splt,\n",
    "                         epochs= epochs, batch_size= batch_size, verbose=1)"
   ]
  },
  {
   "cell_type": "code",
   "execution_count": 18,
   "metadata": {},
   "outputs": [
    {
     "name": "stdout",
     "output_type": "stream",
     "text": [
      "10000/10000 [==============================] - 1s 89us/step\n"
     ]
    },
    {
     "data": {
      "text/plain": [
       "0.9037"
      ]
     },
     "execution_count": 18,
     "metadata": {},
     "output_type": "execute_result"
    }
   ],
   "source": [
    "\"\"\"one-CONV-LAYERS-THICK\"\"\"\n",
    "scores_0= model_0.evaluate(x_test, y_test)\n",
    "scores_0[1]"
   ]
  },
  {
   "cell_type": "code",
   "execution_count": 34,
   "metadata": {},
   "outputs": [
    {
     "name": "stdout",
     "output_type": "stream",
     "text": [
      "10000/10000 [==============================] - 1s 71us/step\n"
     ]
    },
    {
     "data": {
      "text/plain": [
       "0.929"
      ]
     },
     "execution_count": 34,
     "metadata": {},
     "output_type": "execute_result"
    }
   ],
   "source": [
    "\"\"\"two-CONV-LAYERS-THICK\"\"\"\n",
    "scores_1= model_1.evaluate(x_test, y_test)\n",
    "scores_1[1]"
   ]
  },
  {
   "cell_type": "code",
   "execution_count": 35,
   "metadata": {},
   "outputs": [
    {
     "name": "stdout",
     "output_type": "stream",
     "text": [
      "10000/10000 [==============================] - 1s 74us/step\n"
     ]
    },
    {
     "data": {
      "text/plain": [
       "0.9322"
      ]
     },
     "execution_count": 35,
     "metadata": {},
     "output_type": "execute_result"
    }
   ],
   "source": [
    "\"\"\"three-CONV-LAYERS-THICK\"\"\"\n",
    "scores_2= model_2.evaluate(x_test, y_test)\n",
    "scores_2[1]"
   ]
  },
  {
   "cell_type": "code",
   "execution_count": 36,
   "metadata": {},
   "outputs": [
    {
     "name": "stdout",
     "output_type": "stream",
     "text": [
      "10000/10000 [==============================] - 1s 72us/step\n"
     ]
    },
    {
     "data": {
      "text/plain": [
       "0.9565"
      ]
     },
     "execution_count": 36,
     "metadata": {},
     "output_type": "execute_result"
    }
   ],
   "source": [
    "\"\"\"four-CONV-LAYERS-THICK\"\"\"\n",
    "scores_3= model_3.evaluate(x_test, y_test)\n",
    "scores_3[1]"
   ]
  },
  {
   "cell_type": "code",
   "execution_count": 37,
   "metadata": {},
   "outputs": [
    {
     "name": "stdout",
     "output_type": "stream",
     "text": [
      "10000/10000 [==============================] - 1s 75us/step\n"
     ]
    },
    {
     "data": {
      "text/plain": [
       "0.9258"
      ]
     },
     "execution_count": 37,
     "metadata": {},
     "output_type": "execute_result"
    }
   ],
   "source": [
    "\"\"\"CNN\"\"\"\n",
    "scores_4= model_4.evaluate(x_test, y_test)\n",
    "scores_4[1]"
   ]
  },
  {
   "cell_type": "code",
   "execution_count": 38,
   "metadata": {},
   "outputs": [],
   "source": [
    "import matplotlib.pyplot as plt\n",
    "def show_train_history(train_history, train, validation):\n",
    "    plt.plot(train_history.history[train])\n",
    "    plt.plot(train_history.history[validation])\n",
    "    plt.title('Train History')\n",
    "    plt.ylabel(train)\n",
    "    plt.xlabel('Epoch')\n",
    "    plt.legend(['train', 'validation'], loc='best')\n",
    "    plt.show()"
   ]
  },
  {
   "cell_type": "code",
   "execution_count": 39,
   "metadata": {},
   "outputs": [
    {
     "data": {
      "image/png": "[encoded data removed]",
      "text/plain": [
       "<Figure size 432x288 with 1 Axes>"
      ]
     },
     "metadata": {
      "needs_background": "light"
     },
     "output_type": "display_data"
    }
   ],
   "source": [
    "show_train_history(train_history_0, 'acc', 'val_acc')"
   ]
  },
  {
   "cell_type": "code",
   "execution_count": 40,
   "metadata": {},
   "outputs": [
    {
     "data": {
      "image/png": "[encoded data removed]",
      "text/plain": [
       "<Figure size 432x288 with 1 Axes>"
      ]
     },
     "metadata": {
      "needs_background": "light"
     },
     "output_type": "display_data"
    }
   ],
   "source": [
    "show_train_history(train_history_1, 'acc', 'val_acc')"
   ]
  },
  {
   "cell_type": "code",
   "execution_count": 41,
   "metadata": {},
   "outputs": [
    {
     "data": {
      "image/png": "[encoded data removed]",
      "text/plain": [
       "<Figure size 432x288 with 1 Axes>"
      ]
     },
     "metadata": {
      "needs_background": "light"
     },
     "output_type": "display_data"
    }
   ],
   "source": [
    "show_train_history(train_history_2, 'acc', 'val_acc')"
   ]
  },
  {
   "cell_type": "code",
   "execution_count": 42,
   "metadata": {},
   "outputs": [
    {
     "data": {
      "image/png": "[encoded data removed]",
      "text/plain": [
       "<Figure size 432x288 with 1 Axes>"
      ]
     },
     "metadata": {
      "needs_background": "light"
     },
     "output_type": "display_data"
    }
   ],
   "source": [
    "show_train_history(train_history_3, 'acc', 'val_acc')"
   ]
  },
  {
   "cell_type": "code",
   "execution_count": 43,
   "metadata": {},
   "outputs": [
    {
     "data": {
      "image/png": "[encoded data removed]",
      "text/plain": [
       "<Figure size 432x288 with 1 Axes>"
      ]
     },
     "metadata": {
      "needs_background": "light"
     },
     "output_type": "display_data"
    }
   ],
   "source": [
    "show_train_history(train_history_4, 'acc', 'val_acc')"
   ]
  },
  {
   "cell_type": "code",
   "execution_count": 44,
   "metadata": {},
   "outputs": [],
   "source": [
    "# show_train_history(train_history_5, 'acc', 'val_acc')"
   ]
  },
  {
   "cell_type": "code",
   "execution_count": 45,
   "metadata": {},
   "outputs": [],
   "source": [
    "# show_train_history(train_history_6, 'acc', 'val_acc')"
   ]
  },
  {
   "cell_type": "code",
   "execution_count": 46,
   "metadata": {},
   "outputs": [
    {
     "data": {
      "image/png": "[encoded data removed]",
      "text/plain": [
       "<Figure size 432x288 with 1 Axes>"
      ]
     },
     "metadata": {
      "needs_background": "light"
     },
     "output_type": "display_data"
    }
   ],
   "source": [
    "plt.plot(train_history_0.history['val_acc'], 'r-')\n",
    "plt.plot(train_history_1.history['val_acc'], 'b--')\n",
    "plt.plot(train_history_2.history['val_acc'], 'k.')\n",
    "plt.plot(train_history_3.history['val_acc'], 'b-')\n",
    "plt.plot(train_history_4.history['val_acc'], 'h-')\n",
    "# plt.plot(train_history_5.history['val_acc'], 'c-')\n",
    "# plt.plot(train_history_6.history['val_acc'], 'g*-')\n",
    "# plt.plot(train_history_7.history['val_acc'], 'k-.')\n",
    "plt.title('Training on HMD')\n",
    "plt.ylabel('Validation Accuracy')\n",
    "plt.xlabel('Epoch')\n",
    "plt.legend(['CapsNet: 1-conv','CapsNet: 2-conv','CapsNet: 3-conv','CapsNet: 4-conv','CNN-2CONV'], loc='best')\n",
    "plt.show()"
   ]
  },
  {
   "cell_type": "code",
   "execution_count": null,
   "metadata": {},
   "outputs": [],
   "source": []
  }
 ],
 "metadata": {
  "kernelspec": {
   "display_name": "Python 3",
   "language": "python",
   "name": "python3"
  },
  "language_info": {
   "codemirror_mode": {
    "name": "ipython",
    "version": 3
   },
   "file_extension": ".py",
   "mimetype": "text/x-python",
   "name": "python",
   "nbconvert_exporter": "python",
   "pygments_lexer": "ipython3",
   "version": "3.6.10"
  }
 },
 "nbformat": 4,
 "nbformat_minor": 2
}
