{
 "cells": [
  {
   "cell_type": "code",
   "execution_count": 1,
   "metadata": {},
   "outputs": [],
   "source": [
    "import os\n"
   ]
  },
  {
   "cell_type": "code",
   "execution_count": 2,
   "metadata": {},
   "outputs": [
    {
     "name": "stderr",
     "output_type": "stream",
     "text": [
      "Using TensorFlow backend.\n",
      "C:\\Users\\ASUS\\Anaconda3\\envs\\tensorflow-gpu\\lib\\site-packages\\tensorflow\\python\\framework\\dtypes.py:526: FutureWarning: Passing (type, 1) or '1type' as a synonym of type is deprecated; in a future version of numpy, it will be understood as (type, (1,)) / '(1,)type'.\n",
      "  _np_qint8 = np.dtype([(\"qint8\", np.int8, 1)])\n",
      "C:\\Users\\ASUS\\Anaconda3\\envs\\tensorflow-gpu\\lib\\site-packages\\tensorflow\\python\\framework\\dtypes.py:527: FutureWarning: Passing (type, 1) or '1type' as a synonym of type is deprecated; in a future version of numpy, it will be understood as (type, (1,)) / '(1,)type'.\n",
      "  _np_quint8 = np.dtype([(\"quint8\", np.uint8, 1)])\n",
      "C:\\Users\\ASUS\\Anaconda3\\envs\\tensorflow-gpu\\lib\\site-packages\\tensorflow\\python\\framework\\dtypes.py:528: FutureWarning: Passing (type, 1) or '1type' as a synonym of type is deprecated; in a future version of numpy, it will be understood as (type, (1,)) / '(1,)type'.\n",
      "  _np_qint16 = np.dtype([(\"qint16\", np.int16, 1)])\n",
      "C:\\Users\\ASUS\\Anaconda3\\envs\\tensorflow-gpu\\lib\\site-packages\\tensorflow\\python\\framework\\dtypes.py:529: FutureWarning: Passing (type, 1) or '1type' as a synonym of type is deprecated; in a future version of numpy, it will be understood as (type, (1,)) / '(1,)type'.\n",
      "  _np_quint16 = np.dtype([(\"quint16\", np.uint16, 1)])\n",
      "C:\\Users\\ASUS\\Anaconda3\\envs\\tensorflow-gpu\\lib\\site-packages\\tensorflow\\python\\framework\\dtypes.py:530: FutureWarning: Passing (type, 1) or '1type' as a synonym of type is deprecated; in a future version of numpy, it will be understood as (type, (1,)) / '(1,)type'.\n",
      "  _np_qint32 = np.dtype([(\"qint32\", np.int32, 1)])\n",
      "C:\\Users\\ASUS\\Anaconda3\\envs\\tensorflow-gpu\\lib\\site-packages\\tensorflow\\python\\framework\\dtypes.py:535: FutureWarning: Passing (type, 1) or '1type' as a synonym of type is deprecated; in a future version of numpy, it will be understood as (type, (1,)) / '(1,)type'.\n",
      "  np_resource = np.dtype([(\"resource\", np.ubyte, 1)])\n"
     ]
    }
   ],
   "source": [
    "from __future__ import print_function\n",
    "from keras import backend as K\n",
    "from keras.layers import Layer\n",
    "from keras import activations\n",
    "from keras import utils\n",
    "from keras.datasets import fashion_mnist\n",
    "from keras.datasets import mnist\n",
    "from keras.models import Model\n",
    "from keras.layers import *\n",
    "from keras.preprocessing.image import ImageDataGenerator\n",
    "import cv2"
   ]
  },
  {
   "cell_type": "code",
   "execution_count": 3,
   "metadata": {},
   "outputs": [],
   "source": [
    "from tensorflow.compat.v1 import ConfigProto\n",
    "from tensorflow.compat.v1 import InteractiveSession\n",
    "\n",
    "config = ConfigProto()\n",
    "config.gpu_options.allow_growth = True\n",
    "session = InteractiveSession(config=config)"
   ]
  },
  {
   "cell_type": "code",
   "execution_count": 4,
   "metadata": {},
   "outputs": [],
   "source": [
    "Vld_Splt= 0.0909\n",
    "batch_size = 200\n",
    "num_classes = 10\n",
    "epochs = 30"
   ]
  },
  {
   "cell_type": "code",
   "execution_count": 5,
   "metadata": {},
   "outputs": [],
   "source": [
    "from keras.utils import np_utils\n",
    "\n",
    "'''LOAD DATA'''\n",
    "Dir= 'C:/pythonwork/MHDD/'\n",
    "x_train= np.load(Dir+'HMDD_Train_X.npy')\n",
    "y_train=np.load(Dir+'HMDD_Train_Y.npy')\n",
    "x_test=np.load(Dir+'HMDD_Test_X.npy')\n",
    "y_test=np.load(Dir+'HMDD_Test_Y.npy')\n",
    "\n",
    "'''PRE-PROCESSING'''\n",
    "x_train = x_train.reshape(-1, 28, 28, 1).astype('float32') / 255.\n",
    "x_test = x_test.reshape(-1, 28, 28, 1).astype('float32') / 255.\n",
    "# n_Vld= int(np.floor(Vld_Splt* x_train.shape[0]))  # Num. of validation data"
   ]
  },
  {
   "cell_type": "code",
   "execution_count": 6,
   "metadata": {},
   "outputs": [
    {
     "name": "stdout",
     "output_type": "stream",
     "text": [
      " (60000, 28, 28, 1) \n",
      " (60000, 10) \n",
      " (10000, 28, 28, 1) \n",
      " (10000, 10) \n",
      "\n"
     ]
    }
   ],
   "source": [
    "print('', x_train.shape,'\\n',y_train.shape,'\\n',x_test.shape,'\\n',y_test.shape,'\\n')"
   ]
  },
  {
   "cell_type": "code",
   "execution_count": 7,
   "metadata": {},
   "outputs": [],
   "source": [
    "# the squashing function.\n",
    "# we use 0.5 in stead of 1 in hinton's paper.\n",
    "# if 1, the norm of vector will be zoomed out.\n",
    "# if 0.5, the norm will be zoomed in while original norm is less than 0.5\n",
    "# and be zoomed out while original norm is greater than 0.5.\n",
    "def squash(x, axis=-1):\n",
    "    s_squared_norm = K.sum(K.square(x), axis, keepdims=True) + K.epsilon()\n",
    "    scale = K.sqrt(s_squared_norm) / (0.5 + s_squared_norm)\n",
    "    return scale * x\n",
    "\n",
    "\n",
    "# define our own softmax function instead of K.softmax\n",
    "# because K.softmax can not specify axis.\n",
    "def softmax(x, axis=-1):\n",
    "    ex = K.exp(x - K.max(x, axis=axis, keepdims=True))\n",
    "    return ex / K.sum(ex, axis=axis, keepdims=True)\n",
    "\n",
    "\n",
    "# define the margin loss like hinge loss\n",
    "def margin_loss(y_true, y_pred):\n",
    "    lamb, margin = 0.5, 0.1\n",
    "    return K.sum(y_true * K.square(K.relu(1 - margin - y_pred)) + lamb * (\n",
    "        1 - y_true) * K.square(K.relu(y_pred - margin)), axis=-1)\n",
    "\n",
    "\n",
    "class Capsule(Layer):\n",
    "    \"\"\"A Capsule Implement with Pure Keras\n",
    "    There are two vesions of Capsule.\n",
    "    One is like dense layer (for the fixed-shape input),\n",
    "    and the other is like timedistributed dense (for various length input).\n",
    "\n",
    "    The input shape of Capsule must be (batch_size,\n",
    "                                        input_num_capsule,\n",
    "                                        input_dim_capsule\n",
    "                                       )\n",
    "    and the output shape is (batch_size,\n",
    "                             num_capsule,\n",
    "                             dim_capsule\n",
    "                            )\n",
    "\n",
    "    Capsule Implement is from https://github.com/bojone/Capsule/\n",
    "    Capsule Paper: https://arxiv.org/abs/1710.09829\n",
    "    \"\"\"\n",
    "\n",
    "    def __init__(self,\n",
    "                 num_capsule,\n",
    "                 dim_capsule,\n",
    "                 routings=3,\n",
    "                 share_weights=True,\n",
    "                 activation='squash',\n",
    "                 **kwargs):\n",
    "        super(Capsule, self).__init__(**kwargs)\n",
    "        self.num_capsule = num_capsule\n",
    "        self.dim_capsule = dim_capsule\n",
    "        self.routings = routings\n",
    "        self.share_weights = share_weights\n",
    "        if activation == 'squash':\n",
    "            self.activation = squash\n",
    "        else:\n",
    "            self.activation = activations.get(activation)\n",
    "\n",
    "    def build(self, input_shape):\n",
    "        input_dim_capsule = input_shape[-1]\n",
    "        if self.share_weights:\n",
    "            self.kernel = self.add_weight(\n",
    "                name='capsule_kernel',\n",
    "                shape=(1, input_dim_capsule,\n",
    "                       self.num_capsule * self.dim_capsule),\n",
    "                initializer='glorot_uniform',\n",
    "                trainable=True)\n",
    "        else:\n",
    "            input_num_capsule = input_shape[-2]\n",
    "            self.kernel = self.add_weight(\n",
    "                name='capsule_kernel',\n",
    "                shape=(input_num_capsule, input_dim_capsule,\n",
    "                       self.num_capsule * self.dim_capsule),\n",
    "                initializer='glorot_uniform',\n",
    "                trainable=True)\n",
    "\n",
    "    def call(self, inputs):\n",
    "        \"\"\"Following the routing algorithm from Hinton's paper,\n",
    "        but replace b = b + <u,v> with b = <u,v>.\n",
    "\n",
    "        This change can improve the feature representation of Capsule.\n",
    "\n",
    "        However, you can replace\n",
    "            b = K.batch_dot(outputs, hat_inputs, [2, 3])\n",
    "        with\n",
    "            b += K.batch_dot(outputs, hat_inputs, [2, 3])\n",
    "        to realize a standard routing.\n",
    "        \"\"\"\n",
    "\n",
    "        if self.share_weights:\n",
    "            hat_inputs = K.conv1d(inputs, self.kernel)\n",
    "        else:\n",
    "            hat_inputs = K.local_conv1d(inputs, self.kernel, [1], [1])\n",
    "\n",
    "        batch_size = K.shape(inputs)[0]\n",
    "        input_num_capsule = K.shape(inputs)[1]\n",
    "        hat_inputs = K.reshape(hat_inputs,\n",
    "                               (batch_size, input_num_capsule,\n",
    "                                self.num_capsule, self.dim_capsule))\n",
    "        hat_inputs = K.permute_dimensions(hat_inputs, (0, 2, 1, 3))\n",
    "\n",
    "        b = K.zeros_like(hat_inputs[:, :, :, 0])\n",
    "        for i in range(self.routings):\n",
    "            c = softmax(b, 1)\n",
    "            o = self.activation(K.batch_dot(c, hat_inputs, [2, 2]))\n",
    "            if i < self.routings - 1:\n",
    "                b = K.batch_dot(o, hat_inputs, [2, 3])\n",
    "                if K.backend() == 'theano':\n",
    "                    o = K.sum(o, axis=1)\n",
    "\n",
    "        return o\n",
    "\n",
    "    def compute_output_shape(self, input_shape):\n",
    "        return (None, self.num_capsule, self.dim_capsule)"
   ]
  },
  {
   "cell_type": "code",
   "execution_count": 8,
   "metadata": {},
   "outputs": [
    {
     "name": "stdout",
     "output_type": "stream",
     "text": [
      "WARNING:tensorflow:From C:\\Users\\ASUS\\Anaconda3\\envs\\tensorflow-gpu\\lib\\site-packages\\tensorflow\\python\\framework\\op_def_library.py:263: colocate_with (from tensorflow.python.framework.ops) is deprecated and will be removed in a future version.\n",
      "Instructions for updating:\n",
      "Colocations handled automatically by placer.\n",
      "WARNING:tensorflow:From C:\\Users\\ASUS\\Anaconda3\\envs\\tensorflow-gpu\\lib\\site-packages\\keras\\backend\\tensorflow_backend.py:3445: calling dropout (from tensorflow.python.ops.nn_ops) with keep_prob is deprecated and will be removed in a future version.\n",
      "Instructions for updating:\n",
      "Please use `rate` instead of `keep_prob`. Rate should be set to `rate = 1 - keep_prob`.\n",
      "_________________________________________________________________\n",
      "Layer (type)                 Output Shape              Param #   \n",
      "=================================================================\n",
      "input_1 (InputLayer)         (None, 28, 28, 1)         0         \n",
      "_________________________________________________________________\n",
      "conv2d_1 (Conv2D)            (None, 24, 24, 300)       7800      \n",
      "_________________________________________________________________\n",
      "dropout_1 (Dropout)          (None, 24, 24, 300)       0         \n",
      "_________________________________________________________________\n",
      "reshape_1 (Reshape)          (None, 576, 300)          0         \n",
      "_________________________________________________________________\n",
      "capsule_1 (Capsule)          (None, 10, 16)            48000     \n",
      "_________________________________________________________________\n",
      "lambda_1 (Lambda)            (None, 10)                0         \n",
      "=================================================================\n",
      "Total params: 55,800\n",
      "Trainable params: 55,800\n",
      "Non-trainable params: 0\n",
      "_________________________________________________________________\n"
     ]
    }
   ],
   "source": [
    "\"\"\"one-CONV-LAYERS-THICK\"\"\"\n",
    "input_image = Input(shape=(x_train.shape[1], x_train.shape[2], x_train.shape[3]))\n",
    "x_0 = Conv2D(filters= 300, kernel_size= 5, activation='relu', \n",
    "             padding= 'valid')(input_image)\n",
    "x_0= Dropout(0.1)(x_0)\n",
    "\n",
    "\n",
    "\"\"\"now we reshape it as (batch_size, input_num_capsule, input_dim_capsule)\n",
    "then connect a Capsule layer.\n",
    "\n",
    "the output of final model is the lengths of 10 Capsule, whose dim=16.\n",
    "\n",
    "the length of Capsule is the proba,\n",
    "so the problem becomes a 10 two-classification problem.\n",
    "\"\"\"\n",
    "\n",
    "x_0 = Reshape((-1, 300))(x_0)\n",
    "capsule_0 = Capsule(num_classes, 16, 3, True)(x_0)\n",
    "output_0 = Lambda(lambda z: K.sqrt(K.sum(K.square(z), 2)))(capsule_0)\n",
    "model_0 = Model(inputs= input_image, outputs= output_0)\n",
    "\n",
    "# we use a margin loss\n",
    "model_0.compile(loss =margin_loss, optimizer='adam', metrics=['accuracy'])\n",
    "model_0.summary()\n",
    "\n",
    "# we can compare the performance with or without data augmentation\n",
    "data_augmentation = False"
   ]
  },
  {
   "cell_type": "code",
   "execution_count": 9,
   "metadata": {},
   "outputs": [
    {
     "name": "stdout",
     "output_type": "stream",
     "text": [
      "_________________________________________________________________\n",
      "Layer (type)                 Output Shape              Param #   \n",
      "=================================================================\n",
      "input_2 (InputLayer)         (None, 28, 28, 1)         0         \n",
      "_________________________________________________________________\n",
      "conv2d_2 (Conv2D)            (None, 24, 24, 30)        780       \n",
      "_________________________________________________________________\n",
      "dropout_2 (Dropout)          (None, 24, 24, 30)        0         \n",
      "_________________________________________________________________\n",
      "conv2d_3 (Conv2D)            (None, 20, 20, 60)        45060     \n",
      "_________________________________________________________________\n",
      "dropout_3 (Dropout)          (None, 20, 20, 60)        0         \n",
      "_________________________________________________________________\n",
      "reshape_2 (Reshape)          (None, 400, 60)           0         \n",
      "_________________________________________________________________\n",
      "capsule_2 (Capsule)          (None, 10, 16)            9600      \n",
      "_________________________________________________________________\n",
      "lambda_2 (Lambda)            (None, 10)                0         \n",
      "=================================================================\n",
      "Total params: 55,440\n",
      "Trainable params: 55,440\n",
      "Non-trainable params: 0\n",
      "_________________________________________________________________\n"
     ]
    }
   ],
   "source": [
    "\"\"\"two-CONV-LAYERS-THICK\"\"\"\n",
    "input_image = Input(shape=(x_train.shape[1], x_train.shape[2], x_train.shape[3]))\n",
    "x_1 = Conv2D(filters= 30, kernel_size= 5, activation='relu', \n",
    "             padding= 'valid')(input_image)\n",
    "x_1= Dropout(0.1)(x_1)\n",
    "x_1 = Conv2D(filters= 60, kernel_size= 5, activation='relu',\n",
    "             strides= 1)(x_1)\n",
    "x_1 = Dropout(0.1)(x_1)\n",
    "\n",
    "\n",
    "\"\"\"now we reshape it as (batch_size, input_num_capsule, input_dim_capsule)\n",
    "then connect a Capsule layer.\n",
    "\n",
    "the output of final model is the lengths of 10 Capsule, whose dim=16.\n",
    "\n",
    "the length of Capsule is the proba,\n",
    "so the problem becomes a 10 two-classification problem.\n",
    "\"\"\"\n",
    "\n",
    "x_1 = Reshape((-1, 60))(x_1)\n",
    "capsule_1 = Capsule(num_classes, 16, 3, True)(x_1)\n",
    "output_1 = Lambda(lambda z: K.sqrt(K.sum(K.square(z), 2)))(capsule_1)\n",
    "model_1= Model(inputs= input_image, outputs= output_1)\n",
    "\n",
    "# we use a margin loss\n",
    "model_1.compile(loss =margin_loss, optimizer='adam', metrics=['accuracy'])\n",
    "model_1.summary()\n",
    "\n",
    "# we can compare the performance with or without data augmentation\n",
    "data_augmentation = False"
   ]
  },
  {
   "cell_type": "code",
   "execution_count": 10,
   "metadata": {},
   "outputs": [
    {
     "name": "stdout",
     "output_type": "stream",
     "text": [
      "_________________________________________________________________\n",
      "Layer (type)                 Output Shape              Param #   \n",
      "=================================================================\n",
      "input_3 (InputLayer)         (None, 28, 28, 1)         0         \n",
      "_________________________________________________________________\n",
      "conv2d_4 (Conv2D)            (None, 24, 24, 15)        390       \n",
      "_________________________________________________________________\n",
      "dropout_4 (Dropout)          (None, 24, 24, 15)        0         \n",
      "_________________________________________________________________\n",
      "conv2d_5 (Conv2D)            (None, 20, 20, 30)        11280     \n",
      "_________________________________________________________________\n",
      "dropout_5 (Dropout)          (None, 20, 20, 30)        0         \n",
      "_________________________________________________________________\n",
      "conv2d_6 (Conv2D)            (None, 16, 16, 45)        33795     \n",
      "_________________________________________________________________\n",
      "dropout_6 (Dropout)          (None, 16, 16, 45)        0         \n",
      "_________________________________________________________________\n",
      "reshape_3 (Reshape)          (None, 256, 45)           0         \n",
      "_________________________________________________________________\n",
      "capsule_3 (Capsule)          (None, 10, 16)            7200      \n",
      "_________________________________________________________________\n",
      "lambda_3 (Lambda)            (None, 10)                0         \n",
      "=================================================================\n",
      "Total params: 52,665\n",
      "Trainable params: 52,665\n",
      "Non-trainable params: 0\n",
      "_________________________________________________________________\n"
     ]
    }
   ],
   "source": [
    "\"\"\"three-CONV-LAYERS-THICK\"\"\"\n",
    "input_image = Input(shape=(x_train.shape[1], x_train.shape[2], x_train.shape[3]))\n",
    "x_2 = Conv2D(filters= 15, kernel_size= 5, activation='relu', \n",
    "             padding= 'valid')(input_image)\n",
    "x_2= Dropout(0.1)(x_2)\n",
    "x_2 = Conv2D(filters= 30, kernel_size= 5, activation='relu',\n",
    "             strides= 1)(x_2)\n",
    "x_2 = Dropout(0.1)(x_2)\n",
    "x_2 = Conv2D(filters= 45, kernel_size= 5, activation='relu',\n",
    "             strides= 1)(x_2)\n",
    "x_2 = Dropout(0.1)(x_2)\n",
    "\n",
    "\n",
    "\"\"\"now we reshape it as (batch_size, input_num_capsule, input_dim_capsule)\n",
    "then connect a Capsule layer.\n",
    "\n",
    "the output of final model is the lengths of 10 Capsule, whose dim=16.\n",
    "\n",
    "the length of Capsule is the proba,\n",
    "so the problem becomes a 10 two-classification problem.\n",
    "\"\"\"\n",
    "\n",
    "x_2 = Reshape((-1, 45))(x_2)\n",
    "capsule_2 = Capsule(num_classes, 16, 3, True)(x_2)\n",
    "output_2 = Lambda(lambda z: K.sqrt(K.sum(K.square(z), 2)))(capsule_2)\n",
    "model_2= Model(inputs= input_image, outputs= output_2)\n",
    "\n",
    "# we use a margin loss\n",
    "model_2.compile(loss =margin_loss, optimizer='adam', metrics=['accuracy'])\n",
    "model_2.summary()\n",
    "\n",
    "# we can compare the performance with or without data augmentation\n",
    "data_augmentation = False"
   ]
  },
  {
   "cell_type": "code",
   "execution_count": 11,
   "metadata": {},
   "outputs": [
    {
     "name": "stdout",
     "output_type": "stream",
     "text": [
      "_________________________________________________________________\n",
      "Layer (type)                 Output Shape              Param #   \n",
      "=================================================================\n",
      "input_4 (InputLayer)         (None, 28, 28, 1)         0         \n",
      "_________________________________________________________________\n",
      "conv2d_7 (Conv2D)            (None, 24, 24, 15)        390       \n",
      "_________________________________________________________________\n",
      "dropout_7 (Dropout)          (None, 24, 24, 15)        0         \n",
      "_________________________________________________________________\n",
      "conv2d_8 (Conv2D)            (None, 20, 20, 20)        7520      \n",
      "_________________________________________________________________\n",
      "dropout_8 (Dropout)          (None, 20, 20, 20)        0         \n",
      "_________________________________________________________________\n",
      "conv2d_9 (Conv2D)            (None, 16, 16, 30)        15030     \n",
      "_________________________________________________________________\n",
      "dropout_9 (Dropout)          (None, 16, 16, 30)        0         \n",
      "_________________________________________________________________\n",
      "conv2d_10 (Conv2D)           (None, 12, 12, 30)        22530     \n",
      "_________________________________________________________________\n",
      "dropout_10 (Dropout)         (None, 12, 12, 30)        0         \n",
      "_________________________________________________________________\n",
      "reshape_4 (Reshape)          (None, 144, 30)           0         \n",
      "_________________________________________________________________\n",
      "capsule_4 (Capsule)          (None, 10, 16)            4800      \n",
      "_________________________________________________________________\n",
      "lambda_4 (Lambda)            (None, 10)                0         \n",
      "=================================================================\n",
      "Total params: 50,270\n",
      "Trainable params: 50,270\n",
      "Non-trainable params: 0\n",
      "_________________________________________________________________\n"
     ]
    }
   ],
   "source": [
    "\"\"\"four-CONV-LAYERS-THICK\"\"\"\n",
    "input_image = Input(shape=(x_train.shape[1], x_train.shape[2], x_train.shape[3]))\n",
    "x_3 = Conv2D(filters= 15, kernel_size= 5, activation='relu', \n",
    "             padding= 'valid')(input_image)\n",
    "x_3= Dropout(0.1)(x_3)\n",
    "x_3 = Conv2D(filters= 20 ,kernel_size= 5, activation='relu',\n",
    "             strides= 1)(x_3)\n",
    "x_3 = Dropout(0.1)(x_3)\n",
    "x_3 = Conv2D(filters= 30, kernel_size= 5, activation='relu',\n",
    "             strides= 1)(x_3)\n",
    "x_3= Dropout(0.1)(x_3)\n",
    "x_3 = Conv2D(filters= 30,kernel_size= 5, activation='relu',\n",
    "             strides= 1)(x_3)\n",
    "x_3= Dropout(0.1)(x_3)\n",
    "\n",
    "\n",
    "\"\"\"now we reshape it as (batch_size, input_num_capsule, input_dim_capsule)\n",
    "then connect a Capsule layer.\n",
    "\n",
    "the output of final model is the lengths of 10 Capsule, whose dim=16.\n",
    "\n",
    "the length of Capsule is the proba,\n",
    "so the problem becomes a 10 two-classification problem.\n",
    "\"\"\"\n",
    "\n",
    "x_3 = Reshape((-1, 30))(x_3)\n",
    "capsule_3 = Capsule(num_classes, 16, 3, True)(x_3)\n",
    "output_3 = Lambda(lambda z: K.sqrt(K.sum(K.square(z), 2)))(capsule_3)\n",
    "model_3= Model(inputs= input_image, outputs= output_3)\n",
    "\n",
    "# we use a margin loss\n",
    "model_3.compile(loss =margin_loss, optimizer='adam', metrics=['accuracy'])\n",
    "model_3.summary()\n",
    "\n",
    "# we can compare the performance with or without data augmentation\n",
    "data_augmentation = False"
   ]
  },
  {
   "cell_type": "code",
   "execution_count": 42,
   "metadata": {},
   "outputs": [
    {
     "name": "stdout",
     "output_type": "stream",
     "text": [
      "_________________________________________________________________\n",
      "Layer (type)                 Output Shape              Param #   \n",
      "=================================================================\n",
      "input_8 (InputLayer)         (None, 28, 28, 1)         0         \n",
      "_________________________________________________________________\n",
      "conv2d_31 (Conv2D)           (None, 24, 24, 15)        390       \n",
      "_________________________________________________________________\n",
      "dropout_31 (Dropout)         (None, 24, 24, 15)        0         \n",
      "_________________________________________________________________\n",
      "conv2d_32 (Conv2D)           (None, 20, 20, 20)        7520      \n",
      "_________________________________________________________________\n",
      "dropout_32 (Dropout)         (None, 20, 20, 20)        0         \n",
      "_________________________________________________________________\n",
      "conv2d_33 (Conv2D)           (None, 16, 16, 20)        10020     \n",
      "_________________________________________________________________\n",
      "dropout_33 (Dropout)         (None, 16, 16, 20)        0         \n",
      "_________________________________________________________________\n",
      "conv2d_34 (Conv2D)           (None, 12, 12, 25)        12525     \n",
      "_________________________________________________________________\n",
      "dropout_34 (Dropout)         (None, 12, 12, 25)        0         \n",
      "_________________________________________________________________\n",
      "conv2d_35 (Conv2D)           (None, 8, 8, 27)          16902     \n",
      "_________________________________________________________________\n",
      "dropout_35 (Dropout)         (None, 8, 8, 27)          0         \n",
      "_________________________________________________________________\n",
      "reshape_8 (Reshape)          (None, 64, 27)            0         \n",
      "_________________________________________________________________\n",
      "capsule_8 (Capsule)          (None, 10, 16)            4320      \n",
      "_________________________________________________________________\n",
      "lambda_8 (Lambda)            (None, 10)                0         \n",
      "=================================================================\n",
      "Total params: 51,677\n",
      "Trainable params: 51,677\n",
      "Non-trainable params: 0\n",
      "_________________________________________________________________\n"
     ]
    }
   ],
   "source": [
    "\"\"\"five-CONV-LAYERS-THICK\"\"\"\n",
    "input_image = Input(shape=(x_train.shape[1], x_train.shape[2], x_train.shape[3]))\n",
    "x_4 = Conv2D(filters= 15, kernel_size= 5, activation='relu', \n",
    "             padding= 'valid')(input_image)\n",
    "x_4= Dropout(0.1)(x_4)\n",
    "x_4 = Conv2D(filters= 20 ,kernel_size= 5, activation='relu',\n",
    "             strides= 1)(x_4)\n",
    "x_4 = Dropout(0.1)(x_4)\n",
    "x_4 = Conv2D(filters= 20, kernel_size= 5, activation='relu',\n",
    "             strides= 1)(x_4)\n",
    "x_4= Dropout(0.1)(x_4)\n",
    "x_4 = Conv2D(filters= 25,kernel_size= 5, activation='relu',\n",
    "             strides= 1)(x_4)\n",
    "x_4= Dropout(0.1)(x_4)\n",
    "x_4 = Conv2D(filters= 27,kernel_size= 5, activation='relu',\n",
    "             strides= 1)(x_4)\n",
    "x_4= Dropout(0.1)(x_4)\n",
    "\n",
    "\"\"\"now we reshape it as (batch_size, input_num_capsule, input_dim_capsule)\n",
    "then connect a Capsule layer.\n",
    "\n",
    "the output of final model is the lengths of 10 Capsule, whose dim=16.\n",
    "\n",
    "the length of Capsule is the proba,\n",
    "so the problem becomes a 10 two-classification problem.\n",
    "\"\"\"\n",
    "\n",
    "x_4 = Reshape((-1, 27))(x_4)\n",
    "capsule_4 = Capsule(num_classes, 16, 3, True)(x_4)\n",
    "output_4 = Lambda(lambda z: K.sqrt(K.sum(K.square(z), 2)))(capsule_4)\n",
    "model_4= Model(inputs= input_image, outputs= output_4)\n",
    "\n",
    "# we use a margin loss\n",
    "model_4.compile(loss =margin_loss, optimizer='adam', metrics=['accuracy'])\n",
    "model_4.summary()\n",
    "\n",
    "# we can compare the performance with or without data augmentation\n",
    "data_augmentation = False"
   ]
  },
  {
   "cell_type": "code",
   "execution_count": 13,
   "metadata": {},
   "outputs": [
    {
     "name": "stdout",
     "output_type": "stream",
     "text": [
      "_________________________________________________________________\n",
      "Layer (type)                 Output Shape              Param #   \n",
      "=================================================================\n",
      "input_6 (InputLayer)         (None, 28, 28, 1)         0         \n",
      "_________________________________________________________________\n",
      "conv2d_16 (Conv2D)           (None, 24, 24, 15)        390       \n",
      "_________________________________________________________________\n",
      "dropout_16 (Dropout)         (None, 24, 24, 15)        0         \n",
      "_________________________________________________________________\n",
      "conv2d_17 (Conv2D)           (None, 24, 24, 15)        5640      \n",
      "_________________________________________________________________\n",
      "dropout_17 (Dropout)         (None, 24, 24, 15)        0         \n",
      "_________________________________________________________________\n",
      "conv2d_18 (Conv2D)           (None, 10, 10, 19)        7144      \n",
      "_________________________________________________________________\n",
      "dropout_18 (Dropout)         (None, 10, 10, 19)        0         \n",
      "_________________________________________________________________\n",
      "conv2d_19 (Conv2D)           (None, 6, 6, 20)          9520      \n",
      "_________________________________________________________________\n",
      "dropout_19 (Dropout)         (None, 6, 6, 20)          0         \n",
      "_________________________________________________________________\n",
      "conv2d_20 (Conv2D)           (None, 6, 6, 25)          12525     \n",
      "_________________________________________________________________\n",
      "dropout_20 (Dropout)         (None, 6, 6, 25)          0         \n",
      "_________________________________________________________________\n",
      "conv2d_21 (Conv2D)           (None, 2, 2, 30)          18780     \n",
      "_________________________________________________________________\n",
      "dropout_21 (Dropout)         (None, 2, 2, 30)          0         \n",
      "_________________________________________________________________\n",
      "reshape_6 (Reshape)          (None, 4, 30)             0         \n",
      "_________________________________________________________________\n",
      "capsule_6 (Capsule)          (None, 10, 16)            4800      \n",
      "_________________________________________________________________\n",
      "lambda_6 (Lambda)            (None, 10)                0         \n",
      "=================================================================\n",
      "Total params: 58,799\n",
      "Trainable params: 58,799\n",
      "Non-trainable params: 0\n",
      "_________________________________________________________________\n"
     ]
    }
   ],
   "source": [
    "\"\"\"six-CONV-LAYERS-THICK\"\"\"\n",
    "input_image = Input(shape=(x_train.shape[1], x_train.shape[2], x_train.shape[3]))\n",
    "x_5 = Conv2D(filters= 15, kernel_size= 5, activation='relu', \n",
    "             padding= 'valid')(input_image)\n",
    "x_5= Dropout(0.1)(x_5)\n",
    "x_5 = Conv2D(filters= 15 ,kernel_size= 5, activation='relu',\n",
    "             padding= 'same')(x_5)\n",
    "x_5 = Dropout(0.1)(x_5)\n",
    "x_5 = Conv2D(filters= 19, kernel_size= 5, activation='relu',\n",
    "             strides= 2)(x_5)\n",
    "x_5= Dropout(0.1)(x_5)\n",
    "x_5 = Conv2D(filters= 20,kernel_size= 5, activation='relu',\n",
    "             strides= 1)(x_5)\n",
    "x_5= Dropout(0.1)(x_5)\n",
    "x_5 = Conv2D(filters= 25,kernel_size= 5, activation='relu',\n",
    "             padding= 'same')(x_5)\n",
    "x_5= Dropout(0.1)(x_5)\n",
    "x_5 = Conv2D(filters= 30,kernel_size= 5, activation='relu',\n",
    "             strides= 1)(x_5)\n",
    "x_5= Dropout(0.1)(x_5)\n",
    "\n",
    "\"\"\"now we reshape it as (batch_size, input_num_capsule, input_dim_capsule)\n",
    "then connect a Capsule layer.\n",
    "\n",
    "the output of final model is the lengths of 10 Capsule, whose dim=16.\n",
    "\n",
    "the length of Capsule is the proba,\n",
    "so the problem becomes a 10 two-classification problem.\n",
    "\"\"\"\n",
    "\n",
    "x_5 = Reshape((-1, 30))(x_5)\n",
    "capsule_5 = Capsule(num_classes, 16, 3, True)(x_5)\n",
    "output_5 = Lambda(lambda z: K.sqrt(K.sum(K.square(z), 2)))(capsule_5)\n",
    "model_5= Model(inputs= input_image, outputs= output_5)\n",
    "\n",
    "# we use a margin loss\n",
    "model_5.compile(loss =margin_loss, optimizer='adam', metrics=['accuracy'])\n",
    "model_5.summary()\n",
    "\n",
    "# we can compare the performance with or without data augmentation\n",
    "data_augmentation = False"
   ]
  },
  {
   "cell_type": "code",
   "execution_count": 14,
   "metadata": {},
   "outputs": [
    {
     "name": "stdout",
     "output_type": "stream",
     "text": [
      "_________________________________________________________________\n",
      "Layer (type)                 Output Shape              Param #   \n",
      "=================================================================\n",
      "input_7 (InputLayer)         (None, 28, 28, 1)         0         \n",
      "_________________________________________________________________\n",
      "conv2d_22 (Conv2D)           (None, 24, 24, 15)        390       \n",
      "_________________________________________________________________\n",
      "dropout_22 (Dropout)         (None, 24, 24, 15)        0         \n",
      "_________________________________________________________________\n",
      "conv2d_23 (Conv2D)           (None, 24, 24, 15)        5640      \n",
      "_________________________________________________________________\n",
      "dropout_23 (Dropout)         (None, 24, 24, 15)        0         \n",
      "_________________________________________________________________\n",
      "conv2d_24 (Conv2D)           (None, 10, 10, 15)        5640      \n",
      "_________________________________________________________________\n",
      "dropout_24 (Dropout)         (None, 10, 10, 15)        0         \n",
      "_________________________________________________________________\n",
      "conv2d_25 (Conv2D)           (None, 10, 10, 20)        7520      \n",
      "_________________________________________________________________\n",
      "dropout_25 (Dropout)         (None, 10, 10, 20)        0         \n",
      "_________________________________________________________________\n",
      "conv2d_26 (Conv2D)           (None, 10, 10, 20)        10020     \n",
      "_________________________________________________________________\n",
      "dropout_26 (Dropout)         (None, 10, 10, 20)        0         \n",
      "_________________________________________________________________\n",
      "conv2d_27 (Conv2D)           (None, 6, 6, 24)          12024     \n",
      "_________________________________________________________________\n",
      "dropout_27 (Dropout)         (None, 6, 6, 24)          0         \n",
      "_________________________________________________________________\n",
      "conv2d_28 (Conv2D)           (None, 2, 2, 25)          15025     \n",
      "_________________________________________________________________\n",
      "dropout_28 (Dropout)         (None, 2, 2, 25)          0         \n",
      "_________________________________________________________________\n",
      "reshape_7 (Reshape)          (None, 4, 25)             0         \n",
      "_________________________________________________________________\n",
      "capsule_7 (Capsule)          (None, 10, 16)            4000      \n",
      "_________________________________________________________________\n",
      "lambda_7 (Lambda)            (None, 10)                0         \n",
      "=================================================================\n",
      "Total params: 60,259\n",
      "Trainable params: 60,259\n",
      "Non-trainable params: 0\n",
      "_________________________________________________________________\n"
     ]
    }
   ],
   "source": [
    "\"\"\"seven-CONV-LAYERS-THICK\"\"\"\n",
    "input_image = Input(shape=(x_train.shape[1], x_train.shape[2], x_train.shape[3]))\n",
    "x_6 = Conv2D(filters= 15, kernel_size= 5, activation='relu', \n",
    "             padding= 'valid')(input_image)\n",
    "x_6= Dropout(0.1)(x_6)\n",
    "x_6 = Conv2D(filters= 15 ,kernel_size= 5, activation='relu',\n",
    "            padding= 'same')(x_6)\n",
    "x_6 = Dropout(0.1)(x_6)\n",
    "x_6 = Conv2D(filters= 15, kernel_size= 5, activation='relu',\n",
    "              strides= 2)(x_6)\n",
    "x_6= Dropout(0.1)(x_6)\n",
    "x_6 = Conv2D(filters= 20,kernel_size= 5, activation='relu',\n",
    "              padding= 'same')(x_6)\n",
    "x_6= Dropout(0.1)(x_6)\n",
    "x_6 = Conv2D(filters= 20,kernel_size= 5, activation='relu',\n",
    "             padding= 'same')(x_6)\n",
    "x_6= Dropout(0.1)(x_6)\n",
    "x_6 = Conv2D(filters= 24,kernel_size= 5, activation='relu',\n",
    "              strides= 1)(x_6)\n",
    "x_6= Dropout(0.1)(x_6)\n",
    "x_6 = Conv2D(filters= 25,kernel_size= 5, activation='relu',\n",
    "             strides= 1)(x_6)\n",
    "x_6= Dropout(0.1)(x_6)\n",
    "\n",
    "\"\"\"now we reshape it as (batch_size, input_num_capsule, input_dim_capsule)\n",
    "then connect a Capsule layer.\n",
    "\n",
    "the output of final model is the lengths of 10 Capsule, whose dim=16.\n",
    "\n",
    "the length of Capsule is the proba,\n",
    "so the problem becomes a 10 two-classification problem.\n",
    "\"\"\"\n",
    "\n",
    "x_6 = Reshape((-1, 25))(x_6)\n",
    "capsule_6 = Capsule(num_classes, 16, 3, True)(x_6)\n",
    "output_6 = Lambda(lambda z: K.sqrt(K.sum(K.square(z), 2)))(capsule_6)\n",
    "model_6= Model(inputs= input_image, outputs= output_6)\n",
    "\n",
    "# we use a margin loss\n",
    "model_6.compile(loss =margin_loss, optimizer='adam', metrics=['accuracy'])\n",
    "model_6.summary()\n",
    "\n",
    "# we can compare the performance with or without data augmentation\n",
    "data_augmentation = False"
   ]
  },
  {
   "cell_type": "code",
   "execution_count": 15,
   "metadata": {},
   "outputs": [
    {
     "name": "stdout",
     "output_type": "stream",
     "text": [
      "_________________________________________________________________\n",
      "Layer (type)                 Output Shape              Param #   \n",
      "=================================================================\n",
      "conv2d_29 (Conv2D)           (None, 28, 28, 5)         130       \n",
      "_________________________________________________________________\n",
      "max_pooling2d_1 (MaxPooling2 (None, 14, 14, 5)         0         \n",
      "_________________________________________________________________\n",
      "conv2d_30 (Conv2D)           (None, 10, 10, 18)        2268      \n",
      "_________________________________________________________________\n",
      "dropout_29 (Dropout)         (None, 10, 10, 18)        0         \n",
      "_________________________________________________________________\n",
      "max_pooling2d_2 (MaxPooling2 (None, 5, 5, 18)          0         \n",
      "_________________________________________________________________\n",
      "flatten_1 (Flatten)          (None, 450)               0         \n",
      "_________________________________________________________________\n",
      "dropout_30 (Dropout)         (None, 450)               0         \n",
      "_________________________________________________________________\n",
      "dense_1 (Dense)              (None, 256)               115456    \n",
      "_________________________________________________________________\n",
      "dense_2 (Dense)              (None, 10)                2570      \n",
      "=================================================================\n",
      "Total params: 120,424\n",
      "Trainable params: 120,424\n",
      "Non-trainable params: 0\n",
      "_________________________________________________________________\n",
      "None\n"
     ]
    }
   ],
   "source": [
    "\"\"\"CNN-3-CONV-LAYERS\"\"\"\n",
    "from keras.models import Sequential\n",
    "from keras.layers import Dense, Dropout, Activation, Flatten, Conv2D, MaxPooling2D, \\\n",
    "                         ZeroPadding2D\n",
    "\n",
    "model_7= Sequential()\n",
    "model_7.add(Conv2D(filters= 5, kernel_size= (5, 5), padding= 'same', \n",
    "                   input_shape=(x_train.shape[1], x_train.shape[2], x_train.shape[3]), \n",
    "                   activation='relu'))\n",
    "model_7.add(MaxPooling2D(pool_size=(2,2)))\n",
    "model_7.add(Conv2D(filters= 18, kernel_size= (5, 5), \n",
    "                    padding= 'valid', activation='relu'))\n",
    "model_7.add(Dropout(0.3))\n",
    "model_7.add(MaxPooling2D(pool_size=(2,2)))\n",
    "\n",
    "model_7.add(Flatten())\n",
    "model_7.add(Dropout(0.4))\n",
    "model_7.add(Dense(256, activation='relu'))\n",
    "model_7.add(Dense(num_classes, activation='softmax'))\n",
    "print(model_7.summary())"
   ]
  },
  {
   "cell_type": "code",
   "execution_count": 16,
   "metadata": {},
   "outputs": [
    {
     "name": "stdout",
     "output_type": "stream",
     "text": [
      "Not using data augmentation.\n",
      "WARNING:tensorflow:From C:\\Users\\ASUS\\Anaconda3\\envs\\tensorflow-gpu\\lib\\site-packages\\tensorflow\\python\\ops\\math_ops.py:3066: to_int32 (from tensorflow.python.ops.math_ops) is deprecated and will be removed in a future version.\n",
      "Instructions for updating:\n",
      "Use tf.cast instead.\n",
      "WARNING:tensorflow:From C:\\Users\\ASUS\\Anaconda3\\envs\\tensorflow-gpu\\lib\\site-packages\\tensorflow\\python\\ops\\math_grad.py:102: div (from tensorflow.python.ops.math_ops) is deprecated and will be removed in a future version.\n",
      "Instructions for updating:\n",
      "Deprecated in favor of operator or tf.math.divide.\n",
      "Train on 54546 samples, validate on 5454 samples\n",
      "Epoch 1/30\n",
      "54546/54546 [==============================] - 20s 362us/step - loss: 0.4058 - acc: 0.4983 - val_loss: 0.3133 - val_acc: 0.6907\n",
      "Epoch 2/30\n",
      "54546/54546 [==============================] - 18s 321us/step - loss: 0.2900 - acc: 0.7113 - val_loss: 0.2640 - val_acc: 0.7675\n",
      "Epoch 3/30\n",
      "54546/54546 [==============================] - 18s 323us/step - loss: 0.2576 - acc: 0.7514 - val_loss: 0.2399 - val_acc: 0.7880\n",
      "Epoch 4/30\n",
      "54546/54546 [==============================] - 17s 320us/step - loss: 0.2396 - acc: 0.7756 - val_loss: 0.2284 - val_acc: 0.8199\n",
      "Epoch 5/30\n",
      "54546/54546 [==============================] - 18s 322us/step - loss: 0.2257 - acc: 0.7936 - val_loss: 0.2111 - val_acc: 0.8253\n",
      "Epoch 6/30\n",
      "54546/54546 [==============================] - 18s 327us/step - loss: 0.2204 - acc: 0.7999 - val_loss: 0.2089 - val_acc: 0.8275\n",
      "Epoch 7/30\n",
      "54546/54546 [==============================] - 18s 322us/step - loss: 0.2122 - acc: 0.8100 - val_loss: 0.1988 - val_acc: 0.8368\n",
      "Epoch 8/30\n",
      "54546/54546 [==============================] - 18s 322us/step - loss: 0.2050 - acc: 0.8183 - val_loss: 0.1988 - val_acc: 0.8368\n",
      "Epoch 9/30\n",
      "54546/54546 [==============================] - 18s 321us/step - loss: 0.2035 - acc: 0.8190 - val_loss: 0.1895 - val_acc: 0.8493\n",
      "Epoch 10/30\n",
      "54546/54546 [==============================] - 17s 321us/step - loss: 0.1980 - acc: 0.8270 - val_loss: 0.1869 - val_acc: 0.8498\n",
      "Epoch 11/30\n",
      "54546/54546 [==============================] - 18s 322us/step - loss: 0.1941 - acc: 0.8327 - val_loss: 0.1815 - val_acc: 0.8564\n",
      "Epoch 12/30\n",
      "54546/54546 [==============================] - 18s 321us/step - loss: 0.1924 - acc: 0.8322 - val_loss: 0.1775 - val_acc: 0.8616\n",
      "Epoch 13/30\n",
      "54546/54546 [==============================] - 18s 321us/step - loss: 0.1889 - acc: 0.8377 - val_loss: 0.1816 - val_acc: 0.8541\n",
      "Epoch 14/30\n",
      "54546/54546 [==============================] - 18s 322us/step - loss: 0.1872 - acc: 0.8402 - val_loss: 0.1804 - val_acc: 0.8563\n",
      "Epoch 15/30\n",
      "54546/54546 [==============================] - 18s 322us/step - loss: 0.1845 - acc: 0.8426 - val_loss: 0.1771 - val_acc: 0.8596\n",
      "Epoch 16/30\n",
      "54546/54546 [==============================] - 18s 322us/step - loss: 0.1835 - acc: 0.8441 - val_loss: 0.1731 - val_acc: 0.8597\n",
      "Epoch 17/30\n",
      "54546/54546 [==============================] - 18s 322us/step - loss: 0.1820 - acc: 0.8453 - val_loss: 0.1736 - val_acc: 0.8559\n",
      "Epoch 18/30\n",
      "54546/54546 [==============================] - 18s 322us/step - loss: 0.1805 - acc: 0.8472 - val_loss: 0.1659 - val_acc: 0.8739\n",
      "Epoch 19/30\n",
      "54546/54546 [==============================] - 18s 322us/step - loss: 0.1765 - acc: 0.8536 - val_loss: 0.1722 - val_acc: 0.8674\n",
      "Epoch 20/30\n",
      "54546/54546 [==============================] - 18s 322us/step - loss: 0.1770 - acc: 0.8514 - val_loss: 0.1627 - val_acc: 0.8739\n",
      "Epoch 21/30\n",
      "54546/54546 [==============================] - 18s 323us/step - loss: 0.1747 - acc: 0.8540 - val_loss: 0.1659 - val_acc: 0.8623\n",
      "Epoch 22/30\n",
      "54546/54546 [==============================] - 18s 327us/step - loss: 0.1739 - acc: 0.8550 - val_loss: 0.1589 - val_acc: 0.8779\n",
      "Epoch 23/30\n",
      "54546/54546 [==============================] - 18s 324us/step - loss: 0.1727 - acc: 0.8581 - val_loss: 0.1686 - val_acc: 0.8649\n",
      "Epoch 24/30\n",
      "54546/54546 [==============================] - 18s 323us/step - loss: 0.1718 - acc: 0.8590 - val_loss: 0.1636 - val_acc: 0.8823\n",
      "Epoch 25/30\n",
      "54546/54546 [==============================] - 18s 322us/step - loss: 0.1705 - acc: 0.8589 - val_loss: 0.1547 - val_acc: 0.8839\n",
      "Epoch 26/30\n",
      "54546/54546 [==============================] - 18s 323us/step - loss: 0.1688 - acc: 0.8626 - val_loss: 0.1593 - val_acc: 0.8753\n",
      "Epoch 27/30\n",
      "54546/54546 [==============================] - 18s 323us/step - loss: 0.1676 - acc: 0.8657 - val_loss: 0.1700 - val_acc: 0.8706\n",
      "Epoch 28/30\n",
      "54546/54546 [==============================] - 18s 323us/step - loss: 0.1661 - acc: 0.8656 - val_loss: 0.1581 - val_acc: 0.8874\n",
      "Epoch 29/30\n",
      "54546/54546 [==============================] - 18s 322us/step - loss: 0.1666 - acc: 0.8656 - val_loss: 0.1526 - val_acc: 0.8843\n",
      "Epoch 30/30\n",
      "54546/54546 [==============================] - 18s 322us/step - loss: 0.1657 - acc: 0.8653 - val_loss: 0.1534 - val_acc: 0.8894\n"
     ]
    }
   ],
   "source": [
    "\"\"\"one-CONV-LAYERS-THICK\"\"\"\n",
    "if not data_augmentation:\n",
    "    print('Not using data augmentation.')\n",
    "    train_history_0= model_0.fit(\n",
    "        x_train,\n",
    "        y_train,\n",
    "        batch_size=batch_size,\n",
    "        epochs=epochs,\n",
    "        validation_split= Vld_Splt,\n",
    "        shuffle=True)\n",
    "else:\n",
    "    print('Using real-time data augmentation.')\n",
    "    # This will do preprocessing and realtime data augmentation:\n",
    "    datagen = ImageDataGenerator(\n",
    "        featurewise_center=False,  # set input mean to 0 over the dataset\n",
    "        samplewise_center=False,  # set each sample mean to 0\n",
    "        featurewise_std_normalization=False,  # divide inputs by dataset std\n",
    "        samplewise_std_normalization=False,  # divide each input by its std\n",
    "        zca_whitening=False,  # apply ZCA whitening\n",
    "        zca_epsilon=1e-06,  # epsilon for ZCA whitening\n",
    "        rotation_range=0,  # randomly rotate images in 0 to 180 degrees\n",
    "        width_shift_range=0.1,  # randomly shift images horizontally\n",
    "        height_shift_range=0.1,  # randomly shift images vertically\n",
    "        shear_range=0.,  # set range for random shear\n",
    "        zoom_range=0.,  # set range for random zoom\n",
    "        channel_shift_range=0.,  # set range for random channel shifts\n",
    "        # set mode for filling points outside the input boundaries\n",
    "        fill_mode='nearest',\n",
    "        cval=0.,  # value used for fill_mode = \"constant\"\n",
    "        horizontal_flip=True,  # randomly flip images\n",
    "        vertical_flip=False,  # randomly flip images\n",
    "        # set rescaling factor (applied before any other transformation)\n",
    "        rescale=None,\n",
    "        # set function that will be applied on each input\n",
    "        preprocessing_function=None,\n",
    "        # image data format, either \"channels_first\" or \"channels_last\"\n",
    "        data_format=None,\n",
    "        # fraction of images reserved for validation (strictly between 0 and 1)\n",
    "        validation_split=0.0)\n",
    "\n",
    "    # Compute quantities required for feature-wise normalization\n",
    "    # (std, mean, and principal components if ZCA whitening is applied).\n",
    "    datagen.fit(x_train)\n",
    "\n",
    "    # Fit the model on the batches generated by datagen.flow().\n",
    "    train_history_0= model_0.fit_generator(\n",
    "        datagen.flow(x_train, y_train, batch_size=batch_size),\n",
    "        epochs= epochs,\n",
    "        validation_split= Vld_Splt,\n",
    "        steps_per_epoch= int(x_train.shape[0]/ batch_size),\n",
    "        workers=4)"
   ]
  },
  {
   "cell_type": "code",
   "execution_count": 17,
   "metadata": {},
   "outputs": [
    {
     "name": "stdout",
     "output_type": "stream",
     "text": [
      "Not using data augmentation.\n",
      "Train on 54546 samples, validate on 5454 samples\n",
      "Epoch 1/30\n",
      "54546/54546 [==============================] - 10s 180us/step - loss: 0.4223 - acc: 0.4842 - val_loss: 0.3070 - val_acc: 0.6784\n",
      "Epoch 2/30\n",
      "54546/54546 [==============================] - 9s 169us/step - loss: 0.2793 - acc: 0.7217 - val_loss: 0.2387 - val_acc: 0.7611\n",
      "Epoch 3/30\n",
      "54546/54546 [==============================] - 9s 169us/step - loss: 0.2329 - acc: 0.7751 - val_loss: 0.2047 - val_acc: 0.8236\n",
      "Epoch 4/30\n",
      "54546/54546 [==============================] - 9s 169us/step - loss: 0.2075 - acc: 0.8045 - val_loss: 0.1919 - val_acc: 0.8304\n",
      "Epoch 5/30\n",
      "54546/54546 [==============================] - 9s 169us/step - loss: 0.1909 - acc: 0.8209 - val_loss: 0.1695 - val_acc: 0.8493\n",
      "Epoch 6/30\n",
      "54546/54546 [==============================] - 9s 170us/step - loss: 0.1750 - acc: 0.8384 - val_loss: 0.1589 - val_acc: 0.8663\n",
      "Epoch 7/30\n",
      "54546/54546 [==============================] - 9s 169us/step - loss: 0.1646 - acc: 0.8488 - val_loss: 0.1453 - val_acc: 0.8761\n",
      "Epoch 8/30\n",
      "54546/54546 [==============================] - 9s 169us/step - loss: 0.1541 - acc: 0.8623 - val_loss: 0.1374 - val_acc: 0.8806\n",
      "Epoch 9/30\n",
      "54546/54546 [==============================] - 9s 169us/step - loss: 0.1454 - acc: 0.8697 - val_loss: 0.1304 - val_acc: 0.8856\n",
      "Epoch 10/30\n",
      "54546/54546 [==============================] - 9s 169us/step - loss: 0.1391 - acc: 0.8743 - val_loss: 0.1245 - val_acc: 0.8865\n",
      "Epoch 11/30\n",
      "54546/54546 [==============================] - 9s 169us/step - loss: 0.1327 - acc: 0.8816 - val_loss: 0.1177 - val_acc: 0.8946\n",
      "Epoch 12/30\n",
      "54546/54546 [==============================] - 9s 169us/step - loss: 0.1269 - acc: 0.8879 - val_loss: 0.1134 - val_acc: 0.8938\n",
      "Epoch 13/30\n",
      "54546/54546 [==============================] - 9s 170us/step - loss: 0.1220 - acc: 0.8921 - val_loss: 0.1096 - val_acc: 0.9052\n",
      "Epoch 14/30\n",
      "54546/54546 [==============================] - 9s 169us/step - loss: 0.1173 - acc: 0.8965 - val_loss: 0.1131 - val_acc: 0.9032\n",
      "Epoch 15/30\n",
      "54546/54546 [==============================] - 9s 169us/step - loss: 0.1150 - acc: 0.8991 - val_loss: 0.1071 - val_acc: 0.9017\n",
      "Epoch 16/30\n",
      "54546/54546 [==============================] - 9s 169us/step - loss: 0.1110 - acc: 0.9029 - val_loss: 0.1024 - val_acc: 0.9175\n",
      "Epoch 17/30\n",
      "54546/54546 [==============================] - 9s 170us/step - loss: 0.1091 - acc: 0.9049 - val_loss: 0.0982 - val_acc: 0.9158\n",
      "Epoch 18/30\n",
      "54546/54546 [==============================] - 9s 170us/step - loss: 0.1058 - acc: 0.9088 - val_loss: 0.0971 - val_acc: 0.9177\n",
      "Epoch 19/30\n",
      "54546/54546 [==============================] - 9s 169us/step - loss: 0.1034 - acc: 0.9114 - val_loss: 0.0933 - val_acc: 0.9195\n",
      "Epoch 20/30\n",
      "54546/54546 [==============================] - 9s 169us/step - loss: 0.1014 - acc: 0.9137 - val_loss: 0.0949 - val_acc: 0.9166\n",
      "Epoch 21/30\n",
      "54546/54546 [==============================] - 9s 170us/step - loss: 0.0992 - acc: 0.9154 - val_loss: 0.0914 - val_acc: 0.9162\n",
      "Epoch 22/30\n",
      "54546/54546 [==============================] - 9s 169us/step - loss: 0.0977 - acc: 0.9174 - val_loss: 0.0890 - val_acc: 0.9221\n",
      "Epoch 23/30\n",
      "54546/54546 [==============================] - 9s 169us/step - loss: 0.0961 - acc: 0.9184 - val_loss: 0.0920 - val_acc: 0.9213\n",
      "Epoch 24/30\n",
      "54546/54546 [==============================] - 9s 169us/step - loss: 0.0941 - acc: 0.9225 - val_loss: 0.0854 - val_acc: 0.9276\n",
      "Epoch 25/30\n",
      "54546/54546 [==============================] - 9s 169us/step - loss: 0.0926 - acc: 0.9237 - val_loss: 0.0888 - val_acc: 0.9256\n",
      "Epoch 26/30\n",
      "54546/54546 [==============================] - 9s 169us/step - loss: 0.0921 - acc: 0.9231 - val_loss: 0.0885 - val_acc: 0.9296\n",
      "Epoch 27/30\n",
      "54546/54546 [==============================] - 9s 169us/step - loss: 0.0899 - acc: 0.9262 - val_loss: 0.0843 - val_acc: 0.9318\n",
      "Epoch 28/30\n",
      "54546/54546 [==============================] - 9s 170us/step - loss: 0.0893 - acc: 0.9273 - val_loss: 0.0839 - val_acc: 0.9303\n",
      "Epoch 29/30\n",
      "54546/54546 [==============================] - 9s 169us/step - loss: 0.0876 - acc: 0.9291 - val_loss: 0.0840 - val_acc: 0.9259\n",
      "Epoch 30/30\n",
      "54546/54546 [==============================] - 9s 170us/step - loss: 0.0870 - acc: 0.9295 - val_loss: 0.0821 - val_acc: 0.9279\n"
     ]
    }
   ],
   "source": [
    "\"\"\"two-CONV-LAYERS-THICK\"\"\"\n",
    "if not data_augmentation:\n",
    "    print('Not using data augmentation.')\n",
    "    train_history_1= model_1.fit(\n",
    "        x_train,\n",
    "        y_train,\n",
    "        batch_size=batch_size,\n",
    "        epochs=epochs,\n",
    "        validation_split= Vld_Splt,\n",
    "        shuffle=True)\n",
    "else:\n",
    "    print('Using real-time data augmentation.')\n",
    "    # This will do preprocessing and realtime data augmentation:\n",
    "    datagen = ImageDataGenerator(\n",
    "        featurewise_center=False,  # set input mean to 0 over the dataset\n",
    "        samplewise_center=False,  # set each sample mean to 0\n",
    "        featurewise_std_normalization=False,  # divide inputs by dataset std\n",
    "        samplewise_std_normalization=False,  # divide each input by its std\n",
    "        zca_whitening=False,  # apply ZCA whitening\n",
    "        zca_epsilon=1e-06,  # epsilon for ZCA whitening\n",
    "        rotation_range=0,  # randomly rotate images in 0 to 180 degrees\n",
    "        width_shift_range=0.1,  # randomly shift images horizontally\n",
    "        height_shift_range=0.1,  # randomly shift images vertically\n",
    "        shear_range=0.,  # set range for random shear\n",
    "        zoom_range=0.,  # set range for random zoom\n",
    "        channel_shift_range=0.,  # set range for random channel shifts\n",
    "        # set mode for filling points outside the input boundaries\n",
    "        fill_mode='nearest',\n",
    "        cval=0.,  # value used for fill_mode = \"constant\"\n",
    "        horizontal_flip=True,  # randomly flip images\n",
    "        vertical_flip=False,  # randomly flip images\n",
    "        # set rescaling factor (applied before any other transformation)\n",
    "        rescale=None,\n",
    "        # set function that will be applied on each input\n",
    "        preprocessing_function=None,\n",
    "        # image data format, either \"channels_first\" or \"channels_last\"\n",
    "        data_format=None,\n",
    "        # fraction of images reserved for validation (strictly between 0 and 1)\n",
    "        validation_split=0.0)\n",
    "\n",
    "    # Compute quantities required for feature-wise normalization\n",
    "    # (std, mean, and principal components if ZCA whitening is applied).\n",
    "    datagen.fit(x_train)\n",
    "\n",
    "    # Fit the model on the batches generated by datagen.flow().\n",
    "    train_history_1= model_1.fit_generator(\n",
    "        datagen.flow(x_train, y_train, batch_size=batch_size),\n",
    "        epochs= epochs,\n",
    "        validation_split= Vld_Splt,\n",
    "        steps_per_epoch= int(x_train.shape[0]/ batch_size),\n",
    "        workers=4)"
   ]
  },
  {
   "cell_type": "code",
   "execution_count": 18,
   "metadata": {},
   "outputs": [
    {
     "name": "stdout",
     "output_type": "stream",
     "text": [
      "Not using data augmentation.\n",
      "Train on 54546 samples, validate on 5454 samples\n",
      "Epoch 1/30\n",
      "54546/54546 [==============================] - 8s 147us/step - loss: 0.4041 - acc: 0.4861 - val_loss: 0.2720 - val_acc: 0.7283\n",
      "Epoch 2/30\n",
      "54546/54546 [==============================] - 7s 133us/step - loss: 0.2196 - acc: 0.7905 - val_loss: 0.1681 - val_acc: 0.8564\n",
      "Epoch 3/30\n",
      "54546/54546 [==============================] - 7s 133us/step - loss: 0.1558 - acc: 0.8478 - val_loss: 0.1234 - val_acc: 0.8896\n",
      "Epoch 4/30\n",
      "54546/54546 [==============================] - 7s 133us/step - loss: 0.1277 - acc: 0.8752 - val_loss: 0.1055 - val_acc: 0.9039\n",
      "Epoch 5/30\n",
      "54546/54546 [==============================] - 7s 133us/step - loss: 0.1102 - acc: 0.8926 - val_loss: 0.0944 - val_acc: 0.9107\n",
      "Epoch 6/30\n",
      "54546/54546 [==============================] - 7s 134us/step - loss: 0.1007 - acc: 0.9029 - val_loss: 0.0832 - val_acc: 0.9223\n",
      "Epoch 7/30\n",
      "54546/54546 [==============================] - 7s 133us/step - loss: 0.0939 - acc: 0.9107 - val_loss: 0.0789 - val_acc: 0.9226\n",
      "Epoch 8/30\n",
      "54546/54546 [==============================] - 7s 133us/step - loss: 0.0875 - acc: 0.9170 - val_loss: 0.0751 - val_acc: 0.9285\n",
      "Epoch 9/30\n",
      "54546/54546 [==============================] - 7s 133us/step - loss: 0.0823 - acc: 0.9227 - val_loss: 0.0727 - val_acc: 0.9263\n",
      "Epoch 10/30\n",
      "54546/54546 [==============================] - 7s 134us/step - loss: 0.0784 - acc: 0.9264 - val_loss: 0.0684 - val_acc: 0.9333\n",
      "Epoch 11/30\n",
      "54546/54546 [==============================] - 7s 133us/step - loss: 0.0742 - acc: 0.9312 - val_loss: 0.0645 - val_acc: 0.9360\n",
      "Epoch 12/30\n",
      "54546/54546 [==============================] - 7s 134us/step - loss: 0.0717 - acc: 0.9330 - val_loss: 0.0626 - val_acc: 0.9428\n",
      "Epoch 13/30\n",
      "54546/54546 [==============================] - 7s 134us/step - loss: 0.0699 - acc: 0.9349 - val_loss: 0.0619 - val_acc: 0.9421\n",
      "Epoch 14/30\n",
      "54546/54546 [==============================] - 7s 133us/step - loss: 0.0667 - acc: 0.9389 - val_loss: 0.0643 - val_acc: 0.9360\n",
      "Epoch 15/30\n",
      "54546/54546 [==============================] - 7s 134us/step - loss: 0.0648 - acc: 0.9408 - val_loss: 0.0593 - val_acc: 0.9444\n",
      "Epoch 16/30\n",
      "54546/54546 [==============================] - 7s 134us/step - loss: 0.0631 - acc: 0.9418 - val_loss: 0.0563 - val_acc: 0.9450\n",
      "Epoch 17/30\n",
      "54546/54546 [==============================] - 7s 134us/step - loss: 0.0615 - acc: 0.9441 - val_loss: 0.0543 - val_acc: 0.9492\n",
      "Epoch 18/30\n",
      "54546/54546 [==============================] - 7s 134us/step - loss: 0.0597 - acc: 0.9449 - val_loss: 0.0557 - val_acc: 0.9437\n",
      "Epoch 19/30\n",
      "54546/54546 [==============================] - 7s 135us/step - loss: 0.0585 - acc: 0.9472 - val_loss: 0.0518 - val_acc: 0.9483\n",
      "Epoch 20/30\n",
      "54546/54546 [==============================] - 7s 134us/step - loss: 0.0567 - acc: 0.9496 - val_loss: 0.0521 - val_acc: 0.9479\n",
      "Epoch 21/30\n",
      "54546/54546 [==============================] - 7s 133us/step - loss: 0.0556 - acc: 0.9508 - val_loss: 0.0495 - val_acc: 0.9542\n",
      "Epoch 22/30\n",
      "54546/54546 [==============================] - 7s 134us/step - loss: 0.0546 - acc: 0.9506 - val_loss: 0.0498 - val_acc: 0.9525\n",
      "Epoch 23/30\n",
      "54546/54546 [==============================] - 7s 134us/step - loss: 0.0534 - acc: 0.9524 - val_loss: 0.0515 - val_acc: 0.9518\n",
      "Epoch 24/30\n",
      "54546/54546 [==============================] - 7s 134us/step - loss: 0.0529 - acc: 0.9533 - val_loss: 0.0521 - val_acc: 0.9551\n",
      "Epoch 25/30\n",
      "54546/54546 [==============================] - 7s 134us/step - loss: 0.0526 - acc: 0.9532 - val_loss: 0.0490 - val_acc: 0.9540\n",
      "Epoch 26/30\n",
      "54546/54546 [==============================] - 7s 134us/step - loss: 0.0516 - acc: 0.9545 - val_loss: 0.0466 - val_acc: 0.9558\n",
      "Epoch 27/30\n",
      "54546/54546 [==============================] - 7s 134us/step - loss: 0.0503 - acc: 0.9563 - val_loss: 0.0467 - val_acc: 0.9554\n",
      "Epoch 28/30\n",
      "54546/54546 [==============================] - 7s 133us/step - loss: 0.0499 - acc: 0.9577 - val_loss: 0.0469 - val_acc: 0.9551\n",
      "Epoch 29/30\n",
      "54546/54546 [==============================] - 7s 134us/step - loss: 0.0493 - acc: 0.9574 - val_loss: 0.0458 - val_acc: 0.9578\n",
      "Epoch 30/30\n",
      "54546/54546 [==============================] - 7s 134us/step - loss: 0.0489 - acc: 0.9581 - val_loss: 0.0457 - val_acc: 0.9575\n"
     ]
    }
   ],
   "source": [
    "\"\"\"three-CONV-LAYERS-THICK\"\"\"\n",
    "if not data_augmentation:\n",
    "    print('Not using data augmentation.')\n",
    "    train_history_2= model_2.fit(\n",
    "        x_train,\n",
    "        y_train,\n",
    "        batch_size=batch_size,\n",
    "        epochs=epochs,\n",
    "        validation_split= Vld_Splt,\n",
    "        shuffle=True)\n",
    "else:\n",
    "    print('Using real-time data augmentation.')\n",
    "    # This will do preprocessing and realtime data augmentation:\n",
    "    datagen = ImageDataGenerator(\n",
    "        featurewise_center=False,  # set input mean to 0 over the dataset\n",
    "        samplewise_center=False,  # set each sample mean to 0\n",
    "        featurewise_std_normalization=False,  # divide inputs by dataset std\n",
    "        samplewise_std_normalization=False,  # divide each input by its std\n",
    "        zca_whitening=False,  # apply ZCA whitening\n",
    "        zca_epsilon=1e-06,  # epsilon for ZCA whitening\n",
    "        rotation_range=0,  # randomly rotate images in 0 to 180 degrees\n",
    "        width_shift_range=0.1,  # randomly shift images horizontally\n",
    "        height_shift_range=0.1,  # randomly shift images vertically\n",
    "        shear_range=0.,  # set range for random shear\n",
    "        zoom_range=0.,  # set range for random zoom\n",
    "        channel_shift_range=0.,  # set range for random channel shifts\n",
    "        # set mode for filling points outside the input boundaries\n",
    "        fill_mode='nearest',\n",
    "        cval=0.,  # value used for fill_mode = \"constant\"\n",
    "        horizontal_flip=True,  # randomly flip images\n",
    "        vertical_flip=False,  # randomly flip images\n",
    "        # set rescaling factor (applied before any other transformation)\n",
    "        rescale=None,\n",
    "        # set function that will be applied on each input\n",
    "        preprocessing_function=None,\n",
    "        # image data format, either \"channels_first\" or \"channels_last\"\n",
    "        data_format=None,\n",
    "        # fraction of images reserved for validation (strictly between 0 and 1)\n",
    "        validation_split=0.0)\n",
    "\n",
    "    # Compute quantities required for feature-wise normalization\n",
    "    # (std, mean, and principal components if ZCA whitening is applied).\n",
    "    datagen.fit(x_train)\n",
    "\n",
    "    # Fit the model on the batches generated by datagen.flow().\n",
    "    train_history_2= model_2.fit_generator(\n",
    "        datagen.flow(x_train, y_train, batch_size=batch_size),\n",
    "        epochs= epochs,\n",
    "        validation_split= Vld_Splt,\n",
    "        steps_per_epoch= int(x_train.shape[0]/ batch_size),\n",
    "        workers=4)"
   ]
  },
  {
   "cell_type": "code",
   "execution_count": 19,
   "metadata": {},
   "outputs": [
    {
     "name": "stdout",
     "output_type": "stream",
     "text": [
      "Not using data augmentation.\n",
      "Train on 54546 samples, validate on 5454 samples\n",
      "Epoch 1/30\n",
      "54546/54546 [==============================] - 7s 126us/step - loss: 0.3857 - acc: 0.4671 - val_loss: 0.2398 - val_acc: 0.7167\n",
      "Epoch 2/30\n",
      "54546/54546 [==============================] - 6s 110us/step - loss: 0.1912 - acc: 0.7943 - val_loss: 0.1294 - val_acc: 0.8662\n",
      "Epoch 3/30\n",
      "54546/54546 [==============================] - 6s 111us/step - loss: 0.1216 - acc: 0.8726 - val_loss: 0.0908 - val_acc: 0.9017\n",
      "Epoch 4/30\n",
      "54546/54546 [==============================] - 6s 111us/step - loss: 0.0934 - acc: 0.9020 - val_loss: 0.0758 - val_acc: 0.9193\n",
      "Epoch 5/30\n",
      "54546/54546 [==============================] - 6s 110us/step - loss: 0.0793 - acc: 0.9174 - val_loss: 0.0657 - val_acc: 0.9327\n",
      "Epoch 6/30\n",
      "54546/54546 [==============================] - 6s 111us/step - loss: 0.0717 - acc: 0.9245 - val_loss: 0.0557 - val_acc: 0.9459\n",
      "Epoch 7/30\n",
      "54546/54546 [==============================] - 6s 110us/step - loss: 0.0655 - acc: 0.9318 - val_loss: 0.0540 - val_acc: 0.9417\n",
      "Epoch 8/30\n",
      "54546/54546 [==============================] - 6s 110us/step - loss: 0.0601 - acc: 0.9377 - val_loss: 0.0525 - val_acc: 0.9452\n",
      "Epoch 9/30\n",
      "54546/54546 [==============================] - 6s 111us/step - loss: 0.0568 - acc: 0.9427 - val_loss: 0.0478 - val_acc: 0.9492\n",
      "Epoch 10/30\n",
      "54546/54546 [==============================] - 6s 111us/step - loss: 0.0533 - acc: 0.9458 - val_loss: 0.0484 - val_acc: 0.9501\n",
      "Epoch 11/30\n",
      "54546/54546 [==============================] - 6s 110us/step - loss: 0.0509 - acc: 0.9489 - val_loss: 0.0444 - val_acc: 0.9542\n",
      "Epoch 12/30\n",
      "54546/54546 [==============================] - 6s 111us/step - loss: 0.0487 - acc: 0.9513 - val_loss: 0.0404 - val_acc: 0.9589\n",
      "Epoch 13/30\n",
      "54546/54546 [==============================] - 6s 110us/step - loss: 0.0481 - acc: 0.9527 - val_loss: 0.0417 - val_acc: 0.9542\n",
      "Epoch 14/30\n",
      "54546/54546 [==============================] - 6s 112us/step - loss: 0.0457 - acc: 0.9544 - val_loss: 0.0423 - val_acc: 0.9542\n",
      "Epoch 15/30\n",
      "54546/54546 [==============================] - 6s 111us/step - loss: 0.0446 - acc: 0.9561 - val_loss: 0.0389 - val_acc: 0.9611\n",
      "Epoch 16/30\n",
      "54546/54546 [==============================] - 6s 111us/step - loss: 0.0429 - acc: 0.9581 - val_loss: 0.0391 - val_acc: 0.9624\n",
      "Epoch 17/30\n",
      "54546/54546 [==============================] - 6s 111us/step - loss: 0.0417 - acc: 0.9585 - val_loss: 0.0366 - val_acc: 0.9650\n",
      "Epoch 18/30\n",
      "54546/54546 [==============================] - 6s 111us/step - loss: 0.0401 - acc: 0.9614 - val_loss: 0.0394 - val_acc: 0.9598\n",
      "Epoch 19/30\n",
      "54546/54546 [==============================] - 6s 111us/step - loss: 0.0393 - acc: 0.9621 - val_loss: 0.0361 - val_acc: 0.9617\n",
      "Epoch 20/30\n",
      "54546/54546 [==============================] - 6s 111us/step - loss: 0.0395 - acc: 0.9619 - val_loss: 0.0371 - val_acc: 0.9630\n",
      "Epoch 21/30\n",
      "54546/54546 [==============================] - 6s 111us/step - loss: 0.0373 - acc: 0.9645 - val_loss: 0.0363 - val_acc: 0.9630\n",
      "Epoch 22/30\n",
      "54546/54546 [==============================] - 6s 110us/step - loss: 0.0369 - acc: 0.9653 - val_loss: 0.0357 - val_acc: 0.9637\n",
      "Epoch 23/30\n",
      "54546/54546 [==============================] - 6s 111us/step - loss: 0.0371 - acc: 0.9648 - val_loss: 0.0348 - val_acc: 0.9613\n",
      "Epoch 24/30\n",
      "54546/54546 [==============================] - 6s 115us/step - loss: 0.0357 - acc: 0.9667 - val_loss: 0.0342 - val_acc: 0.9642\n",
      "Epoch 25/30\n",
      "54546/54546 [==============================] - 6s 113us/step - loss: 0.0351 - acc: 0.9677 - val_loss: 0.0324 - val_acc: 0.9681\n",
      "Epoch 26/30\n",
      "54546/54546 [==============================] - 6s 111us/step - loss: 0.0346 - acc: 0.9679 - val_loss: 0.0338 - val_acc: 0.9635\n",
      "Epoch 27/30\n",
      "54546/54546 [==============================] - 6s 111us/step - loss: 0.0342 - acc: 0.9682 - val_loss: 0.0336 - val_acc: 0.9652\n",
      "Epoch 28/30\n",
      "54546/54546 [==============================] - 6s 111us/step - loss: 0.0337 - acc: 0.9685 - val_loss: 0.0330 - val_acc: 0.9661\n",
      "Epoch 29/30\n",
      "54546/54546 [==============================] - 6s 111us/step - loss: 0.0329 - acc: 0.9702 - val_loss: 0.0326 - val_acc: 0.9675\n",
      "Epoch 30/30\n",
      "54546/54546 [==============================] - 6s 111us/step - loss: 0.0326 - acc: 0.9703 - val_loss: 0.0353 - val_acc: 0.9635\n"
     ]
    }
   ],
   "source": [
    "\"\"\"four-CONV-LAYERS-THICK\"\"\"\n",
    "if not data_augmentation:\n",
    "    print('Not using data augmentation.')\n",
    "    train_history_3= model_3.fit(\n",
    "        x_train,\n",
    "        y_train,\n",
    "        batch_size=batch_size,\n",
    "        epochs=epochs,\n",
    "        validation_split= Vld_Splt,\n",
    "        shuffle=True)\n",
    "else:\n",
    "    print('Using real-time data augmentation.')\n",
    "    # This will do preprocessing and realtime data augmentation:\n",
    "    datagen = ImageDataGenerator(\n",
    "        featurewise_center=False,  # set input mean to 0 over the dataset\n",
    "        samplewise_center=False,  # set each sample mean to 0\n",
    "        featurewise_std_normalization=False,  # divide inputs by dataset std\n",
    "        samplewise_std_normalization=False,  # divide each input by its std\n",
    "        zca_whitening=False,  # apply ZCA whitening\n",
    "        zca_epsilon=1e-06,  # epsilon for ZCA whitening\n",
    "        rotation_range=0,  # randomly rotate images in 0 to 180 degrees\n",
    "        width_shift_range=0.1,  # randomly shift images horizontally\n",
    "        height_shift_range=0.1,  # randomly shift images vertically\n",
    "        shear_range=0.,  # set range for random shear\n",
    "        zoom_range=0.,  # set range for random zoom\n",
    "        channel_shift_range=0.,  # set range for random channel shifts\n",
    "        # set mode for filling points outside the input boundaries\n",
    "        fill_mode='nearest',\n",
    "        cval=0.,  # value used for fill_mode = \"constant\"\n",
    "        horizontal_flip=True,  # randomly flip images\n",
    "        vertical_flip=False,  # randomly flip images\n",
    "        # set rescaling factor (applied before any other transformation)\n",
    "        rescale=None,\n",
    "        # set function that will be applied on each input\n",
    "        preprocessing_function=None,\n",
    "        # image data format, either \"channels_first\" or \"channels_last\"\n",
    "        data_format=None,\n",
    "        # fraction of images reserved for validation (strictly between 0 and 1)\n",
    "        validation_split=0.0)\n",
    "\n",
    "    # Compute quantities required for feature-wise normalization\n",
    "    # (std, mean, and principal components if ZCA whitening is applied).\n",
    "    datagen.fit(x_train)\n",
    "\n",
    "    # Fit the model on the batches generated by datagen.flow().\n",
    "    train_history_3= model_3.fit_generator(\n",
    "        datagen.flow(x_train, y_train, batch_size=batch_size),\n",
    "        epochs= epochs,\n",
    "        validation_split= Vld_Splt,\n",
    "        steps_per_epoch= int(x_train.shape[0]/ batch_size),\n",
    "        workers=4)"
   ]
  },
  {
   "cell_type": "code",
   "execution_count": 43,
   "metadata": {},
   "outputs": [
    {
     "name": "stdout",
     "output_type": "stream",
     "text": [
      "Not using data augmentation.\n",
      "Train on 54546 samples, validate on 5454 samples\n",
      "Epoch 1/30\n",
      "54546/54546 [==============================] - 7s 122us/step - loss: 0.3552 - acc: 0.5129 - val_loss: 0.2124 - val_acc: 0.7422\n",
      "Epoch 2/30\n",
      "54546/54546 [==============================] - 5s 95us/step - loss: 0.1716 - acc: 0.8031 - val_loss: 0.1316 - val_acc: 0.8469\n",
      "Epoch 3/30\n",
      "54546/54546 [==============================] - 5s 100us/step - loss: 0.1164 - acc: 0.8678 - val_loss: 0.0966 - val_acc: 0.8784\n",
      "Epoch 4/30\n",
      "54546/54546 [==============================] - 6s 106us/step - loss: 0.0902 - acc: 0.8977 - val_loss: 0.0766 - val_acc: 0.9089\n",
      "Epoch 5/30\n",
      "54546/54546 [==============================] - 6s 107us/step - loss: 0.0792 - acc: 0.9100 - val_loss: 0.0633 - val_acc: 0.9276\n",
      "Epoch 6/30\n",
      "54546/54546 [==============================] - 6s 103us/step - loss: 0.0682 - acc: 0.9223 - val_loss: 0.0583 - val_acc: 0.9300\n",
      "Epoch 7/30\n",
      "54546/54546 [==============================] - 6s 108us/step - loss: 0.0633 - acc: 0.9284 - val_loss: 0.0542 - val_acc: 0.9384\n",
      "Epoch 8/30\n",
      "54546/54546 [==============================] - 5s 101us/step - loss: 0.0573 - acc: 0.9364 - val_loss: 0.0543 - val_acc: 0.9384\n",
      "Epoch 9/30\n",
      "54546/54546 [==============================] - 5s 100us/step - loss: 0.0540 - acc: 0.9388 - val_loss: 0.0543 - val_acc: 0.9364\n",
      "Epoch 10/30\n",
      "54546/54546 [==============================] - 6s 101us/step - loss: 0.0512 - acc: 0.9436 - val_loss: 0.0435 - val_acc: 0.9498\n",
      "Epoch 11/30\n",
      "54546/54546 [==============================] - 5s 96us/step - loss: 0.0474 - acc: 0.9488 - val_loss: 0.0438 - val_acc: 0.9507\n",
      "Epoch 12/30\n",
      "54546/54546 [==============================] - 6s 101us/step - loss: 0.0462 - acc: 0.9488 - val_loss: 0.0432 - val_acc: 0.9503\n",
      "Epoch 13/30\n",
      "54546/54546 [==============================] - 5s 99us/step - loss: 0.0448 - acc: 0.9512 - val_loss: 0.0383 - val_acc: 0.9567\n",
      "Epoch 14/30\n",
      "54546/54546 [==============================] - 5s 100us/step - loss: 0.0421 - acc: 0.9533 - val_loss: 0.0405 - val_acc: 0.9527\n",
      "Epoch 15/30\n",
      "54546/54546 [==============================] - 5s 97us/step - loss: 0.0411 - acc: 0.9540 - val_loss: 0.0410 - val_acc: 0.9514\n",
      "Epoch 16/30\n",
      "54546/54546 [==============================] - 5s 96us/step - loss: 0.0383 - acc: 0.9578 - val_loss: 0.0384 - val_acc: 0.9586\n",
      "Epoch 17/30\n",
      "54546/54546 [==============================] - 5s 94us/step - loss: 0.0392 - acc: 0.9572 - val_loss: 0.0409 - val_acc: 0.9558\n",
      "Epoch 18/30\n",
      "54546/54546 [==============================] - 5s 92us/step - loss: 0.0370 - acc: 0.9603 - val_loss: 0.0367 - val_acc: 0.9609\n",
      "Epoch 19/30\n",
      "54546/54546 [==============================] - 5s 96us/step - loss: 0.0355 - acc: 0.9619 - val_loss: 0.0343 - val_acc: 0.9604\n",
      "Epoch 20/30\n",
      "54546/54546 [==============================] - 5s 98us/step - loss: 0.0343 - acc: 0.9627 - val_loss: 0.0351 - val_acc: 0.9597\n",
      "Epoch 21/30\n",
      "54546/54546 [==============================] - 5s 100us/step - loss: 0.0335 - acc: 0.9639 - val_loss: 0.0350 - val_acc: 0.9593\n",
      "Epoch 22/30\n",
      "54546/54546 [==============================] - 5s 101us/step - loss: 0.0346 - acc: 0.9625 - val_loss: 0.0339 - val_acc: 0.9606\n",
      "Epoch 23/30\n",
      "54546/54546 [==============================] - 5s 99us/step - loss: 0.0325 - acc: 0.9651 - val_loss: 0.0341 - val_acc: 0.9617\n",
      "Epoch 24/30\n",
      "54546/54546 [==============================] - 5s 95us/step - loss: 0.0323 - acc: 0.9653 - val_loss: 0.0323 - val_acc: 0.9639\n",
      "Epoch 25/30\n",
      "54546/54546 [==============================] - 5s 99us/step - loss: 0.0312 - acc: 0.9669 - val_loss: 0.0310 - val_acc: 0.9666\n",
      "Epoch 26/30\n",
      "54546/54546 [==============================] - 5s 100us/step - loss: 0.0312 - acc: 0.9671 - val_loss: 0.0327 - val_acc: 0.9657\n",
      "Epoch 27/30\n",
      "54546/54546 [==============================] - 6s 103us/step - loss: 0.0305 - acc: 0.9671 - val_loss: 0.0321 - val_acc: 0.9619\n",
      "Epoch 28/30\n",
      "54546/54546 [==============================] - 5s 95us/step - loss: 0.0295 - acc: 0.9693 - val_loss: 0.0305 - val_acc: 0.9646\n",
      "Epoch 29/30\n",
      "54546/54546 [==============================] - 5s 97us/step - loss: 0.0297 - acc: 0.9694 - val_loss: 0.0301 - val_acc: 0.9652\n",
      "Epoch 30/30\n",
      "54546/54546 [==============================] - 6s 102us/step - loss: 0.0282 - acc: 0.9704 - val_loss: 0.0301 - val_acc: 0.9655\n"
     ]
    }
   ],
   "source": [
    "\"\"\"five-CONV-LAYERS-THICK\"\"\"\n",
    "if not data_augmentation:\n",
    "    print('Not using data augmentation.')\n",
    "    train_history_4= model_4.fit(\n",
    "        x_train,\n",
    "        y_train,\n",
    "        batch_size=batch_size,\n",
    "        epochs=epochs,\n",
    "        validation_split= Vld_Splt,\n",
    "        shuffle=True)\n",
    "else:\n",
    "    print('Using real-time data augmentation.')\n",
    "    # This will do preprocessing and realtime data augmentation:\n",
    "    datagen = ImageDataGenerator(\n",
    "        featurewise_center=False,  # set input mean to 0 over the dataset\n",
    "        samplewise_center=False,  # set each sample mean to 0\n",
    "        featurewise_std_normalization=False,  # divide inputs by dataset std\n",
    "        samplewise_std_normalization=False,  # divide each input by its std\n",
    "        zca_whitening=False,  # apply ZCA whitening\n",
    "        zca_epsilon=1e-06,  # epsilon for ZCA whitening\n",
    "        rotation_range=0,  # randomly rotate images in 0 to 180 degrees\n",
    "        width_shift_range=0.1,  # randomly shift images horizontally\n",
    "        height_shift_range=0.1,  # randomly shift images vertically\n",
    "        shear_range=0.,  # set range for random shear\n",
    "        zoom_range=0.,  # set range for random zoom\n",
    "        channel_shift_range=0.,  # set range for random channel shifts\n",
    "        # set mode for filling points outside the input boundaries\n",
    "        fill_mode='nearest',\n",
    "        cval=0.,  # value used for fill_mode = \"constant\"\n",
    "        horizontal_flip=True,  # randomly flip images\n",
    "        vertical_flip=False,  # randomly flip images\n",
    "        # set rescaling factor (applied before any other transformation)\n",
    "        rescale=None,\n",
    "        # set function that will be applied on each input\n",
    "        preprocessing_function=None,\n",
    "        # image data format, either \"channels_first\" or \"channels_last\"\n",
    "        data_format=None,\n",
    "        # fraction of images reserved for validation (strictly between 0 and 1)\n",
    "        validation_split=0.0)\n",
    "\n",
    "    # Compute quantities required for feature-wise normalization\n",
    "    # (std, mean, and principal components if ZCA whitening is applied).\n",
    "    datagen.fit(x_train)\n",
    "\n",
    "    # Fit the model on the batches generated by datagen.flow().\n",
    "    train_history_4= model_4.fit_generator(\n",
    "        datagen.flow(x_train, y_train, batch_size=batch_size),\n",
    "        epochs= epochs,\n",
    "        validation_split= Vld_Splt,\n",
    "        steps_per_epoch= int(x_train.shape[0]/ batch_size),\n",
    "        workers=4)"
   ]
  },
  {
   "cell_type": "code",
   "execution_count": 21,
   "metadata": {},
   "outputs": [
    {
     "name": "stdout",
     "output_type": "stream",
     "text": [
      "Not using data augmentation.\n",
      "Train on 54546 samples, validate on 5454 samples\n",
      "Epoch 1/30\n",
      "54546/54546 [==============================] - 5s 93us/step - loss: 0.3772 - acc: 0.4533 - val_loss: 0.1861 - val_acc: 0.7609\n",
      "Epoch 2/30\n",
      "54546/54546 [==============================] - 4s 72us/step - loss: 0.1615 - acc: 0.7948 - val_loss: 0.1040 - val_acc: 0.8654\n",
      "Epoch 3/30\n",
      "54546/54546 [==============================] - 4s 72us/step - loss: 0.1089 - acc: 0.8610 - val_loss: 0.0885 - val_acc: 0.8821\n",
      "Epoch 4/30\n",
      "54546/54546 [==============================] - 4s 72us/step - loss: 0.0899 - acc: 0.8860 - val_loss: 0.0617 - val_acc: 0.9173\n",
      "Epoch 5/30\n",
      "54546/54546 [==============================] - 4s 73us/step - loss: 0.0749 - acc: 0.9048 - val_loss: 0.0573 - val_acc: 0.9245\n",
      "Epoch 6/30\n",
      "54546/54546 [==============================] - 4s 73us/step - loss: 0.0659 - acc: 0.9167 - val_loss: 0.0505 - val_acc: 0.9356\n",
      "Epoch 7/30\n",
      "54546/54546 [==============================] - 4s 73us/step - loss: 0.0603 - acc: 0.9232 - val_loss: 0.0466 - val_acc: 0.9389\n",
      "Epoch 8/30\n",
      "54546/54546 [==============================] - 4s 73us/step - loss: 0.0566 - acc: 0.9279 - val_loss: 0.0465 - val_acc: 0.9404\n",
      "Epoch 9/30\n",
      "54546/54546 [==============================] - 4s 73us/step - loss: 0.0511 - acc: 0.9346 - val_loss: 0.0426 - val_acc: 0.9428\n",
      "Epoch 10/30\n",
      "54546/54546 [==============================] - 4s 73us/step - loss: 0.0488 - acc: 0.9380 - val_loss: 0.0398 - val_acc: 0.9483\n",
      "Epoch 11/30\n",
      "54546/54546 [==============================] - 4s 73us/step - loss: 0.0459 - acc: 0.9418 - val_loss: 0.0333 - val_acc: 0.9576\n",
      "Epoch 12/30\n",
      "54546/54546 [==============================] - 4s 73us/step - loss: 0.0435 - acc: 0.9445 - val_loss: 0.0361 - val_acc: 0.9499\n",
      "Epoch 13/30\n",
      "54546/54546 [==============================] - 4s 73us/step - loss: 0.0411 - acc: 0.9468 - val_loss: 0.0389 - val_acc: 0.9512\n",
      "Epoch 14/30\n",
      "54546/54546 [==============================] - 4s 73us/step - loss: 0.0399 - acc: 0.9499 - val_loss: 0.0325 - val_acc: 0.9580\n",
      "Epoch 15/30\n",
      "54546/54546 [==============================] - 4s 73us/step - loss: 0.0389 - acc: 0.9505 - val_loss: 0.0343 - val_acc: 0.9565\n",
      "Epoch 16/30\n",
      "54546/54546 [==============================] - 4s 76us/step - loss: 0.0361 - acc: 0.9536 - val_loss: 0.0289 - val_acc: 0.9609\n",
      "Epoch 17/30\n",
      "54546/54546 [==============================] - 4s 74us/step - loss: 0.0350 - acc: 0.9549 - val_loss: 0.0294 - val_acc: 0.9602\n",
      "Epoch 18/30\n",
      "54546/54546 [==============================] - 4s 75us/step - loss: 0.0341 - acc: 0.9562 - val_loss: 0.0329 - val_acc: 0.9571\n",
      "Epoch 19/30\n",
      "54546/54546 [==============================] - 4s 74us/step - loss: 0.0330 - acc: 0.9586 - val_loss: 0.0360 - val_acc: 0.9540\n",
      "Epoch 20/30\n",
      "54546/54546 [==============================] - 4s 73us/step - loss: 0.0320 - acc: 0.9601 - val_loss: 0.0305 - val_acc: 0.9600\n",
      "Epoch 21/30\n",
      "54546/54546 [==============================] - 4s 73us/step - loss: 0.0306 - acc: 0.9609 - val_loss: 0.0268 - val_acc: 0.9648\n",
      "Epoch 22/30\n",
      "54546/54546 [==============================] - 4s 73us/step - loss: 0.0293 - acc: 0.9626 - val_loss: 0.0285 - val_acc: 0.9628\n",
      "Epoch 23/30\n",
      "54546/54546 [==============================] - 4s 73us/step - loss: 0.0293 - acc: 0.9630 - val_loss: 0.0277 - val_acc: 0.9653\n",
      "Epoch 24/30\n",
      "54546/54546 [==============================] - 4s 73us/step - loss: 0.0286 - acc: 0.9635 - val_loss: 0.0273 - val_acc: 0.9666\n",
      "Epoch 25/30\n",
      "54546/54546 [==============================] - 4s 73us/step - loss: 0.0291 - acc: 0.9633 - val_loss: 0.0262 - val_acc: 0.9655\n",
      "Epoch 26/30\n",
      "54546/54546 [==============================] - 4s 73us/step - loss: 0.0267 - acc: 0.9663 - val_loss: 0.0264 - val_acc: 0.9661\n",
      "Epoch 27/30\n",
      "54546/54546 [==============================] - 4s 73us/step - loss: 0.0262 - acc: 0.9672 - val_loss: 0.0281 - val_acc: 0.9646\n",
      "Epoch 28/30\n",
      "54546/54546 [==============================] - 4s 73us/step - loss: 0.0256 - acc: 0.9682 - val_loss: 0.0245 - val_acc: 0.9677\n",
      "Epoch 29/30\n",
      "54546/54546 [==============================] - 4s 73us/step - loss: 0.0253 - acc: 0.9684 - val_loss: 0.0242 - val_acc: 0.9677\n",
      "Epoch 30/30\n",
      "54546/54546 [==============================] - 4s 73us/step - loss: 0.0249 - acc: 0.9686 - val_loss: 0.0249 - val_acc: 0.9677\n"
     ]
    }
   ],
   "source": [
    "\"\"\"six-CONV-LAYERS-THICK\"\"\"\n",
    "if not data_augmentation:\n",
    "    print('Not using data augmentation.')\n",
    "    train_history_5= model_5.fit(\n",
    "        x_train,\n",
    "        y_train,\n",
    "        batch_size=batch_size,\n",
    "        epochs=epochs,\n",
    "        validation_split= Vld_Splt,\n",
    "        shuffle=True)\n",
    "else:\n",
    "    print('Using real-time data augmentation.')\n",
    "    # This will do preprocessing and realtime data augmentation:\n",
    "    datagen = ImageDataGenerator(\n",
    "        featurewise_center=False,  # set input mean to 0 over the dataset\n",
    "        samplewise_center=False,  # set each sample mean to 0\n",
    "        featurewise_std_normalization=False,  # divide inputs by dataset std\n",
    "        samplewise_std_normalization=False,  # divide each input by its std\n",
    "        zca_whitening=False,  # apply ZCA whitening\n",
    "        zca_epsilon=1e-06,  # epsilon for ZCA whitening\n",
    "        rotation_range=0,  # randomly rotate images in 0 to 180 degrees\n",
    "        width_shift_range=0.1,  # randomly shift images horizontally\n",
    "        height_shift_range=0.1,  # randomly shift images vertically\n",
    "        shear_range=0.,  # set range for random shear\n",
    "        zoom_range=0.,  # set range for random zoom\n",
    "        channel_shift_range=0.,  # set range for random channel shifts\n",
    "        # set mode for filling points outside the input boundaries\n",
    "        fill_mode='nearest',\n",
    "        cval=0.,  # value used for fill_mode = \"constant\"\n",
    "        horizontal_flip=True,  # randomly flip images\n",
    "        vertical_flip=False,  # randomly flip images\n",
    "        # set rescaling factor (applied before any other transformation)\n",
    "        rescale=None,\n",
    "        # set function that will be applied on each input\n",
    "        preprocessing_function=None,\n",
    "        # image data format, either \"channels_first\" or \"channels_last\"\n",
    "        data_format=None,\n",
    "        # fraction of images reserved for validation (strictly between 0 and 1)\n",
    "        validation_split=0.0)\n",
    "\n",
    "    # Compute quantities required for feature-wise normalization\n",
    "    # (std, mean, and principal components if ZCA whitening is applied).\n",
    "    datagen.fit(x_train)\n",
    "\n",
    "    # Fit the model on the batches generated by datagen.flow().\n",
    "    train_history_5= model_5.fit_generator(\n",
    "        datagen.flow(x_train, y_train, batch_size=batch_size),\n",
    "        epochs= epochs,\n",
    "        validation_split= Vld_Splt,\n",
    "        steps_per_epoch= int(x_train.shape[0]/ batch_size),\n",
    "        workers=4)"
   ]
  },
  {
   "cell_type": "code",
   "execution_count": 22,
   "metadata": {},
   "outputs": [
    {
     "name": "stdout",
     "output_type": "stream",
     "text": [
      "Not using data augmentation.\n",
      "Train on 54546 samples, validate on 5454 samples\n",
      "Epoch 1/30\n",
      "54546/54546 [==============================] - 6s 104us/step - loss: 0.4277 - acc: 0.3596 - val_loss: 0.2255 - val_acc: 0.7132\n",
      "Epoch 2/30\n",
      "54546/54546 [==============================] - 5s 84us/step - loss: 0.1661 - acc: 0.7912 - val_loss: 0.1247 - val_acc: 0.8326\n",
      "Epoch 3/30\n",
      "54546/54546 [==============================] - 4s 80us/step - loss: 0.1030 - acc: 0.8702 - val_loss: 0.0630 - val_acc: 0.9166\n",
      "Epoch 4/30\n",
      "54546/54546 [==============================] - 4s 80us/step - loss: 0.0789 - acc: 0.9007 - val_loss: 0.0702 - val_acc: 0.9087\n",
      "Epoch 5/30\n",
      "54546/54546 [==============================] - 4s 80us/step - loss: 0.0672 - acc: 0.9162 - val_loss: 0.0486 - val_acc: 0.9369\n",
      "Epoch 6/30\n",
      "54546/54546 [==============================] - 4s 80us/step - loss: 0.0592 - acc: 0.9251 - val_loss: 0.0448 - val_acc: 0.9419\n",
      "Epoch 7/30\n",
      "54546/54546 [==============================] - 4s 80us/step - loss: 0.0543 - acc: 0.9310 - val_loss: 0.0439 - val_acc: 0.9437\n",
      "Epoch 8/30\n",
      "54546/54546 [==============================] - 4s 80us/step - loss: 0.0518 - acc: 0.9340 - val_loss: 0.0375 - val_acc: 0.9509\n",
      "Epoch 9/30\n",
      "54546/54546 [==============================] - 4s 80us/step - loss: 0.0452 - acc: 0.9424 - val_loss: 0.0354 - val_acc: 0.9536\n",
      "Epoch 10/30\n",
      "54546/54546 [==============================] - 4s 80us/step - loss: 0.0442 - acc: 0.9443 - val_loss: 0.0323 - val_acc: 0.9569\n",
      "Epoch 11/30\n",
      "54546/54546 [==============================] - 4s 80us/step - loss: 0.0403 - acc: 0.9483 - val_loss: 0.0292 - val_acc: 0.9622403 - acc: 0.948\n",
      "Epoch 12/30\n",
      "54546/54546 [==============================] - 4s 80us/step - loss: 0.0384 - acc: 0.9514 - val_loss: 0.0295 - val_acc: 0.9628\n",
      "Epoch 13/30\n",
      "54546/54546 [==============================] - 4s 80us/step - loss: 0.0374 - acc: 0.9525 - val_loss: 0.0322 - val_acc: 0.9558\n",
      "Epoch 14/30\n",
      "54546/54546 [==============================] - 4s 80us/step - loss: 0.0357 - acc: 0.9549 - val_loss: 0.0286 - val_acc: 0.9633\n",
      "Epoch 15/30\n",
      "54546/54546 [==============================] - 4s 81us/step - loss: 0.0345 - acc: 0.9558 - val_loss: 0.0294 - val_acc: 0.9611\n",
      "Epoch 16/30\n",
      "54546/54546 [==============================] - 4s 81us/step - loss: 0.0330 - acc: 0.9589 - val_loss: 0.0295 - val_acc: 0.9631\n",
      "Epoch 17/30\n",
      "54546/54546 [==============================] - 5s 83us/step - loss: 0.0331 - acc: 0.9577 - val_loss: 0.0288 - val_acc: 0.9624\n",
      "Epoch 18/30\n",
      "54546/54546 [==============================] - 4s 80us/step - loss: 0.0302 - acc: 0.9616 - val_loss: 0.0270 - val_acc: 0.9655\n",
      "Epoch 19/30\n",
      "54546/54546 [==============================] - 4s 81us/step - loss: 0.0293 - acc: 0.9633 - val_loss: 0.0248 - val_acc: 0.9694\n",
      "Epoch 20/30\n",
      "54546/54546 [==============================] - 4s 80us/step - loss: 0.0299 - acc: 0.9621 - val_loss: 0.0257 - val_acc: 0.9679\n",
      "Epoch 21/30\n",
      "54546/54546 [==============================] - 4s 80us/step - loss: 0.0276 - acc: 0.9656 - val_loss: 0.0282 - val_acc: 0.9624\n",
      "Epoch 22/30\n",
      "54546/54546 [==============================] - 4s 81us/step - loss: 0.0263 - acc: 0.9675 - val_loss: 0.0271 - val_acc: 0.9639\n",
      "Epoch 23/30\n",
      "54546/54546 [==============================] - 4s 80us/step - loss: 0.0266 - acc: 0.9665 - val_loss: 0.0232 - val_acc: 0.9718\n",
      "Epoch 24/30\n",
      "54546/54546 [==============================] - 4s 80us/step - loss: 0.0249 - acc: 0.9690 - val_loss: 0.0232 - val_acc: 0.9718\n",
      "Epoch 25/30\n",
      "54546/54546 [==============================] - 4s 80us/step - loss: 0.0240 - acc: 0.9693 - val_loss: 0.0249 - val_acc: 0.9661\n",
      "Epoch 26/30\n",
      "54546/54546 [==============================] - 4s 80us/step - loss: 0.0243 - acc: 0.9698 - val_loss: 0.0256 - val_acc: 0.9670\n",
      "Epoch 27/30\n",
      "54546/54546 [==============================] - 4s 80us/step - loss: 0.0232 - acc: 0.9713 - val_loss: 0.0240 - val_acc: 0.9705\n",
      "Epoch 28/30\n",
      "54546/54546 [==============================] - 4s 80us/step - loss: 0.0231 - acc: 0.9710 - val_loss: 0.0244 - val_acc: 0.9699\n",
      "Epoch 29/30\n",
      "54546/54546 [==============================] - 4s 81us/step - loss: 0.0236 - acc: 0.9708 - val_loss: 0.0215 - val_acc: 0.9732\n",
      "Epoch 30/30\n",
      "54546/54546 [==============================] - 4s 80us/step - loss: 0.0216 - acc: 0.9736 - val_loss: 0.0218 - val_acc: 0.9721\n"
     ]
    }
   ],
   "source": [
    "\"\"\"seven-CONV-LAYERS-THICK\"\"\"\n",
    "if not data_augmentation:\n",
    "    print('Not using data augmentation.')\n",
    "    train_history_6= model_6.fit(\n",
    "        x_train,\n",
    "        y_train,\n",
    "        batch_size=batch_size,\n",
    "        epochs=epochs,\n",
    "        validation_split= Vld_Splt,\n",
    "        shuffle=True)\n",
    "else:\n",
    "    print('Using real-time data augmentation.')\n",
    "    # This will do preprocessing and realtime data augmentation:\n",
    "    datagen = ImageDataGenerator(\n",
    "        featurewise_center=False,  # set input mean to 0 over the dataset\n",
    "        samplewise_center=False,  # set each sample mean to 0\n",
    "        featurewise_std_normalization=False,  # divide inputs by dataset std\n",
    "        samplewise_std_normalization=False,  # divide each input by its std\n",
    "        zca_whitening=False,  # apply ZCA whitening\n",
    "        zca_epsilon=1e-06,  # epsilon for ZCA whitening\n",
    "        rotation_range=0,  # randomly rotate images in 0 to 180 degrees\n",
    "        width_shift_range=0.1,  # randomly shift images horizontally\n",
    "        height_shift_range=0.1,  # randomly shift images vertically\n",
    "        shear_range=0.,  # set range for random shear\n",
    "        zoom_range=0.,  # set range for random zoom\n",
    "        channel_shift_range=0.,  # set range for random channel shifts\n",
    "        # set mode for filling points outside the input boundaries\n",
    "        fill_mode='nearest',\n",
    "        cval=0.,  # value used for fill_mode = \"constant\"\n",
    "        horizontal_flip=True,  # randomly flip images\n",
    "        vertical_flip=False,  # randomly flip images\n",
    "        # set rescaling factor (applied before any other transformation)\n",
    "        rescale=None,\n",
    "        # set function that will be applied on each input\n",
    "        preprocessing_function=None,\n",
    "        # image data format, either \"channels_first\" or \"channels_last\"\n",
    "        data_format=None,\n",
    "        # fraction of images reserved for validation (strictly between 0 and 1)\n",
    "        validation_split=0.0)\n",
    "\n",
    "    # Compute quantities required for feature-wise normalization\n",
    "    # (std, mean, and principal components if ZCA whitening is applied).\n",
    "    datagen.fit(x_train)\n",
    "\n",
    "    # Fit the model on the batches generated by datagen.flow().\n",
    "    train_history_6= model_6.fit_generator(\n",
    "        datagen.flow(x_train, y_train, batch_size=batch_size),\n",
    "        epochs= epochs,\n",
    "        validation_split= Vld_Splt,\n",
    "        steps_per_epoch= int(x_train.shape[0]/ batch_size),\n",
    "        workers=4)"
   ]
  },
  {
   "cell_type": "code",
   "execution_count": 23,
   "metadata": {},
   "outputs": [
    {
     "name": "stdout",
     "output_type": "stream",
     "text": [
      "Train on 54546 samples, validate on 5454 samples\n",
      "Epoch 1/30\n",
      "54546/54546 [==============================] - 3s 50us/step - loss: 1.2338 - acc: 0.5800 - val_loss: 0.7003 - val_acc: 0.8053\n",
      "Epoch 2/30\n",
      "54546/54546 [==============================] - 2s 35us/step - loss: 0.7123 - acc: 0.7650 - val_loss: 0.5264 - val_acc: 0.8465\n",
      "Epoch 3/30\n",
      "54546/54546 [==============================] - 2s 34us/step - loss: 0.5745 - acc: 0.8112 - val_loss: 0.4232 - val_acc: 0.8750\n",
      "Epoch 4/30\n",
      "54546/54546 [==============================] - 2s 35us/step - loss: 0.4882 - acc: 0.8389 - val_loss: 0.3622 - val_acc: 0.8927\n",
      "Epoch 5/30\n",
      "54546/54546 [==============================] - 2s 34us/step - loss: 0.4352 - acc: 0.8570 - val_loss: 0.3303 - val_acc: 0.9059\n",
      "Epoch 6/30\n",
      "54546/54546 [==============================] - 2s 34us/step - loss: 0.3963 - acc: 0.8692 - val_loss: 0.3055 - val_acc: 0.9102\n",
      "Epoch 7/30\n",
      "54546/54546 [==============================] - 2s 34us/step - loss: 0.3685 - acc: 0.8761 - val_loss: 0.2674 - val_acc: 0.9199\n",
      "Epoch 8/30\n",
      "54546/54546 [==============================] - 2s 34us/step - loss: 0.3462 - acc: 0.8839 - val_loss: 0.2657 - val_acc: 0.9212\n",
      "Epoch 9/30\n",
      "54546/54546 [==============================] - 2s 34us/step - loss: 0.3282 - acc: 0.8900 - val_loss: 0.2392 - val_acc: 0.9294\n",
      "Epoch 10/30\n",
      "54546/54546 [==============================] - 2s 34us/step - loss: 0.3129 - acc: 0.8953 - val_loss: 0.2275 - val_acc: 0.9316\n",
      "Epoch 11/30\n",
      "54546/54546 [==============================] - 2s 34us/step - loss: 0.2986 - acc: 0.8998 - val_loss: 0.2232 - val_acc: 0.9351\n",
      "Epoch 12/30\n",
      "54546/54546 [==============================] - 2s 34us/step - loss: 0.2927 - acc: 0.9020 - val_loss: 0.2135 - val_acc: 0.9380\n",
      "Epoch 13/30\n",
      "54546/54546 [==============================] - 2s 34us/step - loss: 0.2742 - acc: 0.9073 - val_loss: 0.2033 - val_acc: 0.9419\n",
      "Epoch 14/30\n",
      "54546/54546 [==============================] - 2s 34us/step - loss: 0.2699 - acc: 0.9093 - val_loss: 0.1937 - val_acc: 0.9406\n",
      "Epoch 15/30\n",
      "54546/54546 [==============================] - 2s 33us/step - loss: 0.2600 - acc: 0.9126 - val_loss: 0.1972 - val_acc: 0.9382\n",
      "Epoch 16/30\n",
      "54546/54546 [==============================] - 2s 34us/step - loss: 0.2549 - acc: 0.9132 - val_loss: 0.1865 - val_acc: 0.9439\n",
      "Epoch 17/30\n",
      "54546/54546 [==============================] - 2s 34us/step - loss: 0.2461 - acc: 0.9170 - val_loss: 0.1805 - val_acc: 0.9455\n",
      "Epoch 18/30\n",
      "54546/54546 [==============================] - 2s 34us/step - loss: 0.2399 - acc: 0.9190 - val_loss: 0.1787 - val_acc: 0.9466\n",
      "Epoch 19/30\n",
      "54546/54546 [==============================] - 2s 34us/step - loss: 0.2384 - acc: 0.9187 - val_loss: 0.1749 - val_acc: 0.9498\n",
      "Epoch 20/30\n",
      "54546/54546 [==============================] - 2s 34us/step - loss: 0.2301 - acc: 0.9213 - val_loss: 0.1714 - val_acc: 0.9479\n",
      "Epoch 21/30\n",
      "54546/54546 [==============================] - 2s 33us/step - loss: 0.2253 - acc: 0.9224 - val_loss: 0.1664 - val_acc: 0.9501\n",
      "Epoch 22/30\n",
      "54546/54546 [==============================] - 2s 33us/step - loss: 0.2232 - acc: 0.9232 - val_loss: 0.1637 - val_acc: 0.9499\n",
      "Epoch 23/30\n",
      "54546/54546 [==============================] - 2s 33us/step - loss: 0.2149 - acc: 0.9260 - val_loss: 0.1625 - val_acc: 0.9494\n",
      "Epoch 24/30\n",
      "54546/54546 [==============================] - 2s 33us/step - loss: 0.2113 - acc: 0.9271 - val_loss: 0.1600 - val_acc: 0.9496\n",
      "Epoch 25/30\n",
      "54546/54546 [==============================] - 2s 33us/step - loss: 0.2051 - acc: 0.9295 - val_loss: 0.1673 - val_acc: 0.9488\n",
      "Epoch 26/30\n",
      "54546/54546 [==============================] - 2s 32us/step - loss: 0.2047 - acc: 0.9297 - val_loss: 0.1595 - val_acc: 0.9474\n",
      "Epoch 27/30\n",
      "54546/54546 [==============================] - 2s 32us/step - loss: 0.1998 - acc: 0.9312 - val_loss: 0.1490 - val_acc: 0.9525\n",
      "Epoch 28/30\n",
      "54546/54546 [==============================] - 2s 32us/step - loss: 0.1963 - acc: 0.9330 - val_loss: 0.1518 - val_acc: 0.9531\n",
      "Epoch 29/30\n",
      "54546/54546 [==============================] - 2s 32us/step - loss: 0.1957 - acc: 0.9329 - val_loss: 0.1650 - val_acc: 0.9459\n",
      "Epoch 30/30\n",
      "54546/54546 [==============================] - 2s 32us/step - loss: 0.1921 - acc: 0.9341 - val_loss: 0.1455 - val_acc: 0.9564\n"
     ]
    }
   ],
   "source": [
    "\"\"\"CNN-3-CONV-LAYERS\"\"\"\n",
    "model_7.compile(loss='categorical_crossentropy',\n",
    "              optimizer='adam', metrics=['accuracy'])\n",
    "train_history_7= model_7.fit(x= x_train, y= y_train, validation_split= Vld_Splt,\n",
    "                         epochs= epochs, batch_size= batch_size, verbose=1)"
   ]
  },
  {
   "cell_type": "code",
   "execution_count": 44,
   "metadata": {},
   "outputs": [
    {
     "name": "stdout",
     "output_type": "stream",
     "text": [
      "10000/10000 [==============================] - 1s 131us/step\n"
     ]
    },
    {
     "data": {
      "text/plain": [
       "0.8762"
      ]
     },
     "execution_count": 44,
     "metadata": {},
     "output_type": "execute_result"
    }
   ],
   "source": [
    "\"\"\"one-CONV-LAYERS-THICK\"\"\"\n",
    "scores_0= model_0.evaluate(x_test, y_test)\n",
    "scores_0[1]"
   ]
  },
  {
   "cell_type": "code",
   "execution_count": 45,
   "metadata": {},
   "outputs": [
    {
     "name": "stdout",
     "output_type": "stream",
     "text": [
      "10000/10000 [==============================] - 1s 96us/step\n"
     ]
    },
    {
     "data": {
      "text/plain": [
       "0.9257"
      ]
     },
     "execution_count": 45,
     "metadata": {},
     "output_type": "execute_result"
    }
   ],
   "source": [
    "\"\"\"two-CONV-LAYERS-THICK\"\"\"\n",
    "scores_1= model_1.evaluate(x_test, y_test)\n",
    "scores_1[1]"
   ]
  },
  {
   "cell_type": "code",
   "execution_count": 46,
   "metadata": {},
   "outputs": [
    {
     "name": "stdout",
     "output_type": "stream",
     "text": [
      "10000/10000 [==============================] - 1s 109us/step\n"
     ]
    },
    {
     "data": {
      "text/plain": [
       "0.954"
      ]
     },
     "execution_count": 46,
     "metadata": {},
     "output_type": "execute_result"
    }
   ],
   "source": [
    "\"\"\"three-CONV-LAYERS-THICK\"\"\"\n",
    "scores_2= model_2.evaluate(x_test, y_test)\n",
    "scores_2[1]"
   ]
  },
  {
   "cell_type": "code",
   "execution_count": 47,
   "metadata": {},
   "outputs": [
    {
     "name": "stdout",
     "output_type": "stream",
     "text": [
      "10000/10000 [==============================] - 1s 89us/step\n"
     ]
    },
    {
     "data": {
      "text/plain": [
       "0.9629"
      ]
     },
     "execution_count": 47,
     "metadata": {},
     "output_type": "execute_result"
    }
   ],
   "source": [
    "\"\"\"four-CONV-LAYERS-THICK\"\"\"\n",
    "scores_3= model_3.evaluate(x_test, y_test)\n",
    "scores_3[1]"
   ]
  },
  {
   "cell_type": "code",
   "execution_count": 48,
   "metadata": {},
   "outputs": [
    {
     "name": "stdout",
     "output_type": "stream",
     "text": [
      "10000/10000 [==============================] - 1s 89us/step\n"
     ]
    },
    {
     "data": {
      "text/plain": [
       "0.966"
      ]
     },
     "execution_count": 48,
     "metadata": {},
     "output_type": "execute_result"
    }
   ],
   "source": [
    "\"\"\"five-CONV-LAYERS-THICK\"\"\"\n",
    "scores_4= model_4.evaluate(x_test, y_test)\n",
    "scores_4[1]"
   ]
  },
  {
   "cell_type": "code",
   "execution_count": 49,
   "metadata": {},
   "outputs": [
    {
     "name": "stdout",
     "output_type": "stream",
     "text": [
      "10000/10000 [==============================] - 1s 90us/step\n"
     ]
    },
    {
     "data": {
      "text/plain": [
       "0.9681"
      ]
     },
     "execution_count": 49,
     "metadata": {},
     "output_type": "execute_result"
    }
   ],
   "source": [
    "\"\"\"six-CONV-LAYERS-THICK\"\"\"\n",
    "scores_5= model_5.evaluate(x_test, y_test)\n",
    "scores_5[1]"
   ]
  },
  {
   "cell_type": "code",
   "execution_count": 50,
   "metadata": {},
   "outputs": [
    {
     "name": "stdout",
     "output_type": "stream",
     "text": [
      "10000/10000 [==============================] - 1s 91us/step\n"
     ]
    },
    {
     "data": {
      "text/plain": [
       "0.9735"
      ]
     },
     "execution_count": 50,
     "metadata": {},
     "output_type": "execute_result"
    }
   ],
   "source": [
    "\"\"\"seven-CONV-LAYERS-THICK\"\"\"\n",
    "scores_6= model_6.evaluate(x_test, y_test)\n",
    "scores_6[1]"
   ]
  },
  {
   "cell_type": "code",
   "execution_count": 51,
   "metadata": {},
   "outputs": [
    {
     "name": "stdout",
     "output_type": "stream",
     "text": [
      "10000/10000 [==============================] - 1s 69us/step\n"
     ]
    },
    {
     "data": {
      "text/plain": [
       "0.9517"
      ]
     },
     "execution_count": 51,
     "metadata": {},
     "output_type": "execute_result"
    }
   ],
   "source": [
    "\"\"\"CNN\"\"\"\n",
    "scores_7= model_7.evaluate(x_test, y_test)\n",
    "scores_7[1]"
   ]
  },
  {
   "cell_type": "code",
   "execution_count": 52,
   "metadata": {},
   "outputs": [],
   "source": [
    "import matplotlib.pyplot as plt\n",
    "def show_train_history(train_history, train, validation):\n",
    "    plt.plot(train_history.history[train])\n",
    "    plt.plot(train_history.history[validation])\n",
    "    plt.title('Train History')\n",
    "    plt.ylabel(train)\n",
    "    plt.xlabel('Epoch')\n",
    "    plt.legend(['train', 'validation'], loc='best')\n",
    "    plt.show()"
   ]
  },
  {
   "cell_type": "code",
   "execution_count": 53,
   "metadata": {},
   "outputs": [
    {
     "data": {
      "image/png": "[encoded data removed]",
      "text/plain": [
       "<Figure size 432x288 with 1 Axes>"
      ]
     },
     "metadata": {
      "needs_background": "light"
     },
     "output_type": "display_data"
    }
   ],
   "source": [
    "show_train_history(train_history_0, 'acc', 'val_acc')"
   ]
  },
  {
   "cell_type": "code",
   "execution_count": 54,
   "metadata": {},
   "outputs": [
    {
     "data": {
      "image/png": "[encoded data removed]",
      "text/plain": [
       "<Figure size 432x288 with 1 Axes>"
      ]
     },
     "metadata": {
      "needs_background": "light"
     },
     "output_type": "display_data"
    }
   ],
   "source": [
    "show_train_history(train_history_1, 'acc', 'val_acc')"
   ]
  },
  {
   "cell_type": "code",
   "execution_count": 55,
   "metadata": {},
   "outputs": [
    {
     "data": {
      "image/png": "[encoded data removed]",
      "text/plain": [
       "<Figure size 432x288 with 1 Axes>"
      ]
     },
     "metadata": {
      "needs_background": "light"
     },
     "output_type": "display_data"
    }
   ],
   "source": [
    "show_train_history(train_history_2, 'acc', 'val_acc')"
   ]
  },
  {
   "cell_type": "code",
   "execution_count": 56,
   "metadata": {},
   "outputs": [
    {
     "data": {
      "image/png": "[encoded data removed]",
      "text/plain": [
       "<Figure size 432x288 with 1 Axes>"
      ]
     },
     "metadata": {
      "needs_background": "light"
     },
     "output_type": "display_data"
    }
   ],
   "source": [
    "show_train_history(train_history_3, 'acc', 'val_acc')"
   ]
  },
  {
   "cell_type": "code",
   "execution_count": 57,
   "metadata": {},
   "outputs": [
    {
     "data": {
      "image/png": "[encoded data removed]",
      "text/plain": [
       "<Figure size 432x288 with 1 Axes>"
      ]
     },
     "metadata": {
      "needs_background": "light"
     },
     "output_type": "display_data"
    }
   ],
   "source": [
    "show_train_history(train_history_4, 'acc', 'val_acc')"
   ]
  },
  {
   "cell_type": "code",
   "execution_count": 58,
   "metadata": {},
   "outputs": [
    {
     "data": {
      "image/png": "[encoded data removed]",
      "text/plain": [
       "<Figure size 432x288 with 1 Axes>"
      ]
     },
     "metadata": {
      "needs_background": "light"
     },
     "output_type": "display_data"
    }
   ],
   "source": [
    "show_train_history(train_history_5, 'acc', 'val_acc')"
   ]
  },
  {
   "cell_type": "code",
   "execution_count": 59,
   "metadata": {},
   "outputs": [
    {
     "data": {
      "image/png": "[encoded data removed]",
      "text/plain": [
       "<Figure size 432x288 with 1 Axes>"
      ]
     },
     "metadata": {
      "needs_background": "light"
     },
     "output_type": "display_data"
    }
   ],
   "source": [
    "show_train_history(train_history_6, 'acc', 'val_acc')"
   ]
  },
  {
   "cell_type": "code",
   "execution_count": 60,
   "metadata": {},
   "outputs": [
    {
     "data": {
      "image/png": "[encoded data removed]",
      "text/plain": [
       "<Figure size 432x288 with 1 Axes>"
      ]
     },
     "metadata": {
      "needs_background": "light"
     },
     "output_type": "display_data"
    }
   ],
   "source": [
    "show_train_history(train_history_7, 'acc', 'val_acc')"
   ]
  },
  {
   "cell_type": "code",
   "execution_count": 61,
   "metadata": {},
   "outputs": [
    {
     "data": {
      "image/png": "[encoded data removed]",
      "text/plain": [
       "<Figure size 432x288 with 1 Axes>"
      ]
     },
     "metadata": {
      "needs_background": "light"
     },
     "output_type": "display_data"
    }
   ],
   "source": [
    "plt.plot(train_history_0.history['val_acc'], 'r-')\n",
    "plt.plot(train_history_1.history['val_acc'], 'b--')\n",
    "plt.plot(train_history_2.history['val_acc'], 'k.')\n",
    "plt.plot(train_history_3.history['val_acc'], 'b-')\n",
    "plt.plot(train_history_4.history['val_acc'], 'h-')\n",
    "plt.plot(train_history_5.history['val_acc'], 'c-')\n",
    "plt.plot(train_history_6.history['val_acc'], 'g*-')\n",
    "plt.plot(train_history_7.history['val_acc'], 'k-.')\n",
    "plt.title('Training on HMD')\n",
    "plt.ylabel('Validation Accuracy')\n",
    "plt.xlabel('Epoch')\n",
    "plt.legend(['CapsNet: 1-conv','CapsNet: 2-conv','CapsNet: 3-conv','CapsNet: 4-conv','CapsNet: 5-conv','CapsNet: 6-conv',\n",
    "           'CapsNet: 7-conv','CNN-2CONV'], loc='best')\n",
    "plt.show()"
   ]
  },
  {
   "cell_type": "code",
   "execution_count": null,
   "metadata": {},
   "outputs": [],
   "source": []
  },
  {
   "cell_type": "code",
   "execution_count": null,
   "metadata": {},
   "outputs": [],
   "source": []
  },
  {
   "cell_type": "code",
   "execution_count": null,
   "metadata": {},
   "outputs": [],
   "source": []
  }
 ],
 "metadata": {
  "kernelspec": {
   "display_name": "Python 3",
   "language": "python",
   "name": "python3"
  },
  "language_info": {
   "codemirror_mode": {
    "name": "ipython",
    "version": 3
   },
   "file_extension": ".py",
   "mimetype": "text/x-python",
   "name": "python",
   "nbconvert_exporter": "python",
   "pygments_lexer": "ipython3",
   "version": "3.6.10"
  }
 },
 "nbformat": 4,
 "nbformat_minor": 2
}
