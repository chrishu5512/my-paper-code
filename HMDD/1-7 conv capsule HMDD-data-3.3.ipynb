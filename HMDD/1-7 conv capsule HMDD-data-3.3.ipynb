{
 "cells": [
  {
   "cell_type": "code",
   "execution_count": 1,
   "metadata": {},
   "outputs": [],
   "source": [
    "import os\n"
   ]
  },
  {
   "cell_type": "code",
   "execution_count": 2,
   "metadata": {},
   "outputs": [
    {
     "name": "stderr",
     "output_type": "stream",
     "text": [
      "Using TensorFlow backend.\n",
      "C:\\Users\\ASUS\\Anaconda3\\envs\\tensorflow-gpu\\lib\\site-packages\\tensorflow\\python\\framework\\dtypes.py:526: FutureWarning: Passing (type, 1) or '1type' as a synonym of type is deprecated; in a future version of numpy, it will be understood as (type, (1,)) / '(1,)type'.\n",
      "  _np_qint8 = np.dtype([(\"qint8\", np.int8, 1)])\n",
      "C:\\Users\\ASUS\\Anaconda3\\envs\\tensorflow-gpu\\lib\\site-packages\\tensorflow\\python\\framework\\dtypes.py:527: FutureWarning: Passing (type, 1) or '1type' as a synonym of type is deprecated; in a future version of numpy, it will be understood as (type, (1,)) / '(1,)type'.\n",
      "  _np_quint8 = np.dtype([(\"quint8\", np.uint8, 1)])\n",
      "C:\\Users\\ASUS\\Anaconda3\\envs\\tensorflow-gpu\\lib\\site-packages\\tensorflow\\python\\framework\\dtypes.py:528: FutureWarning: Passing (type, 1) or '1type' as a synonym of type is deprecated; in a future version of numpy, it will be understood as (type, (1,)) / '(1,)type'.\n",
      "  _np_qint16 = np.dtype([(\"qint16\", np.int16, 1)])\n",
      "C:\\Users\\ASUS\\Anaconda3\\envs\\tensorflow-gpu\\lib\\site-packages\\tensorflow\\python\\framework\\dtypes.py:529: FutureWarning: Passing (type, 1) or '1type' as a synonym of type is deprecated; in a future version of numpy, it will be understood as (type, (1,)) / '(1,)type'.\n",
      "  _np_quint16 = np.dtype([(\"quint16\", np.uint16, 1)])\n",
      "C:\\Users\\ASUS\\Anaconda3\\envs\\tensorflow-gpu\\lib\\site-packages\\tensorflow\\python\\framework\\dtypes.py:530: FutureWarning: Passing (type, 1) or '1type' as a synonym of type is deprecated; in a future version of numpy, it will be understood as (type, (1,)) / '(1,)type'.\n",
      "  _np_qint32 = np.dtype([(\"qint32\", np.int32, 1)])\n",
      "C:\\Users\\ASUS\\Anaconda3\\envs\\tensorflow-gpu\\lib\\site-packages\\tensorflow\\python\\framework\\dtypes.py:535: FutureWarning: Passing (type, 1) or '1type' as a synonym of type is deprecated; in a future version of numpy, it will be understood as (type, (1,)) / '(1,)type'.\n",
      "  np_resource = np.dtype([(\"resource\", np.ubyte, 1)])\n"
     ]
    }
   ],
   "source": [
    "from __future__ import print_function\n",
    "from keras import backend as K\n",
    "from keras.layers import Layer\n",
    "from keras import activations\n",
    "from keras import utils\n",
    "from keras.datasets import mnist\n",
    "from keras.datasets import fashion_mnist\n",
    "from keras.models import Model\n",
    "from keras.layers import *\n",
    "from keras.preprocessing.image import ImageDataGenerator\n",
    "import cv2"
   ]
  },
  {
   "cell_type": "code",
   "execution_count": 3,
   "metadata": {},
   "outputs": [],
   "source": [
    "from tensorflow.compat.v1 import ConfigProto\n",
    "from tensorflow.compat.v1 import InteractiveSession\n",
    "\n",
    "config = ConfigProto()\n",
    "config.gpu_options.allow_growth = True\n",
    "session = InteractiveSession(config=config)"
   ]
  },
  {
   "cell_type": "code",
   "execution_count": 4,
   "metadata": {},
   "outputs": [],
   "source": [
    "Vld_Splt= 0.0909\n",
    "batch_size = 200\n",
    "num_classes = 10\n",
    "epochs = 30"
   ]
  },
  {
   "cell_type": "code",
   "execution_count": 5,
   "metadata": {},
   "outputs": [],
   "source": [
    "from keras.utils import np_utils\n",
    "\n",
    "'''LOAD DATA'''\n",
    "Dir= 'C:/pythonwork/MHDD/'\n",
    "x_train= np.load(Dir+'HMDD_Train_X.npy')\n",
    "y_train=np.load(Dir+'HMDD_Train_Y.npy')\n",
    "x_test=np.load(Dir+'HMDD_Test_X.npy')\n",
    "y_test=np.load(Dir+'HMDD_Test_Y.npy')\n",
    "\n",
    "'''PRE-PROCESSING'''\n",
    "x_train = x_train.reshape(-1, 28, 28, 1).astype('float32') / 255.\n",
    "x_test = x_test.reshape(-1, 28, 28, 1).astype('float32') / 255.\n",
    "# n_Vld= int(np.floor(Vld_Splt* x_train.shape[0]))  # Num. of validation data"
   ]
  },
  {
   "cell_type": "code",
   "execution_count": 6,
   "metadata": {},
   "outputs": [],
   "source": [
    "# (x_train, y_train), (x_test, y_test) = fashion_mnist.load_data()\n",
    "\n",
    "# x_train = x_train.reshape(x_train.shape[0], x_train.shape[1], x_train.shape[2], 1)\\\n",
    "#          .astype('float32')\n",
    "# x_test = x_test.reshape(x_test.shape[0], x_test.shape[1], x_test.shape[2], 1).\\\n",
    "#          astype('float32')\n",
    "# x_train /= 255\n",
    "# x_test /= 255\n",
    "# y_train = utils.to_categorical(y_train, num_classes)\n",
    "# y_test = utils.to_categorical(y_test, num_classes)"
   ]
  },
  {
   "cell_type": "code",
   "execution_count": 7,
   "metadata": {},
   "outputs": [
    {
     "name": "stdout",
     "output_type": "stream",
     "text": [
      " (60000, 28, 28, 1) \n",
      " (60000, 10) \n",
      " (10000, 28, 28, 1) \n",
      " (10000, 10) \n",
      "\n"
     ]
    }
   ],
   "source": [
    "print('', x_train.shape,'\\n',y_train.shape,'\\n',x_test.shape,'\\n',y_test.shape,'\\n')"
   ]
  },
  {
   "cell_type": "code",
   "execution_count": 8,
   "metadata": {},
   "outputs": [],
   "source": [
    "# the squashing function.\n",
    "# we use 0.5 in stead of 1 in hinton's paper.\n",
    "# if 1, the norm of vector will be zoomed out.\n",
    "# if 0.5, the norm will be zoomed in while original norm is less than 0.5\n",
    "# and be zoomed out while original norm is greater than 0.5.\n",
    "def squash(x, axis=-1):\n",
    "    s_squared_norm = K.sum(K.square(x), axis, keepdims=True) + K.epsilon()\n",
    "    scale = K.sqrt(s_squared_norm) / (0.5 + s_squared_norm)\n",
    "    return scale * x\n",
    "\n",
    "\n",
    "# define our own softmax function instead of K.softmax\n",
    "# because K.softmax can not specify axis.\n",
    "def softmax(x, axis=-1):\n",
    "    ex = K.exp(x - K.max(x, axis=axis, keepdims=True))\n",
    "    return ex / K.sum(ex, axis=axis, keepdims=True)\n",
    "\n",
    "\n",
    "# define the margin loss like hinge loss\n",
    "def margin_loss(y_true, y_pred):\n",
    "    lamb, margin = 0.5, 0.1\n",
    "    return K.sum(y_true * K.square(K.relu(1 - margin - y_pred)) + lamb * (\n",
    "        1 - y_true) * K.square(K.relu(y_pred - margin)), axis=-1)\n",
    "\n",
    "\n",
    "class Capsule(Layer):\n",
    "    \"\"\"A Capsule Implement with Pure Keras\n",
    "    There are two vesions of Capsule.\n",
    "    One is like dense layer (for the fixed-shape input),\n",
    "    and the other is like timedistributed dense (for various length input).\n",
    "\n",
    "    The input shape of Capsule must be (batch_size,\n",
    "                                        input_num_capsule,\n",
    "                                        input_dim_capsule\n",
    "                                       )\n",
    "    and the output shape is (batch_size,\n",
    "                             num_capsule,\n",
    "                             dim_capsule\n",
    "                            )\n",
    "\n",
    "    Capsule Implement is from https://github.com/bojone/Capsule/\n",
    "    Capsule Paper: https://arxiv.org/abs/1710.09829\n",
    "    \"\"\"\n",
    "\n",
    "    def __init__(self,\n",
    "                 num_capsule,\n",
    "                 dim_capsule,\n",
    "                 routings=3,\n",
    "                 share_weights=True,\n",
    "                 activation='squash',\n",
    "                 **kwargs):\n",
    "        super(Capsule, self).__init__(**kwargs)\n",
    "        self.num_capsule = num_capsule\n",
    "        self.dim_capsule = dim_capsule\n",
    "        self.routings = routings\n",
    "        self.share_weights = share_weights\n",
    "        if activation == 'squash':\n",
    "            self.activation = squash\n",
    "        else:\n",
    "            self.activation = activations.get(activation)\n",
    "\n",
    "    def build(self, input_shape):\n",
    "        input_dim_capsule = input_shape[-1]\n",
    "        if self.share_weights:\n",
    "            self.kernel = self.add_weight(\n",
    "                name='capsule_kernel',\n",
    "                shape=(1, input_dim_capsule,\n",
    "                       self.num_capsule * self.dim_capsule),\n",
    "                initializer='glorot_uniform',\n",
    "                trainable=True)\n",
    "        else:\n",
    "            input_num_capsule = input_shape[-2]\n",
    "            self.kernel = self.add_weight(\n",
    "                name='capsule_kernel',\n",
    "                shape=(input_num_capsule, input_dim_capsule,\n",
    "                       self.num_capsule * self.dim_capsule),\n",
    "                initializer='glorot_uniform',\n",
    "                trainable=True)\n",
    "\n",
    "    def call(self, inputs):\n",
    "        \"\"\"Following the routing algorithm from Hinton's paper,\n",
    "        but replace b = b + <u,v> with b = <u,v>.\n",
    "\n",
    "        This change can improve the feature representation of Capsule.\n",
    "\n",
    "        However, you can replace\n",
    "            b = K.batch_dot(outputs, hat_inputs, [2, 3])\n",
    "        with\n",
    "            b += K.batch_dot(outputs, hat_inputs, [2, 3])\n",
    "        to realize a standard routing.\n",
    "        \"\"\"\n",
    "\n",
    "        if self.share_weights:\n",
    "            hat_inputs = K.conv1d(inputs, self.kernel)\n",
    "        else:\n",
    "            hat_inputs = K.local_conv1d(inputs, self.kernel, [1], [1])\n",
    "\n",
    "        batch_size = K.shape(inputs)[0]\n",
    "        input_num_capsule = K.shape(inputs)[1]\n",
    "        hat_inputs = K.reshape(hat_inputs,\n",
    "                               (batch_size, input_num_capsule,\n",
    "                                self.num_capsule, self.dim_capsule))\n",
    "        hat_inputs = K.permute_dimensions(hat_inputs, (0, 2, 1, 3))\n",
    "\n",
    "        b = K.zeros_like(hat_inputs[:, :, :, 0])\n",
    "        for i in range(self.routings):\n",
    "            c = softmax(b, 1)\n",
    "            o = self.activation(K.batch_dot(c, hat_inputs, [2, 2]))\n",
    "            if i < self.routings - 1:\n",
    "                b = K.batch_dot(o, hat_inputs, [2, 3])\n",
    "                if K.backend() == 'theano':\n",
    "                    o = K.sum(o, axis=1)\n",
    "\n",
    "        return o\n",
    "\n",
    "    def compute_output_shape(self, input_shape):\n",
    "        return (None, self.num_capsule, self.dim_capsule)"
   ]
  },
  {
   "cell_type": "code",
   "execution_count": 9,
   "metadata": {},
   "outputs": [
    {
     "name": "stdout",
     "output_type": "stream",
     "text": [
      "WARNING:tensorflow:From C:\\Users\\ASUS\\Anaconda3\\envs\\tensorflow-gpu\\lib\\site-packages\\tensorflow\\python\\framework\\op_def_library.py:263: colocate_with (from tensorflow.python.framework.ops) is deprecated and will be removed in a future version.\n",
      "Instructions for updating:\n",
      "Colocations handled automatically by placer.\n",
      "WARNING:tensorflow:From C:\\Users\\ASUS\\Anaconda3\\envs\\tensorflow-gpu\\lib\\site-packages\\keras\\backend\\tensorflow_backend.py:3445: calling dropout (from tensorflow.python.ops.nn_ops) with keep_prob is deprecated and will be removed in a future version.\n",
      "Instructions for updating:\n",
      "Please use `rate` instead of `keep_prob`. Rate should be set to `rate = 1 - keep_prob`.\n",
      "_________________________________________________________________\n",
      "Layer (type)                 Output Shape              Param #   \n",
      "=================================================================\n",
      "input_1 (InputLayer)         (None, 28, 28, 1)         0         \n",
      "_________________________________________________________________\n",
      "conv2d_1 (Conv2D)            (None, 26, 26, 300)       3000      \n",
      "_________________________________________________________________\n",
      "dropout_1 (Dropout)          (None, 26, 26, 300)       0         \n",
      "_________________________________________________________________\n",
      "reshape_1 (Reshape)          (None, 676, 300)          0         \n",
      "_________________________________________________________________\n",
      "capsule_1 (Capsule)          (None, 10, 16)            48000     \n",
      "_________________________________________________________________\n",
      "lambda_1 (Lambda)            (None, 10)                0         \n",
      "=================================================================\n",
      "Total params: 51,000\n",
      "Trainable params: 51,000\n",
      "Non-trainable params: 0\n",
      "_________________________________________________________________\n"
     ]
    }
   ],
   "source": [
    "\"\"\"one-CONV-LAYERS-THICK\"\"\"\n",
    "input_image = Input(shape=(x_train.shape[1], x_train.shape[2], x_train.shape[3]))\n",
    "x_0 = Conv2D(filters= 300, kernel_size= 3, activation='relu', \n",
    "             padding= 'valid')(input_image)\n",
    "x_0= Dropout(0.1)(x_0)\n",
    "\n",
    "\n",
    "\"\"\"now we reshape it as (batch_size, input_num_capsule, input_dim_capsule)\n",
    "then connect a Capsule layer.\n",
    "\n",
    "the output of final model is the lengths of 10 Capsule, whose dim=16.\n",
    "\n",
    "the length of Capsule is the proba,\n",
    "so the problem becomes a 10 two-classification problem.\n",
    "\"\"\"\n",
    "\n",
    "x_0 = Reshape((-1, 300))(x_0)\n",
    "capsule_0 = Capsule(num_classes, 16, 3, True)(x_0)\n",
    "output_0 = Lambda(lambda z: K.sqrt(K.sum(K.square(z), 2)))(capsule_0)\n",
    "model_0 = Model(inputs= input_image, outputs= output_0)\n",
    "\n",
    "# we use a margin loss\n",
    "model_0.compile(loss =margin_loss, optimizer='adam', metrics=['accuracy'])\n",
    "model_0.summary()\n",
    "\n",
    "# we can compare the performance with or without data augmentation\n",
    "data_augmentation = False"
   ]
  },
  {
   "cell_type": "code",
   "execution_count": 10,
   "metadata": {},
   "outputs": [
    {
     "name": "stdout",
     "output_type": "stream",
     "text": [
      "_________________________________________________________________\n",
      "Layer (type)                 Output Shape              Param #   \n",
      "=================================================================\n",
      "input_2 (InputLayer)         (None, 28, 28, 1)         0         \n",
      "_________________________________________________________________\n",
      "conv2d_2 (Conv2D)            (None, 26, 26, 20)        200       \n",
      "_________________________________________________________________\n",
      "dropout_2 (Dropout)          (None, 26, 26, 20)        0         \n",
      "_________________________________________________________________\n",
      "conv2d_3 (Conv2D)            (None, 24, 24, 150)       27150     \n",
      "_________________________________________________________________\n",
      "dropout_3 (Dropout)          (None, 24, 24, 150)       0         \n",
      "_________________________________________________________________\n",
      "reshape_2 (Reshape)          (None, 576, 150)          0         \n",
      "_________________________________________________________________\n",
      "capsule_2 (Capsule)          (None, 10, 16)            24000     \n",
      "_________________________________________________________________\n",
      "lambda_2 (Lambda)            (None, 10)                0         \n",
      "=================================================================\n",
      "Total params: 51,350\n",
      "Trainable params: 51,350\n",
      "Non-trainable params: 0\n",
      "_________________________________________________________________\n"
     ]
    }
   ],
   "source": [
    "\"\"\"two-CONV-LAYERS-THICK\"\"\"\n",
    "input_image = Input(shape=(x_train.shape[1], x_train.shape[2], x_train.shape[3]))\n",
    "x_1 = Conv2D(filters= 20, kernel_size= 3, activation='relu', \n",
    "             padding= 'valid')(input_image)\n",
    "x_1= Dropout(0.1)(x_1)\n",
    "x_1 = Conv2D(filters= 150, kernel_size= 3, activation='relu',\n",
    "             strides= 1)(x_1)\n",
    "x_1 = Dropout(0.1)(x_1)\n",
    "\n",
    "\n",
    "\"\"\"now we reshape it as (batch_size, input_num_capsule, input_dim_capsule)\n",
    "then connect a Capsule layer.\n",
    "\n",
    "the output of final model is the lengths of 10 Capsule, whose dim=16.\n",
    "\n",
    "the length of Capsule is the proba,\n",
    "so the problem becomes a 10 two-classification problem.\n",
    "\"\"\"\n",
    "\n",
    "x_1 = Reshape((-1, 150))(x_1)\n",
    "capsule_1 = Capsule(num_classes, 16, 3, True)(x_1)\n",
    "output_1 = Lambda(lambda z: K.sqrt(K.sum(K.square(z), 2)))(capsule_1)\n",
    "model_1= Model(inputs= input_image, outputs= output_1)\n",
    "\n",
    "# we use a margin loss\n",
    "model_1.compile(loss =margin_loss, optimizer='adam', metrics=['accuracy'])\n",
    "model_1.summary()\n",
    "\n",
    "# we can compare the performance with or without data augmentation\n",
    "data_augmentation = False"
   ]
  },
  {
   "cell_type": "code",
   "execution_count": 11,
   "metadata": {},
   "outputs": [
    {
     "name": "stdout",
     "output_type": "stream",
     "text": [
      "_________________________________________________________________\n",
      "Layer (type)                 Output Shape              Param #   \n",
      "=================================================================\n",
      "input_3 (InputLayer)         (None, 28, 28, 1)         0         \n",
      "_________________________________________________________________\n",
      "conv2d_4 (Conv2D)            (None, 26, 26, 20)        200       \n",
      "_________________________________________________________________\n",
      "dropout_4 (Dropout)          (None, 26, 26, 20)        0         \n",
      "_________________________________________________________________\n",
      "conv2d_5 (Conv2D)            (None, 24, 24, 55)        9955      \n",
      "_________________________________________________________________\n",
      "dropout_5 (Dropout)          (None, 24, 24, 55)        0         \n",
      "_________________________________________________________________\n",
      "conv2d_6 (Conv2D)            (None, 22, 22, 62)        30752     \n",
      "_________________________________________________________________\n",
      "dropout_6 (Dropout)          (None, 22, 22, 62)        0         \n",
      "_________________________________________________________________\n",
      "reshape_3 (Reshape)          (None, 484, 62)           0         \n",
      "_________________________________________________________________\n",
      "capsule_3 (Capsule)          (None, 10, 16)            9920      \n",
      "_________________________________________________________________\n",
      "lambda_3 (Lambda)            (None, 10)                0         \n",
      "=================================================================\n",
      "Total params: 50,827\n",
      "Trainable params: 50,827\n",
      "Non-trainable params: 0\n",
      "_________________________________________________________________\n"
     ]
    }
   ],
   "source": [
    "\"\"\"three-CONV-LAYERS-THICK\"\"\"\n",
    "input_image = Input(shape=(x_train.shape[1], x_train.shape[2], x_train.shape[3]))\n",
    "x_2 = Conv2D(filters= 20, kernel_size= 3, activation='relu', \n",
    "             padding= 'valid')(input_image)\n",
    "x_2=  Dropout(0.1)(x_2)\n",
    "x_2 = Conv2D(filters= 55, kernel_size= 3, activation='relu',\n",
    "             strides= 1)(x_2)\n",
    "x_2 = Dropout(0.1)(x_2)\n",
    "x_2 = Conv2D(filters= 62, kernel_size= 3, activation='relu',\n",
    "             strides= 1)(x_2)\n",
    "x_2 = Dropout(0.1)(x_2)\n",
    "\n",
    "\n",
    "\"\"\"now we reshape it as (batch_size, input_num_capsule, input_dim_capsule)\n",
    "then connect a Capsule layer.\n",
    "\n",
    "the output of final model is the lengths of 10 Capsule, whose dim=16.\n",
    "\n",
    "the length of Capsule is the proba,\n",
    "so the problem becomes a 10 two-classification problem.\n",
    "\"\"\"\n",
    "\n",
    "x_2 = Reshape((-1, 62))(x_2)\n",
    "capsule_2 = Capsule(num_classes, 16, 3, True)(x_2)\n",
    "output_2 = Lambda(lambda z: K.sqrt(K.sum(K.square(z), 2)))(capsule_2)\n",
    "model_2= Model(inputs= input_image, outputs= output_2)\n",
    "\n",
    "# we use a margin loss\n",
    "model_2.compile(loss =margin_loss, optimizer='adam', metrics=['accuracy'])\n",
    "model_2.summary()\n",
    "\n",
    "# we can compare the performance with or without data augmentation\n",
    "data_augmentation = False"
   ]
  },
  {
   "cell_type": "code",
   "execution_count": 12,
   "metadata": {},
   "outputs": [
    {
     "name": "stdout",
     "output_type": "stream",
     "text": [
      "_________________________________________________________________\n",
      "Layer (type)                 Output Shape              Param #   \n",
      "=================================================================\n",
      "input_4 (InputLayer)         (None, 28, 28, 1)         0         \n",
      "_________________________________________________________________\n",
      "conv2d_7 (Conv2D)            (None, 26, 26, 20)        200       \n",
      "_________________________________________________________________\n",
      "dropout_7 (Dropout)          (None, 26, 26, 20)        0         \n",
      "_________________________________________________________________\n",
      "conv2d_8 (Conv2D)            (None, 24, 24, 35)        6335      \n",
      "_________________________________________________________________\n",
      "dropout_8 (Dropout)          (None, 24, 24, 35)        0         \n",
      "_________________________________________________________________\n",
      "conv2d_9 (Conv2D)            (None, 22, 22, 45)        14220     \n",
      "_________________________________________________________________\n",
      "dropout_9 (Dropout)          (None, 22, 22, 45)        0         \n",
      "_________________________________________________________________\n",
      "conv2d_10 (Conv2D)           (None, 20, 20, 55)        22330     \n",
      "_________________________________________________________________\n",
      "dropout_10 (Dropout)         (None, 20, 20, 55)        0         \n",
      "_________________________________________________________________\n",
      "reshape_4 (Reshape)          (None, 400, 55)           0         \n",
      "_________________________________________________________________\n",
      "capsule_4 (Capsule)          (None, 10, 16)            8800      \n",
      "_________________________________________________________________\n",
      "lambda_4 (Lambda)            (None, 10)                0         \n",
      "=================================================================\n",
      "Total params: 51,885\n",
      "Trainable params: 51,885\n",
      "Non-trainable params: 0\n",
      "_________________________________________________________________\n"
     ]
    }
   ],
   "source": [
    "\"\"\"four-CONV-LAYERS-THICK\"\"\"\n",
    "input_image = Input(shape=(x_train.shape[1], x_train.shape[2], x_train.shape[3]))\n",
    "x_3 = Conv2D(filters= 20, kernel_size= 3, activation='relu', \n",
    "             padding= 'valid')(input_image)\n",
    "x_3= Dropout(0.1)(x_3)\n",
    "x_3 = Conv2D(filters= 35,kernel_size= 3, activation='relu',\n",
    "             strides= 1)(x_3)\n",
    "x_3 = Dropout(0.1)(x_3)\n",
    "x_3 = Conv2D(filters= 45 , kernel_size= 3, activation='relu',\n",
    "             strides= 1)(x_3)\n",
    "x_3= Dropout(0.1)(x_3)\n",
    "x_3 = Conv2D(filters= 55, kernel_size= 3, activation='relu',\n",
    "             strides= 1)(x_3)\n",
    "x_3= Dropout(0.1)(x_3)\n",
    "\n",
    "\n",
    "\"\"\"now we reshape it as (batch_size, input_num_capsule, input_dim_capsule)\n",
    "then connect a Capsule layer.\n",
    "\n",
    "the output of final model is the lengths of 10 Capsule, whose dim=16.\n",
    "\n",
    "the length of Capsule is the proba,\n",
    "so the problem becomes a 10 two-classification problem.\n",
    "\"\"\"\n",
    "\n",
    "x_3 = Reshape((-1, 55))(x_3)\n",
    "capsule_3 = Capsule(num_classes, 16, 3, True)(x_3)\n",
    "output_3 = Lambda(lambda z: K.sqrt(K.sum(K.square(z), 2)))(capsule_3)\n",
    "model_3= Model(inputs= input_image, outputs= output_3)\n",
    "\n",
    "# we use a margin loss\n",
    "model_3.compile(loss =margin_loss, optimizer='adam', metrics=['accuracy'])\n",
    "model_3.summary()\n",
    "\n",
    "# we can compare the performance with or without data augmentation\n",
    "data_augmentation = False"
   ]
  },
  {
   "cell_type": "code",
   "execution_count": 13,
   "metadata": {},
   "outputs": [
    {
     "name": "stdout",
     "output_type": "stream",
     "text": [
      "_________________________________________________________________\n",
      "Layer (type)                 Output Shape              Param #   \n",
      "=================================================================\n",
      "input_5 (InputLayer)         (None, 28, 28, 1)         0         \n",
      "_________________________________________________________________\n",
      "conv2d_11 (Conv2D)           (None, 26, 26, 20)        200       \n",
      "_________________________________________________________________\n",
      "dropout_11 (Dropout)         (None, 26, 26, 20)        0         \n",
      "_________________________________________________________________\n",
      "conv2d_12 (Conv2D)           (None, 12, 12, 30)        5430      \n",
      "_________________________________________________________________\n",
      "dropout_12 (Dropout)         (None, 12, 12, 30)        0         \n",
      "_________________________________________________________________\n",
      "conv2d_13 (Conv2D)           (None, 10, 10, 30)        8130      \n",
      "_________________________________________________________________\n",
      "dropout_13 (Dropout)         (None, 10, 10, 30)        0         \n",
      "_________________________________________________________________\n",
      "conv2d_14 (Conv2D)           (None, 8, 8, 35)          9485      \n",
      "_________________________________________________________________\n",
      "dropout_14 (Dropout)         (None, 8, 8, 35)          0         \n",
      "_________________________________________________________________\n",
      "conv2d_15 (Conv2D)           (None, 6, 6, 57)          18012     \n",
      "_________________________________________________________________\n",
      "dropout_15 (Dropout)         (None, 6, 6, 57)          0         \n",
      "_________________________________________________________________\n",
      "reshape_5 (Reshape)          (None, 36, 57)            0         \n",
      "_________________________________________________________________\n",
      "capsule_5 (Capsule)          (None, 10, 16)            9120      \n",
      "_________________________________________________________________\n",
      "lambda_5 (Lambda)            (None, 10)                0         \n",
      "=================================================================\n",
      "Total params: 50,377\n",
      "Trainable params: 50,377\n",
      "Non-trainable params: 0\n",
      "_________________________________________________________________\n"
     ]
    }
   ],
   "source": [
    "\"\"\"five-CONV-LAYERS-THICK\"\"\"\n",
    "input_image = Input(shape=(x_train.shape[1], x_train.shape[2], x_train.shape[3]))\n",
    "x_4 = Conv2D(filters= 20, kernel_size= 3, activation='relu', \n",
    "             padding= 'valid')(input_image)\n",
    "x_4= Dropout(0.1)(x_4)\n",
    "x_4 = Conv2D(filters= 30 ,kernel_size= 3, activation='relu',\n",
    "             strides= 2)(x_4)\n",
    "x_4 = Dropout(0.1)(x_4)\n",
    "x_4 = Conv2D(filters= 30 , kernel_size= 3, activation='relu',\n",
    "             strides= 1)(x_4)\n",
    "x_4= Dropout(0.1)(x_4)\n",
    "x_4 = Conv2D(filters= 35,kernel_size= 3, activation='relu',\n",
    "             strides= 1)(x_4)\n",
    "x_4= Dropout(0.1)(x_4)\n",
    "x_4 = Conv2D(filters= 57,kernel_size= 3, activation='relu',\n",
    "             strides= 1)(x_4)\n",
    "x_4= Dropout(0.1)(x_4)\n",
    "\n",
    "\"\"\"now we reshape it as (batch_size, input_num_capsule, input_dim_capsule)\n",
    "then connect a Capsule layer.\n",
    "\n",
    "the output of final model is the lengths of 10 Capsule, whose dim=16.\n",
    "\n",
    "the length of Capsule is the proba,\n",
    "so the problem becomes a 10 two-classification problem.\n",
    "\"\"\"\n",
    "\n",
    "x_4 = Reshape((-1, 57))(x_4)\n",
    "capsule_4 = Capsule(num_classes, 16, 3, True)(x_4)\n",
    "output_4 = Lambda(lambda z: K.sqrt(K.sum(K.square(z), 2)))(capsule_4)\n",
    "model_4= Model(inputs= input_image, outputs= output_4)\n",
    "\n",
    "# we use a margin loss\n",
    "model_4.compile(loss =margin_loss, optimizer='adam', metrics=['accuracy'])\n",
    "model_4.summary()\n",
    "\n",
    "# we can compare the performance with or without data augmentation\n",
    "data_augmentation = False"
   ]
  },
  {
   "cell_type": "code",
   "execution_count": 14,
   "metadata": {},
   "outputs": [
    {
     "name": "stdout",
     "output_type": "stream",
     "text": [
      "_________________________________________________________________\n",
      "Layer (type)                 Output Shape              Param #   \n",
      "=================================================================\n",
      "input_6 (InputLayer)         (None, 28, 28, 1)         0         \n",
      "_________________________________________________________________\n",
      "conv2d_16 (Conv2D)           (None, 26, 26, 20)        200       \n",
      "_________________________________________________________________\n",
      "dropout_16 (Dropout)         (None, 26, 26, 20)        0         \n",
      "_________________________________________________________________\n",
      "conv2d_17 (Conv2D)           (None, 12, 12, 25)        4525      \n",
      "_________________________________________________________________\n",
      "dropout_17 (Dropout)         (None, 12, 12, 25)        0         \n",
      "_________________________________________________________________\n",
      "conv2d_18 (Conv2D)           (None, 10, 10, 30)        6780      \n",
      "_________________________________________________________________\n",
      "dropout_18 (Dropout)         (None, 10, 10, 30)        0         \n",
      "_________________________________________________________________\n",
      "conv2d_19 (Conv2D)           (None, 8, 8, 30)          8130      \n",
      "_________________________________________________________________\n",
      "dropout_19 (Dropout)         (None, 8, 8, 30)          0         \n",
      "_________________________________________________________________\n",
      "conv2d_20 (Conv2D)           (None, 6, 6, 35)          9485      \n",
      "_________________________________________________________________\n",
      "dropout_20 (Dropout)         (None, 6, 6, 35)          0         \n",
      "_________________________________________________________________\n",
      "conv2d_21 (Conv2D)           (None, 4, 4, 45)          14220     \n",
      "_________________________________________________________________\n",
      "dropout_21 (Dropout)         (None, 4, 4, 45)          0         \n",
      "_________________________________________________________________\n",
      "reshape_6 (Reshape)          (None, 16, 45)            0         \n",
      "_________________________________________________________________\n",
      "capsule_6 (Capsule)          (None, 10, 16)            7200      \n",
      "_________________________________________________________________\n",
      "lambda_6 (Lambda)            (None, 10)                0         \n",
      "=================================================================\n",
      "Total params: 50,540\n",
      "Trainable params: 50,540\n",
      "Non-trainable params: 0\n",
      "_________________________________________________________________\n"
     ]
    }
   ],
   "source": [
    "\"\"\"six-CONV-LAYERS-THICK\"\"\"\n",
    "input_image = Input(shape=(x_train.shape[1], x_train.shape[2], x_train.shape[3]))\n",
    "x_5 = Conv2D(filters= 20, kernel_size= 3, activation='relu', \n",
    "             padding= 'valid')(input_image)\n",
    "x_5= Dropout(0.1)(x_5)\n",
    "x_5 = Conv2D(filters= 25 ,kernel_size= 3, activation='relu',\n",
    "             strides= 2)(x_5)\n",
    "x_5 = Dropout(0.1)(x_5)\n",
    "x_5 = Conv2D(filters= 30, kernel_size= 3, activation='relu',\n",
    "             strides= 1)(x_5)\n",
    "x_5= Dropout(0.1)(x_5)\n",
    "x_5 = Conv2D(filters= 30,kernel_size= 3, activation='relu',\n",
    "             strides= 1)(x_5)\n",
    "x_5= Dropout(0.1)(x_5)\n",
    "x_5 = Conv2D(filters= 35,kernel_size= 3, activation='relu',\n",
    "             strides= 1)(x_5)\n",
    "x_5= Dropout(0.1)(x_5)\n",
    "x_5 = Conv2D(filters= 45,kernel_size= 3, activation='relu',\n",
    "             strides= 1)(x_5)\n",
    "x_5= Dropout(0.1)(x_5)\n",
    "\n",
    "\"\"\"now we reshape it as (batch_size, input_num_capsule, input_dim_capsule)\n",
    "then connect a Capsule layer.\n",
    "\n",
    "the output of final model is the lengths of 10 Capsule, whose dim=16.\n",
    "\n",
    "the length of Capsule is the proba,\n",
    "so the problem becomes a 10 two-classification problem.\n",
    "\"\"\"\n",
    "\n",
    "x_5 = Reshape((-1, 45))(x_5)\n",
    "capsule_5 = Capsule(num_classes, 16, 3, True)(x_5)\n",
    "output_5 = Lambda(lambda z: K.sqrt(K.sum(K.square(z), 2)))(capsule_5)\n",
    "model_5= Model(inputs= input_image, outputs= output_5)\n",
    "\n",
    "# we use a margin loss\n",
    "model_5.compile(loss =margin_loss, optimizer='adam', metrics=['accuracy'])\n",
    "model_5.summary()\n",
    "\n",
    "# we can compare the performance with or without data augmentation\n",
    "data_augmentation = False"
   ]
  },
  {
   "cell_type": "code",
   "execution_count": 15,
   "metadata": {},
   "outputs": [
    {
     "name": "stdout",
     "output_type": "stream",
     "text": [
      "_________________________________________________________________\n",
      "Layer (type)                 Output Shape              Param #   \n",
      "=================================================================\n",
      "input_7 (InputLayer)         (None, 28, 28, 1)         0         \n",
      "_________________________________________________________________\n",
      "conv2d_22 (Conv2D)           (None, 26, 26, 20)        200       \n",
      "_________________________________________________________________\n",
      "dropout_22 (Dropout)         (None, 26, 26, 20)        0         \n",
      "_________________________________________________________________\n",
      "conv2d_23 (Conv2D)           (None, 26, 26, 20)        3620      \n",
      "_________________________________________________________________\n",
      "dropout_23 (Dropout)         (None, 26, 26, 20)        0         \n",
      "_________________________________________________________________\n",
      "conv2d_24 (Conv2D)           (None, 12, 12, 25)        4525      \n",
      "_________________________________________________________________\n",
      "dropout_24 (Dropout)         (None, 12, 12, 25)        0         \n",
      "_________________________________________________________________\n",
      "conv2d_25 (Conv2D)           (None, 10, 10, 30)        6780      \n",
      "_________________________________________________________________\n",
      "dropout_25 (Dropout)         (None, 10, 10, 30)        0         \n",
      "_________________________________________________________________\n",
      "conv2d_26 (Conv2D)           (None, 10, 10, 30)        8130      \n",
      "_________________________________________________________________\n",
      "dropout_26 (Dropout)         (None, 10, 10, 30)        0         \n",
      "_________________________________________________________________\n",
      "conv2d_27 (Conv2D)           (None, 8, 8, 40)          10840     \n",
      "_________________________________________________________________\n",
      "dropout_27 (Dropout)         (None, 8, 8, 40)          0         \n",
      "_________________________________________________________________\n",
      "conv2d_28 (Conv2D)           (None, 6, 6, 40)          14440     \n",
      "_________________________________________________________________\n",
      "dropout_28 (Dropout)         (None, 6, 6, 40)          0         \n",
      "_________________________________________________________________\n",
      "reshape_7 (Reshape)          (None, 36, 40)            0         \n",
      "_________________________________________________________________\n",
      "capsule_7 (Capsule)          (None, 10, 16)            6400      \n",
      "_________________________________________________________________\n",
      "lambda_7 (Lambda)            (None, 10)                0         \n",
      "=================================================================\n",
      "Total params: 54,935\n",
      "Trainable params: 54,935\n",
      "Non-trainable params: 0\n",
      "_________________________________________________________________\n"
     ]
    }
   ],
   "source": [
    "\"\"\"seven-CONV-LAYERS-THICK\"\"\"\n",
    "input_image = Input(shape=(x_train.shape[1], x_train.shape[2], x_train.shape[3]))\n",
    "x_6 = Conv2D(filters= 20, kernel_size= 3, activation='relu', \n",
    "             padding= 'valid')(input_image)\n",
    "x_6= Dropout(0.1)(x_6)\n",
    "x_6 = Conv2D(filters= 20 ,kernel_size= 3, activation='relu',\n",
    "             padding= 'same')(x_6)\n",
    "x_6 = Dropout(0.1)(x_6)\n",
    "x_6 = Conv2D(filters= 25, kernel_size= 3, activation='relu',\n",
    "             strides= 2)(x_6)\n",
    "x_6= Dropout(0.1)(x_6)\n",
    "x_6 = Conv2D(filters= 30,kernel_size= 3, activation='relu',\n",
    "             strides= 1)(x_6)\n",
    "x_6= Dropout(0.1)(x_6)\n",
    "x_6 = Conv2D(filters= 30,kernel_size= 3, activation='relu',\n",
    "             padding= 'same')(x_6)\n",
    "x_6= Dropout(0.1)(x_6)\n",
    "x_6 = Conv2D(filters= 40,kernel_size= 3, activation='relu',\n",
    "             strides= 1)(x_6)\n",
    "x_6= Dropout(0.1)(x_6)\n",
    "x_6 = Conv2D(filters= 40,kernel_size= 3, activation='relu',\n",
    "             strides= 1)(x_6)\n",
    "x_6= Dropout(0.1)(x_6)\n",
    "\n",
    "\"\"\"now we reshape it as (batch_size, input_num_capsule, input_dim_capsule)\n",
    "then connect a Capsule layer.\n",
    "\n",
    "the output of final model is the lengths of 10 Capsule, whose dim=16.\n",
    "\n",
    "the length of Capsule is the proba,\n",
    "so the problem becomes a 10 two-classification problem.\n",
    "\"\"\"\n",
    "\n",
    "x_6 = Reshape((-1, 40))(x_6)\n",
    "capsule_6 = Capsule(num_classes, 16, 3, True)(x_6)\n",
    "output_6 = Lambda(lambda z: K.sqrt(K.sum(K.square(z), 2)))(capsule_6)\n",
    "model_6= Model(inputs= input_image, outputs= output_6)\n",
    "\n",
    "# we use a margin loss\n",
    "model_6.compile(loss =margin_loss, optimizer='adam', metrics=['accuracy'])\n",
    "model_6.summary()\n",
    "\n",
    "# we can compare the performance with or without data augmentation\n",
    "data_augmentation = False"
   ]
  },
  {
   "cell_type": "code",
   "execution_count": 16,
   "metadata": {},
   "outputs": [
    {
     "name": "stdout",
     "output_type": "stream",
     "text": [
      "_________________________________________________________________\n",
      "Layer (type)                 Output Shape              Param #   \n",
      "=================================================================\n",
      "conv2d_29 (Conv2D)           (None, 26, 26, 10)        100       \n",
      "_________________________________________________________________\n",
      "max_pooling2d_1 (MaxPooling2 (None, 13, 13, 10)        0         \n",
      "_________________________________________________________________\n",
      "conv2d_30 (Conv2D)           (None, 11, 11, 20)        1820      \n",
      "_________________________________________________________________\n",
      "dropout_29 (Dropout)         (None, 11, 11, 20)        0         \n",
      "_________________________________________________________________\n",
      "max_pooling2d_2 (MaxPooling2 (None, 5, 5, 20)          0         \n",
      "_________________________________________________________________\n",
      "flatten_1 (Flatten)          (None, 500)               0         \n",
      "_________________________________________________________________\n",
      "dropout_30 (Dropout)         (None, 500)               0         \n",
      "_________________________________________________________________\n",
      "dense_1 (Dense)              (None, 256)               128256    \n",
      "_________________________________________________________________\n",
      "dense_2 (Dense)              (None, 10)                2570      \n",
      "=================================================================\n",
      "Total params: 132,746\n",
      "Trainable params: 132,746\n",
      "Non-trainable params: 0\n",
      "_________________________________________________________________\n",
      "None\n"
     ]
    }
   ],
   "source": [
    "\"\"\"CNN-3-CONV-LAYERS\"\"\"\n",
    "from keras.models import Sequential\n",
    "from keras.layers import Dense, Dropout, Activation, Flatten, Conv2D, MaxPooling2D, \\\n",
    "                         ZeroPadding2D\n",
    "\n",
    "model_7= Sequential()\n",
    "model_7.add(Conv2D(filters= 10, kernel_size= (3, 3), padding= 'valid', \n",
    "                   input_shape=(x_train.shape[1], x_train.shape[2], x_train.shape[3]), \n",
    "                   activation='relu'))\n",
    "model_7.add(MaxPooling2D(pool_size=(2,2)))\n",
    "model_7.add(Conv2D(filters= 20, kernel_size= (3, 3), \n",
    "                    padding= 'valid', activation='relu'))\n",
    "model_7.add(Dropout(0.4))\n",
    "model_7.add(MaxPooling2D(pool_size=(2,2)))\n",
    "\n",
    "model_7.add(Flatten())\n",
    "model_7.add(Dropout(0.5))\n",
    "model_7.add(Dense(256, activation='relu'))\n",
    "model_7.add(Dense(num_classes, activation='softmax'))\n",
    "print(model_7.summary())"
   ]
  },
  {
   "cell_type": "code",
   "execution_count": 17,
   "metadata": {},
   "outputs": [
    {
     "name": "stdout",
     "output_type": "stream",
     "text": [
      "Not using data augmentation.\n",
      "WARNING:tensorflow:From C:\\Users\\ASUS\\Anaconda3\\envs\\tensorflow-gpu\\lib\\site-packages\\tensorflow\\python\\ops\\math_ops.py:3066: to_int32 (from tensorflow.python.ops.math_ops) is deprecated and will be removed in a future version.\n",
      "Instructions for updating:\n",
      "Use tf.cast instead.\n",
      "WARNING:tensorflow:From C:\\Users\\ASUS\\Anaconda3\\envs\\tensorflow-gpu\\lib\\site-packages\\tensorflow\\python\\ops\\math_grad.py:102: div (from tensorflow.python.ops.math_ops) is deprecated and will be removed in a future version.\n",
      "Instructions for updating:\n",
      "Deprecated in favor of operator or tf.math.divide.\n",
      "Train on 54546 samples, validate on 5454 samples\n",
      "Epoch 1/30\n",
      "54546/54546 [==============================] - 23s 425us/step - loss: 0.4345 - acc: 0.4163 - val_loss: 0.3724 - val_acc: 0.5389\n",
      "Epoch 2/30\n",
      "54546/54546 [==============================] - 20s 372us/step - loss: 0.3630 - acc: 0.5464 - val_loss: 0.3432 - val_acc: 0.6399\n",
      "Epoch 3/30\n",
      "54546/54546 [==============================] - 20s 373us/step - loss: 0.3389 - acc: 0.6054 - val_loss: 0.3235 - val_acc: 0.6511\n",
      "Epoch 4/30\n",
      "54546/54546 [==============================] - 20s 370us/step - loss: 0.3217 - acc: 0.6455 - val_loss: 0.3148 - val_acc: 0.6795\n",
      "Epoch 5/30\n",
      "54546/54546 [==============================] - 20s 370us/step - loss: 0.3110 - acc: 0.6714 - val_loss: 0.2960 - val_acc: 0.7123\n",
      "Epoch 6/30\n",
      "54546/54546 [==============================] - 20s 370us/step - loss: 0.3014 - acc: 0.6860 - val_loss: 0.2884 - val_acc: 0.7191\n",
      "Epoch 7/30\n",
      "54546/54546 [==============================] - 20s 370us/step - loss: 0.2961 - acc: 0.6945 - val_loss: 0.2837 - val_acc: 0.7178\n",
      "Epoch 8/30\n",
      "54546/54546 [==============================] - 20s 370us/step - loss: 0.2891 - acc: 0.7081 - val_loss: 0.3030 - val_acc: 0.6650\n",
      "Epoch 9/30\n",
      "54546/54546 [==============================] - 20s 371us/step - loss: 0.2856 - acc: 0.7119 - val_loss: 0.2800 - val_acc: 0.7308\n",
      "Epoch 10/30\n",
      "54546/54546 [==============================] - 20s 371us/step - loss: 0.2819 - acc: 0.7194 - val_loss: 0.2745 - val_acc: 0.7593\n",
      "Epoch 11/30\n",
      "54546/54546 [==============================] - 20s 372us/step - loss: 0.2774 - acc: 0.7274 - val_loss: 0.2677 - val_acc: 0.7501\n",
      "Epoch 12/30\n",
      "54546/54546 [==============================] - 20s 372us/step - loss: 0.2761 - acc: 0.7313 - val_loss: 0.2708 - val_acc: 0.7466\n",
      "Epoch 13/30\n",
      "54546/54546 [==============================] - 20s 372us/step - loss: 0.2765 - acc: 0.7282 - val_loss: 0.2665 - val_acc: 0.7635\n",
      "Epoch 14/30\n",
      "54546/54546 [==============================] - 20s 372us/step - loss: 0.2723 - acc: 0.7345 - val_loss: 0.2611 - val_acc: 0.7800\n",
      "Epoch 15/30\n",
      "54546/54546 [==============================] - 20s 373us/step - loss: 0.2710 - acc: 0.7387 - val_loss: 0.2635 - val_acc: 0.7798\n",
      "Epoch 16/30\n",
      "54546/54546 [==============================] - 20s 375us/step - loss: 0.2702 - acc: 0.7390 - val_loss: 0.2683 - val_acc: 0.7615\n",
      "Epoch 17/30\n",
      "54546/54546 [==============================] - 20s 372us/step - loss: 0.2680 - acc: 0.7418 - val_loss: 0.2641 - val_acc: 0.7316\n",
      "Epoch 18/30\n",
      "54546/54546 [==============================] - 20s 372us/step - loss: 0.2663 - acc: 0.7467 - val_loss: 0.2555 - val_acc: 0.7763\n",
      "Epoch 19/30\n",
      "54546/54546 [==============================] - 20s 372us/step - loss: 0.2641 - acc: 0.7509 - val_loss: 0.2622 - val_acc: 0.7510\n",
      "Epoch 20/30\n",
      "54546/54546 [==============================] - 20s 372us/step - loss: 0.2636 - acc: 0.7516 - val_loss: 0.2576 - val_acc: 0.7780\n",
      "Epoch 21/30\n",
      "54546/54546 [==============================] - 20s 373us/step - loss: 0.2624 - acc: 0.7522 - val_loss: 0.2527 - val_acc: 0.7809\n",
      "Epoch 22/30\n",
      "54546/54546 [==============================] - 20s 373us/step - loss: 0.2591 - acc: 0.7588 - val_loss: 0.2573 - val_acc: 0.7715\n",
      "Epoch 23/30\n",
      "54546/54546 [==============================] - 20s 373us/step - loss: 0.2590 - acc: 0.7589 - val_loss: 0.2533 - val_acc: 0.7759\n",
      "Epoch 24/30\n",
      "54546/54546 [==============================] - 20s 373us/step - loss: 0.2595 - acc: 0.7548 - val_loss: 0.2521 - val_acc: 0.7666\n",
      "Epoch 25/30\n",
      "54546/54546 [==============================] - 20s 374us/step - loss: 0.2567 - acc: 0.7625 - val_loss: 0.2456 - val_acc: 0.7820\n",
      "Epoch 26/30\n",
      "54546/54546 [==============================] - 20s 374us/step - loss: 0.2565 - acc: 0.7619 - val_loss: 0.2459 - val_acc: 0.7803\n",
      "Epoch 27/30\n",
      "54546/54546 [==============================] - 20s 373us/step - loss: 0.2546 - acc: 0.7647 - val_loss: 0.2413 - val_acc: 0.7923\n",
      "Epoch 28/30\n",
      "54546/54546 [==============================] - 20s 373us/step - loss: 0.2536 - acc: 0.7650 - val_loss: 0.2465 - val_acc: 0.7829\n",
      "Epoch 29/30\n",
      "54546/54546 [==============================] - 20s 374us/step - loss: 0.2523 - acc: 0.7666 - val_loss: 0.2529 - val_acc: 0.7624\n",
      "Epoch 30/30\n",
      "54546/54546 [==============================] - 20s 373us/step - loss: 0.2538 - acc: 0.7647 - val_loss: 0.2476 - val_acc: 0.7932\n"
     ]
    }
   ],
   "source": [
    "\"\"\"one-CONV-LAYERS-THICK\"\"\"\n",
    "if not data_augmentation:\n",
    "    print('Not using data augmentation.')\n",
    "    train_history_0= model_0.fit(\n",
    "        x_train,\n",
    "        y_train,\n",
    "        batch_size=batch_size,\n",
    "        epochs=epochs,\n",
    "        validation_split= Vld_Splt,\n",
    "        shuffle=True)\n",
    "else:\n",
    "    print('Using real-time data augmentation.')\n",
    "    # This will do preprocessing and realtime data augmentation:\n",
    "    datagen = ImageDataGenerator(\n",
    "        featurewise_center=False,  # set input mean to 0 over the dataset\n",
    "        samplewise_center=False,  # set each sample mean to 0\n",
    "        featurewise_std_normalization=False,  # divide inputs by dataset std\n",
    "        samplewise_std_normalization=False,  # divide each input by its std\n",
    "        zca_whitening=False,  # apply ZCA whitening\n",
    "        zca_epsilon=1e-06,  # epsilon for ZCA whitening\n",
    "        rotation_range=0,  # randomly rotate images in 0 to 180 degrees\n",
    "        width_shift_range=0.1,  # randomly shift images horizontally\n",
    "        height_shift_range=0.1,  # randomly shift images vertically\n",
    "        shear_range=0.,  # set range for random shear\n",
    "        zoom_range=0.,  # set range for random zoom\n",
    "        channel_shift_range=0.,  # set range for random channel shifts\n",
    "        # set mode for filling points outside the input boundaries\n",
    "        fill_mode='nearest',\n",
    "        cval=0.,  # value used for fill_mode = \"constant\"\n",
    "        horizontal_flip=True,  # randomly flip images\n",
    "        vertical_flip=False,  # randomly flip images\n",
    "        # set rescaling factor (applied before any other transformation)\n",
    "        rescale=None,\n",
    "        # set function that will be applied on each input\n",
    "        preprocessing_function=None,\n",
    "        # image data format, either \"channels_first\" or \"channels_last\"\n",
    "        data_format=None,\n",
    "        # fraction of images reserved for validation (strictly between 0 and 1)\n",
    "        validation_split=0.0)\n",
    "\n",
    "    # Compute quantities required for feature-wise normalization\n",
    "    # (std, mean, and principal components if ZCA whitening is applied).\n",
    "    datagen.fit(x_train)\n",
    "\n",
    "    # Fit the model on the batches generated by datagen.flow().\n",
    "    train_history_0= model_0.fit_generator(\n",
    "        datagen.flow(x_train, y_train, batch_size=batch_size),\n",
    "        epochs= epochs,\n",
    "        validation_split= Vld_Splt,\n",
    "        steps_per_epoch= int(x_train.shape[0]/ batch_size),\n",
    "        workers=4)"
   ]
  },
  {
   "cell_type": "code",
   "execution_count": 18,
   "metadata": {},
   "outputs": [
    {
     "name": "stdout",
     "output_type": "stream",
     "text": [
      "Not using data augmentation.\n",
      "Train on 54546 samples, validate on 5454 samples\n",
      "Epoch 1/30\n",
      "54546/54546 [==============================] - 16s 290us/step - loss: 0.4208 - acc: 0.4788 - val_loss: 0.3376 - val_acc: 0.6377\n",
      "Epoch 2/30\n",
      "54546/54546 [==============================] - 15s 278us/step - loss: 0.3089 - acc: 0.6782 - val_loss: 0.2796 - val_acc: 0.7127\n",
      "Epoch 3/30\n",
      "54546/54546 [==============================] - 16s 299us/step - loss: 0.2648 - acc: 0.7471 - val_loss: 0.2402 - val_acc: 0.7789\n",
      "Epoch 4/30\n",
      "54546/54546 [==============================] - 16s 298us/step - loss: 0.2413 - acc: 0.7800 - val_loss: 0.2271 - val_acc: 0.7968\n",
      "Epoch 5/30\n",
      "54546/54546 [==============================] - 16s 299us/step - loss: 0.2285 - acc: 0.7947 - val_loss: 0.2076 - val_acc: 0.8317\n",
      "Epoch 6/30\n",
      "54546/54546 [==============================] - 16s 299us/step - loss: 0.2173 - acc: 0.8083 - val_loss: 0.1990 - val_acc: 0.8465\n",
      "Epoch 7/30\n",
      "54546/54546 [==============================] - 16s 300us/step - loss: 0.2089 - acc: 0.8190 - val_loss: 0.1989 - val_acc: 0.8405\n",
      "Epoch 8/30\n",
      "54546/54546 [==============================] - 16s 299us/step - loss: 0.2017 - acc: 0.8264 - val_loss: 0.1887 - val_acc: 0.8416\n",
      "Epoch 9/30\n",
      "54546/54546 [==============================] - 16s 298us/step - loss: 0.1955 - acc: 0.8327 - val_loss: 0.1797 - val_acc: 0.8592\n",
      "Epoch 10/30\n",
      "54546/54546 [==============================] - 16s 299us/step - loss: 0.1901 - acc: 0.8400 - val_loss: 0.1758 - val_acc: 0.8590\n",
      "Epoch 11/30\n",
      "54546/54546 [==============================] - 16s 299us/step - loss: 0.1864 - acc: 0.8435 - val_loss: 0.1763 - val_acc: 0.8636\n",
      "Epoch 12/30\n",
      "54546/54546 [==============================] - 16s 299us/step - loss: 0.1827 - acc: 0.8456 - val_loss: 0.1739 - val_acc: 0.8616\n",
      "Epoch 13/30\n",
      "54546/54546 [==============================] - 16s 298us/step - loss: 0.1784 - acc: 0.8504 - val_loss: 0.1680 - val_acc: 0.8636\n",
      "Epoch 14/30\n",
      "54546/54546 [==============================] - 15s 281us/step - loss: 0.1752 - acc: 0.8536 - val_loss: 0.1600 - val_acc: 0.8821\n",
      "Epoch 15/30\n",
      "54546/54546 [==============================] - 16s 288us/step - loss: 0.1726 - acc: 0.8561 - val_loss: 0.1639 - val_acc: 0.8662\n",
      "Epoch 16/30\n",
      "54546/54546 [==============================] - 16s 290us/step - loss: 0.1703 - acc: 0.8582 - val_loss: 0.1575 - val_acc: 0.8753\n",
      "Epoch 17/30\n",
      "54546/54546 [==============================] - 15s 280us/step - loss: 0.1671 - acc: 0.8619 - val_loss: 0.1566 - val_acc: 0.8768\n",
      "Epoch 18/30\n",
      "54546/54546 [==============================] - 15s 278us/step - loss: 0.1652 - acc: 0.8657 - val_loss: 0.1547 - val_acc: 0.8812\n",
      "Epoch 19/30\n",
      "54546/54546 [==============================] - 15s 279us/step - loss: 0.1644 - acc: 0.8661 - val_loss: 0.1503 - val_acc: 0.8852\n",
      "Epoch 20/30\n",
      "54546/54546 [==============================] - 15s 280us/step - loss: 0.1619 - acc: 0.8675 - val_loss: 0.1498 - val_acc: 0.8836\n",
      "Epoch 21/30\n",
      "54546/54546 [==============================] - 15s 279us/step - loss: 0.1596 - acc: 0.8706 - val_loss: 0.1459 - val_acc: 0.8904\n",
      "Epoch 22/30\n",
      "54546/54546 [==============================] - 15s 282us/step - loss: 0.1577 - acc: 0.8702 - val_loss: 0.1469 - val_acc: 0.8871\n",
      "Epoch 23/30\n",
      "54546/54546 [==============================] - 15s 283us/step - loss: 0.1571 - acc: 0.8712 - val_loss: 0.1487 - val_acc: 0.8863\n",
      "Epoch 24/30\n",
      "54546/54546 [==============================] - 15s 280us/step - loss: 0.1549 - acc: 0.8753 - val_loss: 0.1505 - val_acc: 0.8806\n",
      "Epoch 25/30\n",
      "54546/54546 [==============================] - 15s 284us/step - loss: 0.1541 - acc: 0.8757 - val_loss: 0.1413 - val_acc: 0.8904\n",
      "Epoch 26/30\n",
      "54546/54546 [==============================] - 16s 284us/step - loss: 0.1524 - acc: 0.8776 - val_loss: 0.1422 - val_acc: 0.8865\n",
      "Epoch 27/30\n",
      "54546/54546 [==============================] - 16s 285us/step - loss: 0.1510 - acc: 0.8780 - val_loss: 0.1457 - val_acc: 0.8896\n",
      "Epoch 28/30\n",
      "54546/54546 [==============================] - 15s 282us/step - loss: 0.1503 - acc: 0.8795 - val_loss: 0.1442 - val_acc: 0.8814\n",
      "Epoch 29/30\n",
      "54546/54546 [==============================] - 19s 348us/step - loss: 0.1485 - acc: 0.8800 - val_loss: 0.1401 - val_acc: 0.8922\n",
      "Epoch 30/30\n",
      "54546/54546 [==============================] - 15s 280us/step - loss: 0.1477 - acc: 0.8822 - val_loss: 0.1394 - val_acc: 0.8977\n"
     ]
    }
   ],
   "source": [
    "\"\"\"two-CONV-LAYERS-THICK\"\"\"\n",
    "if not data_augmentation:\n",
    "    print('Not using data augmentation.')\n",
    "    train_history_1= model_1.fit(\n",
    "        x_train,\n",
    "        y_train,\n",
    "        batch_size=batch_size,\n",
    "        epochs=epochs,\n",
    "        validation_split= Vld_Splt,\n",
    "        shuffle=True)\n",
    "else:\n",
    "    print('Using real-time data augmentation.')\n",
    "    # This will do preprocessing and realtime data augmentation:\n",
    "    datagen = ImageDataGenerator(\n",
    "        featurewise_center=False,  # set input mean to 0 over the dataset\n",
    "        samplewise_center=False,  # set each sample mean to 0\n",
    "        featurewise_std_normalization=False,  # divide inputs by dataset std\n",
    "        samplewise_std_normalization=False,  # divide each input by its std\n",
    "        zca_whitening=False,  # apply ZCA whitening\n",
    "        zca_epsilon=1e-06,  # epsilon for ZCA whitening\n",
    "        rotation_range=0,  # randomly rotate images in 0 to 180 degrees\n",
    "        width_shift_range=0.1,  # randomly shift images horizontally\n",
    "        height_shift_range=0.1,  # randomly shift images vertically\n",
    "        shear_range=0.,  # set range for random shear\n",
    "        zoom_range=0.,  # set range for random zoom\n",
    "        channel_shift_range=0.,  # set range for random channel shifts\n",
    "        # set mode for filling points outside the input boundaries\n",
    "        fill_mode='nearest',\n",
    "        cval=0.,  # value used for fill_mode = \"constant\"\n",
    "        horizontal_flip=True,  # randomly flip images\n",
    "        vertical_flip=False,  # randomly flip images\n",
    "        # set rescaling factor (applied before any other transformation)\n",
    "        rescale=None,\n",
    "        # set function that will be applied on each input\n",
    "        preprocessing_function=None,\n",
    "        # image data format, either \"channels_first\" or \"channels_last\"\n",
    "        data_format=None,\n",
    "        # fraction of images reserved for validation (strictly between 0 and 1)\n",
    "        validation_split=0.0)\n",
    "\n",
    "    # Compute quantities required for feature-wise normalization\n",
    "    # (std, mean, and principal components if ZCA whitening is applied).\n",
    "    datagen.fit(x_train)\n",
    "\n",
    "    # Fit the model on the batches generated by datagen.flow().\n",
    "    train_history_1= model_1.fit_generator(\n",
    "        datagen.flow(x_train, y_train, batch_size=batch_size),\n",
    "        epochs= epochs,\n",
    "        validation_split= Vld_Splt,\n",
    "        steps_per_epoch= int(x_train.shape[0]/ batch_size),\n",
    "        workers=4)"
   ]
  },
  {
   "cell_type": "code",
   "execution_count": 19,
   "metadata": {},
   "outputs": [
    {
     "name": "stdout",
     "output_type": "stream",
     "text": [
      "Not using data augmentation.\n",
      "Train on 54546 samples, validate on 5454 samples\n",
      "Epoch 1/30\n",
      "54546/54546 [==============================] - 13s 241us/step - loss: 0.4154 - acc: 0.4671 - val_loss: 0.3034 - val_acc: 0.7241\n",
      "Epoch 2/30\n",
      "54546/54546 [==============================] - 12s 226us/step - loss: 0.2662 - acc: 0.7427 - val_loss: 0.2225 - val_acc: 0.8036\n",
      "Epoch 3/30\n",
      "54546/54546 [==============================] - 12s 226us/step - loss: 0.2170 - acc: 0.8053 - val_loss: 0.1875 - val_acc: 0.8458\n",
      "Epoch 4/30\n",
      "54546/54546 [==============================] - 12s 226us/step - loss: 0.1909 - acc: 0.8285 - val_loss: 0.1652 - val_acc: 0.8612\n",
      "Epoch 5/30\n",
      "54546/54546 [==============================] - 18s 335us/step - loss: 0.1721 - acc: 0.8458 - val_loss: 0.1594 - val_acc: 0.8607\n",
      "Epoch 6/30\n",
      "54546/54546 [==============================] - 12s 229us/step - loss: 0.1610 - acc: 0.8571 - val_loss: 0.1428 - val_acc: 0.8772\n",
      "Epoch 7/30\n",
      "54546/54546 [==============================] - 12s 229us/step - loss: 0.1512 - acc: 0.8656 - val_loss: 0.1366 - val_acc: 0.8847\n",
      "Epoch 8/30\n",
      "54546/54546 [==============================] - 12s 228us/step - loss: 0.1439 - acc: 0.8722 - val_loss: 0.1267 - val_acc: 0.8959\n",
      "Epoch 9/30\n",
      "54546/54546 [==============================] - 13s 236us/step - loss: 0.1369 - acc: 0.8794 - val_loss: 0.1259 - val_acc: 0.8889\n",
      "Epoch 10/30\n",
      "54546/54546 [==============================] - 13s 232us/step - loss: 0.1324 - acc: 0.8853 - val_loss: 0.1196 - val_acc: 0.9003\n",
      "Epoch 11/30\n",
      "54546/54546 [==============================] - 13s 233us/step - loss: 0.1282 - acc: 0.8897 - val_loss: 0.1130 - val_acc: 0.9107\n",
      "Epoch 12/30\n",
      "54546/54546 [==============================] - 13s 238us/step - loss: 0.1248 - acc: 0.8928 - val_loss: 0.1079 - val_acc: 0.9127\n",
      "Epoch 13/30\n",
      "54546/54546 [==============================] - 13s 236us/step - loss: 0.1215 - acc: 0.8975 - val_loss: 0.1094 - val_acc: 0.9058\n",
      "Epoch 14/30\n",
      "54546/54546 [==============================] - 13s 231us/step - loss: 0.1192 - acc: 0.8992 - val_loss: 0.1053 - val_acc: 0.9114\n",
      "Epoch 15/30\n",
      "54546/54546 [==============================] - 13s 239us/step - loss: 0.1161 - acc: 0.9025 - val_loss: 0.1040 - val_acc: 0.9133\n",
      "Epoch 16/30\n",
      "54546/54546 [==============================] - 13s 230us/step - loss: 0.1136 - acc: 0.9060 - val_loss: 0.1025 - val_acc: 0.9157\n",
      "Epoch 17/30\n",
      "54546/54546 [==============================] - 13s 232us/step - loss: 0.1122 - acc: 0.9066 - val_loss: 0.1007 - val_acc: 0.9182\n",
      "Epoch 18/30\n",
      "54546/54546 [==============================] - 12s 229us/step - loss: 0.1102 - acc: 0.9084 - val_loss: 0.0987 - val_acc: 0.9210\n",
      "Epoch 19/30\n",
      "54546/54546 [==============================] - 13s 230us/step - loss: 0.1085 - acc: 0.9107 - val_loss: 0.0960 - val_acc: 0.9213\n",
      "Epoch 20/30\n",
      "54546/54546 [==============================] - 12s 227us/step - loss: 0.1071 - acc: 0.9125 - val_loss: 0.0962 - val_acc: 0.9254\n",
      "Epoch 21/30\n",
      "54546/54546 [==============================] - 12s 228us/step - loss: 0.1049 - acc: 0.9130 - val_loss: 0.0991 - val_acc: 0.9173\n",
      "Epoch 22/30\n",
      "54546/54546 [==============================] - 12s 227us/step - loss: 0.1036 - acc: 0.9150 - val_loss: 0.0950 - val_acc: 0.9212\n",
      "Epoch 23/30\n",
      "54546/54546 [==============================] - 12s 226us/step - loss: 0.1013 - acc: 0.9175 - val_loss: 0.0924 - val_acc: 0.9239\n",
      "Epoch 24/30\n",
      "54546/54546 [==============================] - 12s 226us/step - loss: 0.1006 - acc: 0.9183 - val_loss: 0.0915 - val_acc: 0.9274\n",
      "Epoch 25/30\n",
      "54546/54546 [==============================] - 12s 227us/step - loss: 0.0994 - acc: 0.9196 - val_loss: 0.0885 - val_acc: 0.9268\n",
      "Epoch 26/30\n",
      "54546/54546 [==============================] - 12s 227us/step - loss: 0.0980 - acc: 0.9214 - val_loss: 0.0940 - val_acc: 0.9201\n",
      "Epoch 27/30\n",
      "54546/54546 [==============================] - 12s 227us/step - loss: 0.0970 - acc: 0.9226 - val_loss: 0.0868 - val_acc: 0.9305\n",
      "Epoch 28/30\n",
      "54546/54546 [==============================] - 12s 227us/step - loss: 0.0961 - acc: 0.9243 - val_loss: 0.0896 - val_acc: 0.9246\n",
      "Epoch 29/30\n",
      "54546/54546 [==============================] - 12s 226us/step - loss: 0.0952 - acc: 0.9246 - val_loss: 0.0900 - val_acc: 0.9234\n",
      "Epoch 30/30\n",
      "54546/54546 [==============================] - 12s 227us/step - loss: 0.0945 - acc: 0.9243 - val_loss: 0.0835 - val_acc: 0.9356\n"
     ]
    }
   ],
   "source": [
    "\"\"\"three-CONV-LAYERS-THICK\"\"\"\n",
    "if not data_augmentation:\n",
    "    print('Not using data augmentation.')\n",
    "    train_history_2= model_2.fit(\n",
    "        x_train,\n",
    "        y_train,\n",
    "        batch_size=batch_size,\n",
    "        epochs=epochs,\n",
    "        validation_split= Vld_Splt,\n",
    "        shuffle=True)\n",
    "else:\n",
    "    print('Using real-time data augmentation.')\n",
    "    # This will do preprocessing and realtime data augmentation:\n",
    "    datagen = ImageDataGenerator(\n",
    "        featurewise_center=False,  # set input mean to 0 over the dataset\n",
    "        samplewise_center=False,  # set each sample mean to 0\n",
    "        featurewise_std_normalization=False,  # divide inputs by dataset std\n",
    "        samplewise_std_normalization=False,  # divide each input by its std\n",
    "        zca_whitening=False,  # apply ZCA whitening\n",
    "        zca_epsilon=1e-06,  # epsilon for ZCA whitening\n",
    "        rotation_range=0,  # randomly rotate images in 0 to 180 degrees\n",
    "        width_shift_range=0.1,  # randomly shift images horizontally\n",
    "        height_shift_range=0.1,  # randomly shift images vertically\n",
    "        shear_range=0.,  # set range for random shear\n",
    "        zoom_range=0.,  # set range for random zoom\n",
    "        channel_shift_range=0.,  # set range for random channel shifts\n",
    "        # set mode for filling points outside the input boundaries\n",
    "        fill_mode='nearest',\n",
    "        cval=0.,  # value used for fill_mode = \"constant\"\n",
    "        horizontal_flip=True,  # randomly flip images\n",
    "        vertical_flip=False,  # randomly flip images\n",
    "        # set rescaling factor (applied before any other transformation)\n",
    "        rescale=None,\n",
    "        # set function that will be applied on each input\n",
    "        preprocessing_function=None,\n",
    "        # image data format, either \"channels_first\" or \"channels_last\"\n",
    "        data_format=None,\n",
    "        # fraction of images reserved for validation (strictly between 0 and 1)\n",
    "        validation_split=0.0)\n",
    "\n",
    "    # Compute quantities required for feature-wise normalization\n",
    "    # (std, mean, and principal components if ZCA whitening is applied).\n",
    "    datagen.fit(x_train)\n",
    "\n",
    "    # Fit the model on the batches generated by datagen.flow().\n",
    "    train_history_2= model_2.fit_generator(\n",
    "        datagen.flow(x_train, y_train, batch_size=batch_size),\n",
    "        epochs= epochs,\n",
    "        validation_split= Vld_Splt,\n",
    "        steps_per_epoch= int(x_train.shape[0]/ batch_size),\n",
    "        workers=4)"
   ]
  },
  {
   "cell_type": "code",
   "execution_count": 20,
   "metadata": {},
   "outputs": [
    {
     "name": "stdout",
     "output_type": "stream",
     "text": [
      "Not using data augmentation.\n",
      "Train on 54546 samples, validate on 5454 samples\n",
      "Epoch 1/30\n",
      "54546/54546 [==============================] - 14s 260us/step - loss: 0.4322 - acc: 0.4002 - val_loss: 0.3316 - val_acc: 0.6036\n",
      "Epoch 2/30\n",
      "54546/54546 [==============================] - 13s 235us/step - loss: 0.2737 - acc: 0.7202 - val_loss: 0.2136 - val_acc: 0.8012\n",
      "Epoch 3/30\n",
      "54546/54546 [==============================] - 13s 231us/step - loss: 0.1998 - acc: 0.8121 - val_loss: 0.1660 - val_acc: 0.8473\n",
      "Epoch 4/30\n",
      "54546/54546 [==============================] - 13s 231us/step - loss: 0.1611 - acc: 0.8501 - val_loss: 0.1344 - val_acc: 0.8691\n",
      "Epoch 5/30\n",
      "54546/54546 [==============================] - 13s 232us/step - loss: 0.1399 - acc: 0.8724 - val_loss: 0.1156 - val_acc: 0.8962\n",
      "Epoch 6/30\n",
      "54546/54546 [==============================] - 12s 229us/step - loss: 0.1285 - acc: 0.8843 - val_loss: 0.1121 - val_acc: 0.8933\n",
      "Epoch 7/30\n",
      "54546/54546 [==============================] - 13s 234us/step - loss: 0.1188 - acc: 0.8953 - val_loss: 0.1004 - val_acc: 0.9103\n",
      "Epoch 8/30\n",
      "54546/54546 [==============================] - 13s 229us/step - loss: 0.1123 - acc: 0.9013 - val_loss: 0.0959 - val_acc: 0.9155\n",
      "Epoch 9/30\n",
      "54546/54546 [==============================] - 12s 229us/step - loss: 0.1061 - acc: 0.9096 - val_loss: 0.0911 - val_acc: 0.9201\n",
      "Epoch 10/30\n",
      "54546/54546 [==============================] - 13s 232us/step - loss: 0.1008 - acc: 0.9134 - val_loss: 0.0898 - val_acc: 0.9201\n",
      "Epoch 11/30\n",
      "54546/54546 [==============================] - 12s 228us/step - loss: 0.0989 - acc: 0.9163 - val_loss: 0.0892 - val_acc: 0.9169\n",
      "Epoch 12/30\n",
      "54546/54546 [==============================] - 13s 235us/step - loss: 0.0952 - acc: 0.9179 - val_loss: 0.0870 - val_acc: 0.9182\n",
      "Epoch 13/30\n",
      "54546/54546 [==============================] - 13s 234us/step - loss: 0.0921 - acc: 0.9234 - val_loss: 0.0823 - val_acc: 0.9265\n",
      "Epoch 14/30\n",
      "54546/54546 [==============================] - 12s 227us/step - loss: 0.0892 - acc: 0.9249 - val_loss: 0.0799 - val_acc: 0.9340\n",
      "Epoch 15/30\n",
      "54546/54546 [==============================] - 12s 226us/step - loss: 0.0872 - acc: 0.9275 - val_loss: 0.0797 - val_acc: 0.9292\n",
      "Epoch 16/30\n",
      "54546/54546 [==============================] - 12s 226us/step - loss: 0.0842 - acc: 0.9310 - val_loss: 0.0772 - val_acc: 0.9380\n",
      "Epoch 17/30\n",
      "54546/54546 [==============================] - 12s 226us/step - loss: 0.0831 - acc: 0.9333 - val_loss: 0.0769 - val_acc: 0.9312\n",
      "Epoch 18/30\n",
      "54546/54546 [==============================] - 12s 226us/step - loss: 0.0815 - acc: 0.9346 - val_loss: 0.0702 - val_acc: 0.9417\n",
      "Epoch 19/30\n",
      "54546/54546 [==============================] - 12s 229us/step - loss: 0.0800 - acc: 0.9349 - val_loss: 0.0715 - val_acc: 0.9389\n",
      "Epoch 20/30\n",
      "54546/54546 [==============================] - 12s 228us/step - loss: 0.0784 - acc: 0.9372 - val_loss: 0.0719 - val_acc: 0.9424\n",
      "Epoch 21/30\n",
      "54546/54546 [==============================] - 17s 320us/step - loss: 0.0766 - acc: 0.9399 - val_loss: 0.0670 - val_acc: 0.9452\n",
      "Epoch 22/30\n",
      "54546/54546 [==============================] - 12s 228us/step - loss: 0.0752 - acc: 0.9397 - val_loss: 0.0660 - val_acc: 0.9470\n",
      "Epoch 23/30\n",
      "54546/54546 [==============================] - 12s 229us/step - loss: 0.0753 - acc: 0.9388 - val_loss: 0.0671 - val_acc: 0.9465\n",
      "Epoch 24/30\n",
      "54546/54546 [==============================] - 13s 230us/step - loss: 0.0737 - acc: 0.9416 - val_loss: 0.0662 - val_acc: 0.945937 - ETA: 2s - \n",
      "Epoch 25/30\n",
      "54546/54546 [==============================] - 13s 234us/step - loss: 0.0726 - acc: 0.9434 - val_loss: 0.0651 - val_acc: 0.9465\n",
      "Epoch 26/30\n",
      "54546/54546 [==============================] - 13s 230us/step - loss: 0.0712 - acc: 0.9447 - val_loss: 0.0621 - val_acc: 0.9488\n",
      "Epoch 27/30\n",
      "54546/54546 [==============================] - 13s 230us/step - loss: 0.0705 - acc: 0.9442 - val_loss: 0.0638 - val_acc: 0.9510\n",
      "Epoch 28/30\n",
      "54546/54546 [==============================] - 12s 229us/step - loss: 0.0693 - acc: 0.9469 - val_loss: 0.0650 - val_acc: 0.9443\n",
      "Epoch 29/30\n",
      "54546/54546 [==============================] - 13s 231us/step - loss: 0.0688 - acc: 0.9476 - val_loss: 0.0647 - val_acc: 0.9487\n",
      "Epoch 30/30\n",
      "54546/54546 [==============================] - 12s 229us/step - loss: 0.0680 - acc: 0.9471 - val_loss: 0.0635 - val_acc: 0.9476\n"
     ]
    }
   ],
   "source": [
    "\"\"\"four-CONV-LAYERS-THICK\"\"\"\n",
    "if not data_augmentation:\n",
    "    print('Not using data augmentation.')\n",
    "    train_history_3= model_3.fit(\n",
    "        x_train,\n",
    "        y_train,\n",
    "        batch_size=batch_size,\n",
    "        epochs=epochs,\n",
    "        validation_split= Vld_Splt,\n",
    "        shuffle=True)\n",
    "else:\n",
    "    print('Using real-time data augmentation.')\n",
    "    # This will do preprocessing and realtime data augmentation:\n",
    "    datagen = ImageDataGenerator(\n",
    "        featurewise_center=False,  # set input mean to 0 over the dataset\n",
    "        samplewise_center=False,  # set each sample mean to 0\n",
    "        featurewise_std_normalization=False,  # divide inputs by dataset std\n",
    "        samplewise_std_normalization=False,  # divide each input by its std\n",
    "        zca_whitening=False,  # apply ZCA whitening\n",
    "        zca_epsilon=1e-06,  # epsilon for ZCA whitening\n",
    "        rotation_range=0,  # randomly rotate images in 0 to 180 degrees\n",
    "        width_shift_range=0.1,  # randomly shift images horizontally\n",
    "        height_shift_range=0.1,  # randomly shift images vertically\n",
    "        shear_range=0.,  # set range for random shear\n",
    "        zoom_range=0.,  # set range for random zoom\n",
    "        channel_shift_range=0.,  # set range for random channel shifts\n",
    "        # set mode for filling points outside the input boundaries\n",
    "        fill_mode='nearest',\n",
    "        cval=0.,  # value used for fill_mode = \"constant\"\n",
    "        horizontal_flip=True,  # randomly flip images\n",
    "        vertical_flip=False,  # randomly flip images\n",
    "        # set rescaling factor (applied before any other transformation)\n",
    "        rescale=None,\n",
    "        # set function that will be applied on each input\n",
    "        preprocessing_function=None,\n",
    "        # image data format, either \"channels_first\" or \"channels_last\"\n",
    "        data_format=None,\n",
    "        # fraction of images reserved for validation (strictly between 0 and 1)\n",
    "        validation_split=0.0)\n",
    "\n",
    "    # Compute quantities required for feature-wise normalization\n",
    "    # (std, mean, and principal components if ZCA whitening is applied).\n",
    "    datagen.fit(x_train)\n",
    "\n",
    "    # Fit the model on the batches generated by datagen.flow().\n",
    "    train_history_3= model_3.fit_generator(\n",
    "        datagen.flow(x_train, y_train, batch_size=batch_size),\n",
    "        epochs= epochs,\n",
    "        validation_split= Vld_Splt,\n",
    "        steps_per_epoch= int(x_train.shape[0]/ batch_size),\n",
    "        workers=4)"
   ]
  },
  {
   "cell_type": "code",
   "execution_count": 21,
   "metadata": {},
   "outputs": [
    {
     "name": "stdout",
     "output_type": "stream",
     "text": [
      "Not using data augmentation.\n",
      "Train on 54546 samples, validate on 5454 samples\n",
      "Epoch 1/30\n",
      "54546/54546 [==============================] - 5s 92us/step - loss: 0.3493 - acc: 0.5289 - val_loss: 0.1949 - val_acc: 0.7957\n",
      "Epoch 2/30\n",
      "54546/54546 [==============================] - 4s 76us/step - loss: 0.1635 - acc: 0.8246 - val_loss: 0.1073 - val_acc: 0.8867\n",
      "Epoch 3/30\n",
      "54546/54546 [==============================] - 4s 76us/step - loss: 0.1128 - acc: 0.8788 - val_loss: 0.0777 - val_acc: 0.9184\n",
      "Epoch 4/30\n",
      "54546/54546 [==============================] - 4s 78us/step - loss: 0.0900 - acc: 0.9067 - val_loss: 0.0633 - val_acc: 0.9323\n",
      "Epoch 5/30\n",
      "54546/54546 [==============================] - 4s 76us/step - loss: 0.0787 - acc: 0.9178 - val_loss: 0.0618 - val_acc: 0.9303\n",
      "Epoch 6/30\n",
      "54546/54546 [==============================] - 5s 84us/step - loss: 0.0699 - acc: 0.9277 - val_loss: 0.0531 - val_acc: 0.9421\n",
      "Epoch 7/30\n",
      "54546/54546 [==============================] - 4s 75us/step - loss: 0.0632 - acc: 0.9352 - val_loss: 0.0493 - val_acc: 0.9470\n",
      "Epoch 8/30\n",
      "54546/54546 [==============================] - 4s 81us/step - loss: 0.0596 - acc: 0.9393 - val_loss: 0.0469 - val_acc: 0.9457\n",
      "Epoch 9/30\n",
      "54546/54546 [==============================] - 4s 75us/step - loss: 0.0557 - acc: 0.9434 - val_loss: 0.0434 - val_acc: 0.9534\n",
      "Epoch 10/30\n",
      "54546/54546 [==============================] - 4s 77us/step - loss: 0.0534 - acc: 0.9444 - val_loss: 0.0405 - val_acc: 0.9549\n",
      "Epoch 11/30\n",
      "54546/54546 [==============================] - 4s 80us/step - loss: 0.0494 - acc: 0.9501 - val_loss: 0.0399 - val_acc: 0.9536\n",
      "Epoch 12/30\n",
      "54546/54546 [==============================] - 4s 75us/step - loss: 0.0481 - acc: 0.9508 - val_loss: 0.0376 - val_acc: 0.9604\n",
      "Epoch 13/30\n",
      "54546/54546 [==============================] - 4s 76us/step - loss: 0.0461 - acc: 0.9529 - val_loss: 0.0373 - val_acc: 0.9600\n",
      "Epoch 14/30\n",
      "54546/54546 [==============================] - 4s 74us/step - loss: 0.0437 - acc: 0.9559 - val_loss: 0.0367 - val_acc: 0.9597\n",
      "Epoch 15/30\n",
      "54546/54546 [==============================] - 4s 75us/step - loss: 0.0423 - acc: 0.9575 - val_loss: 0.0365 - val_acc: 0.9571\n",
      "Epoch 16/30\n",
      "54546/54546 [==============================] - 4s 76us/step - loss: 0.0404 - acc: 0.9601 - val_loss: 0.0360 - val_acc: 0.9593\n",
      "Epoch 17/30\n",
      "54546/54546 [==============================] - 4s 75us/step - loss: 0.0393 - acc: 0.9606 - val_loss: 0.0322 - val_acc: 0.9677\n",
      "Epoch 18/30\n",
      "54546/54546 [==============================] - 4s 71us/step - loss: 0.0381 - acc: 0.9625 - val_loss: 0.0315 - val_acc: 0.9657\n",
      "Epoch 19/30\n",
      "54546/54546 [==============================] - 4s 76us/step - loss: 0.0378 - acc: 0.9622 - val_loss: 0.0320 - val_acc: 0.9661\n",
      "Epoch 20/30\n",
      "54546/54546 [==============================] - 4s 80us/step - loss: 0.0364 - acc: 0.9643 - val_loss: 0.0314 - val_acc: 0.9650\n",
      "Epoch 21/30\n",
      "54546/54546 [==============================] - 4s 78us/step - loss: 0.0357 - acc: 0.9644 - val_loss: 0.0301 - val_acc: 0.9672\n",
      "Epoch 22/30\n",
      "54546/54546 [==============================] - 4s 79us/step - loss: 0.0345 - acc: 0.9666 - val_loss: 0.0303 - val_acc: 0.9690\n",
      "Epoch 23/30\n",
      "54546/54546 [==============================] - 4s 75us/step - loss: 0.0340 - acc: 0.9662 - val_loss: 0.0300 - val_acc: 0.9683\n",
      "Epoch 24/30\n",
      "54546/54546 [==============================] - 4s 76us/step - loss: 0.0332 - acc: 0.9681 - val_loss: 0.0298 - val_acc: 0.9696\n",
      "Epoch 25/30\n",
      "54546/54546 [==============================] - 4s 75us/step - loss: 0.0324 - acc: 0.9683 - val_loss: 0.0283 - val_acc: 0.9721\n",
      "Epoch 26/30\n",
      "54546/54546 [==============================] - 5s 96us/step - loss: 0.0317 - acc: 0.9697 - val_loss: 0.0309 - val_acc: 0.9674\n",
      "Epoch 27/30\n",
      "54546/54546 [==============================] - 5s 95us/step - loss: 0.0311 - acc: 0.9704 - val_loss: 0.0291 - val_acc: 0.9703\n",
      "Epoch 28/30\n",
      "54546/54546 [==============================] - 4s 80us/step - loss: 0.0315 - acc: 0.9695 - val_loss: 0.0283 - val_acc: 0.9707\n",
      "Epoch 29/30\n",
      "54546/54546 [==============================] - 4s 77us/step - loss: 0.0305 - acc: 0.9710 - val_loss: 0.0270 - val_acc: 0.9710\n",
      "Epoch 30/30\n",
      "54546/54546 [==============================] - 4s 76us/step - loss: 0.0298 - acc: 0.9718 - val_loss: 0.0340 - val_acc: 0.9661\n"
     ]
    }
   ],
   "source": [
    "\"\"\"five-CONV-LAYERS-THICK\"\"\"\n",
    "if not data_augmentation:\n",
    "    print('Not using data augmentation.')\n",
    "    train_history_4= model_4.fit(\n",
    "        x_train,\n",
    "        y_train,\n",
    "        batch_size=batch_size,\n",
    "        epochs=epochs,\n",
    "        validation_split= Vld_Splt,\n",
    "        shuffle=True)\n",
    "else:\n",
    "    print('Using real-time data augmentation.')\n",
    "    # This will do preprocessing and realtime data augmentation:\n",
    "    datagen = ImageDataGenerator(\n",
    "        featurewise_center=False,  # set input mean to 0 over the dataset\n",
    "        samplewise_center=False,  # set each sample mean to 0\n",
    "        featurewise_std_normalization=False,  # divide inputs by dataset std\n",
    "        samplewise_std_normalization=False,  # divide each input by its std\n",
    "        zca_whitening=False,  # apply ZCA whitening\n",
    "        zca_epsilon=1e-06,  # epsilon for ZCA whitening\n",
    "        rotation_range=0,  # randomly rotate images in 0 to 180 degrees\n",
    "        width_shift_range=0.1,  # randomly shift images horizontally\n",
    "        height_shift_range=0.1,  # randomly shift images vertically\n",
    "        shear_range=0.,  # set range for random shear\n",
    "        zoom_range=0.,  # set range for random zoom\n",
    "        channel_shift_range=0.,  # set range for random channel shifts\n",
    "        # set mode for filling points outside the input boundaries\n",
    "        fill_mode='nearest',\n",
    "        cval=0.,  # value used for fill_mode = \"constant\"\n",
    "        horizontal_flip=True,  # randomly flip images\n",
    "        vertical_flip=False,  # randomly flip images\n",
    "        # set rescaling factor (applied before any other transformation)\n",
    "        rescale=None,\n",
    "        # set function that will be applied on each input\n",
    "        preprocessing_function=None,\n",
    "        # image data format, either \"channels_first\" or \"channels_last\"\n",
    "        data_format=None,\n",
    "        # fraction of images reserved for validation (strictly between 0 and 1)\n",
    "        validation_split=0.0)\n",
    "\n",
    "    # Compute quantities required for feature-wise normalization\n",
    "    # (std, mean, and principal components if ZCA whitening is applied).\n",
    "    datagen.fit(x_train)\n",
    "\n",
    "    # Fit the model on the batches generated by datagen.flow().\n",
    "    train_history_4= model_4.fit_generator(\n",
    "        datagen.flow(x_train, y_train, batch_size=batch_size),\n",
    "        epochs= epochs,\n",
    "        validation_split= Vld_Splt,\n",
    "        steps_per_epoch= int(x_train.shape[0]/ batch_size),\n",
    "        workers=4)"
   ]
  },
  {
   "cell_type": "code",
   "execution_count": 22,
   "metadata": {},
   "outputs": [
    {
     "name": "stdout",
     "output_type": "stream",
     "text": [
      "Not using data augmentation.\n",
      "Train on 54546 samples, validate on 5454 samples\n",
      "Epoch 1/30\n",
      "54546/54546 [==============================] - 6s 104us/step - loss: 0.3575 - acc: 0.4995 - val_loss: 0.1904 - val_acc: 0.7538\n",
      "Epoch 2/30\n",
      "54546/54546 [==============================] - 4s 69us/step - loss: 0.1645 - acc: 0.8013 - val_loss: 0.1038 - val_acc: 0.8757\n",
      "Epoch 3/30\n",
      "54546/54546 [==============================] - 4s 69us/step - loss: 0.1137 - acc: 0.8649 - val_loss: 0.0771 - val_acc: 0.9054\n",
      "Epoch 4/30\n",
      "54546/54546 [==============================] - 4s 73us/step - loss: 0.0899 - acc: 0.8927 - val_loss: 0.0677 - val_acc: 0.9155\n",
      "Epoch 5/30\n",
      "54546/54546 [==============================] - 4s 79us/step - loss: 0.0769 - acc: 0.9101 - val_loss: 0.0569 - val_acc: 0.9340\n",
      "Epoch 6/30\n",
      "54546/54546 [==============================] - 5s 84us/step - loss: 0.0690 - acc: 0.9178 - val_loss: 0.0553 - val_acc: 0.9298\n",
      "Epoch 7/30\n",
      "54546/54546 [==============================] - 4s 80us/step - loss: 0.0623 - acc: 0.9264 - val_loss: 0.0465 - val_acc: 0.9419\n",
      "Epoch 8/30\n",
      "54546/54546 [==============================] - 4s 75us/step - loss: 0.0572 - acc: 0.9324 - val_loss: 0.0415 - val_acc: 0.9501\n",
      "Epoch 9/30\n",
      "54546/54546 [==============================] - 4s 71us/step - loss: 0.0539 - acc: 0.9358 - val_loss: 0.0398 - val_acc: 0.9529\n",
      "Epoch 10/30\n",
      "54546/54546 [==============================] - 4s 71us/step - loss: 0.0504 - acc: 0.9398 - val_loss: 0.0354 - val_acc: 0.9591\n",
      "Epoch 11/30\n",
      "54546/54546 [==============================] - 4s 76us/step - loss: 0.0478 - acc: 0.9434 - val_loss: 0.0398 - val_acc: 0.9531\n",
      "Epoch 12/30\n",
      "54546/54546 [==============================] - 4s 78us/step - loss: 0.0453 - acc: 0.9473 - val_loss: 0.0345 - val_acc: 0.9562\n",
      "Epoch 13/30\n",
      "54546/54546 [==============================] - 4s 74us/step - loss: 0.0427 - acc: 0.9506 - val_loss: 0.0389 - val_acc: 0.9549\n",
      "Epoch 14/30\n",
      "54546/54546 [==============================] - 4s 74us/step - loss: 0.0410 - acc: 0.9522 - val_loss: 0.0356 - val_acc: 0.9586\n",
      "Epoch 15/30\n",
      "54546/54546 [==============================] - 4s 72us/step - loss: 0.0400 - acc: 0.9532 - val_loss: 0.0305 - val_acc: 0.9630\n",
      "Epoch 16/30\n",
      "54546/54546 [==============================] - 4s 75us/step - loss: 0.0388 - acc: 0.9545 - val_loss: 0.0343 - val_acc: 0.9576\n",
      "Epoch 17/30\n",
      "54546/54546 [==============================] - 4s 73us/step - loss: 0.0360 - acc: 0.9583 - val_loss: 0.0277 - val_acc: 0.9674\n",
      "Epoch 18/30\n",
      "54546/54546 [==============================] - 4s 72us/step - loss: 0.0351 - acc: 0.9590 - val_loss: 0.0285 - val_acc: 0.9653\n",
      "Epoch 19/30\n",
      "54546/54546 [==============================] - 4s 78us/step - loss: 0.0340 - acc: 0.9609 - val_loss: 0.0314 - val_acc: 0.9615\n",
      "Epoch 20/30\n",
      "54546/54546 [==============================] - 4s 77us/step - loss: 0.0340 - acc: 0.9610 - val_loss: 0.0264 - val_acc: 0.9697\n",
      "Epoch 21/30\n",
      "54546/54546 [==============================] - 4s 71us/step - loss: 0.0326 - acc: 0.9627 - val_loss: 0.0279 - val_acc: 0.9664\n",
      "Epoch 22/30\n",
      "54546/54546 [==============================] - 4s 71us/step - loss: 0.0321 - acc: 0.9643 - val_loss: 0.0275 - val_acc: 0.9657\n",
      "Epoch 23/30\n",
      "54546/54546 [==============================] - 4s 76us/step - loss: 0.0309 - acc: 0.9652 - val_loss: 0.0261 - val_acc: 0.9685\n",
      "Epoch 24/30\n",
      "54546/54546 [==============================] - 4s 72us/step - loss: 0.0303 - acc: 0.9657 - val_loss: 0.0266 - val_acc: 0.9701\n",
      "Epoch 25/30\n",
      "54546/54546 [==============================] - 4s 74us/step - loss: 0.0297 - acc: 0.9661 - val_loss: 0.0261 - val_acc: 0.9679\n",
      "Epoch 26/30\n",
      "54546/54546 [==============================] - 4s 78us/step - loss: 0.0292 - acc: 0.9664 - val_loss: 0.0270 - val_acc: 0.9675\n",
      "Epoch 27/30\n",
      "54546/54546 [==============================] - 4s 81us/step - loss: 0.0286 - acc: 0.9676 - val_loss: 0.0252 - val_acc: 0.9696\n",
      "Epoch 28/30\n",
      "54546/54546 [==============================] - 4s 73us/step - loss: 0.0279 - acc: 0.9680 - val_loss: 0.0257 - val_acc: 0.9696\n",
      "Epoch 29/30\n",
      "54546/54546 [==============================] - 4s 80us/step - loss: 0.0273 - acc: 0.9691 - val_loss: 0.0234 - val_acc: 0.9708\n",
      "Epoch 30/30\n",
      "54546/54546 [==============================] - 4s 74us/step - loss: 0.0266 - acc: 0.9701 - val_loss: 0.0240 - val_acc: 0.9727\n"
     ]
    }
   ],
   "source": [
    "\"\"\"six-CONV-LAYERS-THICK\"\"\"\n",
    "if not data_augmentation:\n",
    "    print('Not using data augmentation.')\n",
    "    train_history_5= model_5.fit(\n",
    "        x_train,\n",
    "        y_train,\n",
    "        batch_size=batch_size,\n",
    "        epochs=epochs,\n",
    "        validation_split= Vld_Splt,\n",
    "        shuffle=True)\n",
    "else:\n",
    "    print('Using real-time data augmentation.')\n",
    "    # This will do preprocessing and realtime data augmentation:\n",
    "    datagen = ImageDataGenerator(\n",
    "        featurewise_center=False,  # set input mean to 0 over the dataset\n",
    "        samplewise_center=False,  # set each sample mean to 0\n",
    "        featurewise_std_normalization=False,  # divide inputs by dataset std\n",
    "        samplewise_std_normalization=False,  # divide each input by its std\n",
    "        zca_whitening=False,  # apply ZCA whitening\n",
    "        zca_epsilon=1e-06,  # epsilon for ZCA whitening\n",
    "        rotation_range=0,  # randomly rotate images in 0 to 180 degrees\n",
    "        width_shift_range=0.1,  # randomly shift images horizontally\n",
    "        height_shift_range=0.1,  # randomly shift images vertically\n",
    "        shear_range=0.,  # set range for random shear\n",
    "        zoom_range=0.,  # set range for random zoom\n",
    "        channel_shift_range=0.,  # set range for random channel shifts\n",
    "        # set mode for filling points outside the input boundaries\n",
    "        fill_mode='nearest',\n",
    "        cval=0.,  # value used for fill_mode = \"constant\"\n",
    "        horizontal_flip=True,  # randomly flip images\n",
    "        vertical_flip=False,  # randomly flip images\n",
    "        # set rescaling factor (applied before any other transformation)\n",
    "        rescale=None,\n",
    "        # set function that will be applied on each input\n",
    "        preprocessing_function=None,\n",
    "        # image data format, either \"channels_first\" or \"channels_last\"\n",
    "        data_format=None,\n",
    "        # fraction of images reserved for validation (strictly between 0 and 1)\n",
    "        validation_split=0.0)\n",
    "\n",
    "    # Compute quantities required for feature-wise normalization\n",
    "    # (std, mean, and principal components if ZCA whitening is applied).\n",
    "    datagen.fit(x_train)\n",
    "\n",
    "    # Fit the model on the batches generated by datagen.flow().\n",
    "    train_history_5= model_5.fit_generator(\n",
    "        datagen.flow(x_train, y_train, batch_size=batch_size),\n",
    "        epochs= epochs,\n",
    "        validation_split= Vld_Splt,\n",
    "        steps_per_epoch= int(x_train.shape[0]/ batch_size),\n",
    "        workers=4)"
   ]
  },
  {
   "cell_type": "code",
   "execution_count": 23,
   "metadata": {},
   "outputs": [
    {
     "name": "stdout",
     "output_type": "stream",
     "text": [
      "Not using data augmentation.\n",
      "Train on 54546 samples, validate on 5454 samples\n",
      "Epoch 1/30\n",
      "54546/54546 [==============================] - 7s 123us/step - loss: 0.3788 - acc: 0.4549 - val_loss: 0.1888 - val_acc: 0.7906\n",
      "Epoch 2/30\n",
      "54546/54546 [==============================] - 5s 100us/step - loss: 0.1580 - acc: 0.8212 - val_loss: 0.0971 - val_acc: 0.8896\n",
      "Epoch 3/30\n",
      "54546/54546 [==============================] - 5s 100us/step - loss: 0.0958 - acc: 0.8934 - val_loss: 0.0682 - val_acc: 0.9217\n",
      "Epoch 4/30\n",
      "54546/54546 [==============================] - 5s 98us/step - loss: 0.0733 - acc: 0.9185 - val_loss: 0.0488 - val_acc: 0.9450\n",
      "Epoch 5/30\n",
      "54546/54546 [==============================] - 6s 102us/step - loss: 0.0633 - acc: 0.9286 - val_loss: 0.0437 - val_acc: 0.9499\n",
      "Epoch 6/30\n",
      "54546/54546 [==============================] - 6s 109us/step - loss: 0.0555 - acc: 0.9378 - val_loss: 0.0450 - val_acc: 0.9472\n",
      "Epoch 7/30\n",
      "54546/54546 [==============================] - 6s 103us/step - loss: 0.0496 - acc: 0.9435 - val_loss: 0.0397 - val_acc: 0.9542\n",
      "Epoch 8/30\n",
      "54546/54546 [==============================] - 6s 101us/step - loss: 0.0461 - acc: 0.9474 - val_loss: 0.0362 - val_acc: 0.9576\n",
      "Epoch 9/30\n",
      "54546/54546 [==============================] - 5s 100us/step - loss: 0.0426 - acc: 0.9518 - val_loss: 0.0338 - val_acc: 0.9580\n",
      "Epoch 10/30\n",
      "54546/54546 [==============================] - 5s 100us/step - loss: 0.0405 - acc: 0.9541 - val_loss: 0.0305 - val_acc: 0.9633\n",
      "Epoch 11/30\n",
      "54546/54546 [==============================] - 6s 107us/step - loss: 0.0379 - acc: 0.9570 - val_loss: 0.0289 - val_acc: 0.9661\n",
      "Epoch 12/30\n",
      "54546/54546 [==============================] - 5s 101us/step - loss: 0.0356 - acc: 0.9596 - val_loss: 0.0270 - val_acc: 0.9694\n",
      "Epoch 13/30\n",
      "54546/54546 [==============================] - 6s 104us/step - loss: 0.0338 - acc: 0.9622 - val_loss: 0.0258 - val_acc: 0.9701\n",
      "Epoch 14/30\n",
      "54546/54546 [==============================] - 6s 101us/step - loss: 0.0323 - acc: 0.9638 - val_loss: 0.0300 - val_acc: 0.9641\n",
      "Epoch 15/30\n",
      "54546/54546 [==============================] - 6s 101us/step - loss: 0.0308 - acc: 0.9657 - val_loss: 0.0264 - val_acc: 0.9692\n",
      "Epoch 16/30\n",
      "54546/54546 [==============================] - 6s 104us/step - loss: 0.0292 - acc: 0.9680 - val_loss: 0.0221 - val_acc: 0.9743\n",
      "Epoch 17/30\n",
      "54546/54546 [==============================] - 6s 110us/step - loss: 0.0279 - acc: 0.9685 - val_loss: 0.0227 - val_acc: 0.9741\n",
      "Epoch 18/30\n",
      "54546/54546 [==============================] - 6s 105us/step - loss: 0.0272 - acc: 0.9703 - val_loss: 0.0202 - val_acc: 0.9758\n",
      "Epoch 19/30\n",
      "54546/54546 [==============================] - 5s 99us/step - loss: 0.0264 - acc: 0.9708 - val_loss: 0.0192 - val_acc: 0.9776\n",
      "Epoch 20/30\n",
      "54546/54546 [==============================] - 5s 98us/step - loss: 0.0261 - acc: 0.9711 - val_loss: 0.0234 - val_acc: 0.9725\n",
      "Epoch 21/30\n",
      "54546/54546 [==============================] - 5s 98us/step - loss: 0.0255 - acc: 0.9714 - val_loss: 0.0213 - val_acc: 0.9749\n",
      "Epoch 22/30\n",
      "54546/54546 [==============================] - 5s 98us/step - loss: 0.0249 - acc: 0.9722 - val_loss: 0.0190 - val_acc: 0.9780\n",
      "Epoch 23/30\n",
      "54546/54546 [==============================] - 5s 98us/step - loss: 0.0236 - acc: 0.9737 - val_loss: 0.0185 - val_acc: 0.9793\n",
      "Epoch 24/30\n",
      "54546/54546 [==============================] - 5s 98us/step - loss: 0.0219 - acc: 0.9758 - val_loss: 0.0196 - val_acc: 0.9771\n",
      "Epoch 25/30\n",
      "54546/54546 [==============================] - 5s 98us/step - loss: 0.0220 - acc: 0.9759 - val_loss: 0.0197 - val_acc: 0.9751\n",
      "Epoch 26/30\n",
      "54546/54546 [==============================] - 5s 98us/step - loss: 0.0216 - acc: 0.9767 - val_loss: 0.0191 - val_acc: 0.9782\n",
      "Epoch 27/30\n",
      "54546/54546 [==============================] - 5s 98us/step - loss: 0.0217 - acc: 0.9757 - val_loss: 0.0178 - val_acc: 0.9796\n",
      "Epoch 28/30\n",
      "54546/54546 [==============================] - 5s 98us/step - loss: 0.0204 - acc: 0.9778 - val_loss: 0.0185 - val_acc: 0.9789\n",
      "Epoch 29/30\n",
      "54546/54546 [==============================] - 5s 98us/step - loss: 0.0198 - acc: 0.9786 - val_loss: 0.0172 - val_acc: 0.9813\n",
      "Epoch 30/30\n",
      "54546/54546 [==============================] - 5s 100us/step - loss: 0.0204 - acc: 0.9784 - val_loss: 0.0170 - val_acc: 0.9809\n"
     ]
    }
   ],
   "source": [
    "\"\"\"seven-CONV-LAYERS-THICK\"\"\"\n",
    "if not data_augmentation:\n",
    "    print('Not using data augmentation.')\n",
    "    train_history_6= model_6.fit(\n",
    "        x_train,\n",
    "        y_train,\n",
    "        batch_size=batch_size,\n",
    "        epochs=epochs,\n",
    "        validation_split= Vld_Splt,\n",
    "        shuffle=True)\n",
    "else:\n",
    "    print('Using real-time data augmentation.')\n",
    "    # This will do preprocessing and realtime data augmentation:\n",
    "    datagen = ImageDataGenerator(\n",
    "        featurewise_center=False,  # set input mean to 0 over the dataset\n",
    "        samplewise_center=False,  # set each sample mean to 0\n",
    "        featurewise_std_normalization=False,  # divide inputs by dataset std\n",
    "        samplewise_std_normalization=False,  # divide each input by its std\n",
    "        zca_whitening=False,  # apply ZCA whitening\n",
    "        zca_epsilon=1e-06,  # epsilon for ZCA whitening\n",
    "        rotation_range=0,  # randomly rotate images in 0 to 180 degrees\n",
    "        width_shift_range=0.1,  # randomly shift images horizontally\n",
    "        height_shift_range=0.1,  # randomly shift images vertically\n",
    "        shear_range=0.,  # set range for random shear\n",
    "        zoom_range=0.,  # set range for random zoom\n",
    "        channel_shift_range=0.,  # set range for random channel shifts\n",
    "        # set mode for filling points outside the input boundaries\n",
    "        fill_mode='nearest',\n",
    "        cval=0.,  # value used for fill_mode = \"constant\"\n",
    "        horizontal_flip=True,  # randomly flip images\n",
    "        vertical_flip=False,  # randomly flip images\n",
    "        # set rescaling factor (applied before any other transformation)\n",
    "        rescale=None,\n",
    "        # set function that will be applied on each input\n",
    "        preprocessing_function=None,\n",
    "        # image data format, either \"channels_first\" or \"channels_last\"\n",
    "        data_format=None,\n",
    "        # fraction of images reserved for validation (strictly between 0 and 1)\n",
    "        validation_split=0.0)\n",
    "\n",
    "    # Compute quantities required for feature-wise normalization\n",
    "    # (std, mean, and principal components if ZCA whitening is applied).\n",
    "    datagen.fit(x_train)\n",
    "\n",
    "    # Fit the model on the batches generated by datagen.flow().\n",
    "    train_history_6= model_6.fit_generator(\n",
    "        datagen.flow(x_train, y_train, batch_size=batch_size),\n",
    "        epochs= epochs,\n",
    "        validation_split= Vld_Splt,\n",
    "        steps_per_epoch= int(x_train.shape[0]/ batch_size),\n",
    "        workers=4)"
   ]
  },
  {
   "cell_type": "code",
   "execution_count": 24,
   "metadata": {},
   "outputs": [
    {
     "name": "stdout",
     "output_type": "stream",
     "text": [
      "Train on 54546 samples, validate on 5454 samples\n",
      "Epoch 1/30\n",
      "54546/54546 [==============================] - 3s 59us/step - loss: 1.3490 - acc: 0.5324 - val_loss: 0.8498 - val_acc: 0.7772\n",
      "Epoch 2/30\n",
      "54546/54546 [==============================] - 2s 34us/step - loss: 0.8502 - acc: 0.7156 - val_loss: 0.6371 - val_acc: 0.8377\n",
      "Epoch 3/30\n",
      "54546/54546 [==============================] - 2s 35us/step - loss: 0.6958 - acc: 0.7680 - val_loss: 0.5128 - val_acc: 0.8753\n",
      "Epoch 4/30\n",
      "54546/54546 [==============================] - 2s 34us/step - loss: 0.6008 - acc: 0.8003 - val_loss: 0.4418 - val_acc: 0.8883\n",
      "Epoch 5/30\n",
      "54546/54546 [==============================] - 2s 34us/step - loss: 0.5298 - acc: 0.8239 - val_loss: 0.3922 - val_acc: 0.8984\n",
      "Epoch 6/30\n",
      "54546/54546 [==============================] - 2s 34us/step - loss: 0.4863 - acc: 0.8388 - val_loss: 0.3560 - val_acc: 0.9096\n",
      "Epoch 7/30\n",
      "54546/54546 [==============================] - 2s 35us/step - loss: 0.4585 - acc: 0.8468 - val_loss: 0.3312 - val_acc: 0.9151\n",
      "Epoch 8/30\n",
      "54546/54546 [==============================] - 2s 36us/step - loss: 0.4248 - acc: 0.8587 - val_loss: 0.3153 - val_acc: 0.9197\n",
      "Epoch 9/30\n",
      "54546/54546 [==============================] - 2s 36us/step - loss: 0.4066 - acc: 0.8645 - val_loss: 0.2883 - val_acc: 0.9256\n",
      "Epoch 10/30\n",
      "54546/54546 [==============================] - 2s 35us/step - loss: 0.3914 - acc: 0.8692 - val_loss: 0.2878 - val_acc: 0.9230\n",
      "Epoch 11/30\n",
      "54546/54546 [==============================] - 2s 36us/step - loss: 0.3767 - acc: 0.8725 - val_loss: 0.2769 - val_acc: 0.9267\n",
      "Epoch 12/30\n",
      "54546/54546 [==============================] - 2s 43us/step - loss: 0.3629 - acc: 0.8797 - val_loss: 0.2504 - val_acc: 0.9327\n",
      "Epoch 13/30\n",
      "54546/54546 [==============================] - 2s 37us/step - loss: 0.3509 - acc: 0.8825 - val_loss: 0.2559 - val_acc: 0.9300\n",
      "Epoch 14/30\n",
      "54546/54546 [==============================] - 2s 35us/step - loss: 0.3451 - acc: 0.8856 - val_loss: 0.2364 - val_acc: 0.9364\n",
      "Epoch 15/30\n",
      "54546/54546 [==============================] - 2s 39us/step - loss: 0.3273 - acc: 0.8891 - val_loss: 0.2273 - val_acc: 0.9384\n",
      "Epoch 16/30\n",
      "54546/54546 [==============================] - 2s 43us/step - loss: 0.3283 - acc: 0.8899 - val_loss: 0.2184 - val_acc: 0.9426\n",
      "Epoch 17/30\n",
      "54546/54546 [==============================] - 3s 47us/step - loss: 0.3213 - acc: 0.8916 - val_loss: 0.2203 - val_acc: 0.9395\n",
      "Epoch 18/30\n",
      "54546/54546 [==============================] - 2s 41us/step - loss: 0.3102 - acc: 0.8954 - val_loss: 0.2157 - val_acc: 0.9415\n",
      "Epoch 19/30\n",
      "54546/54546 [==============================] - 2s 40us/step - loss: 0.3070 - acc: 0.8963 - val_loss: 0.2075 - val_acc: 0.9426\n",
      "Epoch 20/30\n",
      "54546/54546 [==============================] - 2s 37us/step - loss: 0.3062 - acc: 0.8982 - val_loss: 0.2116 - val_acc: 0.9448\n",
      "Epoch 21/30\n",
      "54546/54546 [==============================] - 2s 35us/step - loss: 0.2964 - acc: 0.9007 - val_loss: 0.2065 - val_acc: 0.9446\n",
      "Epoch 22/30\n",
      "54546/54546 [==============================] - 2s 35us/step - loss: 0.2954 - acc: 0.9017 - val_loss: 0.1972 - val_acc: 0.9435\n",
      "Epoch 23/30\n",
      "54546/54546 [==============================] - 2s 34us/step - loss: 0.2874 - acc: 0.9028 - val_loss: 0.2103 - val_acc: 0.9415\n",
      "Epoch 24/30\n",
      "54546/54546 [==============================] - 2s 36us/step - loss: 0.2810 - acc: 0.9054 - val_loss: 0.2010 - val_acc: 0.9444\n",
      "Epoch 25/30\n",
      "54546/54546 [==============================] - 2s 36us/step - loss: 0.2756 - acc: 0.9084 - val_loss: 0.1904 - val_acc: 0.9424\n",
      "Epoch 26/30\n",
      "54546/54546 [==============================] - 2s 36us/step - loss: 0.2750 - acc: 0.9065 - val_loss: 0.1917 - val_acc: 0.9437\n",
      "Epoch 27/30\n",
      "54546/54546 [==============================] - 2s 36us/step - loss: 0.2682 - acc: 0.9093 - val_loss: 0.1915 - val_acc: 0.9450\n",
      "Epoch 28/30\n",
      "54546/54546 [==============================] - 2s 36us/step - loss: 0.2660 - acc: 0.9103 - val_loss: 0.1830 - val_acc: 0.9474\n",
      "Epoch 29/30\n",
      "54546/54546 [==============================] - 2s 34us/step - loss: 0.2634 - acc: 0.9103 - val_loss: 0.1830 - val_acc: 0.9470\n",
      "Epoch 30/30\n",
      "54546/54546 [==============================] - 2s 35us/step - loss: 0.2617 - acc: 0.9109 - val_loss: 0.1880 - val_acc: 0.9443\n"
     ]
    }
   ],
   "source": [
    "\"\"\"CNN-3-CONV-LAYERS\"\"\"\n",
    "model_7.compile(loss='categorical_crossentropy',\n",
    "              optimizer='adam', metrics=['accuracy'])\n",
    "train_history_7= model_7.fit(x= x_train, y= y_train, validation_split= Vld_Splt,\n",
    "                         epochs= epochs, batch_size= batch_size, verbose=1)"
   ]
  },
  {
   "cell_type": "code",
   "execution_count": 25,
   "metadata": {},
   "outputs": [
    {
     "name": "stdout",
     "output_type": "stream",
     "text": [
      "10000/10000 [==============================] - 1s 136us/step\n"
     ]
    },
    {
     "data": {
      "text/plain": [
       "0.7865"
      ]
     },
     "execution_count": 25,
     "metadata": {},
     "output_type": "execute_result"
    }
   ],
   "source": [
    "\"\"\"one-CONV-LAYERS-THICK\"\"\"\n",
    "scores_0= model_0.evaluate(x_test, y_test)\n",
    "scores_0[1]"
   ]
  },
  {
   "cell_type": "code",
   "execution_count": 26,
   "metadata": {},
   "outputs": [
    {
     "name": "stdout",
     "output_type": "stream",
     "text": [
      "10000/10000 [==============================] - 1s 113us/step\n"
     ]
    },
    {
     "data": {
      "text/plain": [
       "0.8815"
      ]
     },
     "execution_count": 26,
     "metadata": {},
     "output_type": "execute_result"
    }
   ],
   "source": [
    "\"\"\"two-CONV-LAYERS-THICK\"\"\"\n",
    "scores_1= model_1.evaluate(x_test, y_test)\n",
    "scores_1[1]"
   ]
  },
  {
   "cell_type": "code",
   "execution_count": 27,
   "metadata": {},
   "outputs": [
    {
     "name": "stdout",
     "output_type": "stream",
     "text": [
      "10000/10000 [==============================] - 1s 103us/step\n"
     ]
    },
    {
     "data": {
      "text/plain": [
       "0.9217"
      ]
     },
     "execution_count": 27,
     "metadata": {},
     "output_type": "execute_result"
    }
   ],
   "source": [
    "\"\"\"three-CONV-LAYERS-THICK\"\"\"\n",
    "scores_2= model_2.evaluate(x_test, y_test)\n",
    "scores_2[1]"
   ]
  },
  {
   "cell_type": "code",
   "execution_count": 28,
   "metadata": {},
   "outputs": [
    {
     "name": "stdout",
     "output_type": "stream",
     "text": [
      "10000/10000 [==============================] - 1s 101us/step\n"
     ]
    },
    {
     "data": {
      "text/plain": [
       "0.9431"
      ]
     },
     "execution_count": 28,
     "metadata": {},
     "output_type": "execute_result"
    }
   ],
   "source": [
    "\"\"\"four-CONV-LAYERS-THICK\"\"\"\n",
    "scores_3= model_3.evaluate(x_test, y_test)\n",
    "scores_3[1]"
   ]
  },
  {
   "cell_type": "code",
   "execution_count": 29,
   "metadata": {},
   "outputs": [
    {
     "name": "stdout",
     "output_type": "stream",
     "text": [
      "10000/10000 [==============================] - 1s 83us/step\n"
     ]
    },
    {
     "data": {
      "text/plain": [
       "0.964"
      ]
     },
     "execution_count": 29,
     "metadata": {},
     "output_type": "execute_result"
    }
   ],
   "source": [
    "\"\"\"five-CONV-LAYERS-THICK\"\"\"\n",
    "scores_4= model_4.evaluate(x_test, y_test)\n",
    "scores_4[1]"
   ]
  },
  {
   "cell_type": "code",
   "execution_count": 30,
   "metadata": {},
   "outputs": [
    {
     "name": "stdout",
     "output_type": "stream",
     "text": [
      "10000/10000 [==============================] - 1s 88us/step\n"
     ]
    },
    {
     "data": {
      "text/plain": [
       "0.9706"
      ]
     },
     "execution_count": 30,
     "metadata": {},
     "output_type": "execute_result"
    }
   ],
   "source": [
    "\"\"\"six-CONV-LAYERS-THICK\"\"\"\n",
    "scores_5= model_5.evaluate(x_test, y_test)\n",
    "scores_5[1]"
   ]
  },
  {
   "cell_type": "code",
   "execution_count": 31,
   "metadata": {},
   "outputs": [
    {
     "name": "stdout",
     "output_type": "stream",
     "text": [
      "10000/10000 [==============================] - 1s 89us/step\n"
     ]
    },
    {
     "data": {
      "text/plain": [
       "0.9794"
      ]
     },
     "execution_count": 31,
     "metadata": {},
     "output_type": "execute_result"
    }
   ],
   "source": [
    "\"\"\"seven-CONV-LAYERS-THICK\"\"\"\n",
    "scores_6= model_6.evaluate(x_test, y_test)\n",
    "scores_6[1]"
   ]
  },
  {
   "cell_type": "code",
   "execution_count": 32,
   "metadata": {},
   "outputs": [
    {
     "name": "stdout",
     "output_type": "stream",
     "text": [
      "10000/10000 [==============================] - 1s 61us/step\n"
     ]
    },
    {
     "data": {
      "text/plain": [
       "0.9406"
      ]
     },
     "execution_count": 32,
     "metadata": {},
     "output_type": "execute_result"
    }
   ],
   "source": [
    "\"\"\"CNN\"\"\"\n",
    "scores_7= model_7.evaluate(x_test, y_test)\n",
    "scores_7[1]"
   ]
  },
  {
   "cell_type": "code",
   "execution_count": 33,
   "metadata": {},
   "outputs": [],
   "source": [
    "import matplotlib.pyplot as plt\n",
    "def show_train_history(train_history, train, validation):\n",
    "    plt.plot(train_history.history[train])\n",
    "    plt.plot(train_history.history[validation])\n",
    "    plt.title('Train History')\n",
    "    plt.ylabel(train)\n",
    "    plt.xlabel('Epoch')\n",
    "    plt.legend(['train', 'validation'], loc='best')\n",
    "    plt.show()"
   ]
  },
  {
   "cell_type": "code",
   "execution_count": 34,
   "metadata": {},
   "outputs": [
    {
     "data": {
      "image/png": "[encoded data removed]",
      "text/plain": [
       "<Figure size 432x288 with 1 Axes>"
      ]
     },
     "metadata": {
      "needs_background": "light"
     },
     "output_type": "display_data"
    }
   ],
   "source": [
    "show_train_history(train_history_0, 'acc', 'val_acc')"
   ]
  },
  {
   "cell_type": "code",
   "execution_count": 35,
   "metadata": {},
   "outputs": [
    {
     "data": {
      "image/png": "[encoded data removed]",
      "text/plain": [
       "<Figure size 432x288 with 1 Axes>"
      ]
     },
     "metadata": {
      "needs_background": "light"
     },
     "output_type": "display_data"
    }
   ],
   "source": [
    "show_train_history(train_history_1, 'acc', 'val_acc')"
   ]
  },
  {
   "cell_type": "code",
   "execution_count": 36,
   "metadata": {},
   "outputs": [
    {
     "data": {
      "image/png": "[encoded data removed]",
      "text/plain": [
       "<Figure size 432x288 with 1 Axes>"
      ]
     },
     "metadata": {
      "needs_background": "light"
     },
     "output_type": "display_data"
    }
   ],
   "source": [
    "show_train_history(train_history_2, 'acc', 'val_acc')"
   ]
  },
  {
   "cell_type": "code",
   "execution_count": 37,
   "metadata": {},
   "outputs": [
    {
     "data": {
      "image/png": "[encoded data removed]",
      "text/plain": [
       "<Figure size 432x288 with 1 Axes>"
      ]
     },
     "metadata": {
      "needs_background": "light"
     },
     "output_type": "display_data"
    }
   ],
   "source": [
    "show_train_history(train_history_3, 'acc', 'val_acc')"
   ]
  },
  {
   "cell_type": "code",
   "execution_count": 38,
   "metadata": {},
   "outputs": [
    {
     "data": {
      "image/png": "[encoded data removed]",
      "text/plain": [
       "<Figure size 432x288 with 1 Axes>"
      ]
     },
     "metadata": {
      "needs_background": "light"
     },
     "output_type": "display_data"
    }
   ],
   "source": [
    "show_train_history(train_history_4, 'acc', 'val_acc')"
   ]
  },
  {
   "cell_type": "code",
   "execution_count": 39,
   "metadata": {},
   "outputs": [
    {
     "data": {
      "image/png": "[encoded data removed]",
      "text/plain": [
       "<Figure size 432x288 with 1 Axes>"
      ]
     },
     "metadata": {
      "needs_background": "light"
     },
     "output_type": "display_data"
    }
   ],
   "source": [
    "show_train_history(train_history_5, 'acc', 'val_acc')"
   ]
  },
  {
   "cell_type": "code",
   "execution_count": 40,
   "metadata": {},
   "outputs": [
    {
     "data": {
      "image/png": "[encoded data removed]",
      "text/plain": [
       "<Figure size 432x288 with 1 Axes>"
      ]
     },
     "metadata": {
      "needs_background": "light"
     },
     "output_type": "display_data"
    }
   ],
   "source": [
    "show_train_history(train_history_6, 'acc', 'val_acc')"
   ]
  },
  {
   "cell_type": "code",
   "execution_count": 41,
   "metadata": {},
   "outputs": [
    {
     "data": {
      "image/png": "[encoded data removed]",
      "text/plain": [
       "<Figure size 432x288 with 1 Axes>"
      ]
     },
     "metadata": {
      "needs_background": "light"
     },
     "output_type": "display_data"
    }
   ],
   "source": [
    "show_train_history(train_history_7, 'acc', 'val_acc')"
   ]
  },
  {
   "cell_type": "code",
   "execution_count": 42,
   "metadata": {},
   "outputs": [
    {
     "data": {
      "image/png": "[encoded data removed]",
      "text/plain": [
       "<Figure size 432x288 with 1 Axes>"
      ]
     },
     "metadata": {
      "needs_background": "light"
     },
     "output_type": "display_data"
    }
   ],
   "source": [
    "plt.plot(train_history_0.history['val_acc'], 'r-')\n",
    "plt.plot(train_history_1.history['val_acc'], 'b--')\n",
    "plt.plot(train_history_2.history['val_acc'], 'k.')\n",
    "plt.plot(train_history_3.history['val_acc'], 'b-')\n",
    "plt.plot(train_history_4.history['val_acc'], 'h-')\n",
    "plt.plot(train_history_5.history['val_acc'], 'c-')\n",
    "plt.plot(train_history_6.history['val_acc'], 'g*-')\n",
    "plt.plot(train_history_7.history['val_acc'], 'k-.')\n",
    "plt.title('Training on HMD')\n",
    "plt.ylabel('Validation Accuracy')\n",
    "plt.xlabel('Epoch')\n",
    "plt.legend(['CapsNet: 1-conv','CapsNet: 2-conv','CapsNet: 3-conv','CapsNet: 4-conv','CapsNet: 5-conv','CapsNet: 6-conv',\n",
    "           'CapsNet: 7-conv','CNN-2CONV'], loc='best')\n",
    "plt.show()"
   ]
  },
  {
   "cell_type": "code",
   "execution_count": null,
   "metadata": {},
   "outputs": [],
   "source": []
  }
 ],
 "metadata": {
  "kernelspec": {
   "display_name": "Python 3",
   "language": "python",
   "name": "python3"
  },
  "language_info": {
   "codemirror_mode": {
    "name": "ipython",
    "version": 3
   },
   "file_extension": ".py",
   "mimetype": "text/x-python",
   "name": "python",
   "nbconvert_exporter": "python",
   "pygments_lexer": "ipython3",
   "version": "3.6.10"
  }
 },
 "nbformat": 4,
 "nbformat_minor": 2
}
